{
 "cells": [
  {
   "cell_type": "markdown",
   "metadata": {},
   "source": [
    "# Traveling salesman Problem (TSP)"
   ]
  },
  {
   "cell_type": "code",
   "execution_count": 2,
   "metadata": {},
   "outputs": [],
   "source": [
    "import matplotlib.pyplot as plt\n",
    "import numpy as np\n",
    "import random\n",
    "import time\n",
    "from itertools import permutations \n",
    "import string\n",
    "import math\n",
    "import networkx\n",
    "from typing import Hashable\n",
    "%matplotlib inline\n",
    "\n",
    "#set seed\n",
    "random.seed(time.time() * 1000)"
   ]
  },
  {
   "cell_type": "markdown",
   "metadata": {},
   "source": [
    "Some more information about the TSP can be found in [this thesis](https://etheses.whiterose.ac.uk/19011/) and [wikipedia](https://en.wikipedia.org/wiki/Travelling_salesman_problem). In this example we will simulate some _dummy_ and short instances. The [National TSP instances](https://www.math.uwaterloo.ca/tsp/world/countries.html) shows some long computations and illustrates why exhaustive search become infeasible rapidly."
   ]
  },
  {
   "cell_type": "markdown",
   "metadata": {},
   "source": [
    "## Problem definition\n",
    "\n",
    "_Given a set of cities along with the cost of travel between each pair of them, traveling salesman problem, or TSP for short, is to find the cheapest way of visiting all the cities and returning the starting point._[1]\n",
    "\n",
    "[1] David L Applegate, Robert E Bixby, Vasek Chvatal, and William J Cook. The traveling salesman problem: a computational study. Princeton university press, 2011.\n"
   ]
  },
  {
   "cell_type": "markdown",
   "metadata": {},
   "source": [
    "## A simple example\n",
    "\n",
    "This example uses five cities named A, B, C, D, E.  The distance between each city is in km, but randomly generated. So each time the cells are executed a new solution may exist. \n",
    "\n",
    "We compute the number of pair of cities. We use a complete graph to compute the number of vertices and therefore $\\frac{n(n-1)}{2}$. An explanation can be found [here](https://mathworld.wolfram.com/CompleteGraph.html)\n",
    "\n"
   ]
  },
  {
   "cell_type": "code",
   "execution_count": 3,
   "metadata": {},
   "outputs": [
    {
     "name": "stdout",
     "output_type": "stream",
     "text": [
      "Cities:\n"
     ]
    }
   ],
   "source": [
    "print(\"Cities:\")\n",
    "no_cities = 5\n",
    "cities = set(string.ascii_uppercase[:no_cities])\n"
   ]
  },
  {
   "cell_type": "code",
   "execution_count": 4,
   "metadata": {},
   "outputs": [],
   "source": [
    "def build_dist_table_rand(no_cities:int)->[]:\n",
    "    \"\"\"\n",
    "    Build a table of distances between each city. We consider each city a vertex in a digraph\n",
    "    and the distances the edges.\n",
    "    \n",
    "    preconditions: no_cities is greater than 2.\n",
    "    postconditions: returns a list of tuples. Each tuple represent a distinct permulation \n",
    "    of pairs of cities with a distance in km. The list is sorted alphabetically by vertices. \n",
    "    The number of explected rows is (no_cities * (no_cities-1))/2\n",
    "    \"\"\"\n",
    "    assert(no_cities > 2)\n",
    "    # initialise some values\n",
    "    cities         = list(string.ascii_uppercase[:no_cities])\n",
    "    pairs          = int((no_cities * (no_cities-1))/2)\n",
    "    distances      = [random.randrange(10, 2000) for x in range(0,pairs, 1)]\n",
    "    all_poss_pairs = list(permutations(cities,2))\n",
    "    distinct_pairs = all_poss_pairs[0: no_cities-1]\n",
    "    all_cities     = range(1,no_cities-1,1)\n",
    "    dist_table     = []\n",
    "   \n",
    "    \n",
    "    # reduce pairs to distinct pairs\n",
    "    for city_no  in all_cities:\n",
    "        first = city_no * (no_cities-1)\n",
    "        last  = (city_no+1) * (no_cities) - (city_no + 1)\n",
    "        pairs = all_poss_pairs[first:last]\n",
    "        distinct_pairs = distinct_pairs + pairs[city_no: len(pairs)]\n",
    "    \n",
    "    # matches distances and pairs to build dist table\n",
    "    indices = range(0, len(distances), 1)\n",
    "    for index in indices:\n",
    "        entry = (distinct_pairs[index][0], distinct_pairs[index][1], distances[index])\n",
    "        dist_table.append(entry)\n",
    "   \n",
    "    return dist_table\n",
    "\n"
   ]
  },
  {
   "cell_type": "code",
   "execution_count": 5,
   "metadata": {},
   "outputs": [
    {
     "data": {
      "text/plain": [
       "[('A', 'B', 1837),\n",
       " ('A', 'C', 581),\n",
       " ('A', 'D', 1316),\n",
       " ('A', 'E', 1065),\n",
       " ('B', 'C', 136),\n",
       " ('B', 'D', 1509),\n",
       " ('B', 'E', 557),\n",
       " ('C', 'D', 1664),\n",
       " ('C', 'E', 1669),\n",
       " ('D', 'E', 752)]"
      ]
     },
     "execution_count": 5,
     "metadata": {},
     "output_type": "execute_result"
    }
   ],
   "source": [
    "all_distances = build_dist_table_rand(no_cities)\n",
    "all_distances"
   ]
  },
  {
   "cell_type": "markdown",
   "metadata": {},
   "source": [
    "### Let's compute length of a tour\n",
    "\n"
   ]
  },
  {
   "cell_type": "code",
   "execution_count": 6,
   "metadata": {},
   "outputs": [
    {
     "name": "stdout",
     "output_type": "stream",
     "text": [
      "1837\n",
      "752\n",
      "0\n"
     ]
    }
   ],
   "source": [
    "def find_dist_between_cities(first_city:str, second_city:str, all_distances:[]) -> int:\n",
    "    \"\"\"\n",
    "    search for the distance between two given cities. \n",
    "    preconditions: \n",
    "        - first and second city must be a non-empty string\n",
    "        - all_distances must be not empty and contains tuples of 3 elements.\n",
    "    postconditions: returns the distance between two cities. If the cities are not found, \n",
    "    then a zero length is returned.\n",
    "    \"\"\"\n",
    "    assert(len(first_city) > 0)\n",
    "    assert(len(second_city) > 0)\n",
    "    assert(len(all_distances) > 0)\n",
    "    assert(len(all_distances[0]) == 3)\n",
    "    \n",
    "    distance = 0\n",
    "    \n",
    "    if first_city < second_city:\n",
    "        first  = first_city\n",
    "        second = second_city\n",
    "    else:\n",
    "        first  = second_city\n",
    "        second = first_city\n",
    "        \n",
    "    len_dist  = len(all_distances)\n",
    "    index = 0 \n",
    "    while index < len_dist:\n",
    "        if (all_distances[index][0] == first) & (all_distances[index][1] == second):\n",
    "            distance = all_distances[index][2]\n",
    "            index = len_dist\n",
    "        else :\n",
    "            if index < (len_dist-1):\n",
    "                index = index + 1\n",
    "            else:\n",
    "                index = len_dist\n",
    "            \n",
    "    return distance\n",
    "\n",
    "print(find_dist_between_cities(\"A\",\"B\", all_distances))\n",
    "print(find_dist_between_cities(\"E\",\"D\", all_distances))\n",
    "print(find_dist_between_cities(\"D\",\"D\", all_distances))\n",
    "        \n",
    "        "
   ]
  },
  {
   "cell_type": "code",
   "execution_count": 7,
   "metadata": {},
   "outputs": [
    {
     "name": "stdout",
     "output_type": "stream",
     "text": [
      "5454\n",
      "5454\n"
     ]
    }
   ],
   "source": [
    "def total_length_tour(tour:[], all_distances:[]) -> int:\n",
    "    \"\"\"\n",
    "    compute the total length of a given tour\n",
    "    preconditions: \n",
    "        - tour is not empty\n",
    "        - all_distances must be not empty and contains tuples of 3 elements.\n",
    "    postconditions: returns the \n",
    "    \"\"\"\n",
    "    assert(len(tour) > 0)\n",
    "    assert(len(all_distances) > 0)\n",
    "    assert(len(all_distances[0]) == 3)\n",
    "    \n",
    "    tour_length = 0\n",
    "    indices = range(0, len(tour), 1)\n",
    "    for index in indices:\n",
    "\n",
    "        if index == len(tour)-1:\n",
    "            first  = tour[len(tour)-1]\n",
    "            second = tour[0]\n",
    "        else:\n",
    "            first  = tour[index]\n",
    "            second = tour[index+1]\n",
    "        distance = find_dist_between_cities(first,second, all_distances)\n",
    "        tour_length = tour_length + distance\n",
    "        \n",
    "    return tour_length\n",
    "\n",
    "print(total_length_tour([\"A\", \"B\", \"C\", \"D\", \"E\"],all_distances))\n",
    "print(total_length_tour([\"E\", \"D\", \"C\", \"B\", \"A\"],all_distances))\n",
    "    "
   ]
  },
  {
   "cell_type": "markdown",
   "metadata": {},
   "source": [
    "### Exhaustive search to find the shortest tour"
   ]
  },
  {
   "cell_type": "code",
   "execution_count": 8,
   "metadata": {},
   "outputs": [],
   "source": [
    "def find_shortest_tour(cities:str, all_distances:[]) -> ():\n",
    "    \"\"\"\n",
    "    compute the shortest tour for n cities.\n",
    "    preconditions: a non-empty string of cities and a non-empty distance table.\n",
    "    postconditions: return a tuple with made of a tour and its total length.  The shortest \n",
    "    tour is search exhaustively through all the possible permutations of cities; \n",
    "    that is a total of squared number of cities in total. \n",
    "    \"\"\"\n",
    "    \n",
    "    assert(len(cities) > 0)\n",
    "    assert(len(all_distances) > 0)\n",
    "    \n",
    "    # All permutations\n",
    "    tours = list(permutations(cities,len(cities)))\n",
    "    best_tour = (tours[0],total_length_tour(tours[0],all_distances))\n",
    "    most_tours = tours[1:len(tours)-1]\n",
    "    \n",
    "    for tour in most_tours:\n",
    "        current_tour = (tour ,total_length_tour(tour ,all_distances))\n",
    "        if (current_tour[1] < best_tour[1]):\n",
    "            best_tour = current_tour\n",
    "    \n",
    "    return best_tour    "
   ]
  },
  {
   "cell_type": "code",
   "execution_count": 9,
   "metadata": {},
   "outputs": [
    {
     "name": "stdout",
     "output_type": "stream",
     "text": [
      "The minimum tour length is : \n",
      "CPU times: user 425 µs, sys: 406 µs, total: 831 µs\n",
      "Wall time: 837 µs\n"
     ]
    },
    {
     "data": {
      "text/plain": [
       "(('A', 'D', 'E', 'B', 'C'), 3342)"
      ]
     },
     "execution_count": 9,
     "metadata": {},
     "output_type": "execute_result"
    }
   ],
   "source": [
    "print(\"The minimum tour length is : \")\n",
    "%time find_shortest_tour(cities, all_distances)"
   ]
  },
  {
   "cell_type": "markdown",
   "metadata": {},
   "source": [
    "## Let's explore other instances with more cities\n",
    "\n",
    "We explore the running time and the theta complexity. "
   ]
  },
  {
   "cell_type": "markdown",
   "metadata": {},
   "source": [
    "## Three cities"
   ]
  },
  {
   "cell_type": "code",
   "execution_count": 10,
   "metadata": {},
   "outputs": [
    {
     "name": "stdout",
     "output_type": "stream",
     "text": [
      "maximum of number of tours :  9.0\n",
      "{'C', 'B', 'A'}\n"
     ]
    }
   ],
   "source": [
    "no_cities = 3\n",
    "cities    = set(string.ascii_uppercase[:no_cities])\n",
    "print(\"maximum of number of tours : \", math.pow(no_cities,2))\n",
    "print(cities)"
   ]
  },
  {
   "cell_type": "code",
   "execution_count": 11,
   "metadata": {},
   "outputs": [
    {
     "data": {
      "text/plain": [
       "[('A', 'B', 262), ('A', 'C', 1488), ('B', 'C', 203)]"
      ]
     },
     "execution_count": 11,
     "metadata": {},
     "output_type": "execute_result"
    }
   ],
   "source": [
    "all_distances = build_dist_table_rand(no_cities)\n",
    "all_distances"
   ]
  },
  {
   "cell_type": "code",
   "execution_count": 12,
   "metadata": {},
   "outputs": [
    {
     "name": "stdout",
     "output_type": "stream",
     "text": [
      "The minimum tour length is : \n",
      "CPU times: user 22 µs, sys: 20 µs, total: 42 µs\n",
      "Wall time: 50.1 µs\n"
     ]
    },
    {
     "data": {
      "text/plain": [
       "(('C', 'B', 'A'), 1953)"
      ]
     },
     "execution_count": 12,
     "metadata": {},
     "output_type": "execute_result"
    }
   ],
   "source": [
    "print(\"The minimum tour length is : \")\n",
    "%time find_shortest_tour(cities, all_distances)"
   ]
  },
  {
   "cell_type": "markdown",
   "metadata": {},
   "source": [
    "## 7 cities"
   ]
  },
  {
   "cell_type": "code",
   "execution_count": 13,
   "metadata": {},
   "outputs": [
    {
     "name": "stdout",
     "output_type": "stream",
     "text": [
      "maximum of number of tours :  49.0\n",
      "{'F', 'A', 'D', 'C', 'G', 'B', 'E'}\n",
      "The minimum tour length is : \n",
      "CPU times: user 73.8 ms, sys: 773 µs, total: 74.5 ms\n",
      "Wall time: 73.9 ms\n"
     ]
    },
    {
     "data": {
      "text/plain": [
       "(('F', 'D', 'G', 'A', 'C', 'B', 'E'), 2437)"
      ]
     },
     "execution_count": 13,
     "metadata": {},
     "output_type": "execute_result"
    }
   ],
   "source": [
    "\n",
    "\n",
    "no_cities = 7\n",
    "cities    = set(string.ascii_uppercase[:no_cities])\n",
    "print(\"maximum of number of tours : \", math.pow(no_cities,2))\n",
    "print(cities)\n",
    "\n",
    "all_distances = build_dist_table_rand(no_cities)\n",
    "all_distances\n",
    "\n",
    "print(\"The minimum tour length is : \")\n",
    "%time find_shortest_tour(cities, all_distances)## Three cities"
   ]
  },
  {
   "cell_type": "markdown",
   "metadata": {},
   "source": [
    "## 10 cities "
   ]
  },
  {
   "cell_type": "code",
   "execution_count": 14,
   "metadata": {},
   "outputs": [
    {
     "name": "stdout",
     "output_type": "stream",
     "text": [
      "maximum of number of tours :  100.0\n",
      "{'F', 'A', 'D', 'C', 'H', 'J', 'I', 'G', 'B', 'E'}\n",
      "The minimum tour length is : \n",
      "CPU times: user 2min 14s, sys: 426 ms, total: 2min 14s\n",
      "Wall time: 2min 15s\n"
     ]
    },
    {
     "data": {
      "text/plain": [
       "(('F', 'A', 'E', 'B', 'D', 'G', 'H', 'J', 'C', 'I'), 3866)"
      ]
     },
     "execution_count": 14,
     "metadata": {},
     "output_type": "execute_result"
    }
   ],
   "source": [
    "no_cities = 10\n",
    "cities    = set(string.ascii_uppercase[:no_cities])\n",
    "print(\"maximum of number of tours : \", math.pow(no_cities,2))\n",
    "print(cities)\n",
    "\n",
    "all_distances = build_dist_table_rand(no_cities)\n",
    "all_distances\n",
    "\n",
    "print(\"The minimum tour length is : \")\n",
    "%time find_shortest_tour(cities, all_distances)"
   ]
  },
  {
   "cell_type": "markdown",
   "metadata": {},
   "source": [
    "## Complexity\n",
    "\n",
    "\n",
    "[Complexity of exhaustive search and TSP](https://crab.rutgers.edu/users/guyk/es.pdf)\n",
    "\n",
    "The exhaustive search itself remains $\\theta(n)$. However, generating all the possible permutations of tours is $\\theta(n!)$ [see explanations](https://leadcoding.in/find-all-the-permutations-of-an-array/). Therefore, the exponential complexity is higher than the linear complexity. So we assume the complexity is a factorial. \n",
    "\n",
    "Looking at the execution time - which are different from the time complexity - 10 cities tooks minutes rather milliseconds. It demonstrates how quickly exhaustive search can become obsolete and infeasible to use. "
   ]
  },
  {
   "cell_type": "code",
   "execution_count": 46,
   "metadata": {},
   "outputs": [
    {
     "data": {
      "text/plain": [
       "Text(0.5, 1.0, 'Time complexity')"
      ]
     },
     "execution_count": 46,
     "metadata": {},
     "output_type": "execute_result"
    },
    {
     "data": {
      "image/png": "[encoded data removed]",
      "text/plain": [
       "<Figure size 1440x432 with 1 Axes>"
      ]
     },
     "metadata": {
      "needs_background": "light"
     },
     "output_type": "display_data"
    }
   ],
   "source": [
    "xs = range(1,10, 1) \n",
    "ys = [math.factorial(x) for x in xs]\n",
    "plt.figure(figsize=(20,6))\n",
    "plt.plot(xs, ys, color = \"red\",  )\n",
    "plt.xlabel(\"Number of cities(unit)\")\n",
    "plt.ylabel(\"Algorithm no 1\")\n",
    "plt.title(\"Time complexity\")\n"
   ]
  },
  {
   "cell_type": "code",
   "execution_count": 51,
   "metadata": {},
   "outputs": [
    {
     "data": {
      "text/plain": [
       "6"
      ]
     },
     "execution_count": 51,
     "metadata": {},
     "output_type": "execute_result"
    }
   ],
   "source": [
    "math.factorial(3)"
   ]
  },
  {
   "cell_type": "code",
   "execution_count": 52,
   "metadata": {},
   "outputs": [
    {
     "data": {
      "text/plain": [
       "120"
      ]
     },
     "execution_count": 52,
     "metadata": {},
     "output_type": "execute_result"
    }
   ],
   "source": [
    "math.factorial(5)"
   ]
  },
  {
   "cell_type": "code",
   "execution_count": 53,
   "metadata": {},
   "outputs": [
    {
     "data": {
      "text/plain": [
       "5040"
      ]
     },
     "execution_count": 53,
     "metadata": {},
     "output_type": "execute_result"
    }
   ],
   "source": [
    "math.factorial(7)"
   ]
  },
  {
   "cell_type": "code",
   "execution_count": 54,
   "metadata": {},
   "outputs": [
    {
     "data": {
      "text/plain": [
       "3628800"
      ]
     },
     "execution_count": 54,
     "metadata": {},
     "output_type": "execute_result"
    }
   ],
   "source": [
    "math.factorial(10)"
   ]
  },
  {
   "cell_type": "markdown",
   "metadata": {},
   "source": [
    "## Let's build a directed graph\n",
    "\n",
    "[wikipedia](https://en.wikipedia.org/wiki/Directed_graph)\n",
    "\n"
   ]
  },
  {
   "cell_type": "code",
   "execution_count": 42,
   "metadata": {},
   "outputs": [],
   "source": [
    "class DiGraph:\n",
    "    \"\"\"A directed graph with hashable node objects.\n",
    "\n",
    "    Edges are between different nodes.\n",
    "    There's at most one edge from one node to another.\n",
    "    \"\"\"\n",
    "\n",
    "    def __init__(self):\n",
    "        self.out = dict()   # a map of nodes to their out-neighbours\n",
    "\n",
    "    def has_node(self, node: Hashable) -> bool:\n",
    "        \"\"\"Return True if and only if the graph has the node.\"\"\"\n",
    "        return node in self.out\n",
    "\n",
    "    def has_edge(self, start: Hashable, end: Hashable) -> bool:\n",
    "        \"\"\"Return True if and only if edge start -> end exists.\n",
    "\n",
    "        Preconditions: self.has_node(start) and self.has_node(end)\n",
    "        \"\"\"\n",
    "        return end in self.out[start]\n",
    "\n",
    "    def add_node(self, node: Hashable) -> None:\n",
    "        \"\"\"Add the node to the graph.\n",
    "\n",
    "        Preconditions: not self.has_node(node)\n",
    "        \"\"\"\n",
    "        self.out[node] = set()\n",
    "\n",
    "    def add_edge(self, start: Hashable, end: Hashable) -> None:\n",
    "        \"\"\"Add edge start -> end to the graph.\n",
    "\n",
    "        If the edge already exists, do nothing.\n",
    "\n",
    "        Preconditions:\n",
    "        self.has_node(start) and self.has_node(end) and start != end\n",
    "        \"\"\"\n",
    "        self.out[start].add(end)\n",
    "\n",
    "    def remove_node(self, node: Hashable) -> None:\n",
    "        \"\"\"Remove the node and all its attached edges.\n",
    "\n",
    "        Preconditions: self.has_node(node)\n",
    "        \"\"\"\n",
    "        self.out.pop(node)\n",
    "        for start in self.out:\n",
    "            self.remove_edge(start, node)\n",
    "\n",
    "    def remove_edge(self, start: Hashable, end: Hashable) -> None:\n",
    "        \"\"\"Remove edge start -> end from the graph.\n",
    "\n",
    "        If the edge doesn't exist, do nothing.\n",
    "\n",
    "        Preconditions: self.has_node(start) and self.has_node(end)\n",
    "        \"\"\"\n",
    "        self.out[start].discard(end)\n",
    "\n",
    "    def nodes(self) -> set:\n",
    "        \"\"\"Return the graph's nodes.\"\"\"\n",
    "        all_nodes = set()\n",
    "        for node in self.out:\n",
    "            all_nodes.add(node)\n",
    "        return all_nodes\n",
    "\n",
    "    def edges(self) -> set:\n",
    "        \"\"\"Return the graph's edges as a set of pairs (start, end).\"\"\"\n",
    "        all_edges = set()\n",
    "        for start in self.out:\n",
    "            for end in self.out[start]:\n",
    "                all_edges.add( (start, end) )\n",
    "        return all_edges\n",
    "\n",
    "    def out_neighbours(self, node: Hashable) -> set:\n",
    "        \"\"\"Return the out-neighbours of the node.\n",
    "\n",
    "        Preconditions: self.has_node(node)\n",
    "        \"\"\"\n",
    "        return set(self.out[node])  # return a copy\n",
    "\n",
    "    def out_degree(self, node: Hashable) -> int:\n",
    "        \"\"\"Return the number of out-neighbours of the node.\n",
    "\n",
    "        Preconditions: self.has_node(node)\n",
    "        \"\"\"\n",
    "        return len(self.out[node])\n",
    "\n",
    "    def in_neighbours(self, node: Hashable) -> set:\n",
    "        \"\"\"Return the in-neighbours of the node.\n",
    "\n",
    "        Preconditions: self.has_node(node)\n",
    "        \"\"\"\n",
    "        start_nodes = set()\n",
    "        for start in self.out:\n",
    "            if self.has_edge(start, node):\n",
    "                start_nodes.add(start)\n",
    "        return start_nodes\n",
    "\n",
    "    def in_degree(self, node: Hashable) -> int:\n",
    "        \"\"\"Return the number of in-neighbours of the node.\n",
    "\n",
    "        Preconditions: self.has_node(node)\n",
    "        \"\"\"\n",
    "        return len(self.in_neighbours(node))\n",
    "\n",
    "    def neighbours(self, node: Hashable) -> set:\n",
    "        \"\"\"Return the in- and out-neighbours of the node.\n",
    "\n",
    "        Preconditions: self.has_node(node)\n",
    "        \"\"\"\n",
    "        return self.out_neighbours(node).union(self.in_neighbours(node))\n",
    "\n",
    "    def degree(self, node: Hashable) -> int:\n",
    "        \"\"\"Return the number of in- and out-going edges of the node.\n",
    "\n",
    "        Preconditions: self.has_node(node)\n",
    "        \"\"\"\n",
    "        return self.in_degree(node) + self.out_degree(node)\n",
    "\n",
    "    def draw(self) -> None:\n",
    "        \"\"\"Draw the graph.\"\"\"\n",
    "        if type(self) == DiGraph:\n",
    "            graph = networkx.DiGraph()\n",
    "        else:\n",
    "            graph = networkx.Graph()\n",
    "        graph.add_nodes_from(self.nodes())\n",
    "        graph.add_edges_from(self.edges())\n",
    "        networkx.draw(graph, with_labels=True,\n",
    "            node_size=1000, node_color='lightblue',\n",
    "            font_size=12, font_weight='bold')\n",
    "        \n",
    "class WeightedDiGraph(DiGraph):\n",
    "    \"\"\"A weighted directed graph with hashable node objects.\n",
    "\n",
    "    Edges are between different nodes.\n",
    "    There's at most one edge from one node to another.\n",
    "    Edges have weights, which can be floats or integers.\n",
    "    \"\"\"\n",
    "\n",
    "    def add_node(self, node: Hashable) -> None:\n",
    "        \"\"\"Add the node to the graph.\n",
    "\n",
    "        Preconditions: not self.has_node(node)\n",
    "        \"\"\"\n",
    "        self.out[node] = dict() # a map of out-neighbours to weights\n",
    "\n",
    "    def add_edge(self, start: Hashable, end: Hashable, weight: float) -> None:\n",
    "        \"\"\"Add edge start -> end, with the given weight, to the graph.\n",
    "\n",
    "        If the edge already exists, set its weight.\n",
    "\n",
    "        Preconditions:\n",
    "        self.has_node(start) and self.has_node(end) and start != end\n",
    "        \"\"\"\n",
    "        self.out[start][end] = weight\n",
    "\n",
    "    def weight(self, start: Hashable, end: Hashable) -> float:\n",
    "        \"\"\"Return the weight of edge start -> end or infinity if it doesn't exist.\n",
    "\n",
    "        Preconditions: self.has_node(start) and self.has_node(end)\n",
    "        \"\"\"\n",
    "        if self.has_edge(start, end):\n",
    "            return self.out[start][end]\n",
    "        else:\n",
    "            return math.inf\n",
    "\n",
    "    def remove_edge(self, start: Hashable, end: Hashable) -> None:\n",
    "        \"\"\"Remove edge start -> end from the graph.\n",
    "\n",
    "        If the edge doesn't exist, do nothing.\n",
    "\n",
    "        Preconditions: self.has_node(start) and self.has_node(end)\n",
    "        \"\"\"\n",
    "        if self.has_edge(start, end):\n",
    "            self.out[start].pop(end)\n",
    "\n",
    "    def edges(self) -> set:\n",
    "        \"\"\"Return the graph's edges as a set of triples (start, end, weight).\"\"\"\n",
    "        all_edges = set()\n",
    "        for start in self.out:\n",
    "            for (end, weight) in self.out[start].items():\n",
    "                all_edges.add( (start, end, weight) )\n",
    "        return all_edges\n",
    "\n",
    "    def out_neighbours(self, node: Hashable) -> set:\n",
    "        \"\"\"Return the out-neighbours of the node.\n",
    "\n",
    "        Preconditions: self.has_node(node)\n",
    "        \"\"\"\n",
    "        return set(self.out[node].keys())\n",
    "\n",
    "    def draw(self) -> None:\n",
    "        \"\"\"Draw the graph.\"\"\"\n",
    "        if type(self) == WeightedDiGraph:\n",
    "            graph = networkx.DiGraph()\n",
    "        else:\n",
    "            graph = networkx.Graph()\n",
    "        graph.add_nodes_from(self.nodes())\n",
    "        for (node1, node2, weight) in self.edges():\n",
    "            graph.add_edge(node1, node2, w=weight)\n",
    "        pos = networkx.spring_layout(graph)\n",
    "        networkx.draw(graph, pos, with_labels=True,\n",
    "            node_size=1000, node_color='lightblue',\n",
    "            font_size=12, font_weight='bold')\n",
    "        networkx.draw_networkx_edge_labels(graph, pos,\n",
    "            edge_labels=networkx.get_edge_attributes(graph, 'w'))\n"
   ]
  },
  {
   "cell_type": "markdown",
   "metadata": {},
   "source": [
    "Add the nodes to the directed graph; each city becomes a node."
   ]
  },
  {
   "cell_type": "code",
   "execution_count": 80,
   "metadata": {},
   "outputs": [
    {
     "name": "stdout",
     "output_type": "stream",
     "text": [
      "Cities:\n"
     ]
    },
    {
     "data": {
      "image/png": "[encoded data removed]",
      "text/plain": [
       "<Figure size 432x288 with 1 Axes>"
      ]
     },
     "metadata": {},
     "output_type": "display_data"
    }
   ],
   "source": [
    "print(\"Cities:\")\n",
    "no_cities = 5\n",
    "cities = set(string.ascii_uppercase[:no_cities])\n",
    "\n",
    "instance = WeightedDiGraph()\n",
    "for city in cities:\n",
    "    instance.add_node(city)\n",
    "    \n",
    "\n",
    "    \n",
    "instance.draw()\n"
   ]
  },
  {
   "cell_type": "markdown",
   "metadata": {},
   "source": [
    "Add the edges with the weight. Each weigth is a distance."
   ]
  },
  {
   "cell_type": "code",
   "execution_count": 86,
   "metadata": {},
   "outputs": [
    {
     "data": {
      "text/plain": [
       "[('A', 'B', 694),\n",
       " ('A', 'C', 1385),\n",
       " ('A', 'D', 387),\n",
       " ('A', 'E', 1431),\n",
       " ('B', 'C', 453),\n",
       " ('B', 'D', 454),\n",
       " ('B', 'E', 602),\n",
       " ('C', 'D', 238),\n",
       " ('C', 'E', 887),\n",
       " ('D', 'E', 1735)]"
      ]
     },
     "execution_count": 86,
     "metadata": {},
     "output_type": "execute_result"
    }
   ],
   "source": [
    "all_distances = build_dist_table_rand(no_cities)\n",
    "all_distances"
   ]
  },
  {
   "cell_type": "code",
   "execution_count": 88,
   "metadata": {},
   "outputs": [
    {
     "data": {
      "image/png": "[encoded data removed]",
      "text/plain": [
       "<Figure size 432x288 with 1 Axes>"
      ]
     },
     "metadata": {},
     "output_type": "display_data"
    }
   ],
   "source": [
    "for entry in all_distances:\n",
    "    instance.add_edge(entry[0],entry[1], entry[2])\n",
    "    instance.add_edge(entry[1],entry[0], entry[2])\n",
    "\n",
    "instance.draw()\n"
   ]
  },
  {
   "cell_type": "markdown",
   "metadata": {},
   "source": [
    "## Dijkstra algorithm\n",
    "\n",
    "[Dijkstra algorithm](https://en.wikipedia.org/wiki/Dijkstra%27s_algorithm)\n",
    "\n",
    "\n",
    "https://www.bogotobogo.com/python/python_graph_data_structures.php"
   ]
  },
  {
   "cell_type": "code",
   "execution_count": 89,
   "metadata": {},
   "outputs": [],
   "source": [
    "from heapq import heappush, heappop\n",
    "\n",
    "def dijkstra(graph: WeightedDiGraph, start: Hashable) -> WeightedDiGraph:\n",
    "    \"\"\"Return a shortest path from start to each reachable node.\n",
    "\n",
    "    Preconditions:\n",
    "    - graph.has_node(start)\n",
    "    - node objects are comparable\n",
    "    - no weight is negative\n",
    "    \"\"\"\n",
    "    visited = WeightedDiGraph()\n",
    "    visited.add_node(start)\n",
    "\n",
    "    # create min-priority queue of tuples (cost, (A, B, weight))\n",
    "    # cost is total weight from start to B via shortest path to A\n",
    "    unprocessed = []    # min-priority queue\n",
    "    for neighbour in graph.out_neighbours(start):\n",
    "        weight = graph.weight(start, neighbour)\n",
    "        heappush(unprocessed, (weight, (start, neighbour, weight)) )\n",
    "\n",
    "    while len(unprocessed) > 0:\n",
    "        info = heappop(unprocessed)\n",
    "        cost = info[0]\n",
    "        edge = info[1]\n",
    "        previous = edge[0]\n",
    "        current = edge[1]\n",
    "        weight = edge[2]\n",
    "\n",
    "        if not visited.has_node(current):\n",
    "            visited.add_node(current)\n",
    "            visited.add_edge(previous, current, weight)\n",
    "            for neighbour in graph.out_neighbours(current):\n",
    "                weight = graph.weight(current, neighbour)\n",
    "                edge = (current, neighbour, weight)\n",
    "                heappush(unprocessed, (cost + weight, edge) )\n",
    "    return visited\n"
   ]
  },
  {
   "cell_type": "code",
   "execution_count": 91,
   "metadata": {},
   "outputs": [
    {
     "name": "stdout",
     "output_type": "stream",
     "text": [
      "['A', 'D', 'C', 'B', 'E']\n",
      "3111\n"
     ]
    }
   ],
   "source": [
    "tour = dijkstra(instance, \"A\")\n",
    "print(list(tour.nodes()))\n",
    "print(total_length_tour(list(tour.nodes()), all_distances))\n"
   ]
  },
  {
   "cell_type": "code",
   "execution_count": null,
   "metadata": {},
   "outputs": [],
   "source": []
  },
  {
   "cell_type": "code",
   "execution_count": null,
   "metadata": {},
   "outputs": [],
   "source": []
  }
 ],
 "metadata": {
  "kernelspec": {
   "display_name": "Python 3",
   "language": "python",
   "name": "python3"
  },
  "language_info": {
   "codemirror_mode": {
    "name": "ipython",
    "version": 3
   },
   "file_extension": ".py",
   "mimetype": "text/x-python",
   "name": "python",
   "nbconvert_exporter": "python",
   "pygments_lexer": "ipython3",
   "version": "3.8.6"
  }
 },
 "nbformat": 4,
 "nbformat_minor": 5
}
