{
 "cells": [
  {
   "cell_type": "markdown",
   "metadata": {},
   "source": [
    "# Let's talk about trees"
   ]
  },
  {
   "cell_type": "markdown",
   "metadata": {},
   "source": [
    "## Binary search trees"
   ]
  },
  {
   "cell_type": "markdown",
   "metadata": {},
   "source": [
    "(Binary search trees)[https://en.wikipedia.org/wiki/Binary_search_tree] and some clear explanations from this [journal paper](https://watermark.silverchair.com/320068.pdf?token=AQECAHi208BE49Ooan9kkhW_Ercy7Dm3ZL_9Cf3qfKAc485ysgAAAsYwggLCBgkqhkiG9w0BBwagggKzMIICrwIBADCCAqgGCSqGSIb3DQEHATAeBglghkgBZQMEAS4wEQQM8zrsjuWx7Iv7C4TwAgEQgIICeYweTXtbUp8Ygu_dye4GPz-PrgEjESDjBwpjSewJl8ts-d8TaYKmL5doYKhVNSiadVd-n8SjHsFyEhhfk7ZgzDRBFcLjH6r808cEf5YjLjoLqmzpK_3W0p6BA1ZwiSbPY-9gYrxweUMkZCyGpAwaS9Ui5ThzkP32MyYs_0RdUgP96p-GoTr934gXyjtqRVQeaNmRJG9QjS3f48zloyUwx4Hz-SfnRAAD8vEVTYMLZ5iA0jktlB42RROQYzAmDvr5__g_L3FB23ZJRrfPL8oDpq-JGVXOvZle3mdzTV6rmy2_MZi8BBATZoRUkSBiY4UBqvofu59tUJMm7SxBqt5IWyaLeyVKunaRCyOteHH59gaZmESHzb3pfHgb6Z7LNsctHrDBWstGOOXTH44-B23TJfEtuP_eTR7e1MQkkPfHJh1mYxRHBzl2b56ab9sYUArygjR6fLb5CMoCdlz_Vqxx220lS8Rs54CIOi_gIYBAIlJCc322HbFQ-ZWWRNtcRalE4bg_jQYWLH_KPALzymROGp9TI5qSVHIk-xAPFCBTy0BNEkRKG4c3FcU_V2f2NMlggc0PAZFhCy7JlyzMVLvGgTL2dwM2nvewmnpwqG7ds1mYwM2_6xZKmNX9oB25bH7DpF71ixbzdDPTPNlcLnOeKkykKvJrO9TeVbjZK2Hm3e_vMEhni3l0nRRYE_EN2MBOmb3IMXgYaui6y3luJoXmqP6xQUVUskhwbSzhlJVs_hcxB-MUJ9ZfurN9-vya-qg_-WQzxBVF6F1tBEEpNHMSK2P9ncyxtcwnrTm32UHcmFOn62cc49TNT9p5HgL5XU5s03rIRqTW2J0Jfw).\n",
    "\n",
    "[source](https://favtutor.com/blogs/tree-traversal-python-with-recursion)\n",
    "\n"
   ]
  },
  {
   "cell_type": "markdown",
   "metadata": {},
   "source": [
    "\n",
    "\n",
    "TreeNode class"
   ]
  },
  {
   "cell_type": "code",
   "execution_count": 6,
   "metadata": {},
   "outputs": [],
   "source": [
    "class TreeNode:\n",
    "    def __init__(self, val:object):\n",
    "        self.val = val\n",
    "        self.left = None\n",
    "        self.right = None \n",
    "    def join_left(self, node):\n",
    "        self.left = node\n",
    "    def join_right(self, node):\n",
    "        self.right = node\n"
   ]
  },
  {
   "cell_type": "markdown",
   "metadata": {},
   "source": [
    "### Traveral Trees - Starting from the left\n",
    "\n",
    "\n",
    "\n",
    "1. Calling Inorder (left-subtree)\n",
    "2. Visit the root node\n",
    "3. Calling Inorder (right subtree)"
   ]
  },
  {
   "cell_type": "code",
   "execution_count": 7,
   "metadata": {},
   "outputs": [],
   "source": [
    "def inorderTraversal(root:TreeNode) ->[]:\n",
    "    answer = []\n",
    "\n",
    "    inorderTraversalUtil(root, answer)\n",
    "    return answer\n",
    "\n",
    "def inorderTraversalUtil(root:TreeNode, answer:[]) -> None:\n",
    "    if root is None:\n",
    "        return None\n",
    "    else:\n",
    "        # left \n",
    "        inorderTraversalUtil(root.left, answer)\n",
    "        answer.append(root.val)\n",
    "        #right\n",
    "        inorderTraversalUtil(root.right, answer)\n",
    "        return None\n",
    "\n",
    "\n",
    "\n",
    " "
   ]
  },
  {
   "cell_type": "code",
   "execution_count": 8,
   "metadata": {},
   "outputs": [
    {
     "data": {
      "text/plain": [
       "['+']"
      ]
     },
     "execution_count": 8,
     "metadata": {},
     "output_type": "execute_result"
    }
   ],
   "source": [
    "root = TreeNode(\"+\")\n",
    "inorderTraversal(root)"
   ]
  },
  {
   "cell_type": "code",
   "execution_count": 9,
   "metadata": {},
   "outputs": [
    {
     "data": {
      "text/plain": [
       "['x', '+']"
      ]
     },
     "execution_count": 9,
     "metadata": {},
     "output_type": "execute_result"
    }
   ],
   "source": [
    "root = TreeNode(\"+\")\n",
    "root.join_left(TreeNode(\"x\"))\n",
    "inorderTraversal(root)"
   ]
  },
  {
   "cell_type": "code",
   "execution_count": 10,
   "metadata": {},
   "outputs": [
    {
     "data": {
      "text/plain": [
       "['x', '+', 'y']"
      ]
     },
     "execution_count": 10,
     "metadata": {},
     "output_type": "execute_result"
    }
   ],
   "source": [
    "root = TreeNode(\"+\")\n",
    "root.join_left(TreeNode(\"x\"))\n",
    "root.join_right(TreeNode(\"y\"))\n",
    "inorderTraversal(root)"
   ]
  },
  {
   "cell_type": "markdown",
   "metadata": {},
   "source": [
    "A algebraic expression:\n",
    "$(x * 4) + (t/l)$"
   ]
  },
  {
   "cell_type": "code",
   "execution_count": 11,
   "metadata": {},
   "outputs": [
    {
     "data": {
      "text/plain": [
       "['x', '*', '4', '+', 't', '/', 'l']"
      ]
     },
     "execution_count": 11,
     "metadata": {},
     "output_type": "execute_result"
    }
   ],
   "source": [
    "root = TreeNode(\"+\")\n",
    "root.left = TreeNode(\"*\")\n",
    "root.right = TreeNode(\"/\")\n",
    "root.left.join_left(TreeNode(\"x\"))\n",
    "root.left.join_right(TreeNode(\"4\"))\n",
    "root.right.join_left(TreeNode(\"t\"))\n",
    "root.right.join_right(TreeNode(\"l\"))\n",
    "\n",
    "inorderTraversal(root)\n"
   ]
  },
  {
   "cell_type": "markdown",
   "metadata": {},
   "source": [
    "### Traveral Trees - Starting from the root \n",
    "\n",
    "1. Visit the root node\n",
    "2. Calling preorder (left-subtree)\n",
    "3. Calling preorder (right subtree)\n"
   ]
  },
  {
   "cell_type": "code",
   "execution_count": 12,
   "metadata": {},
   "outputs": [],
   "source": [
    "def preorderTraversal(root:TreeNode) ->[]:\n",
    "    answer = []\n",
    "\n",
    "    preorderTraversalUtil(root, answer)\n",
    "    return answer\n",
    "\n",
    "def preorderTraversalUtil(root:TreeNode, answer:[]) -> None:\n",
    "    if root is None:\n",
    "        return None\n",
    "    else:\n",
    "        answer.append(root.val)\n",
    "        # left \n",
    "        preorderTraversalUtil(root.left, answer)\n",
    "        #right\n",
    "        preorderTraversalUtil(root.right, answer)\n",
    "        return None\n",
    "\n",
    "\n",
    "\n",
    " "
   ]
  },
  {
   "cell_type": "code",
   "execution_count": 13,
   "metadata": {},
   "outputs": [
    {
     "data": {
      "text/plain": [
       "['+']"
      ]
     },
     "execution_count": 13,
     "metadata": {},
     "output_type": "execute_result"
    }
   ],
   "source": [
    "root = TreeNode(\"+\")\n",
    "preorderTraversal(root)"
   ]
  },
  {
   "cell_type": "code",
   "execution_count": 14,
   "metadata": {},
   "outputs": [
    {
     "data": {
      "text/plain": [
       "['+', 'x']"
      ]
     },
     "execution_count": 14,
     "metadata": {},
     "output_type": "execute_result"
    }
   ],
   "source": [
    "root = TreeNode(\"+\")\n",
    "root.join_left(TreeNode(\"x\"))\n",
    "preorderTraversal(root)"
   ]
  },
  {
   "cell_type": "code",
   "execution_count": 15,
   "metadata": {},
   "outputs": [
    {
     "data": {
      "text/plain": [
       "['+', 'x', 'y']"
      ]
     },
     "execution_count": 15,
     "metadata": {},
     "output_type": "execute_result"
    }
   ],
   "source": [
    "root = TreeNode(\"+\")\n",
    "root.join_left(TreeNode(\"x\"))\n",
    "root.join_right(TreeNode(\"y\"))\n",
    "preorderTraversal(root)"
   ]
  },
  {
   "cell_type": "code",
   "execution_count": 16,
   "metadata": {},
   "outputs": [
    {
     "data": {
      "text/plain": [
       "['+', '*', 'x', '4', '/', 't', 'l']"
      ]
     },
     "execution_count": 16,
     "metadata": {},
     "output_type": "execute_result"
    }
   ],
   "source": [
    "root = TreeNode(\"+\")\n",
    "root.left = TreeNode(\"*\")\n",
    "root.right = TreeNode(\"/\")\n",
    "root.left.join_left(TreeNode(\"x\"))\n",
    "root.left.join_right(TreeNode(\"4\"))\n",
    "root.right.join_left(TreeNode(\"t\"))\n",
    "root.right.join_right(TreeNode(\"l\"))\n",
    "\n",
    "preorderTraversal(root)\n"
   ]
  },
  {
   "cell_type": "code",
   "execution_count": 17,
   "metadata": {},
   "outputs": [
    {
     "data": {
      "text/plain": [
       "['1', '2', '4', '3']"
      ]
     },
     "execution_count": 17,
     "metadata": {},
     "output_type": "execute_result"
    }
   ],
   "source": [
    "root = TreeNode(\"1\")\n",
    "root.left = TreeNode(\"2\")\n",
    "root.right = TreeNode(\"3\")\n",
    "root.left.join_left(TreeNode(\"4\"))\n",
    "#root.left.join_right(TreeNode(\"5\"))\n",
    "\n",
    "preorderTraversal(root)"
   ]
  },
  {
   "cell_type": "markdown",
   "metadata": {},
   "source": [
    "### Traversale Trees - Left, right, root\n",
    "\n",
    "1. Calling left-subtree\n",
    "2. Calling right-subtree\n",
    "3. Visit root node"
   ]
  },
  {
   "cell_type": "code",
   "execution_count": 18,
   "metadata": {},
   "outputs": [],
   "source": [
    "def postorderTraversal(root:TreeNode) ->[]:\n",
    "    answer = []\n",
    "\n",
    "    postorderTraversalUtil(root, answer)\n",
    "    return answer\n",
    "\n",
    "def postorderTraversalUtil(root:TreeNode, answer:[]) -> None:\n",
    "    if root is None:\n",
    "        return None\n",
    "    else:\n",
    "        # left \n",
    "        postorderTraversalUtil(root.left, answer)\n",
    "        #right\n",
    "        postorderTraversalUtil(root.right, answer)\n",
    "        answer.append(root.val)\n",
    "        return None\n",
    "\n",
    "\n",
    "\n",
    " "
   ]
  },
  {
   "cell_type": "code",
   "execution_count": 19,
   "metadata": {},
   "outputs": [
    {
     "data": {
      "text/plain": [
       "['+']"
      ]
     },
     "execution_count": 19,
     "metadata": {},
     "output_type": "execute_result"
    }
   ],
   "source": [
    "root = TreeNode(\"+\")\n",
    "postorderTraversal(root)"
   ]
  },
  {
   "cell_type": "code",
   "execution_count": 20,
   "metadata": {},
   "outputs": [
    {
     "data": {
      "text/plain": [
       "['x', '+']"
      ]
     },
     "execution_count": 20,
     "metadata": {},
     "output_type": "execute_result"
    }
   ],
   "source": [
    "root = TreeNode(\"+\")\n",
    "root.join_left(TreeNode(\"x\"))\n",
    "postorderTraversal(root)"
   ]
  },
  {
   "cell_type": "code",
   "execution_count": 21,
   "metadata": {},
   "outputs": [
    {
     "data": {
      "text/plain": [
       "['x', 'y', '+']"
      ]
     },
     "execution_count": 21,
     "metadata": {},
     "output_type": "execute_result"
    }
   ],
   "source": [
    "root = TreeNode(\"+\")\n",
    "root.join_left(TreeNode(\"x\"))\n",
    "root.join_right(TreeNode(\"y\"))\n",
    "postorderTraversal(root)"
   ]
  },
  {
   "cell_type": "markdown",
   "metadata": {},
   "source": [
    "A algebraic expression:\n",
    "$(x * 4) + (t/l)$"
   ]
  },
  {
   "cell_type": "code",
   "execution_count": 22,
   "metadata": {},
   "outputs": [
    {
     "data": {
      "text/plain": [
       "['x', '4', '*', 't', 'l', '/', '+']"
      ]
     },
     "execution_count": 22,
     "metadata": {},
     "output_type": "execute_result"
    }
   ],
   "source": [
    "root = TreeNode(\"+\")\n",
    "root.left = TreeNode(\"*\")\n",
    "root.right = TreeNode(\"/\")\n",
    "root.left.join_left(TreeNode(\"x\"))\n",
    "root.left.join_right(TreeNode(\"4\"))\n",
    "root.right.join_left(TreeNode(\"t\"))\n",
    "root.right.join_right(TreeNode(\"l\"))\n",
    "\n",
    "postorderTraversal(root)\n"
   ]
  },
  {
   "cell_type": "code",
   "execution_count": 23,
   "metadata": {},
   "outputs": [
    {
     "data": {
      "text/plain": [
       "['4', '5', '2', '3', '1']"
      ]
     },
     "execution_count": 23,
     "metadata": {},
     "output_type": "execute_result"
    }
   ],
   "source": [
    "root = TreeNode(\"1\")\n",
    "root.left = TreeNode(\"2\")\n",
    "root.right = TreeNode(\"3\")\n",
    "root.left.join_left(TreeNode(\"4\"))\n",
    "root.left.join_right(TreeNode(\"5\"))\n",
    "\n",
    "postorderTraversal(root)"
   ]
  },
  {
   "cell_type": "markdown",
   "metadata": {},
   "source": [
    "# Retrieving the roots"
   ]
  },
  {
   "cell_type": "code",
   "execution_count": 24,
   "metadata": {},
   "outputs": [],
   "source": [
    "class TreeNode:\n",
    "    def __init__(self, val:object):\n",
    "        self.val = val\n",
    "        self.left = None\n",
    "        self.right = None \n",
    "    def join_left(self, node:TreeNode):\n",
    "        self.left = node\n",
    "    def join_right(self, node:TreeNode):\n",
    "        self.right = node\n"
   ]
  },
  {
   "cell_type": "code",
   "execution_count": 25,
   "metadata": {},
   "outputs": [],
   "source": [
    "def findRoots(root:TreeNode)->[]:\n",
    "    answer = []\n",
    "    findRootsUtil(root, answer)\n",
    "    return answer\n",
    "\n",
    "def findRootsUtil(root:TreeNode, answer:[]) -> None:\n",
    "    if root is None:\n",
    "        return None\n",
    "    else:\n",
    "        if(root.left is not None or root.right is not None):\n",
    "            answer.append(root.val)\n",
    "        # left \n",
    "        findRootsUtil(root.left, answer)\n",
    "        #right\n",
    "        findRootsUtil(root.right, answer)\n",
    "        return None\n",
    "\n",
    "    "
   ]
  },
  {
   "cell_type": "code",
   "execution_count": 26,
   "metadata": {},
   "outputs": [
    {
     "data": {
      "text/plain": [
       "[]"
      ]
     },
     "execution_count": 26,
     "metadata": {},
     "output_type": "execute_result"
    }
   ],
   "source": [
    "root = TreeNode(\"+\")\n",
    "findRoots(root)"
   ]
  },
  {
   "cell_type": "code",
   "execution_count": 27,
   "metadata": {},
   "outputs": [
    {
     "data": {
      "text/plain": [
       "['+']"
      ]
     },
     "execution_count": 27,
     "metadata": {},
     "output_type": "execute_result"
    }
   ],
   "source": [
    "root = TreeNode(\"+\")\n",
    "root.join_left(TreeNode(\"x\"))\n",
    "findRoots(root)"
   ]
  },
  {
   "cell_type": "code",
   "execution_count": 28,
   "metadata": {},
   "outputs": [
    {
     "data": {
      "text/plain": [
       "['+']"
      ]
     },
     "execution_count": 28,
     "metadata": {},
     "output_type": "execute_result"
    }
   ],
   "source": [
    "root = TreeNode(\"+\")\n",
    "root.join_left(TreeNode(\"x\"))\n",
    "root.join_right(TreeNode(\"y\"))\n",
    "findRoots(root)"
   ]
  },
  {
   "cell_type": "markdown",
   "metadata": {},
   "source": [
    "A algebraic expression:\n",
    "$(x * 4) + (t/l)$"
   ]
  },
  {
   "cell_type": "code",
   "execution_count": 29,
   "metadata": {},
   "outputs": [
    {
     "data": {
      "text/plain": [
       "['+', '*', '/']"
      ]
     },
     "execution_count": 29,
     "metadata": {},
     "output_type": "execute_result"
    }
   ],
   "source": [
    "root = TreeNode(\"+\")\n",
    "root.left = TreeNode(\"*\")\n",
    "root.right = TreeNode(\"/\")\n",
    "root.left.join_left(TreeNode(\"x\"))\n",
    "root.left.join_right(TreeNode(\"4\"))\n",
    "root.right.join_left(TreeNode(\"t\"))\n",
    "root.right.join_right(TreeNode(\"l\"))\n",
    "\n",
    "findRoots(root)"
   ]
  },
  {
   "cell_type": "code",
   "execution_count": 30,
   "metadata": {},
   "outputs": [
    {
     "data": {
      "text/plain": [
       "['1', '2']"
      ]
     },
     "execution_count": 30,
     "metadata": {},
     "output_type": "execute_result"
    }
   ],
   "source": [
    "root = TreeNode(\"1\")\n",
    "root.left = TreeNode(\"2\")\n",
    "root.right = TreeNode(\"3\")\n",
    "root.left.join_left(TreeNode(\"4\"))\n",
    "root.left.join_right(TreeNode(\"5\"))\n",
    "\n",
    "findRoots(root)"
   ]
  },
  {
   "cell_type": "markdown",
   "metadata": {},
   "source": [
    "# Retrieving the leaves"
   ]
  },
  {
   "cell_type": "code",
   "execution_count": 31,
   "metadata": {},
   "outputs": [],
   "source": [
    "def findLeaves(root:TreeNode)->[]:\n",
    "    answer = []\n",
    "    findLeavesUtil(root, answer)\n",
    "    return answer\n",
    "\n",
    "def findLeavesUtil(root:TreeNode, answer:[]) -> None:\n",
    "    if root is None:\n",
    "        return None\n",
    "    else:\n",
    "        if(root.left is None and root.right is None):\n",
    "            answer.append(root.val)\n",
    "        # left \n",
    "        findLeavesUtil(root.left, answer)\n",
    "        #right\n",
    "        findLeavesUtil(root.right, answer)\n",
    "        return None\n",
    "\n",
    "    "
   ]
  },
  {
   "cell_type": "code",
   "execution_count": 37,
   "metadata": {},
   "outputs": [
    {
     "data": {
      "text/plain": [
       "['+']"
      ]
     },
     "execution_count": 37,
     "metadata": {},
     "output_type": "execute_result"
    }
   ],
   "source": [
    "root = TreeNode(\"+\")\n",
    "findLeaves(root)"
   ]
  },
  {
   "cell_type": "code",
   "execution_count": 38,
   "metadata": {},
   "outputs": [
    {
     "data": {
      "text/plain": [
       "['x']"
      ]
     },
     "execution_count": 38,
     "metadata": {},
     "output_type": "execute_result"
    }
   ],
   "source": [
    "root = TreeNode(\"+\")\n",
    "root.join_left(TreeNode(\"x\"))\n",
    "findLeaves(root)"
   ]
  },
  {
   "cell_type": "code",
   "execution_count": 39,
   "metadata": {},
   "outputs": [
    {
     "data": {
      "text/plain": [
       "['x', 'y']"
      ]
     },
     "execution_count": 39,
     "metadata": {},
     "output_type": "execute_result"
    }
   ],
   "source": [
    "root = TreeNode(\"+\")\n",
    "root.join_left(TreeNode(\"x\"))\n",
    "root.join_right(TreeNode(\"y\"))\n",
    "findLeaves(root)"
   ]
  },
  {
   "cell_type": "markdown",
   "metadata": {},
   "source": [
    "A algebraic expression:\n",
    "$(x * 4) + (t/l)$"
   ]
  },
  {
   "cell_type": "code",
   "execution_count": 35,
   "metadata": {},
   "outputs": [
    {
     "data": {
      "text/plain": [
       "['+', '*', '/']"
      ]
     },
     "execution_count": 35,
     "metadata": {},
     "output_type": "execute_result"
    }
   ],
   "source": [
    "root = TreeNode(\"+\")\n",
    "root.left = TreeNode(\"*\")\n",
    "root.right = TreeNode(\"/\")\n",
    "root.left.join_left(TreeNode(\"x\"))\n",
    "root.left.join_right(TreeNode(\"4\"))\n",
    "root.right.join_left(TreeNode(\"t\"))\n",
    "root.right.join_right(TreeNode(\"l\"))\n",
    "\n",
    "findLeaves(root)"
   ]
  },
  {
   "cell_type": "code",
   "execution_count": 40,
   "metadata": {},
   "outputs": [
    {
     "data": {
      "text/plain": [
       "['4', '5', '3']"
      ]
     },
     "execution_count": 40,
     "metadata": {},
     "output_type": "execute_result"
    }
   ],
   "source": [
    "root = TreeNode(\"1\")\n",
    "root.left = TreeNode(\"2\")\n",
    "root.right = TreeNode(\"3\")\n",
    "root.left.join_left(TreeNode(\"4\"))\n",
    "root.left.join_right(TreeNode(\"5\"))\n",
    "\n",
    "findLeaves(root)"
   ]
  },
  {
   "cell_type": "code",
   "execution_count": null,
   "metadata": {},
   "outputs": [],
   "source": []
  }
 ],
 "metadata": {
  "kernelspec": {
   "display_name": "Python 3",
   "language": "python",
   "name": "python3"
  },
  "language_info": {
   "codemirror_mode": {
    "name": "ipython",
    "version": 3
   },
   "file_extension": ".py",
   "mimetype": "text/x-python",
   "name": "python",
   "nbconvert_exporter": "python",
   "pygments_lexer": "ipython3",
   "version": "3.8.6"
  }
 },
 "nbformat": 4,
 "nbformat_minor": 4
}
