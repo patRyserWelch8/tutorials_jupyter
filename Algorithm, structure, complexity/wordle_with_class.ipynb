{
 "cells": [
  {
   "cell_type": "markdown",
   "metadata": {},
   "source": [
    "# Mimicry and Wordle with class"
   ]
  },
  {
   "cell_type": "markdown",
   "metadata": {},
   "source": [
    "Mimicry is a biology phenomenon that empowers some animals to copy their appearance so that they appears like predators or blend within their environment. For example, the colours and patterns of their outer skin or the shape of their body.\n",
    "\n",
    "Mimicry has inspired computer scientists to formulate some discrete problems to explore computations and algorithm design."
   ]
  },
  {
   "cell_type": "markdown",
   "metadata": {},
   "source": [
    "# Libraries"
   ]
  },
  {
   "cell_type": "code",
   "execution_count": 39,
   "metadata": {},
   "outputs": [],
   "source": [
    "from random import * \n",
    "from datetime import * \n",
    "import string \n",
    "import matplotlib.pyplot as plt\n",
    "import math"
   ]
  },
  {
   "cell_type": "code",
   "execution_count": 37,
   "metadata": {},
   "outputs": [
    {
     "data": {
      "text/plain": [
       "[0, 0, 0]"
      ]
     },
     "execution_count": 37,
     "metadata": {},
     "output_type": "execute_result"
    }
   ],
   "source": [
    "\n",
    "def gen_bitstring(n:int) -> list:\n",
    "    seed(datetime.now())\n",
    "    return[round(random()) for i in range(n)]\n",
    "\n",
    "gen_bitstring(3)"
   ]
  },
  {
   "cell_type": "code",
   "execution_count": 40,
   "metadata": {},
   "outputs": [
    {
     "data": {
      "text/plain": [
       "['a', 'f', 'j']"
      ]
     },
     "execution_count": 40,
     "metadata": {},
     "output_type": "execute_result"
    }
   ],
   "source": [
    "def gen_charstring(n:int) -> list:\n",
    "    seed(datetime.now())\n",
    "    return[choice(string.ascii_lowercase) for i in range(n)]\n",
    "\n",
    "gen_charstring(3)"
   ]
  },
  {
   "cell_type": "markdown",
   "metadata": {},
   "source": [
    "# Mimicry problem"
   ]
  },
  {
   "cell_type": "markdown",
   "metadata": {},
   "source": [
    "## Bit-string"
   ]
  },
  {
   "cell_type": "markdown",
   "metadata": {},
   "source": [
    "### Problem definition\n",
    "The purpose of the Mimicry problem is to imitate a pattern of bits, so that two bitstrings become identical."
   ]
  },
  {
   "cell_type": "markdown",
   "metadata": {},
   "source": [
    "### Possible data structure\n",
    " - A bit is 0 or 1.\n",
    " - a bitstring is a one-dimentional array made of bits"
   ]
  },
  {
   "cell_type": "markdown",
   "metadata": {},
   "source": [
    "### Variables\n",
    "- One prototype : A constant bitstring that is only known by the generator\n",
    "- One imitator  : A bitstring that is attempting to find the same patterns "
   ]
  },
  {
   "cell_type": "code",
   "execution_count": 3,
   "metadata": {},
   "outputs": [],
   "source": [
    "prototype: list = [0,1,0,1,0]\n",
    "imitator : list = [0,0,0,0,0]"
   ]
  },
  {
   "cell_type": "markdown",
   "metadata": {},
   "source": [
    "### How many bits are incorrectly? (the Hamming distance)"
   ]
  },
  {
   "cell_type": "markdown",
   "metadata": {},
   "source": [
    "Hamming distance : 2\n",
    "\n",
    "The bits that are the same are at position 1,3,5"
   ]
  },
  {
   "cell_type": "code",
   "execution_count": 4,
   "metadata": {},
   "outputs": [],
   "source": [
    "def find_hamming_dist(prototype: list, imitator : list) -> int:\n",
    "    \"\"\"\n",
    "    calculates number of similar bit between two bitstrings\n",
    "    \n",
    "    pre-conditions : both lists have n elements and n > 0\n",
    "    Postcondition  : Count the number of element of both strings that are the not same\n",
    "    \"\"\"\n",
    "    # find length\n",
    "    length_bitstrings: int = len(prototype)\n",
    "    indices          : list = range(0, length_bitstrings)\n",
    "    \n",
    "    # number of elements correct\n",
    "    total_incorrect = 0\n",
    "    \n",
    "    # count\n",
    "    for index in indices:\n",
    "        if prototype[index] != imitator[index]:\n",
    "            total_incorrect += 1\n",
    "            \n",
    "    return total_incorrect"
   ]
  },
  {
   "cell_type": "code",
   "execution_count": 5,
   "metadata": {},
   "outputs": [
    {
     "data": {
      "text/plain": [
       "[0, 1, 0, 1, 0]"
      ]
     },
     "execution_count": 5,
     "metadata": {},
     "output_type": "execute_result"
    }
   ],
   "source": [
    "prototype"
   ]
  },
  {
   "cell_type": "code",
   "execution_count": 6,
   "metadata": {},
   "outputs": [
    {
     "name": "stdout",
     "output_type": "stream",
     "text": [
      "case 1 met  True\n"
     ]
    }
   ],
   "source": [
    "# All correct - same as prototype\n",
    "case_1 : list = [0,1,0,1,0]\n",
    "expected_dist = 0\n",
    "test_dist     = find_hamming_dist(prototype, case_1)\n",
    "print(\"case 1 met \", test_dist == expected_dist)\n"
   ]
  },
  {
   "cell_type": "code",
   "execution_count": 7,
   "metadata": {},
   "outputs": [
    {
     "name": "stdout",
     "output_type": "stream",
     "text": [
      "case 2 met  True\n"
     ]
    }
   ],
   "source": [
    "# All incorrect - all different as prototype\n",
    "case_2 : list = [1,0,1,0,1]\n",
    "expected_dist = 5\n",
    "test_dist     = find_hamming_dist(prototype, case_2)\n",
    "print(\"case 2 met \", test_dist == expected_dist)"
   ]
  },
  {
   "cell_type": "code",
   "execution_count": 8,
   "metadata": {},
   "outputs": [
    {
     "name": "stdout",
     "output_type": "stream",
     "text": [
      "case 3 met  True\n"
     ]
    }
   ],
   "source": [
    "# some different bits - the first element\n",
    "case_3 : list = [1,1,0,1,0]\n",
    "expected_dist = 1\n",
    "test_dist     = find_hamming_dist(prototype, case_3)\n",
    "print(\"case 3 met \", test_dist == expected_dist)"
   ]
  },
  {
   "cell_type": "code",
   "execution_count": 9,
   "metadata": {},
   "outputs": [
    {
     "name": "stdout",
     "output_type": "stream",
     "text": [
      "case 4 met  True\n"
     ]
    }
   ],
   "source": [
    "# some different bits - the last element\n",
    "case_4 : list = [0,1,0,1,1]\n",
    "expected_dist = 1\n",
    "test_dist     = find_hamming_dist(prototype, case_4)\n",
    "print(\"case 4 met \", test_dist == expected_dist)"
   ]
  },
  {
   "cell_type": "code",
   "execution_count": 10,
   "metadata": {},
   "outputs": [
    {
     "name": "stdout",
     "output_type": "stream",
     "text": [
      "case 5 met  True\n"
     ]
    }
   ],
   "source": [
    "# some different bits - two bits incorrect in the middle\n",
    "case_5 : list = [0,0,1,1,0]\n",
    "expected_dist = 2\n",
    "test_dist     = find_hamming_dist(prototype, case_5)\n",
    "print(\"case 5 met \", test_dist == expected_dist)"
   ]
  },
  {
   "cell_type": "markdown",
   "metadata": {},
   "source": [
    "### Let's test with some randomly generated list\n"
   ]
  },
  {
   "cell_type": "code",
   "execution_count": 11,
   "metadata": {},
   "outputs": [
    {
     "name": "stdout",
     "output_type": "stream",
     "text": [
      "CPU times: user 91 µs, sys: 36 µs, total: 127 µs\n",
      "Wall time: 137 µs\n"
     ]
    },
    {
     "data": {
      "text/plain": [
       "7"
      ]
     },
     "execution_count": 11,
     "metadata": {},
     "output_type": "execute_result"
    }
   ],
   "source": [
    "%%time\n",
    "n = 10\n",
    "prototype = gen_bitstring(n)\n",
    "imitator  = gen_bitstring(n)\n",
    "find_hamming_dist(prototype, imitator)\n"
   ]
  },
  {
   "cell_type": "code",
   "execution_count": 12,
   "metadata": {},
   "outputs": [
    {
     "name": "stdout",
     "output_type": "stream",
     "text": [
      "CPU times: user 90 µs, sys: 36 µs, total: 126 µs\n",
      "Wall time: 132 µs\n"
     ]
    },
    {
     "data": {
      "text/plain": [
       "52"
      ]
     },
     "execution_count": 12,
     "metadata": {},
     "output_type": "execute_result"
    }
   ],
   "source": [
    "%%time\n",
    "n = 100\n",
    "prototype = gen_bitstring(n)\n",
    "imitator  = gen_bitstring(n)\n",
    "find_hamming_dist(prototype, imitator)\n"
   ]
  },
  {
   "cell_type": "markdown",
   "metadata": {},
   "source": [
    "### Test the Hamming distance"
   ]
  },
  {
   "cell_type": "code",
   "execution_count": 13,
   "metadata": {},
   "outputs": [
    {
     "name": "stdout",
     "output_type": "stream",
     "text": [
      "CPU times: user 988 µs, sys: 0 ns, total: 988 µs\n",
      "Wall time: 1 ms\n"
     ]
    },
    {
     "data": {
      "text/plain": [
       "492"
      ]
     },
     "execution_count": 13,
     "metadata": {},
     "output_type": "execute_result"
    }
   ],
   "source": [
    "%%time\n",
    "n = 1000\n",
    "prototype = gen_bitstring(n)\n",
    "imitator  = gen_bitstring(n)\n",
    "find_hamming_dist(prototype, imitator)\n"
   ]
  },
  {
   "cell_type": "code",
   "execution_count": 14,
   "metadata": {},
   "outputs": [
    {
     "name": "stdout",
     "output_type": "stream",
     "text": [
      "CPU times: user 9.02 ms, sys: 0 ns, total: 9.02 ms\n",
      "Wall time: 8.85 ms\n"
     ]
    },
    {
     "data": {
      "text/plain": [
       "5072"
      ]
     },
     "execution_count": 14,
     "metadata": {},
     "output_type": "execute_result"
    }
   ],
   "source": [
    "%%time\n",
    "n = 10000\n",
    "prototype = gen_bitstring(n)\n",
    "imitator  = gen_bitstring(n)\n",
    "find_hamming_dist(prototype, imitator)\n"
   ]
  },
  {
   "cell_type": "code",
   "execution_count": 15,
   "metadata": {},
   "outputs": [
    {
     "name": "stdout",
     "output_type": "stream",
     "text": [
      "CPU times: user 41.3 ms, sys: 2.02 ms, total: 43.4 ms\n",
      "Wall time: 42.7 ms\n"
     ]
    },
    {
     "data": {
      "text/plain": [
       "50178"
      ]
     },
     "execution_count": 15,
     "metadata": {},
     "output_type": "execute_result"
    }
   ],
   "source": [
    "%%time\n",
    "n = int(1e5)\n",
    "prototype = gen_bitstring(n)\n",
    "imitator  = gen_bitstring(n)\n",
    "find_hamming_dist(prototype, imitator)\n"
   ]
  },
  {
   "cell_type": "code",
   "execution_count": 16,
   "metadata": {},
   "outputs": [
    {
     "name": "stdout",
     "output_type": "stream",
     "text": [
      "CPU times: user 403 ms, sys: 46.1 ms, total: 449 ms\n",
      "Wall time: 464 ms\n"
     ]
    },
    {
     "data": {
      "text/plain": [
       "500455"
      ]
     },
     "execution_count": 16,
     "metadata": {},
     "output_type": "execute_result"
    }
   ],
   "source": [
    "%%time\n",
    "n = int(1e6)\n",
    "prototype = gen_bitstring(n)\n",
    "imitator  = gen_bitstring(n)\n",
    "find_hamming_dist(prototype, imitator)\n"
   ]
  },
  {
   "cell_type": "code",
   "execution_count": 17,
   "metadata": {},
   "outputs": [
    {
     "name": "stdout",
     "output_type": "stream",
     "text": [
      "CPU times: user 3.72 s, sys: 240 ms, total: 3.96 s\n",
      "Wall time: 3.99 s\n"
     ]
    },
    {
     "data": {
      "text/plain": [
       "5000614"
      ]
     },
     "execution_count": 17,
     "metadata": {},
     "output_type": "execute_result"
    }
   ],
   "source": [
    "%%time\n",
    "n = int(1e7)\n",
    "prototype = gen_bitstring(n)\n",
    "imitator  = gen_bitstring(n)\n",
    "find_hamming_dist(prototype, imitator)\n"
   ]
  },
  {
   "cell_type": "markdown",
   "metadata": {},
   "source": [
    "### Complexity\n",
    "\n",
    "n <-- length of bitstring\n",
    "\n",
    "__Initialisation of variables:__ 2n + 1\n",
    " \n",
    "    length_bitstrings: int = len(prototype)\n",
    "\n",
    "Counting the element of a one-dimentional array is n the number of elements.\n",
    "\n",
    "    indices          : list = range(0, length_bitstrings)\n",
    "    \n",
    " Generating a one-dimensional array is also linear with the length of the elementso it is too.\n",
    " \n",
    "    total_incorrect = 0\n",
    "\n",
    "it is constant: 1\n",
    "\n",
    "__Iteration:__ 2n\n",
    "\n",
    "\n",
    "    for index in indices:\n",
    "        if prototype[index] == imitator[index]:\n",
    "            total_correct += 1\n",
    "            \n",
    "1. _Iterating through each indices:_\n",
    "        - bitstring of length 1 --> 1\n",
    "        - bitstring of length > 1 --> n > 1 and n == length(bit_string)\n",
    "    So we assume it n\n",
    "\n",
    "2. _Comparison:_\n",
    "        - One count for each iteration. \n",
    "    So we assume n\n",
    "3. _sum:_\n",
    "    - minimum: if no element are the same   --> length of the bit string\n",
    "    - maximum: if all elements are the same --> 0\n",
    "    So we assume it is in the range [0,n]\n",
    "    \n",
    "__Big theta__\n",
    "It is linear. As n increases, the complexity increase constantly.\n",
    "\n",
    "$\\theta(min: 4n + 1, max: 5n + 1)$"
   ]
  },
  {
   "cell_type": "code",
   "execution_count": 18,
   "metadata": {},
   "outputs": [
    {
     "data": {
      "image/png": "[encoded data removed]",
      "text/plain": [
       "<Figure size 432x288 with 1 Axes>"
      ]
     },
     "metadata": {
      "needs_background": "light"
     },
     "output_type": "display_data"
    }
   ],
   "source": [
    "n    :list = [i   for i in range(1,101,1)]\n",
    "min_y:list = [4*i + 1 for i in range(1,101,1)]\n",
    "max_y:list = [5*i + 1 for i in range(1,101,1)]    \n",
    "plt.plot(n,min_y)\n",
    "plt.plot(n,max_y)\n",
    "plt.xlabel(\"bitstring length (unit)\")\n",
    "plt.ylabel(\"complexity\")\n",
    "plt.legend([\"theta min\", \"theta max\"])\n",
    "plt.show()"
   ]
  },
  {
   "cell_type": "markdown",
   "metadata": {},
   "source": [
    "### Hamming distance version 2"
   ]
  },
  {
   "cell_type": "code",
   "execution_count": 19,
   "metadata": {},
   "outputs": [],
   "source": [
    "def find_hamming_dist(prototype: list, imitator : list) -> int:\n",
    "    \"\"\"\n",
    "    calculates number of similar bit between two bitstrings\n",
    "    \n",
    "    pre-conditions : both lists have n elements and n > 0\n",
    "    Postcondition  : Count the number of element of both strings that are the same\n",
    "    \"\"\"\n",
    "    # find length\n",
    "    length_bitstrings: int = len(prototype)\n",
    "    indices          : list = range(0, length_bitstrings)\n",
    "    \n",
    "    # number of elements correct\n",
    "    total_incorrect = 0\n",
    "    \n",
    "    # count\n",
    "    for index in indices:\n",
    "        total_incorrect += abs(prototype[index] - imitator[index])\n",
    "            \n",
    "    return total_incorrect"
   ]
  },
  {
   "cell_type": "markdown",
   "metadata": {},
   "source": [
    "### Testing "
   ]
  },
  {
   "cell_type": "code",
   "execution_count": 20,
   "metadata": {},
   "outputs": [],
   "source": [
    "prototype: list = [0,1,0,1,0]\n",
    "imitator : list = [0,0,0,0,0]"
   ]
  },
  {
   "cell_type": "code",
   "execution_count": 21,
   "metadata": {},
   "outputs": [
    {
     "data": {
      "text/plain": [
       "[0, 1, 0, 1, 0]"
      ]
     },
     "execution_count": 21,
     "metadata": {},
     "output_type": "execute_result"
    }
   ],
   "source": [
    "prototype"
   ]
  },
  {
   "cell_type": "code",
   "execution_count": 22,
   "metadata": {},
   "outputs": [
    {
     "name": "stdout",
     "output_type": "stream",
     "text": [
      "case 1 met  True\n"
     ]
    }
   ],
   "source": [
    "# All correct - same as prototype\n",
    "case_1 : list = [0,1,0,1,0]\n",
    "expected_dist = 0\n",
    "test_dist     = find_hamming_dist(prototype, case_1)\n",
    "print(\"case 1 met \", test_dist == expected_dist)\n"
   ]
  },
  {
   "cell_type": "code",
   "execution_count": 23,
   "metadata": {},
   "outputs": [
    {
     "name": "stdout",
     "output_type": "stream",
     "text": [
      "case 2 met  True\n"
     ]
    }
   ],
   "source": [
    "# All incorrect - all different as prototype\n",
    "case_2 : list = [1,0,1,0,1]\n",
    "expected_dist = 5\n",
    "test_dist     = find_hamming_dist(prototype, case_2)\n",
    "print(\"case 2 met \", test_dist == expected_dist)"
   ]
  },
  {
   "cell_type": "code",
   "execution_count": 24,
   "metadata": {},
   "outputs": [
    {
     "name": "stdout",
     "output_type": "stream",
     "text": [
      "case 3 met  True\n"
     ]
    }
   ],
   "source": [
    "# some different bits - the first element\n",
    "case_3 : list = [1,1,0,1,0]\n",
    "expected_dist = 1\n",
    "test_dist     = find_hamming_dist(prototype, case_3)\n",
    "print(\"case 3 met \", test_dist == expected_dist)"
   ]
  },
  {
   "cell_type": "code",
   "execution_count": 25,
   "metadata": {},
   "outputs": [
    {
     "name": "stdout",
     "output_type": "stream",
     "text": [
      "case 4 met  True\n"
     ]
    }
   ],
   "source": [
    "# some different bits - the last element\n",
    "case_4 : list = [0,1,0,1,1]\n",
    "expected_dist = 1\n",
    "test_dist     = find_hamming_dist(prototype, case_4)\n",
    "print(\"case 4 met \", test_dist == expected_dist)"
   ]
  },
  {
   "cell_type": "code",
   "execution_count": 26,
   "metadata": {},
   "outputs": [
    {
     "name": "stdout",
     "output_type": "stream",
     "text": [
      "case 5 met  True\n"
     ]
    }
   ],
   "source": [
    "# some different bits - two bits incorrect in the middle\n",
    "case_5 : list = [0,0,1,1,0]\n",
    "expected_dist = 2\n",
    "test_dist     = find_hamming_dist(prototype, case_5)\n",
    "print(\"case 5 met \", test_dist == expected_dist)"
   ]
  },
  {
   "cell_type": "markdown",
   "metadata": {},
   "source": [
    "### Let's test with some randomly generated list\n"
   ]
  },
  {
   "cell_type": "code",
   "execution_count": 27,
   "metadata": {},
   "outputs": [
    {
     "name": "stdout",
     "output_type": "stream",
     "text": [
      "CPU times: user 158 µs, sys: 19 µs, total: 177 µs\n",
      "Wall time: 187 µs\n"
     ]
    },
    {
     "data": {
      "text/plain": [
       "4"
      ]
     },
     "execution_count": 27,
     "metadata": {},
     "output_type": "execute_result"
    }
   ],
   "source": [
    "%%time\n",
    "n = 10\n",
    "prototype = gen_bitstring(n)\n",
    "imitator  = gen_bitstring(n)\n",
    "find_hamming_dist(prototype, imitator)\n"
   ]
  },
  {
   "cell_type": "code",
   "execution_count": 28,
   "metadata": {},
   "outputs": [
    {
     "name": "stdout",
     "output_type": "stream",
     "text": [
      "CPU times: user 261 µs, sys: 0 ns, total: 261 µs\n",
      "Wall time: 294 µs\n"
     ]
    },
    {
     "data": {
      "text/plain": [
       "56"
      ]
     },
     "execution_count": 28,
     "metadata": {},
     "output_type": "execute_result"
    }
   ],
   "source": [
    "%%time\n",
    "n = 100\n",
    "prototype = gen_bitstring(n)\n",
    "imitator  = gen_bitstring(n)\n",
    "find_hamming_dist(prototype, imitator)\n"
   ]
  },
  {
   "cell_type": "markdown",
   "metadata": {},
   "source": [
    "### Test the Hamming distance"
   ]
  },
  {
   "cell_type": "code",
   "execution_count": 29,
   "metadata": {},
   "outputs": [
    {
     "name": "stdout",
     "output_type": "stream",
     "text": [
      "CPU times: user 1.33 ms, sys: 0 ns, total: 1.33 ms\n",
      "Wall time: 1.35 ms\n"
     ]
    },
    {
     "data": {
      "text/plain": [
       "503"
      ]
     },
     "execution_count": 29,
     "metadata": {},
     "output_type": "execute_result"
    }
   ],
   "source": [
    "%%time\n",
    "n = 1000\n",
    "prototype = gen_bitstring(n)\n",
    "imitator  = gen_bitstring(n)\n",
    "find_hamming_dist(prototype, imitator)\n"
   ]
  },
  {
   "cell_type": "code",
   "execution_count": 30,
   "metadata": {},
   "outputs": [
    {
     "name": "stdout",
     "output_type": "stream",
     "text": [
      "CPU times: user 10.1 ms, sys: 14 µs, total: 10.1 ms\n",
      "Wall time: 9.88 ms\n"
     ]
    },
    {
     "data": {
      "text/plain": [
       "4979"
      ]
     },
     "execution_count": 30,
     "metadata": {},
     "output_type": "execute_result"
    }
   ],
   "source": [
    "%%time\n",
    "n = 10000\n",
    "prototype = gen_bitstring(n)\n",
    "imitator  = gen_bitstring(n)\n",
    "find_hamming_dist(prototype, imitator)\n"
   ]
  },
  {
   "cell_type": "code",
   "execution_count": 31,
   "metadata": {},
   "outputs": [
    {
     "name": "stdout",
     "output_type": "stream",
     "text": [
      "CPU times: user 51.4 ms, sys: 939 µs, total: 52.3 ms\n",
      "Wall time: 51.8 ms\n"
     ]
    },
    {
     "data": {
      "text/plain": [
       "49733"
      ]
     },
     "execution_count": 31,
     "metadata": {},
     "output_type": "execute_result"
    }
   ],
   "source": [
    "%%time\n",
    "n = int(1e5)\n",
    "prototype = gen_bitstring(n)\n",
    "imitator  = gen_bitstring(n)\n",
    "find_hamming_dist(prototype, imitator)\n"
   ]
  },
  {
   "cell_type": "code",
   "execution_count": 32,
   "metadata": {},
   "outputs": [
    {
     "name": "stdout",
     "output_type": "stream",
     "text": [
      "CPU times: user 432 ms, sys: 21.8 ms, total: 453 ms\n",
      "Wall time: 463 ms\n"
     ]
    },
    {
     "data": {
      "text/plain": [
       "499880"
      ]
     },
     "execution_count": 32,
     "metadata": {},
     "output_type": "execute_result"
    }
   ],
   "source": [
    "%%time\n",
    "n = int(1e6)\n",
    "prototype = gen_bitstring(n)\n",
    "imitator  = gen_bitstring(n)\n",
    "find_hamming_dist(prototype, imitator)\n"
   ]
  },
  {
   "cell_type": "code",
   "execution_count": 33,
   "metadata": {},
   "outputs": [
    {
     "name": "stdout",
     "output_type": "stream",
     "text": [
      "CPU times: user 4.24 s, sys: 255 ms, total: 4.5 s\n",
      "Wall time: 4.53 s\n"
     ]
    },
    {
     "data": {
      "text/plain": [
       "4996080"
      ]
     },
     "execution_count": 33,
     "metadata": {},
     "output_type": "execute_result"
    }
   ],
   "source": [
    "%%time\n",
    "n = int(1e7)\n",
    "prototype = gen_bitstring(n)\n",
    "imitator  = gen_bitstring(n)\n",
    "find_hamming_dist(prototype, imitator)\n"
   ]
  },
  {
   "cell_type": "code",
   "execution_count": null,
   "metadata": {},
   "outputs": [],
   "source": []
  },
  {
   "cell_type": "markdown",
   "metadata": {},
   "source": [
    "### Complexity\n",
    "\n",
    "n <-- length of bitstring\n",
    "\n",
    "__Initialisation of variables:__ 2n + 1\n",
    " \n",
    "    length_bitstrings: int = len(prototype)\n",
    "\n",
    "Counting the element of a one-dimentional array is n the number of elements.\n",
    "\n",
    "    indices          : list = range(0, length_bitstrings)\n",
    "    \n",
    " Generating a one-dimensional array is also linear with the length of the elementso it is too.\n",
    " \n",
    "    total_incorrect = 0\n",
    "\n",
    "it is constant: 1\n",
    "\n",
    "__Iteration:__ 4n\n",
    "\n",
    "\n",
    "    for index in indices:\n",
    "        if prototype[index] == imitator[index]:\n",
    "            total_correct += 1\n",
    "            \n",
    "1. _Iterating through each indices:_\n",
    "        - bitstring of length 1 --> 1\n",
    "        - bitstring of length > 1 --> n > 1 and n == length(bit_string)\n",
    "    So we assume it n\n",
    "\n",
    "3. _sum:_\n",
    "    - difference: one for each element --> n\n",
    "    - absolution value: one for each element --> n\n",
    "    - sum: one for each element --> n\n",
    "   So we assume 3n\n",
    "    \n",
    "__Big theta__\n",
    "It is linear. As n increases, the complexity increase constantly.\n",
    "\n",
    "$\\theta(min: 6n + 1, max: 6n + 1)$"
   ]
  },
  {
   "cell_type": "code",
   "execution_count": 34,
   "metadata": {},
   "outputs": [
    {
     "data": {
      "image/png": "[encoded data removed]",
      "text/plain": [
       "<Figure size 432x288 with 1 Axes>"
      ]
     },
     "metadata": {
      "needs_background": "light"
     },
     "output_type": "display_data"
    }
   ],
   "source": [
    "n    :list = [i   for i in range(1,101,1)]\n",
    "min_y:list = [6*i + 1 for i in range(1,101,1)]\n",
    "max_y:list = [6*i + 1 for i in range(1,101,1)]    \n",
    "plt.plot(n,min_y, linestyle = 'dashed')\n",
    "plt.plot(n,max_y, linestyle = 'dotted')\n",
    "plt.xlabel(\"bitstring length (unit)\")\n",
    "plt.ylabel(\"complexity\")\n",
    "plt.legend([\"theta min\", \"theta max\"])\n",
    "plt.show()"
   ]
  },
  {
   "cell_type": "markdown",
   "metadata": {},
   "source": [
    "## character string - Wordle inspired example"
   ]
  },
  {
   "cell_type": "markdown",
   "metadata": {},
   "source": [
    "### Problem definition\n",
    "The purpose of the wordle is to guess a word from given clue, so that a imitator word imitates a pattern of characters, so that two character strings become identical."
   ]
  },
  {
   "cell_type": "markdown",
   "metadata": {},
   "source": [
    "### Possible data structure\n",
    " - A lower case is represented with ASCII values in the range between 97 to 122\n",
    " - a charstring is a one-dimentional array made of lower cases"
   ]
  },
  {
   "cell_type": "markdown",
   "metadata": {},
   "source": [
    "### Variables\n",
    "- One prototype : A constant character string that is only known by the generator\n",
    "- One imitator  : A character string that is attempting to find the same patternS "
   ]
  },
  {
   "cell_type": "code",
   "execution_count": 41,
   "metadata": {},
   "outputs": [],
   "source": [
    "prototype: list = ['a','s','c','i','i']\n",
    "imitator : list = ['b','t','d','j','j']"
   ]
  },
  {
   "cell_type": "markdown",
   "metadata": {},
   "source": [
    "### How many characters are incorrect? (the Hamming distance)"
   ]
  },
  {
   "cell_type": "markdown",
   "metadata": {},
   "source": [
    "Hamming distance : 5\n"
   ]
  },
  {
   "cell_type": "code",
   "execution_count": 42,
   "metadata": {},
   "outputs": [],
   "source": [
    "def find_hamming_dist(prototype: list, imitator : list) -> int:\n",
    "    \"\"\"\n",
    "    calculates number of similar bit between two bitstrings\n",
    "    \n",
    "    pre-conditions : both lists have n elements and n > 0\n",
    "    Postcondition  : Count the number of element of both strings that are the not same\n",
    "    \"\"\"\n",
    "    # find length\n",
    "    length_bitstrings: int = len(prototype)\n",
    "    indices          : list = range(0, length_bitstrings)\n",
    "    \n",
    "    # number of elements correct\n",
    "    total_incorrect = 0\n",
    "    \n",
    "    # count\n",
    "    for index in indices:\n",
    "        if prototype[index] != imitator[index]:\n",
    "            total_incorrect += 1\n",
    "            \n",
    "    return total_incorrect"
   ]
  },
  {
   "cell_type": "code",
   "execution_count": 46,
   "metadata": {},
   "outputs": [
    {
     "data": {
      "text/plain": [
       "['a', 's', 'c', 'i', 'i']"
      ]
     },
     "execution_count": 46,
     "metadata": {},
     "output_type": "execute_result"
    }
   ],
   "source": [
    "prototype"
   ]
  },
  {
   "cell_type": "code",
   "execution_count": 44,
   "metadata": {},
   "outputs": [
    {
     "name": "stdout",
     "output_type": "stream",
     "text": [
      "case 1 met  True\n"
     ]
    }
   ],
   "source": [
    "# All correct - same as prototype\n",
    "case_1 : list = ['a','s','c','i','i']\n",
    "expected_dist = 0\n",
    "test_dist     = find_hamming_dist(prototype, case_1)\n",
    "print(\"case 1 met \", test_dist == expected_dist)\n"
   ]
  },
  {
   "cell_type": "code",
   "execution_count": 47,
   "metadata": {},
   "outputs": [
    {
     "name": "stdout",
     "output_type": "stream",
     "text": [
      "case 2 met  True\n"
     ]
    }
   ],
   "source": [
    "# All incorrect - all different as prototype\n",
    "case_2 : list = ['b','t','d','j','j']\n",
    "expected_dist = 5\n",
    "test_dist     = find_hamming_dist(prototype, case_2)\n",
    "print(\"case 2 met \", test_dist == expected_dist)"
   ]
  },
  {
   "cell_type": "code",
   "execution_count": 8,
   "metadata": {},
   "outputs": [
    {
     "name": "stdout",
     "output_type": "stream",
     "text": [
      "case 3 met  True\n"
     ]
    }
   ],
   "source": [
    "# some different bits - the first element\n",
    "case_3 : list = ['e','s','c','i','i']\n",
    "expected_dist = 1\n",
    "test_dist     = find_hamming_dist(prototype, case_3)\n",
    "print(\"case 3 met \", test_dist == expected_dist)"
   ]
  },
  {
   "cell_type": "code",
   "execution_count": 9,
   "metadata": {},
   "outputs": [
    {
     "name": "stdout",
     "output_type": "stream",
     "text": [
      "case 4 met  True\n"
     ]
    }
   ],
   "source": [
    "# some different bits - the last element\n",
    "case_4 : list = ['a','s','c','i','e']\n",
    "expected_dist = 1\n",
    "test_dist     = find_hamming_dist(prototype, case_4)\n",
    "print(\"case 4 met \", test_dist == expected_dist)"
   ]
  },
  {
   "cell_type": "code",
   "execution_count": 49,
   "metadata": {},
   "outputs": [
    {
     "name": "stdout",
     "output_type": "stream",
     "text": [
      "case 5 met  True\n"
     ]
    }
   ],
   "source": [
    "# some different bits - two bits incorrect in the middle\n",
    "case_5 : list = ['a','e','l','i','i']\n",
    "expected_dist = 2\n",
    "test_dist     = find_hamming_dist(prototype, case_5)\n",
    "print(\"case 5 met \", test_dist == expected_dist)"
   ]
  },
  {
   "cell_type": "markdown",
   "metadata": {},
   "source": [
    "### Let's test with some randomly generated list\n"
   ]
  },
  {
   "cell_type": "code",
   "execution_count": 50,
   "metadata": {},
   "outputs": [
    {
     "name": "stdout",
     "output_type": "stream",
     "text": [
      "CPU times: user 153 µs, sys: 16 µs, total: 169 µs\n",
      "Wall time: 179 µs\n"
     ]
    },
    {
     "data": {
      "text/plain": [
       "9"
      ]
     },
     "execution_count": 50,
     "metadata": {},
     "output_type": "execute_result"
    }
   ],
   "source": [
    "%%time\n",
    "n = 10\n",
    "prototype = gen_charstring(n)\n",
    "imitator  = gen_charstring(n)\n",
    "find_hamming_dist(prototype, imitator)\n"
   ]
  },
  {
   "cell_type": "code",
   "execution_count": 51,
   "metadata": {},
   "outputs": [
    {
     "name": "stdout",
     "output_type": "stream",
     "text": [
      "CPU times: user 410 µs, sys: 0 ns, total: 410 µs\n",
      "Wall time: 421 µs\n"
     ]
    },
    {
     "data": {
      "text/plain": [
       "94"
      ]
     },
     "execution_count": 51,
     "metadata": {},
     "output_type": "execute_result"
    }
   ],
   "source": [
    "%%time\n",
    "n = 100\n",
    "prototype = gen_charstring(n)\n",
    "imitator  = gen_charstring(n)\n",
    "find_hamming_dist(prototype, imitator)\n"
   ]
  },
  {
   "cell_type": "markdown",
   "metadata": {},
   "source": [
    "### Test the Hamming distance"
   ]
  },
  {
   "cell_type": "code",
   "execution_count": 52,
   "metadata": {},
   "outputs": [
    {
     "name": "stdout",
     "output_type": "stream",
     "text": [
      "CPU times: user 3.35 ms, sys: 0 ns, total: 3.35 ms\n",
      "Wall time: 3.22 ms\n"
     ]
    },
    {
     "data": {
      "text/plain": [
       "963"
      ]
     },
     "execution_count": 52,
     "metadata": {},
     "output_type": "execute_result"
    }
   ],
   "source": [
    "%%time\n",
    "n = 1000\n",
    "prototype = gen_charstring(n)\n",
    "imitator  = gen_charstring(n)\n",
    "find_hamming_dist(prototype, imitator)\n"
   ]
  },
  {
   "cell_type": "code",
   "execution_count": 53,
   "metadata": {},
   "outputs": [
    {
     "name": "stdout",
     "output_type": "stream",
     "text": [
      "CPU times: user 13.6 ms, sys: 963 µs, total: 14.5 ms\n",
      "Wall time: 14 ms\n"
     ]
    },
    {
     "data": {
      "text/plain": [
       "9605"
      ]
     },
     "execution_count": 53,
     "metadata": {},
     "output_type": "execute_result"
    }
   ],
   "source": [
    "%%time\n",
    "n = 10000\n",
    "prototype = gen_charstring(n)\n",
    "imitator  = gen_charstring(n)\n",
    "find_hamming_dist(prototype, imitator)\n"
   ]
  },
  {
   "cell_type": "code",
   "execution_count": 54,
   "metadata": {},
   "outputs": [
    {
     "name": "stdout",
     "output_type": "stream",
     "text": [
      "CPU times: user 91.8 ms, sys: 2.07 ms, total: 93.9 ms\n",
      "Wall time: 92.7 ms\n"
     ]
    },
    {
     "data": {
      "text/plain": [
       "96082"
      ]
     },
     "execution_count": 54,
     "metadata": {},
     "output_type": "execute_result"
    }
   ],
   "source": [
    "%%time\n",
    "n = int(1e5)\n",
    "prototype = gen_charstring(n)\n",
    "imitator  = gen_charstring(n)\n",
    "find_hamming_dist(prototype, imitator)\n"
   ]
  },
  {
   "cell_type": "code",
   "execution_count": 55,
   "metadata": {},
   "outputs": [
    {
     "name": "stdout",
     "output_type": "stream",
     "text": [
      "CPU times: user 882 ms, sys: 8.59 ms, total: 890 ms\n",
      "Wall time: 892 ms\n"
     ]
    },
    {
     "data": {
      "text/plain": [
       "960983"
      ]
     },
     "execution_count": 55,
     "metadata": {},
     "output_type": "execute_result"
    }
   ],
   "source": [
    "%%time\n",
    "n = int(1e6)\n",
    "prototype = gen_charstring(n)\n",
    "imitator  = gen_charstring(n)\n",
    "find_hamming_dist(prototype, imitator)\n"
   ]
  },
  {
   "cell_type": "code",
   "execution_count": 56,
   "metadata": {},
   "outputs": [
    {
     "name": "stdout",
     "output_type": "stream",
     "text": [
      "CPU times: user 8.77 s, sys: 121 ms, total: 8.89 s\n",
      "Wall time: 8.92 s\n"
     ]
    },
    {
     "data": {
      "text/plain": [
       "9615534"
      ]
     },
     "execution_count": 56,
     "metadata": {},
     "output_type": "execute_result"
    }
   ],
   "source": [
    "%%time\n",
    "n = int(1e7)\n",
    "prototype = gen_charstring(n)\n",
    "imitator  = gen_charstring(n)\n",
    "find_hamming_dist(prototype, imitator)\n"
   ]
  },
  {
   "cell_type": "markdown",
   "metadata": {},
   "source": [
    "### Complexity\n",
    "\n",
    "n <-- length of bitstring\n",
    "\n",
    "__Initialisation of variables:__ 2n + 1\n",
    " \n",
    "    length_bitstrings: int = len(prototype)\n",
    "\n",
    "Counting the element of a one-dimentional array is n the number of elements.\n",
    "\n",
    "    indices          : list = range(0, length_bitstrings)\n",
    "    \n",
    " Generating a one-dimensional array is also linear with the length of the elementso it is too.\n",
    " \n",
    "    total_incorrect = 0\n",
    "\n",
    "it is constant: 1\n",
    "\n",
    "__Iteration:__ 2n\n",
    "\n",
    "\n",
    "    for index in indices:\n",
    "        if prototype[index] == imitator[index]:\n",
    "            total_correct += 1\n",
    "            \n",
    "1. _Iterating through each indices:_\n",
    "        - bitstring of length 1 --> 1\n",
    "        - bitstring of length > 1 --> n > 1 and n == length(bit_string)\n",
    "    So we assume it n\n",
    "\n",
    "2. _Comparison:_\n",
    "        - One count for each iteration. \n",
    "    So we assume n\n",
    "3. _sum:_\n",
    "    - minimum: if no element are the same   --> length of the bit string\n",
    "    - maximum: if all elements are the same --> 0\n",
    "    So we assume it is in the range [0,n]\n",
    "    \n",
    "__Big theta__\n",
    "It is linear. As n increases, the complexity increase constantly.\n",
    "\n",
    "$\\theta(min: 4n + 1, max: 5n + 1)$"
   ]
  },
  {
   "cell_type": "code",
   "execution_count": 58,
   "metadata": {},
   "outputs": [
    {
     "data": {
      "image/png": "[encoded data removed]",
      "text/plain": [
       "<Figure size 432x288 with 1 Axes>"
      ]
     },
     "metadata": {
      "needs_background": "light"
     },
     "output_type": "display_data"
    }
   ],
   "source": [
    "n    :list = [i   for i in range(1,101,1)]\n",
    "min_y:list = [4*i + 1 for i in range(1,101,1)]\n",
    "max_y:list = [5*i + 1 for i in range(1,101,1)]    \n",
    "plt.plot(n,min_y)\n",
    "plt.plot(n,max_y)\n",
    "plt.xlabel(\"bitstring length (unit)\")\n",
    "plt.ylabel(\"complexity\")\n",
    "plt.legend([\"theta min\", \"theta max\"])\n",
    "plt.show()"
   ]
  },
  {
   "cell_type": "markdown",
   "metadata": {},
   "source": [
    "### Wordle - How many letters did I get right?"
   ]
  },
  {
   "cell_type": "markdown",
   "metadata": {},
   "source": [
    "We use the most efficient Hamming distance algorithm "
   ]
  },
  {
   "cell_type": "code",
   "execution_count": 5,
   "metadata": {},
   "outputs": [],
   "source": [
    "def find_hamming_dist(prototype: list, imitator : list) -> int:\n",
    "    \"\"\"\n",
    "    calculates number of similar bit between two bitstrings\n",
    "    \n",
    "    pre-conditions : both lists have n elements and n > 0\n",
    "    Postcondition  : Count the number of element of both strings that are the not same\n",
    "    \"\"\"\n",
    "    # find length\n",
    "    length_bitstrings: int = len(prototype)\n",
    "    indices          : list = range(0, length_bitstrings)\n",
    "    \n",
    "    # number of elements correct\n",
    "    total_incorrect = 0\n",
    "    \n",
    "    # count\n",
    "    for index in indices:\n",
    "        if prototype[index] != imitator[index]:\n",
    "            total_incorrect += 1\n",
    "            \n",
    "    return total_incorrect"
   ]
  },
  {
   "cell_type": "code",
   "execution_count": 6,
   "metadata": {},
   "outputs": [],
   "source": [
    "def count_correct_letters(prototype: list, imitator : list) -> int:\n",
    "    \"\"\"\n",
    "    Identify the number of correct characters using the Hamming distance\n",
    "    pre-conditions : both lists have n elements and n > 0\n",
    "    Postcondition  : Count the number of element of both strings that are the same\n",
    "    \"\"\"\n",
    "    return len(prototype) - find_hamming_dist(prototype, imitator)"
   ]
  },
  {
   "cell_type": "code",
   "execution_count": 8,
   "metadata": {},
   "outputs": [
    {
     "name": "stdout",
     "output_type": "stream",
     "text": [
      "number of correct letters:  4\n"
     ]
    }
   ],
   "source": [
    "hidden_word  = ['h','a','p','p','y']\n",
    "guessed_word = ['h','i','p','p','y']\n",
    "print(\"number of correct letters: \",\n",
    "      count_correct_letters(hidden_word, guessed_word))"
   ]
  },
  {
   "cell_type": "markdown",
   "metadata": {},
   "source": [
    "## Wordle - which letters are correctly chosen?\n"
   ]
  },
  {
   "cell_type": "markdown",
   "metadata": {},
   "source": [
    "Transform the list into a sets. Remember sets have no duplicated values and are ordered. Then identify correct letters using the _intersection_ operator. "
   ]
  },
  {
   "cell_type": "code",
   "execution_count": 9,
   "metadata": {},
   "outputs": [
    {
     "data": {
      "text/plain": [
       "{'a', 'h', 'p', 'y'}"
      ]
     },
     "execution_count": 9,
     "metadata": {},
     "output_type": "execute_result"
    }
   ],
   "source": [
    "hidden_word_set = set(hidden_word)\n",
    "hidden_word_set"
   ]
  },
  {
   "cell_type": "code",
   "execution_count": 11,
   "metadata": {},
   "outputs": [
    {
     "data": {
      "text/plain": [
       "{'h', 'i', 'p', 'y'}"
      ]
     },
     "execution_count": 11,
     "metadata": {},
     "output_type": "execute_result"
    }
   ],
   "source": [
    "guessed_word_set = set(guessed_word)\n",
    "guessed_word_set"
   ]
  },
  {
   "cell_type": "code",
   "execution_count": 13,
   "metadata": {},
   "outputs": [
    {
     "data": {
      "text/plain": [
       "{'h', 'p', 'y'}"
      ]
     },
     "execution_count": 13,
     "metadata": {},
     "output_type": "execute_result"
    }
   ],
   "source": [
    "hidden_word_set.intersection(guessed_word_set)"
   ]
  },
  {
   "cell_type": "markdown",
   "metadata": {},
   "source": [
    "# Let's define a class for wordle "
   ]
  },
  {
   "cell_type": "code",
   "execution_count": 39,
   "metadata": {},
   "outputs": [],
   "source": [
    "from random import * \n",
    "from datetime import * \n",
    "class wordle:\n",
    "    \"\"\"\n",
    "    A class that simulate wordle using a hidden word randomly\n",
    "    generated. It is not called gibbership wordle\n",
    "    \"\"\"\n",
    "    \n",
    "    def __init__(self, length:int):\n",
    "        self.__prototype = []\n",
    "        self.__indices = range(0, length-1)\n",
    "        self.length = length\n",
    "        self.imitator = []\n",
    "        self.__count = 0\n",
    "        self.__max_count = 5\n",
    "    def generate_word(self):\n",
    "        seed(datetime.now())\n",
    "        indices = range(0,self.length)\n",
    "        for index in self.__indices:\n",
    "            self.__prototype.append(chr(randint(97,122))) \n",
    "    def set_imitator(self,guessed_word):\n",
    "        if (len(guessed_word) == self.length):\n",
    "            self.imitator = guessed_word\n",
    "            self.__count+= 1;\n",
    "    def get_no_correct(self) -> int:\n",
    "        total_correct = 0\n",
    "        for index in self.__indices:\n",
    "            if self.__prototype[index] == self.imitator[index]:\n",
    "                total_correct += 1\n",
    "        return total_correct\n",
    "    def get_count_left(self) -> int:\n",
    "        return self.__max_count - self.__count;\n",
    "    def get_correct_letters(self) -> {}:\n",
    "        prototype = set(self.__prototype)\n",
    "        imitator  = set(self.imitator)\n",
    "        return prototype.intersection(imitator)\n",
    "    def get_answer(self) -> []:\n",
    "        if self.__count == self.__max_count:\n",
    "            return self.__prototype"
   ]
  },
  {
   "cell_type": "code",
   "execution_count": 40,
   "metadata": {},
   "outputs": [
    {
     "data": {
      "text/plain": [
       "0"
      ]
     },
     "execution_count": 40,
     "metadata": {},
     "output_type": "execute_result"
    }
   ],
   "source": [
    "case_1 = wordle(5)\n",
    "case_1.generate_word()\n",
    "case_1.set_imitator(['h','a','p','p','y'])\n",
    "case_1.get_no_correct()"
   ]
  },
  {
   "cell_type": "code",
   "execution_count": 41,
   "metadata": {},
   "outputs": [
    {
     "data": {
      "text/plain": [
       "4"
      ]
     },
     "execution_count": 41,
     "metadata": {},
     "output_type": "execute_result"
    }
   ],
   "source": [
    "case_1.get_count_left()"
   ]
  },
  {
   "cell_type": "code",
   "execution_count": 43,
   "metadata": {},
   "outputs": [],
   "source": [
    "case_1.set_imitator(['h','a','p','p','y'])\n",
    "case_1.set_imitator(['h','a','p','p','y'])\n",
    "case_1.set_imitator(['h','a','p','p','y'])\n",
    "case_1.set_imitator(['h','a','p','p','y'])\n",
    "case_1.get_answer()"
   ]
  },
  {
   "cell_type": "code",
   "execution_count": 44,
   "metadata": {},
   "outputs": [
    {
     "data": {
      "text/plain": [
       "set()"
      ]
     },
     "execution_count": 44,
     "metadata": {},
     "output_type": "execute_result"
    }
   ],
   "source": [
    "case_1.get_correct_letters()"
   ]
  },
  {
   "cell_type": "code",
   "execution_count": null,
   "metadata": {},
   "outputs": [],
   "source": []
  }
 ],
 "metadata": {
  "kernelspec": {
   "display_name": "Python 3",
   "language": "python",
   "name": "python3"
  },
  "language_info": {
   "codemirror_mode": {
    "name": "ipython",
    "version": 3
   },
   "file_extension": ".py",
   "mimetype": "text/x-python",
   "name": "python",
   "nbconvert_exporter": "python",
   "pygments_lexer": "ipython3",
   "version": "3.8.6"
  }
 },
 "nbformat": 4,
 "nbformat_minor": 4
}
