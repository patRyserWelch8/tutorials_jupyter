{
 "cells": [
  {
   "cell_type": "markdown",
   "metadata": {},
   "source": [
    "# Test driven development: A Wordle example\n",
    "\n",
    "This notebook demonstrates the ideas and concepts behind Test Driven development and testing environments. It is just a demonstration how the ideas are implemented in any programming languages testing platforms. It is not to convinced individuals not to use them, but undersand how they can use them to their advantages "
   ]
  },
  {
   "cell_type": "markdown",
   "metadata": {},
   "source": [
    "## Libraries"
   ]
  },
  {
   "cell_type": "code",
   "execution_count": 1,
   "metadata": {},
   "outputs": [],
   "source": [
    "from random import * \n",
    "from datetime import * \n",
    "from typing import Callable\n",
    "\n"
   ]
  },
  {
   "cell_type": "markdown",
   "metadata": {},
   "source": [
    "## Test no 1 - Assert a prototype has been created"
   ]
  },
  {
   "cell_type": "markdown",
   "metadata": {},
   "source": [
    "__Design:__\n",
    "\n",
    "- A class is named  Wordle \n",
    "- The constructor has one argument: a prototype string\n",
    "- Private instance variable:  ___prototype_\n",
    "- Method: _get_no_letters_ return the number of character of the prototype"
   ]
  },
  {
   "cell_type": "code",
   "execution_count": 2,
   "metadata": {},
   "outputs": [],
   "source": [
    "def assert_instantiation(prototype:[]) -> bool:\n",
    "    a_wordle = Wordle(prototype)\n",
    "    return a_wordle.get_no_letters() == len(prototype)"
   ]
  },
  {
   "cell_type": "code",
   "execution_count": 3,
   "metadata": {},
   "outputs": [],
   "source": [
    "# Constant indicating tables columns using as test case\n",
    "PROTOTYPE = 0\n",
    "IMITATOR  = 1\n",
    "EXPECTED  = 2\n",
    "#Run the test\n",
    "def run_tests (test_table:[]) -> bool:\n",
    "    outcome:bool = True\n",
    "    for case in test_table:\n",
    "        # init variables\n",
    "        prototype = case[PROTOTYPE]\n",
    "        expected  = case[EXPECTED]\n",
    "        a_wordle  = Wordle(prototype)\n",
    "        \n",
    "        # complete tests\n",
    "        passed_inst = assert_instantiation(prototype)\n",
    "        \n",
    "        # compare the actual vs expected outcome\n",
    "        if not passed_inst:\n",
    "            outcome = passed_inst\n",
    "            break\n",
    "    return(outcome)\n",
    "        \n"
   ]
  },
  {
   "cell_type": "markdown",
   "metadata": {},
   "source": [
    "### The class"
   ]
  },
  {
   "cell_type": "code",
   "execution_count": 4,
   "metadata": {},
   "outputs": [],
   "source": [
    "\n",
    "class Wordle:\n",
    "    \"\"\"\n",
    "    A class that simulate wordle using a hidden word randomly\n",
    "    generated. It is not called gibbership wordle\n",
    "    \"\"\"\n",
    "    \n",
    "    def __init__(self,word_to_guess:[]):\n",
    "        self.__prototype:[] = word_to_guess\n",
    "    \n",
    "    def get_no_letters(self) -> int:\n",
    "        return len(self.__prototype)\n"
   ]
  },
  {
   "cell_type": "markdown",
   "metadata": {},
   "source": [
    "### Execute the tests"
   ]
  },
  {
   "cell_type": "code",
   "execution_count": 5,
   "metadata": {},
   "outputs": [],
   "source": [
    "\n",
    "test_table = [['happy','hippy',True],\n",
    "              ['bonjour','bonjorno',False],\n",
    "              ['','',True]]\n"
   ]
  },
  {
   "cell_type": "code",
   "execution_count": 6,
   "metadata": {},
   "outputs": [
    {
     "data": {
      "text/plain": [
       "True"
      ]
     },
     "execution_count": 6,
     "metadata": {},
     "output_type": "execute_result"
    }
   ],
   "source": [
    "run_tests(test_table)\n"
   ]
  },
  {
   "cell_type": "markdown",
   "metadata": {},
   "source": [
    "## Test no 2 :  Assert the imitator has the same length as the prototype"
   ]
  },
  {
   "cell_type": "markdown",
   "metadata": {},
   "source": [
    "__Design:__\n",
    "\n",
    "- public instance variable: imitator\n",
    "- public method: set_guessed_word\n",
    "- description: set_guessed_word can only set imitators (i.e., guessed words) if they are the same number of letters as the prototype."
   ]
  },
  {
   "cell_type": "markdown",
   "metadata": {},
   "source": [
    "### The tests definition"
   ]
  },
  {
   "cell_type": "code",
   "execution_count": 7,
   "metadata": {},
   "outputs": [],
   "source": [
    "def assert_length(prototype:[],imitator:[]) -> bool:\n",
    "    a_wordle = Wordle(prototype)\n",
    "    a_wordle.set_imitator(imitator) \n",
    "    imitator_length = len(a_wordle.imitator)\n",
    "    \n",
    "    if a_wordle.get_no_letters() == imitator_length:\n",
    "        return True\n",
    "    elif imitator_length == 0:\n",
    "        return True\n",
    "    else:\n",
    "        return False"
   ]
  },
  {
   "cell_type": "code",
   "execution_count": 8,
   "metadata": {},
   "outputs": [],
   "source": [
    "def assert_prototype_length(prototype:[], imitator:[]) -> bool:\n",
    "    prototype_length = len(prototype)\n",
    "    a_wordle = Wordle(prototype)\n",
    "    return a_wordle.get_no_letters() == prototype_length"
   ]
  },
  {
   "cell_type": "code",
   "execution_count": 9,
   "metadata": {},
   "outputs": [],
   "source": [
    "# Constant indicating tables columns using as test case\n",
    "PROTOTYPE = 0\n",
    "IMITATOR  = 1\n",
    "EXPECTED  = 2\n",
    "\n",
    "#execute test in a sequence - stop if one fails\n",
    "def exec_tests_per_case(prototype:[], \n",
    "                        imitator:[]) -> bool:\n",
    "    test_passed = True\n",
    "    NO_TESTS    = 3\n",
    "    test        = 1\n",
    "    \n",
    "    print(\"prototype: \", prototype, \" - imitator: \", imitator)\n",
    "    while  test <= NO_TESTS:\n",
    "        if   test == 1: \n",
    "            assert assert_instantiation(prototype), \"failed Test instantiation \"\n",
    "        elif test == 2:\n",
    "            assert assert_prototype_length(prototype, imitator), \"failed no letters test\"\n",
    "        elif test == 3:\n",
    "            assert assert_length(prototype, imitator), \"failed different lengths\"\n",
    "        \n",
    "        test += 1\n",
    "    return test_passed\n",
    "\n",
    "#Run the test\n",
    "def run_tests (test_table:[]):\n",
    "    outcome:bool = True\n",
    "    for case in test_table:\n",
    "        # init variables\n",
    "        prototype = case[PROTOTYPE]\n",
    "        imitator  = case[IMITATOR]\n",
    "        \n",
    "        # complete tests\n",
    "        passed = exec_tests_per_case(prototype,\n",
    "                                     imitator)\n",
    "        \n",
    "    # All tests for every cases have been successful\n",
    "    print(\"All test successful! Great job!\")\n",
    "    \n",
    "    \n"
   ]
  },
  {
   "cell_type": "markdown",
   "metadata": {},
   "source": [
    "### The class"
   ]
  },
  {
   "cell_type": "code",
   "execution_count": 10,
   "metadata": {},
   "outputs": [],
   "source": [
    "\n",
    "class Wordle:\n",
    "    \"\"\"\n",
    "    A class that simulate wordle using a hidden word randomly\n",
    "    generated. It is not called gibbership wordle\n",
    "    \"\"\"\n",
    "    \n",
    "    def __init__(self,word_to_guess:[]):\n",
    "        self.__prototype:[] = word_to_guess\n",
    "        self.imitator:[]    = []\n",
    "    \n",
    "    def get_no_letters(self) -> int:\n",
    "        return len(self.__prototype)\n",
    "    \n",
    "    def set_imitator(self, guessed_word:[]):\n",
    "        if len(guessed_word) == self.get_no_letters():\n",
    "            self.imitator = guessed_word\n",
    "    \n"
   ]
  },
  {
   "cell_type": "markdown",
   "metadata": {},
   "source": [
    "### Execute the tests"
   ]
  },
  {
   "cell_type": "code",
   "execution_count": 11,
   "metadata": {},
   "outputs": [],
   "source": [
    "\n",
    "test_table = [['happy','hippy'],\n",
    "              ['bonjour','bonjorno'],\n",
    "              ['','']]\n"
   ]
  },
  {
   "cell_type": "code",
   "execution_count": 12,
   "metadata": {},
   "outputs": [
    {
     "name": "stdout",
     "output_type": "stream",
     "text": [
      "prototype:  happy  - imitator:  hippy\n",
      "prototype:  bonjour  - imitator:  bonjorno\n",
      "prototype:    - imitator:  \n",
      "All test successful! Great job!\n"
     ]
    }
   ],
   "source": [
    "run_tests(test_table)\n"
   ]
  },
  {
   "cell_type": "markdown",
   "metadata": {},
   "source": [
    "## Test no 3: a constraint number of attempt"
   ]
  },
  {
   "cell_type": "markdown",
   "metadata": {},
   "source": [
    "__Design:__\n",
    "\n",
    "- A maximum number of attempts should be set at instantiation\n",
    "- The imitator can only be set a specified number  of times. Once this limit has been reached, then imitator becomes the same as the imitator. \n",
    "- the number of attempts is decreased from max_attempts to 1.\n",
    "- public instance variable used count the number of attempts: counter - an integer value\n",
    "- private instance variable for maximum attempts: __MAX_ATTEMPT"
   ]
  },
  {
   "cell_type": "markdown",
   "metadata": {},
   "source": [
    "### The tests definition"
   ]
  },
  {
   "cell_type": "code",
   "execution_count": 13,
   "metadata": {},
   "outputs": [],
   "source": [
    "def assert_instantiation(prototype:[], max_attempts:int) -> bool:\n",
    "    \"\"\"\n",
    "    Check the prototype is set with the maximum attempt\n",
    "    \"\"\"\n",
    "    a_wordle = Wordle(prototype, max_attempts)\n",
    "    prototype_set = a_wordle.get_no_letters() == len(prototype)\n",
    "    max_attempts_set = a_wordle.counter == max_attempts\n",
    "    return prototype_set and max_attempts_set"
   ]
  },
  {
   "cell_type": "code",
   "execution_count": 14,
   "metadata": {},
   "outputs": [],
   "source": [
    "def assert_length(prototype:[],\n",
    "                  imitator:[], \n",
    "                  max_attempts:int) -> bool:\n",
    "    a_wordle = Wordle(prototype, max_attempts)\n",
    "    a_wordle.set_imitator(imitator) \n",
    "    imitator_length = len(a_wordle.imitator)\n",
    "    \n",
    "    if a_wordle.get_no_letters() == imitator_length:\n",
    "        return True\n",
    "    elif imitator_length == 0:\n",
    "        return True\n",
    "    else:\n",
    "        return False"
   ]
  },
  {
   "cell_type": "code",
   "execution_count": 15,
   "metadata": {},
   "outputs": [],
   "source": [
    "def assert_prototype_length(prototype:[], \n",
    "                            imitator:[], \n",
    "                            max_attempts:int) -> bool:\n",
    "    prototype_length = len(prototype)\n",
    "    a_wordle = Wordle(prototype, max_attempts)\n",
    "    return a_wordle.get_no_letters() == prototype_length"
   ]
  },
  {
   "cell_type": "code",
   "execution_count": 16,
   "metadata": {},
   "outputs": [],
   "source": [
    "def assert_decrease(prototype:[], \n",
    "                    imitator:[], \n",
    "                    max_attempts:int) -> bool:\n",
    "    passed_tests:[] = []\n",
    "    a_wordle = Wordle(prototype, max_attempts)\n",
    "    # simulate a game with no correct answers\n",
    "    for count in range(1, max_attempts+1):\n",
    "        a_wordle.set_imitator(imitator) \n",
    "        test = (a_wordle.counter == (max_attempts - count))\n",
    "        passed_tests.append(test)\n",
    "        \n",
    "    # the imitator is the same as the prototype\n",
    "    test = (a_wordle.imitator == prototype)\n",
    "    passed_tests.append(test)\n",
    "\n",
    "    # All tests must be true \n",
    "    return all(passed_tests)"
   ]
  },
  {
   "cell_type": "code",
   "execution_count": 17,
   "metadata": {},
   "outputs": [],
   "source": [
    "def assert_limit_attempts(prototype:[], \n",
    "                            imitator:[], \n",
    "                            max_attempts:int) -> bool:\n",
    "    passed_tests:[] = []\n",
    "    a_wordle = Wordle(prototype, max_attempts)\n",
    "    \n",
    "    # simulate a game with no correct answers\n",
    "    for count in range(1, max_attempts+1):\n",
    "        a_wordle.set_imitator(imitator) \n",
    "        test = (not a_wordle.is_max_attempts_reached())\n",
    "        passed_tests.append(test)\n",
    "    \n",
    "    test = (a_wordle.is_max_attempts_reached())\n",
    "    passed_tests.append(test)\n",
    "    # All tests must be true \n",
    "    return all(passed_tests)"
   ]
  },
  {
   "cell_type": "code",
   "execution_count": 18,
   "metadata": {},
   "outputs": [],
   "source": [
    "# Constant indicating tables columns using as test case\n",
    "PROTOTYPE = 0\n",
    "IMITATOR  = 1\n",
    "MAX_ATTEMPTS = 2\n",
    "\n",
    "#execute test in a sequence - stop if one fails\n",
    "def exec_tests_per_case(prototype:[], \n",
    "                        imitator:[],\n",
    "                        max_attempts) -> bool:\n",
    "    test_passed = True\n",
    "    \n",
    "    \n",
    "    print(\"prototype: \", prototype, \n",
    "          \" - imitator: \", imitator,\n",
    "          \" - max attempts\", max_attempts)\n",
    "    \n",
    "    assert assert_instantiation(prototype, max_attempts), \"failed Test instantiation \"\n",
    "    assert assert_prototype_length(prototype, imitator, max_attempts), \"failed no letters test\"\n",
    "    assert assert_length(prototype, imitator, max_attempts), \"failed different lengths\"\n",
    "    assert assert_decrease(prototype, imitator, max_attempts), \"failed attempts\"\n",
    "    \n",
    "    return test_passed\n",
    "\n",
    "#Run the test\n",
    "def run_tests (test_table:[]):\n",
    "    outcome:bool = True\n",
    "    for case in test_table:\n",
    "        # init variables\n",
    "        prototype = case[PROTOTYPE]\n",
    "        imitator  = case[IMITATOR]\n",
    "        max_attempts = case[MAX_ATTEMPTS]\n",
    "        \n",
    "        # complete tests\n",
    "        passed = exec_tests_per_case(prototype,\n",
    "                                     imitator,\n",
    "                                     max_attempts)\n",
    "        \n",
    "    # All tests for every cases have been successful\n",
    "    print(\"All test successful! Great job!\")\n",
    "    \n",
    "    \n"
   ]
  },
  {
   "cell_type": "markdown",
   "metadata": {},
   "source": [
    "### The class"
   ]
  },
  {
   "cell_type": "code",
   "execution_count": 19,
   "metadata": {},
   "outputs": [],
   "source": [
    "\n",
    "class Wordle:\n",
    "    \"\"\"\n",
    "    A class that simulate wordle using a hidden word randomly\n",
    "    generated. It is not called gibbership wordle\n",
    "    \"\"\"\n",
    "    \n",
    "    def __init__(self,word_to_guess:[],max_attempts:int):\n",
    "        self.__PROTOTYPE:[]     = word_to_guess\n",
    "        self.counter:int        = max_attempts\n",
    "        self.imitator:[]        = []\n",
    "    \n",
    "    def get_no_letters(self) -> int:\n",
    "        return len(self.__PROTOTYPE)\n",
    "    \n",
    "    def set_imitator(self, guessed_word:[]):\n",
    "        if not self.is_max_attempts_reached():\n",
    "            self.counter -= 1\n",
    "            if  len(guessed_word) == self.get_no_letters(): \n",
    "                self.imitator = guessed_word\n",
    "                \n",
    "\n",
    "        if self.is_max_attempts_reached():\n",
    "            self.imitator = self.__PROTOTYPE\n",
    "            \n",
    "    def is_max_attempts_reached(self) -> bool:\n",
    "        return self.counter == 0"
   ]
  },
  {
   "cell_type": "markdown",
   "metadata": {},
   "source": [
    "### Execute the tests"
   ]
  },
  {
   "cell_type": "code",
   "execution_count": 20,
   "metadata": {},
   "outputs": [],
   "source": [
    "\n",
    "test_table = [['happy','hippy',3],\n",
    "              ['bonjour','bonjorno',3],\n",
    "              ['','',3]]\n"
   ]
  },
  {
   "cell_type": "code",
   "execution_count": 21,
   "metadata": {},
   "outputs": [
    {
     "name": "stdout",
     "output_type": "stream",
     "text": [
      "prototype:  happy  - imitator:  hippy  - max attempts 3\n",
      "prototype:  bonjour  - imitator:  bonjorno  - max attempts 3\n",
      "prototype:    - imitator:    - max attempts 3\n",
      "All test successful! Great job!\n"
     ]
    }
   ],
   "source": [
    "run_tests(test_table)\n"
   ]
  },
  {
   "cell_type": "code",
   "execution_count": 22,
   "metadata": {},
   "outputs": [],
   "source": [
    "\n",
    "class wordle:\n",
    "    \"\"\"\n",
    "    A class that simulate wordle using a hidden word randomly\n",
    "    generated. It is not called gibbership wordle\n",
    "    \"\"\"\n",
    "    \n",
    "    def __init__(self, length:int):\n",
    "        self.__prototype = []\n",
    "        self.__indices = range(0, length-1)\n",
    "        self.length = length\n",
    "        self.imitator = []\n",
    "        self.__count = 0\n",
    "        self.__max_count = 5\n",
    "    def generate_word(self):\n",
    "        seed(datetime.now())\n",
    "        indices = range(0,self.length)\n",
    "        for index in self.__indices:\n",
    "            self.__prototype.append(chr(randint(97,122))) \n",
    "    def set_imitator(self,guessed_word):\n",
    "        if (len(guessed_word) == self.length):\n",
    "            self.imitator = guessed_word\n",
    "            self.__count+= 1;\n",
    "    def get_no_correct(self) -> int:\n",
    "        total_correct = 0\n",
    "        for index in self.__indices:\n",
    "            if self.__prototype[index] == self.imitator[index]:\n",
    "                total_correct += 1\n",
    "        return total_correct\n",
    "    def get_count_left(self) -> int:\n",
    "        return self.__max_count - self.__count;\n",
    "    def get_correct_letters(self) -> {}:\n",
    "        prototype = set(self.__prototype)\n",
    "        imitator  = set(self.imitator)\n",
    "        return prototype.intersection(imitator)\n",
    "    def get_answer(self) -> []:\n",
    "        if self.__count == self.__max_count:\n",
    "            return self.__prototype"
   ]
  },
  {
   "cell_type": "code",
   "execution_count": null,
   "metadata": {},
   "outputs": [],
   "source": []
  },
  {
   "cell_type": "markdown",
   "metadata": {},
   "source": [
    "## Test no 3: a constraint number of attempt"
   ]
  },
  {
   "cell_type": "markdown",
   "metadata": {},
   "source": [
    "__Design:__\n",
    "\n",
    "- A maximum number of attempts should be set at instantiation\n",
    "- The imitator can only be set a specified number  of times. Once this limit has been reached, then imitator becomes the same as the imitator. \n",
    "- the number of attempts is decreased from max_attempts to 1.\n",
    "- public instance variable used count the number of attempts: counter - an integer value\n",
    "- private instance variable for maximum attempts: __MAX_ATTEMPT"
   ]
  },
  {
   "cell_type": "markdown",
   "metadata": {},
   "source": [
    "### The tests definition"
   ]
  },
  {
   "cell_type": "code",
   "execution_count": 23,
   "metadata": {},
   "outputs": [],
   "source": [
    "def assert_instantiation(prototype:[], max_attempts:int) -> bool:\n",
    "    \"\"\"\n",
    "    Check the prototype is set with the maximum attempt\n",
    "    \"\"\"\n",
    "    a_wordle = Wordle(prototype, max_attempts)\n",
    "    prototype_set = a_wordle.get_no_letters() == len(prototype)\n",
    "    max_attempts_set = a_wordle.counter == max_attempts\n",
    "    return prototype_set and max_attempts_set"
   ]
  },
  {
   "cell_type": "code",
   "execution_count": 24,
   "metadata": {},
   "outputs": [],
   "source": [
    "def assert_length(prototype:[],\n",
    "                  imitator:[], \n",
    "                  max_attempts:int) -> bool:\n",
    "    a_wordle = Wordle(prototype, max_attempts)\n",
    "    a_wordle.set_imitator(imitator) \n",
    "    imitator_length = len(a_wordle.imitator)\n",
    "    \n",
    "    if a_wordle.get_no_letters() == imitator_length:\n",
    "        return True\n",
    "    elif imitator_length == 0:\n",
    "        return True\n",
    "    else:\n",
    "        return False"
   ]
  },
  {
   "cell_type": "code",
   "execution_count": 25,
   "metadata": {},
   "outputs": [],
   "source": [
    "def assert_prototype_length(prototype:[], \n",
    "                            imitator:[], \n",
    "                            max_attempts:int) -> bool:\n",
    "    prototype_length = len(prototype)\n",
    "    a_wordle = Wordle(prototype, max_attempts)\n",
    "    return a_wordle.get_no_letters() == prototype_length"
   ]
  },
  {
   "cell_type": "code",
   "execution_count": 26,
   "metadata": {},
   "outputs": [],
   "source": [
    "def assert_decrease(prototype:[], \n",
    "                    imitator:[], \n",
    "                    max_attempts:int) -> bool:\n",
    "    passed_tests:[] = []\n",
    "    a_wordle = Wordle(prototype, max_attempts)\n",
    "    # simulate a game with no correct answers\n",
    "    for count in range(1, max_attempts+1):\n",
    "        a_wordle.set_imitator(imitator) \n",
    "        test = (a_wordle.counter == (max_attempts - count))\n",
    "        passed_tests.append(test)\n",
    "        \n",
    "    # the imitator is the same as the prototype\n",
    "    test = (a_wordle.imitator == prototype)\n",
    "    passed_tests.append(test)\n",
    "\n",
    "    # All tests must be true \n",
    "    return all(passed_tests)"
   ]
  },
  {
   "cell_type": "code",
   "execution_count": 27,
   "metadata": {},
   "outputs": [],
   "source": [
    "def assert_limit_attempts(prototype:[], \n",
    "                            imitator:[], \n",
    "                            max_attempts:int) -> bool:\n",
    "    passed_tests:[] = []\n",
    "    a_wordle = Wordle(prototype, max_attempts)\n",
    "    \n",
    "    # simulate a game with no correct answers\n",
    "    for count in range(1, max_attempts+1):\n",
    "        a_wordle.set_imitator(imitator) \n",
    "        test = (not a_wordle.is_max_attempts_reached())\n",
    "        passed_tests.append(test)\n",
    "    \n",
    "    test = (a_wordle.is_max_attempts_reached())\n",
    "    passed_tests.append(test)\n",
    "    # All tests must be true \n",
    "    return all(passed_tests)"
   ]
  },
  {
   "cell_type": "code",
   "execution_count": 28,
   "metadata": {},
   "outputs": [],
   "source": [
    "# Constant indicating tables columns using as test case\n",
    "PROTOTYPE = 0\n",
    "IMITATOR  = 1\n",
    "MAX_ATTEMPTS = 2\n",
    "\n",
    "#execute test in a sequence - stop if one fails\n",
    "def exec_tests_per_case(prototype:[], \n",
    "                        imitator:[],\n",
    "                        max_attempts) -> bool:\n",
    "    test_passed = True\n",
    "    \n",
    "    \n",
    "    print(\"prototype: \", prototype, \n",
    "          \" - imitator: \", imitator,\n",
    "          \" - max attempts\", max_attempts)\n",
    "    \n",
    "    assert assert_instantiation(prototype, max_attempts), \"failed Test instantiation \"\n",
    "    assert assert_prototype_length(prototype, imitator, max_attempts), \"failed no letters test\"\n",
    "    assert assert_length(prototype, imitator, max_attempts), \"failed different lengths\"\n",
    "    assert assert_decrease(prototype, imitator, max_attempts), \"failed attempts\"\n",
    "    \n",
    "    return test_passed\n",
    "\n",
    "#Run the test\n",
    "def run_tests (test_table:[]):\n",
    "    outcome:bool = True\n",
    "    for case in test_table:\n",
    "        # init variables\n",
    "        prototype = case[PROTOTYPE]\n",
    "        imitator  = case[IMITATOR]\n",
    "        max_attempts = case[MAX_ATTEMPTS]\n",
    "        \n",
    "        # complete tests\n",
    "        passed = exec_tests_per_case(prototype,\n",
    "                                     imitator,\n",
    "                                     max_attempts)\n",
    "        \n",
    "    # All tests for every cases have been successful\n",
    "    print(\"All test successful! Great job!\")\n",
    "    \n",
    "    \n"
   ]
  },
  {
   "cell_type": "markdown",
   "metadata": {},
   "source": [
    "### The class"
   ]
  },
  {
   "cell_type": "code",
   "execution_count": 29,
   "metadata": {},
   "outputs": [],
   "source": [
    "\n",
    "class Wordle:\n",
    "    \"\"\"\n",
    "    A class that simulate wordle using a hidden word randomly\n",
    "    generated. It is not called gibbership wordle\n",
    "    \"\"\"\n",
    "    \n",
    "    def __init__(self,word_to_guess:[],max_attempts:int):\n",
    "        self.__PROTOTYPE:[]     = word_to_guess\n",
    "        self.counter:int        = max_attempts\n",
    "        self.imitator:[]        = []\n",
    "    \n",
    "    def get_no_letters(self) -> int:\n",
    "        return len(self.__PROTOTYPE)\n",
    "    \n",
    "    def set_imitator(self, guessed_word:[]):\n",
    "        if not self.is_max_attempts_reached():\n",
    "            self.counter -= 1\n",
    "            if  len(guessed_word) == self.get_no_letters(): \n",
    "                self.imitator = guessed_word\n",
    "                \n",
    "\n",
    "        if self.is_max_attempts_reached():\n",
    "            self.imitator = self.__PROTOTYPE\n",
    "            \n",
    "    def is_max_attempts_reached(self) -> bool:\n",
    "        return self.counter == 0"
   ]
  },
  {
   "cell_type": "markdown",
   "metadata": {},
   "source": [
    "### Execute the tests"
   ]
  },
  {
   "cell_type": "code",
   "execution_count": 30,
   "metadata": {},
   "outputs": [],
   "source": [
    "\n",
    "test_table = [['happy','hippy',3],\n",
    "              ['bonjour','bonjorno',3],\n",
    "              ['','',3]]\n"
   ]
  },
  {
   "cell_type": "code",
   "execution_count": 31,
   "metadata": {},
   "outputs": [
    {
     "name": "stdout",
     "output_type": "stream",
     "text": [
      "prototype:  happy  - imitator:  hippy  - max attempts 3\n",
      "prototype:  bonjour  - imitator:  bonjorno  - max attempts 3\n",
      "prototype:    - imitator:    - max attempts 3\n",
      "All test successful! Great job!\n"
     ]
    }
   ],
   "source": [
    "run_tests(test_table)\n"
   ]
  },
  {
   "cell_type": "code",
   "execution_count": 32,
   "metadata": {},
   "outputs": [],
   "source": [
    "\n",
    "class wordle:\n",
    "    \"\"\"\n",
    "    A class that simulate wordle using a hidden word randomly\n",
    "    generated. It is not called gibbership wordle\n",
    "    \"\"\"\n",
    "    \n",
    "    def __init__(self, length:int):\n",
    "        self.__prototype = []\n",
    "        self.__indices = range(0, length-1)\n",
    "        self.length = length\n",
    "        self.imitator = []\n",
    "        self.__count = 0\n",
    "        self.__max_count = 5\n",
    "    def generate_word(self):\n",
    "        seed(datetime.now())\n",
    "        indices = range(0,self.length)\n",
    "        for index in self.__indices:\n",
    "            self.__prototype.append(chr(randint(97,122))) \n",
    "    def set_imitator(self,guessed_word):\n",
    "        if (len(guessed_word) == self.length):\n",
    "            self.imitator = guessed_word\n",
    "            self.__count+= 1;\n",
    "    def get_no_correct(self) -> int:\n",
    "        total_correct = 0\n",
    "        for index in self.__indices:\n",
    "            if self.__prototype[index] == self.imitator[index]:\n",
    "                total_correct += 1\n",
    "        return total_correct\n",
    "    def get_count_left(self) -> int:\n",
    "        return self.__max_count - self.__count;\n",
    "    def get_correct_letters(self) -> {}:\n",
    "        prototype = set(self.__prototype)\n",
    "        imitator  = set(self.imitator)\n",
    "        return prototype.intersection(imitator)\n",
    "    def get_answer(self) -> []:\n",
    "        if self.__count == self.__max_count:\n",
    "            return self.__prototype"
   ]
  },
  {
   "cell_type": "code",
   "execution_count": null,
   "metadata": {},
   "outputs": [],
   "source": []
  },
  {
   "cell_type": "code",
   "execution_count": null,
   "metadata": {},
   "outputs": [],
   "source": []
  },
  {
   "cell_type": "markdown",
   "metadata": {},
   "source": [
    "## Test no 3: a constraint number of attempts"
   ]
  },
  {
   "cell_type": "markdown",
   "metadata": {},
   "source": [
    "__Design:__\n",
    "\n",
    "- A maximum number of attempts should be set at instantiation\n",
    "- The imitator can only be set a specified number  of times. Once this limit has been reached, then imitator becomes the same as the imitator. \n",
    "- the number of attempts is decreased from max_attempts to 1.\n",
    "- public instance variable used count the number of attempts: counter - an integer value\n",
    "- private instance variable for maximum attempts: __MAX_ATTEMPT"
   ]
  },
  {
   "cell_type": "markdown",
   "metadata": {},
   "source": [
    "### The tests definition"
   ]
  },
  {
   "cell_type": "code",
   "execution_count": 33,
   "metadata": {},
   "outputs": [],
   "source": [
    "def assert_instantiation(prototype:[], max_attempts:int) -> bool:\n",
    "    \"\"\"\n",
    "    Check the prototype is set with the maximum attempt\n",
    "    \"\"\"\n",
    "    a_wordle = Wordle(prototype, max_attempts)\n",
    "    prototype_set = a_wordle.get_no_letters() == len(prototype)\n",
    "    max_attempts_set = a_wordle.counter == max_attempts\n",
    "    return prototype_set and max_attempts_set"
   ]
  },
  {
   "cell_type": "code",
   "execution_count": 34,
   "metadata": {},
   "outputs": [],
   "source": [
    "def assert_length(prototype:[],\n",
    "                  imitator:[], \n",
    "                  max_attempts:int) -> bool:\n",
    "    a_wordle = Wordle(prototype, max_attempts)\n",
    "    a_wordle.set_imitator(imitator) \n",
    "    imitator_length = len(a_wordle.imitator)\n",
    "    \n",
    "    if a_wordle.get_no_letters() == imitator_length:\n",
    "        return True\n",
    "    elif imitator_length == 0:\n",
    "        return True\n",
    "    else:\n",
    "        return False"
   ]
  },
  {
   "cell_type": "code",
   "execution_count": 35,
   "metadata": {},
   "outputs": [],
   "source": [
    "def assert_prototype_length(prototype:[], \n",
    "                            imitator:[], \n",
    "                            max_attempts:int) -> bool:\n",
    "    prototype_length = len(prototype)\n",
    "    a_wordle = Wordle(prototype, max_attempts)\n",
    "    return a_wordle.get_no_letters() == prototype_length"
   ]
  },
  {
   "cell_type": "code",
   "execution_count": 36,
   "metadata": {},
   "outputs": [],
   "source": [
    "def assert_decrease(prototype:[], \n",
    "                    imitator:[], \n",
    "                    max_attempts:int) -> bool:\n",
    "    passed_tests:[] = []\n",
    "    a_wordle = Wordle(prototype, max_attempts)\n",
    "    # simulate a game with no correct answers\n",
    "    for count in range(1, max_attempts+1):\n",
    "        a_wordle.set_imitator(imitator) \n",
    "        test = (a_wordle.counter == (max_attempts - count))\n",
    "        passed_tests.append(test)\n",
    "        \n",
    "    # the imitator is the same as the prototype\n",
    "    test = (a_wordle.imitator == prototype)\n",
    "    passed_tests.append(test)\n",
    "\n",
    "    # All tests must be true \n",
    "    return all(passed_tests)"
   ]
  },
  {
   "cell_type": "code",
   "execution_count": 37,
   "metadata": {},
   "outputs": [],
   "source": [
    "def assert_limit_attempts(prototype:[], \n",
    "                            imitator:[], \n",
    "                            max_attempts:int) -> bool:\n",
    "    passed_tests:[] = []\n",
    "    a_wordle = Wordle(prototype, max_attempts)\n",
    "    \n",
    "    # simulate a game with no correct answers\n",
    "    for count in range(1, max_attempts+1):\n",
    "        a_wordle.set_imitator(imitator) \n",
    "        test = (not a_wordle.is_max_attempts_reached())\n",
    "        passed_tests.append(test)\n",
    "    \n",
    "    test = (a_wordle.is_max_attempts_reached())\n",
    "    passed_tests.append(test)\n",
    "    # All tests must be true \n",
    "    return all(passed_tests)"
   ]
  },
  {
   "cell_type": "code",
   "execution_count": 38,
   "metadata": {},
   "outputs": [],
   "source": [
    "# Constant indicating tables columns using as test case\n",
    "PROTOTYPE = 0\n",
    "IMITATOR  = 1\n",
    "MAX_ATTEMPTS = 2\n",
    "\n",
    "#execute test in a sequence - stop if one fails\n",
    "def exec_tests_per_case(prototype:[], \n",
    "                        imitator:[],\n",
    "                        max_attempts) -> bool:\n",
    "    test_passed = True\n",
    "    \n",
    "    \n",
    "    print(\"prototype: \", prototype, \n",
    "          \" - imitator: \", imitator,\n",
    "          \" - max attempts\", max_attempts)\n",
    "    \n",
    "    assert assert_instantiation(prototype, max_attempts), \"failed Test instantiation \"\n",
    "    assert assert_prototype_length(prototype, imitator, max_attempts), \"failed no letters test\"\n",
    "    assert assert_length(prototype, imitator, max_attempts), \"failed different lengths\"\n",
    "    assert assert_decrease(prototype, imitator, max_attempts), \"failed attempts\"\n",
    "    \n",
    "    return test_passed\n",
    "\n",
    "#Run the test\n",
    "def run_tests (test_table:[]):\n",
    "    outcome:bool = True\n",
    "    for case in test_table:\n",
    "        # init variables\n",
    "        prototype = case[PROTOTYPE]\n",
    "        imitator  = case[IMITATOR]\n",
    "        max_attempts = case[MAX_ATTEMPTS]\n",
    "        \n",
    "        # complete tests\n",
    "        passed = exec_tests_per_case(prototype,\n",
    "                                     imitator,\n",
    "                                     max_attempts)\n",
    "        \n",
    "    # All tests for every cases have been successful\n",
    "    print(\"All test successful! Great job!\")\n",
    "    \n",
    "    \n"
   ]
  },
  {
   "cell_type": "markdown",
   "metadata": {},
   "source": [
    "### The class"
   ]
  },
  {
   "cell_type": "code",
   "execution_count": 39,
   "metadata": {},
   "outputs": [],
   "source": [
    "\n",
    "class Wordle:\n",
    "    \"\"\"\n",
    "    A class that simulate wordle using a hidden word randomly\n",
    "    generated. It is not called gibbership wordle\n",
    "    \"\"\"\n",
    "    \n",
    "    def __init__(self,word_to_guess:[],max_attempts:int):\n",
    "        self.__PROTOTYPE:[]     = word_to_guess\n",
    "        self.counter:int        = max_attempts\n",
    "        self.imitator:[]        = []\n",
    "    \n",
    "    def get_no_letters(self) -> int:\n",
    "        return len(self.__PROTOTYPE)\n",
    "    \n",
    "    def set_imitator(self, guessed_word:[]):\n",
    "        if not self.is_max_attempts_reached():\n",
    "            self.counter -= 1\n",
    "            if  len(guessed_word) == self.get_no_letters(): \n",
    "                self.imitator = guessed_word\n",
    "                \n",
    "\n",
    "        if self.is_max_attempts_reached():\n",
    "            self.imitator = self.__PROTOTYPE\n",
    "            \n",
    "    def is_max_attempts_reached(self) -> bool:\n",
    "        return self.counter == 0"
   ]
  },
  {
   "cell_type": "markdown",
   "metadata": {},
   "source": [
    "### Execute the tests"
   ]
  },
  {
   "cell_type": "code",
   "execution_count": 40,
   "metadata": {},
   "outputs": [],
   "source": [
    "\n",
    "test_table = [['happy','hippy',3],\n",
    "              ['bonjour','bonjorno',3],\n",
    "              ['','',3]]\n"
   ]
  },
  {
   "cell_type": "code",
   "execution_count": 41,
   "metadata": {},
   "outputs": [
    {
     "name": "stdout",
     "output_type": "stream",
     "text": [
      "prototype:  happy  - imitator:  hippy  - max attempts 3\n",
      "prototype:  bonjour  - imitator:  bonjorno  - max attempts 3\n",
      "prototype:    - imitator:    - max attempts 3\n",
      "All test successful! Great job!\n"
     ]
    }
   ],
   "source": [
    "run_tests(test_table)\n"
   ]
  },
  {
   "cell_type": "code",
   "execution_count": 42,
   "metadata": {},
   "outputs": [],
   "source": [
    "\n",
    "class wordle:\n",
    "    \"\"\"\n",
    "    A class that simulate wordle using a hidden word randomly\n",
    "    generated. It is not called gibbership wordle\n",
    "    \"\"\"\n",
    "    \n",
    "    def __init__(self, length:int):\n",
    "        self.__prototype = []\n",
    "        self.__indices = range(0, length-1)\n",
    "        self.length = length\n",
    "        self.imitator = []\n",
    "        self.__count = 0\n",
    "        self.__max_count = 5\n",
    "    def generate_word(self):\n",
    "        seed(datetime.now())\n",
    "        indices = range(0,self.length)\n",
    "        for index in self.__indices:\n",
    "            self.__prototype.append(chr(randint(97,122))) \n",
    "    def set_imitator(self,guessed_word):\n",
    "        if (len(guessed_word) == self.length):\n",
    "            self.imitator = guessed_word\n",
    "            self.__count+= 1;\n",
    "    def get_no_correct(self) -> int:\n",
    "        total_correct = 0\n",
    "        for index in self.__indices:\n",
    "            if self.__prototype[index] == self.imitator[index]:\n",
    "                total_correct += 1\n",
    "        return total_correct\n",
    "    def get_count_left(self) -> int:\n",
    "        return self.__max_count - self.__count;\n",
    "    def get_correct_letters(self) -> {}:\n",
    "        prototype = set(self.__prototype)\n",
    "        imitator  = set(self.imitator)\n",
    "        return prototype.intersection(imitator)\n",
    "    def get_answer(self) -> []:\n",
    "        if self.__count == self.__max_count:\n",
    "            return self.__prototype"
   ]
  },
  {
   "cell_type": "code",
   "execution_count": null,
   "metadata": {},
   "outputs": [],
   "source": []
  },
  {
   "cell_type": "markdown",
   "metadata": {},
   "source": [
    "## Test no 4 : correct letters "
   ]
  },
  {
   "cell_type": "markdown",
   "metadata": {},
   "source": [
    "__Design:__\n",
    "\n",
    "- the number of correct letters is the total the same letters in both strings (imitator and prototype) in the same index.\n",
    "- the similar letters between the imitator and the prototypes is a set. Some of them may be incorrectly placed.\n",
    "- public method: _get_correct_letters_ \n",
    "- public method: _get_no_correct_\n"
   ]
  },
  {
   "cell_type": "markdown",
   "metadata": {},
   "source": [
    "### The tests definition"
   ]
  },
  {
   "cell_type": "code",
   "execution_count": 43,
   "metadata": {},
   "outputs": [],
   "source": [
    "def assert_instantiation(prototype:[], max_attempts:int) -> bool:\n",
    "    \"\"\"\n",
    "    Check the prototype is set with the maximum attempt\n",
    "    \"\"\"\n",
    "    a_wordle = Wordle(prototype, max_attempts)\n",
    "    prototype_set = a_wordle.get_no_letters() == len(prototype)\n",
    "    max_attempts_set = a_wordle.counter == max_attempts\n",
    "    return prototype_set and max_attempts_set"
   ]
  },
  {
   "cell_type": "code",
   "execution_count": 44,
   "metadata": {},
   "outputs": [],
   "source": [
    "def assert_length(prototype:[],\n",
    "                  imitator:[], \n",
    "                  max_attempts:int) -> bool:\n",
    "    a_wordle = Wordle(prototype, max_attempts)\n",
    "    a_wordle.set_imitator(imitator) \n",
    "    imitator_length = len(a_wordle.imitator)\n",
    "    \n",
    "    if a_wordle.get_no_letters() == imitator_length:\n",
    "        return True\n",
    "    elif imitator_length == 0:\n",
    "        return True\n",
    "    else:\n",
    "        return False"
   ]
  },
  {
   "cell_type": "code",
   "execution_count": 45,
   "metadata": {},
   "outputs": [],
   "source": [
    "def assert_prototype_length(prototype:[], \n",
    "                            imitator:[], \n",
    "                            max_attempts:int) -> bool:\n",
    "    prototype_length = len(prototype)\n",
    "    a_wordle = Wordle(prototype, max_attempts)\n",
    "    return a_wordle.get_no_letters() == prototype_length"
   ]
  },
  {
   "cell_type": "code",
   "execution_count": 46,
   "metadata": {},
   "outputs": [],
   "source": [
    "def assert_decrease(prototype:[], \n",
    "                    imitator:[], \n",
    "                    max_attempts:int) -> bool:\n",
    "    passed_tests:[] = []\n",
    "    a_wordle = Wordle(prototype, max_attempts)\n",
    "    # simulate a game with no correct answers\n",
    "    for count in range(1, max_attempts+1):\n",
    "        a_wordle.set_imitator(imitator) \n",
    "        test = (a_wordle.counter == (max_attempts - count))\n",
    "        passed_tests.append(test)\n",
    "        \n",
    "    # the imitator is the same as the prototype\n",
    "    test = (a_wordle.imitator == prototype)\n",
    "    passed_tests.append(test)\n",
    "\n",
    "    # All tests must be true \n",
    "    return all(passed_tests)"
   ]
  },
  {
   "cell_type": "code",
   "execution_count": 47,
   "metadata": {},
   "outputs": [],
   "source": [
    "def assert_limit_attempts(prototype:[], \n",
    "                          imitator:[], \n",
    "                          max_attempts:int) -> bool:\n",
    "    passed_tests:[] = []\n",
    "    a_wordle = Wordle(prototype, max_attempts)\n",
    "    \n",
    "    # simulate a game with no correct answers\n",
    "    for count in range(1, max_attempts+1):\n",
    "        a_wordle.set_imitator(imitator) \n",
    "        test = (not a_wordle.is_max_attempts_reached())\n",
    "        passed_tests.append(test)\n",
    "    \n",
    "    test = (a_wordle.is_max_attempts_reached())\n",
    "    passed_tests.append(test)\n",
    "    # All tests must be true \n",
    "    return all(passed_tests)"
   ]
  },
  {
   "cell_type": "code",
   "execution_count": 48,
   "metadata": {},
   "outputs": [],
   "source": [
    "def assert_correct_letters(prototype:[], \n",
    "                            imitator:[], \n",
    "                            max_attempts:int) -> bool:\n",
    "    expected:{} = set()\n",
    "    a_wordle = Wordle(prototype, max_attempts)\n",
    "    a_wordle.set_imitator(imitator) \n",
    "    \n",
    "    if len(prototype) == len(imitator):\n",
    "        for letter in prototype:\n",
    "            if letter in imitator:\n",
    "                expected.add(letter)\n",
    "    \n",
    "    outcome = (a_wordle.get_correct_letters() == expected)\n",
    "    return a_wordle.get_correct_letters() == expected"
   ]
  },
  {
   "cell_type": "code",
   "execution_count": 49,
   "metadata": {},
   "outputs": [],
   "source": [
    "def assert_no_correct_letters(prototype:[], \n",
    "                           imitator:[], \n",
    "                           max_attempts:int,\n",
    "                           expected) -> bool:\n",
    "    \n",
    "    a_wordle = Wordle(prototype, max_attempts)\n",
    "    a_wordle.set_imitator(imitator) \n",
    "    return a_wordle.get_no_correct_letters() == expected\n",
    "       "
   ]
  },
  {
   "cell_type": "code",
   "execution_count": 50,
   "metadata": {},
   "outputs": [],
   "source": [
    "# Constant indicating tables columns using as test case\n",
    "PROTOTYPE    = 0\n",
    "IMITATOR     = 1\n",
    "MAX_ATTEMPTS = 2\n",
    "EXPECTED     = 3\n",
    "\n",
    "#execute test in a sequence - stop if one fails\n",
    "def exec_tests_per_case(prototype:[], \n",
    "                        imitator:[],\n",
    "                        max_attempts,\n",
    "                        expected) -> bool:\n",
    "    test_passed = True\n",
    "    \n",
    "    \n",
    "    print(\"prototype: \", prototype, \n",
    "          \" - imitator: \", imitator,\n",
    "          \" - max attempts\", max_attempts)\n",
    "    \n",
    "    assert assert_instantiation(prototype, max_attempts), \"failed Test instantiation \"\n",
    "    assert assert_prototype_length(prototype, imitator, max_attempts), \"failed no letters test\"\n",
    "    assert assert_length(prototype, imitator, max_attempts), \"failed different lengths\"\n",
    "    assert assert_decrease(prototype, imitator, max_attempts), \"failed attempts\"\n",
    "    assert assert_correct_letters(prototype, imitator, max_attempts) , \"failed correct lettres\"\n",
    "    assert assert_no_correct_letters(prototype, imitator, max_attempts, expected) , \"failed no correct lettres\"\n",
    "    return test_passed\n",
    "\n",
    "#Run the test\n",
    "def run_tests (test_table:[]):\n",
    "    outcome:bool = True\n",
    "    for case in test_table:\n",
    "        passed = exec_tests_per_case(case[PROTOTYPE],\n",
    "                                     case[IMITATOR],\n",
    "                                     case[MAX_ATTEMPTS],\n",
    "                                     case[EXPECTED])\n",
    "        \n",
    "    # All tests for every cases have been successful\n",
    "    print(\"All test successful! Great job!\")\n",
    "    \n",
    "    \n"
   ]
  },
  {
   "cell_type": "markdown",
   "metadata": {},
   "source": [
    "### The class"
   ]
  },
  {
   "cell_type": "code",
   "execution_count": 51,
   "metadata": {},
   "outputs": [],
   "source": [
    "\n",
    "class Wordle:\n",
    "    \"\"\"\n",
    "    A class that simulate wordle using a hidden word randomly\n",
    "    generated. It is not called gibbership wordle\n",
    "    \"\"\"\n",
    "    \n",
    "    def __init__(self,word_to_guess:[],max_attempts:int):\n",
    "        self.__PROTOTYPE:[]     = word_to_guess\n",
    "        self.counter:int        = max_attempts\n",
    "        self.imitator:[]        = []\n",
    "    \n",
    "    def get_no_letters(self) -> int:\n",
    "        return len(self.__PROTOTYPE)\n",
    "    \n",
    "    def set_imitator(self, guessed_word:[]):\n",
    "        if not self.is_max_attempts_reached():\n",
    "            self.counter -= 1\n",
    "            if  len(guessed_word) == self.get_no_letters(): \n",
    "                self.imitator = guessed_word\n",
    "                \n",
    "\n",
    "        if self.is_max_attempts_reached():\n",
    "            self.imitator = self.__PROTOTYPE\n",
    "            \n",
    "    def is_max_attempts_reached(self) -> bool:\n",
    "        return self.counter == 0\n",
    "    \n",
    "    def get_correct_letters(self) -> {}:\n",
    "        prototype = set(self.__PROTOTYPE)\n",
    "        imitator  = set(self.imitator)\n",
    "        return prototype.intersection(imitator)\n",
    "    \n",
    "    def get_no_correct_letters(self) -> int:\n",
    "        total_correct = 0\n",
    "        if len(self.imitator) == len(self.__PROTOTYPE):\n",
    "            indices = range(0,len(self.__PROTOTYPE))\n",
    "            for index in indices:\n",
    "                if self.__PROTOTYPE[index] == self.imitator[index]:\n",
    "                    total_correct += 1\n",
    "                \n",
    "        return total_correct"
   ]
  },
  {
   "cell_type": "markdown",
   "metadata": {},
   "source": [
    "### Execute the tests"
   ]
  },
  {
   "cell_type": "code",
   "execution_count": 52,
   "metadata": {},
   "outputs": [],
   "source": [
    "\n",
    "test_table = [['happy','runni',3,0],\n",
    "              ['happy','hinni',3,1],\n",
    "              ['happy','haini',3,2],\n",
    "              ['happy','hapni',3,3],\n",
    "              ['happy','happi',3,4],\n",
    "              ['happy','happy',3,5],\n",
    "              ['happy','hippy',3,4],\n",
    "              ['bonjour','bonjorno',3,0],\n",
    "              ['','',3,0]]\n"
   ]
  },
  {
   "cell_type": "code",
   "execution_count": 53,
   "metadata": {},
   "outputs": [
    {
     "name": "stdout",
     "output_type": "stream",
     "text": [
      "prototype:  happy  - imitator:  runni  - max attempts 3\n",
      "prototype:  happy  - imitator:  hinni  - max attempts 3\n",
      "prototype:  happy  - imitator:  haini  - max attempts 3\n",
      "prototype:  happy  - imitator:  hapni  - max attempts 3\n",
      "prototype:  happy  - imitator:  happi  - max attempts 3\n",
      "prototype:  happy  - imitator:  happy  - max attempts 3\n",
      "prototype:  happy  - imitator:  hippy  - max attempts 3\n",
      "prototype:  bonjour  - imitator:  bonjorno  - max attempts 3\n",
      "prototype:    - imitator:    - max attempts 3\n",
      "All test successful! Great job!\n"
     ]
    }
   ],
   "source": [
    "run_tests(test_table)\n"
   ]
  },
  {
   "cell_type": "markdown",
   "metadata": {},
   "source": [
    "## Let's play"
   ]
  },
  {
   "cell_type": "code",
   "execution_count": 54,
   "metadata": {},
   "outputs": [
    {
     "name": "stdout",
     "output_type": "stream",
     "text": [
      "5\n",
      "{'P', 't', 'y'}\n",
      "1\n"
     ]
    }
   ],
   "source": [
    "wordle = Wordle(\"Python\",5)\n",
    "# First Attempt\n",
    "print(wordle.counter)\n",
    "wordle.set_imitator(\"Pastry\")\n",
    "print(wordle.get_correct_letters())\n",
    "print(wordle.get_no_correct_letters())"
   ]
  },
  {
   "cell_type": "code",
   "execution_count": 55,
   "metadata": {},
   "outputs": [
    {
     "name": "stdout",
     "output_type": "stream",
     "text": [
      "counter :  4\n",
      "{'t', 'y', 'n', 'o', 'P'}\n",
      "1\n"
     ]
    }
   ],
   "source": [
    "# Second Attempt\n",
    "print(\"counter : \", wordle.counter)\n",
    "wordle.set_imitator(\"Pointy\")\n",
    "print(wordle.get_correct_letters())\n",
    "print(wordle.get_no_correct_letters())"
   ]
  },
  {
   "cell_type": "code",
   "execution_count": 56,
   "metadata": {},
   "outputs": [
    {
     "name": "stdout",
     "output_type": "stream",
     "text": [
      "counter :  3\n",
      "{'t', 'y', 'n', 'o', 'P'}\n",
      "1\n"
     ]
    }
   ],
   "source": [
    "# Third attempt\n",
    "print(\"counter : \", wordle.counter)\n",
    "wordle.set_imitator(\"Pointer\")\n",
    "print(wordle.get_correct_letters())\n",
    "print(wordle.get_no_correct_letters())"
   ]
  },
  {
   "cell_type": "code",
   "execution_count": 57,
   "metadata": {},
   "outputs": [
    {
     "name": "stdout",
     "output_type": "stream",
     "text": [
      "counter :  2\n",
      "{'t', 'y', 'n', 'o', 'h'}\n",
      "5\n"
     ]
    }
   ],
   "source": [
    "# Fourth attempt\n",
    "print(\"counter : \", wordle.counter)\n",
    "wordle.set_imitator(\"python\")\n",
    "print(wordle.get_correct_letters())\n",
    "print(wordle.get_no_correct_letters())"
   ]
  },
  {
   "cell_type": "code",
   "execution_count": null,
   "metadata": {},
   "outputs": [],
   "source": []
  }
 ],
 "metadata": {
  "kernelspec": {
   "display_name": "Python 3",
   "language": "python",
   "name": "python3"
  },
  "language_info": {
   "codemirror_mode": {
    "name": "ipython",
    "version": 3
   },
   "file_extension": ".py",
   "mimetype": "text/x-python",
   "name": "python",
   "nbconvert_exporter": "python",
   "pygments_lexer": "ipython3",
   "version": "3.8.6"
  }
 },
 "nbformat": 4,
 "nbformat_minor": 4
}
