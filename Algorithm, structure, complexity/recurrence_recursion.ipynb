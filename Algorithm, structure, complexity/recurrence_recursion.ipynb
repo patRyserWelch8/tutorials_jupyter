{
 "cells": [
  {
   "cell_type": "markdown",
   "id": "8ea02255",
   "metadata": {},
   "source": [
    "# Recursion and sequences\n",
    "\n",
    "Some recursion was used in [factorials](https://github.com/patRyserWelch8/tutorials_jupyter/blob/22J_new_tutorials/Algorithm%2C%20structure%2C%20complexity/Fractionals_intro_to_context.ipynb)"
   ]
  },
  {
   "cell_type": "code",
   "execution_count": null,
   "id": "0dc6a987",
   "metadata": {},
   "outputs": [],
   "source": [
    "import math"
   ]
  },
  {
   "cell_type": "markdown",
   "id": "7f8641db",
   "metadata": {},
   "source": [
    "# Fibonacci and Lucas numbers\n",
    "For more explanations, please, refer to [recursion, recurrence, and iteration](https://interestingcomputing.com/2015/05/07/recurrence-recursion-and-iterations/). The mathematical concepts are taught here in mathWorld;[Fibonacci](https://mathworld.wolfram.com/FibonacciNumber.html_) and [Lucas numbers](https://mathworld.wolfram.com/LucasNumber.html).  \n"
   ]
  },
  {
   "cell_type": "code",
   "execution_count": 12,
   "id": "ab18f669",
   "metadata": {},
   "outputs": [
    {
     "data": {
      "text/plain": [
       "89"
      ]
     },
     "execution_count": 12,
     "metadata": {},
     "output_type": "execute_result"
    }
   ],
   "source": [
    "def gen_fibonacci(number:int) -> int:\n",
    "    if number in [0,1]:\n",
    "        return 1\n",
    "    else:\n",
    "        return gen_fibonacci(number-2) + gen_fibonacci(number-1)\n",
    "    \n",
    "gen_fibonacci(10)"
   ]
  },
  {
   "cell_type": "code",
   "execution_count": 20,
   "id": "b0a2e2ad",
   "metadata": {},
   "outputs": [
    {
     "name": "stdout",
     "output_type": "stream",
     "text": [
      "[1]\n",
      "[1, 1]\n",
      "[1, 1, 2]\n",
      "[1, 1, 2, 3]\n",
      "[1, 1, 2, 3, 5]\n",
      "[1, 1, 2, 3, 5, 8]\n",
      "[1, 1, 2, 3, 5, 8, 13]\n",
      "[1, 1, 2, 3, 5, 8, 13, 21]\n",
      "[1, 1, 2, 3, 5, 8, 13, 21, 34]\n",
      "[1, 1, 2, 3, 5, 8, 13, 21, 34, 55]\n",
      "[1, 1, 2, 3, 5, 8, 13, 21, 34, 55, 89]\n",
      "[1, 1, 2, 3, 5, 8, 13, 21, 34, 55, 89, 144]\n",
      "[1, 1, 2, 3, 5, 8, 13, 21, 34, 55, 89, 144, 233]\n",
      "[1, 1, 2, 3, 5, 8, 13, 21, 34, 55, 89, 144, 233, 377]\n",
      "[1, 1, 2, 3, 5, 8, 13, 21, 34, 55, 89, 144, 233, 377, 610]\n",
      "[1, 1, 2, 3, 5, 8, 13, 21, 34, 55, 89, 144, 233, 377, 610, 987]\n",
      "[1, 1, 2, 3, 5, 8, 13, 21, 34, 55, 89, 144, 233, 377, 610, 987, 1597]\n",
      "[1, 1, 2, 3, 5, 8, 13, 21, 34, 55, 89, 144, 233, 377, 610, 987, 1597, 2584]\n",
      "[1, 1, 2, 3, 5, 8, 13, 21, 34, 55, 89, 144, 233, 377, 610, 987, 1597, 2584, 4181]\n",
      "[1, 1, 2, 3, 5, 8, 13, 21, 34, 55, 89, 144, 233, 377, 610, 987, 1597, 2584, 4181, 6765]\n"
     ]
    }
   ],
   "source": [
    "seq = []\n",
    "for number in range(0,20,1):\n",
    "    seq.append(gen_fibonacci(number))\n",
    "    print(seq)"
   ]
  },
  {
   "cell_type": "code",
   "execution_count": 17,
   "id": "2d4fc1f2",
   "metadata": {},
   "outputs": [
    {
     "data": {
      "text/plain": [
       "123"
      ]
     },
     "execution_count": 17,
     "metadata": {},
     "output_type": "execute_result"
    }
   ],
   "source": [
    "def gen_lucas_number(number:int) -> int:\n",
    "    if number == 0:\n",
    "        return 2\n",
    "    if number == 1:\n",
    "        return 1\n",
    "    else:\n",
    "        return gen_lucas_number(number-2) + gen_lucas_number(number-1)\n",
    "\n",
    "gen_lucas_number(10)"
   ]
  },
  {
   "cell_type": "code",
   "execution_count": 19,
   "id": "cf0ccca6",
   "metadata": {},
   "outputs": [
    {
     "name": "stdout",
     "output_type": "stream",
     "text": [
      "[2]\n",
      "[2, 1]\n",
      "[2, 1, 3]\n",
      "[2, 1, 3, 4]\n",
      "[2, 1, 3, 4, 7]\n",
      "[2, 1, 3, 4, 7, 11]\n",
      "[2, 1, 3, 4, 7, 11, 18]\n",
      "[2, 1, 3, 4, 7, 11, 18, 29]\n",
      "[2, 1, 3, 4, 7, 11, 18, 29, 47]\n",
      "[2, 1, 3, 4, 7, 11, 18, 29, 47, 76]\n",
      "[2, 1, 3, 4, 7, 11, 18, 29, 47, 76, 123]\n",
      "[2, 1, 3, 4, 7, 11, 18, 29, 47, 76, 123, 199]\n",
      "[2, 1, 3, 4, 7, 11, 18, 29, 47, 76, 123, 199, 322]\n",
      "[2, 1, 3, 4, 7, 11, 18, 29, 47, 76, 123, 199, 322, 521]\n",
      "[2, 1, 3, 4, 7, 11, 18, 29, 47, 76, 123, 199, 322, 521, 843]\n",
      "[2, 1, 3, 4, 7, 11, 18, 29, 47, 76, 123, 199, 322, 521, 843, 1364]\n",
      "[2, 1, 3, 4, 7, 11, 18, 29, 47, 76, 123, 199, 322, 521, 843, 1364, 2207]\n",
      "[2, 1, 3, 4, 7, 11, 18, 29, 47, 76, 123, 199, 322, 521, 843, 1364, 2207, 3571]\n",
      "[2, 1, 3, 4, 7, 11, 18, 29, 47, 76, 123, 199, 322, 521, 843, 1364, 2207, 3571, 5778]\n",
      "[2, 1, 3, 4, 7, 11, 18, 29, 47, 76, 123, 199, 322, 521, 843, 1364, 2207, 3571, 5778, 9349]\n"
     ]
    }
   ],
   "source": [
    "seq = []\n",
    "for number in range(0,20,1):\n",
    "    seq.append(gen_lucas_number(number))\n",
    "    print(seq)"
   ]
  },
  {
   "cell_type": "markdown",
   "id": "10653d33",
   "metadata": {},
   "source": [
    "# Geometric sequences\n",
    "\n",
    "[MathWorld](https://socratic.org/questions/what-is-a-recursive-formula-for-a-geometric-sequence) provides more mathematical explanations.\n"
   ]
  },
  {
   "cell_type": "code",
   "execution_count": 28,
   "id": "9e4b9de8",
   "metadata": {},
   "outputs": [
    {
     "data": {
      "text/plain": [
       "0.0009765625"
      ]
     },
     "execution_count": 28,
     "metadata": {},
     "output_type": "execute_result"
    }
   ],
   "source": [
    "def gen_geometric(number:int, common_ratio: float, first_term: int) -> float:\n",
    "    if number == 0:\n",
    "        return first_term\n",
    "    else:\n",
    "        return gen_geometric(number-1, common_ratio, first_term) * common_ratio\n",
    "\n",
    "    \n",
    "gen_geometric(10, 0.5, 1)"
   ]
  },
  {
   "cell_type": "code",
   "execution_count": 30,
   "id": "1f871226",
   "metadata": {},
   "outputs": [
    {
     "data": {
      "text/plain": [
       "[1,\n",
       " 0.5,\n",
       " 0.25,\n",
       " 0.125,\n",
       " 0.0625,\n",
       " 0.03125,\n",
       " 0.015625,\n",
       " 0.0078125,\n",
       " 0.00390625,\n",
       " 0.001953125]"
      ]
     },
     "execution_count": 30,
     "metadata": {},
     "output_type": "execute_result"
    }
   ],
   "source": [
    "seq = []\n",
    "for number in range(0,10):\n",
    "    seq.append(gen_geometric(number,0.5,1))\n",
    "seq"
   ]
  },
  {
   "cell_type": "code",
   "execution_count": 31,
   "id": "687306d4",
   "metadata": {},
   "outputs": [
    {
     "data": {
      "text/plain": [
       "[1,\n",
       " 1.5,\n",
       " 2.25,\n",
       " 3.375,\n",
       " 5.0625,\n",
       " 7.59375,\n",
       " 11.390625,\n",
       " 17.0859375,\n",
       " 25.62890625,\n",
       " 38.443359375]"
      ]
     },
     "execution_count": 31,
     "metadata": {},
     "output_type": "execute_result"
    }
   ],
   "source": [
    "seq = []\n",
    "for number in range(0,10):\n",
    "    seq.append(gen_geometric(number,1.5,1))\n",
    "seq"
   ]
  },
  {
   "cell_type": "markdown",
   "id": "b9f13ad2",
   "metadata": {},
   "source": [
    "# Quadratic recurrence equation\n",
    "\n",
    "[MathWorld](https://mathworld.wolfram.com/QuadraticRecurrenceEquation.html) provides more mathematical explanations."
   ]
  },
  {
   "cell_type": "code",
   "execution_count": 38,
   "id": "b5d1159d",
   "metadata": {},
   "outputs": [
    {
     "data": {
      "text/plain": [
       "1.585688351055212e+270"
      ]
     },
     "execution_count": 38,
     "metadata": {},
     "output_type": "execute_result"
    }
   ],
   "source": [
    "def gen_quadratic(number:int, a:int, b:int, c:int) -> float:\n",
    "    if number == 0:\n",
    "        return c\n",
    "    else:\n",
    "        return a * math.pow(gen_quadratic(number-1, a, b, c), 2) + b * gen_quadratic(number-1, a, b, c) + c\n",
    "\n",
    "gen_quadratic(10,.3,.3,4)"
   ]
  },
  {
   "cell_type": "code",
   "execution_count": 39,
   "id": "e5db53f0",
   "metadata": {},
   "outputs": [
    {
     "data": {
      "text/plain": [
       "[4,\n",
       " 10.0,\n",
       " 37.0,\n",
       " 425.8,\n",
       " 54523.432,\n",
       " 891857752.1471872,\n",
       " 2.386230752870674e+17,\n",
       " 1.708229161783723e+34,\n",
       " 8.754140607504962e+67,\n",
       " 2.29904933327902e+135]"
      ]
     },
     "execution_count": 39,
     "metadata": {},
     "output_type": "execute_result"
    }
   ],
   "source": [
    "seq = []\n",
    "for number in range(0,10):\n",
    "    seq.append(gen_quadratic(number,.3,.3,4))\n",
    "seq"
   ]
  },
  {
   "cell_type": "markdown",
   "id": "b3ae2281",
   "metadata": {},
   "source": [
    "# Complexity of recursion:\n",
    "\n",
    "[A quick summary](https://web.stanford.edu/class/archive/cs/cs106b/cs106b.1176/handouts/midterm/5-BigO.pdf)\n",
    "\n",
    "[Master theorem](https://bostjan-cigan.medium.com/understanding-time-complexity-of-recursive-algorithms-13b3efa3a322)"
   ]
  },
  {
   "cell_type": "code",
   "execution_count": null,
   "id": "b0b4001d",
   "metadata": {},
   "outputs": [],
   "source": []
  }
 ],
 "metadata": {
  "kernelspec": {
   "display_name": "Python 3",
   "language": "python",
   "name": "python3"
  },
  "language_info": {
   "codemirror_mode": {
    "name": "ipython",
    "version": 3
   },
   "file_extension": ".py",
   "mimetype": "text/x-python",
   "name": "python",
   "nbconvert_exporter": "python",
   "pygments_lexer": "ipython3",
   "version": "3.8.10"
  }
 },
 "nbformat": 4,
 "nbformat_minor": 5
}
