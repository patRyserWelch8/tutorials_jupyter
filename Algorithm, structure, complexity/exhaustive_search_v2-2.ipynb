{
 "cells": [
  {
   "cell_type": "markdown",
   "id": "2cc291bb",
   "metadata": {},
   "source": [
    "# Exhaustive search"
   ]
  },
  {
   "cell_type": "markdown",
   "id": "b3693c41",
   "metadata": {},
   "source": [
    "Some exhaustive search were explored in the [Mimicry and Wordle](https://github.com/patRyserWelch8/tutorials_jupyter/blob/main/Algorithm%2C%20structure%2C%20complexity/wordle.ipynb) notebook.  This notebook demonstrate how to reduce the comeplexity by simplifying some operations. \n",
    "\n",
    "We continue with this endeavour in this notebook. "
   ]
  },
  {
   "cell_type": "code",
   "execution_count": 2,
   "id": "8020b2ce",
   "metadata": {},
   "outputs": [],
   "source": [
    "import matplotlib.pyplot as plt\n",
    "import numpy as np\n",
    "import random\n",
    "import time\n",
    "from itertools import permutations \n",
    "import string\n",
    "import math\n",
    "%matplotlib inline\n",
    "\n",
    "#set seed\n",
    "random.seed(time.time() * 1000)\n"
   ]
  },
  {
   "cell_type": "markdown",
   "id": "d0bb1197",
   "metadata": {},
   "source": [
    "# Factors"
   ]
  },
  {
   "cell_type": "markdown",
   "id": "c7e1a329",
   "metadata": {},
   "source": [
    "[Factors](https://www.mathsisfun.com/numbers/factors-all-tool.html) are the integer  you multiply together to get another integer.  We use the integer value 15 to demonstrate how we could compute the factors. We rely on the [Modulo](https://www.mathsisfun.com/numbers/modulo.html) and [the set of natural numbers](https://www.mathsisfun.com/sets/number-types.html) to find our factors to identify whole numbers.\n",
    "\n",
    "    factors is an array of length one containing 15\n",
    "    For each number (n) in [2..14]\n",
    "        find the remainder class of n\n",
    "        if the remainder class is 0\n",
    "            add the n in factors.\n",
    "    \n"
   ]
  },
  {
   "cell_type": "code",
   "execution_count": 3,
   "id": "bc6ef375",
   "metadata": {},
   "outputs": [
    {
     "name": "stdout",
     "output_type": "stream",
     "text": [
      "product :  15\n"
     ]
    }
   ],
   "source": [
    "product = 15\n",
    "\n",
    "print(\"product : \" , product)\n"
   ]
  },
  {
   "cell_type": "code",
   "execution_count": 4,
   "id": "01c0be04",
   "metadata": {},
   "outputs": [
    {
     "name": "stdout",
     "output_type": "stream",
     "text": [
      "[14, 13, 12, 11, 10, 9, 8, 7, 6, 5, 4, 3, 2]\n"
     ]
    },
    {
     "data": {
      "text/plain": [
       "[15, 5, 3]"
      ]
     },
     "execution_count": 4,
     "metadata": {},
     "output_type": "execute_result"
    }
   ],
   "source": [
    "factors = [product]\n",
    "numbers = [*range(14,1,-1)]\n",
    "print(numbers)\n",
    "\n",
    "for number in numbers:\n",
    "    if (product % number) == 0:\n",
    "        factors.append(number)\n",
    "        \n",
    "factors"
   ]
  },
  {
   "cell_type": "markdown",
   "id": "aea6f5f7",
   "metadata": {},
   "source": [
    "__function name :__ find_factors\\\n",
    "__inputs        :__ _product_, an integer value\\\n",
    "__precondition  :__ the product is  a part of the set of natural numbers\\\n",
    "__postcondition :__ returns an array of natural numbers, that all have a remainder class of 0 of the product"
   ]
  },
  {
   "cell_type": "code",
   "execution_count": 5,
   "id": "f3c76b19",
   "metadata": {},
   "outputs": [],
   "source": [
    "def find_factors(product:int) -> []:\n",
    "    \"\"\"compute the factors of a given product\n",
    "    \n",
    "    Preconditions: A product is a whole number part of the natural set of numbers\n",
    "    Postcondition: Returns an array of natural numbers greater than 1. If the product is \n",
    "    prime, then the factors array contains only the product itself. Otherwise, the factors\n",
    "    array has a length greater than 2.\n",
    "    \"\"\"\n",
    "    factors = [product]\n",
    "    numbers = range(product-1,1,-1)\n",
    "    for number in numbers:\n",
    "        if (product % number) == 0:\n",
    "            factors.append(number)\n",
    "    return factors"
   ]
  },
  {
   "cell_type": "code",
   "execution_count": 6,
   "id": "d542e416",
   "metadata": {},
   "outputs": [
    {
     "name": "stdout",
     "output_type": "stream",
     "text": [
      "CPU times: user 4 µs, sys: 0 ns, total: 4 µs\n",
      "Wall time: 7.87 µs\n"
     ]
    },
    {
     "data": {
      "text/plain": [
       "[7]"
      ]
     },
     "execution_count": 6,
     "metadata": {},
     "output_type": "execute_result"
    }
   ],
   "source": [
    "%time find_factors(7)"
   ]
  },
  {
   "cell_type": "code",
   "execution_count": 7,
   "id": "99d08e16",
   "metadata": {},
   "outputs": [
    {
     "name": "stdout",
     "output_type": "stream",
     "text": [
      "CPU times: user 6 µs, sys: 1 µs, total: 7 µs\n",
      "Wall time: 9.54 µs\n"
     ]
    },
    {
     "data": {
      "text/plain": [
       "[21, 7, 3]"
      ]
     },
     "execution_count": 7,
     "metadata": {},
     "output_type": "execute_result"
    }
   ],
   "source": [
    "%time find_factors(21)"
   ]
  },
  {
   "cell_type": "code",
   "execution_count": 8,
   "id": "14eb9e7f",
   "metadata": {},
   "outputs": [
    {
     "name": "stdout",
     "output_type": "stream",
     "text": [
      "CPU times: user 6 µs, sys: 1e+03 ns, total: 7 µs\n",
      "Wall time: 9.3 µs\n"
     ]
    },
    {
     "data": {
      "text/plain": [
       "[36, 18, 12, 9, 6, 4, 3, 2]"
      ]
     },
     "execution_count": 8,
     "metadata": {},
     "output_type": "execute_result"
    }
   ],
   "source": [
    "%time find_factors(36)"
   ]
  },
  {
   "cell_type": "code",
   "execution_count": 9,
   "id": "11cef286",
   "metadata": {},
   "outputs": [
    {
     "name": "stdout",
     "output_type": "stream",
     "text": [
      "CPU times: user 59 µs, sys: 11 µs, total: 70 µs\n",
      "Wall time: 73 µs\n"
     ]
    },
    {
     "data": {
      "text/plain": [
       "[1235, 247, 95, 65, 19, 13, 5]"
      ]
     },
     "execution_count": 9,
     "metadata": {},
     "output_type": "execute_result"
    }
   ],
   "source": [
    "%time find_factors(1235)"
   ]
  },
  {
   "cell_type": "code",
   "execution_count": 10,
   "id": "bd0a8b59",
   "metadata": {},
   "outputs": [
    {
     "name": "stdout",
     "output_type": "stream",
     "text": [
      "CPU times: user 5.74 s, sys: 5.73 ms, total: 5.75 s\n",
      "Wall time: 5.75 s\n"
     ]
    },
    {
     "data": {
      "text/plain": [
       "[98641362,\n",
       " 49320681,\n",
       " 32880454,\n",
       " 16440227,\n",
       " 356106,\n",
       " 178053,\n",
       " 118702,\n",
       " 59351,\n",
       " 1662,\n",
       " 831,\n",
       " 554,\n",
       " 277,\n",
       " 6,\n",
       " 3,\n",
       " 2]"
      ]
     },
     "execution_count": 10,
     "metadata": {},
     "output_type": "execute_result"
    }
   ],
   "source": [
    "%time find_factors(98641362)"
   ]
  },
  {
   "cell_type": "markdown",
   "id": "ff413026",
   "metadata": {},
   "source": [
    "### Complexity \n",
    "\n",
    "Let's have consider each element of the algorithm. \n",
    "\n",
    "__factors = [product]__ \n",
    "\n",
    "It is constant -> $O(1)$\n",
    "\n",
    "__numbers = range(product-1,1,-1)__\n",
    "\n",
    "It may have a complexity of $O(n-2)$. We assume the implementation uses an iteration to generate the range of values. \n",
    "\n",
    "__for number in numbers:__ \n",
    "\n",
    "It is likely to be $O(n-2)$, the length of the range numbers without 1 and the product. \n",
    "\n",
    "__if (product % number) == 0:__\n",
    "\n",
    "We apply the modolu operator $O(1)$, the comparison has also a constant complexity $O(1)$.\n",
    "\n",
    "__factors.append(number):__\n",
    "\n",
    "It is constant -> $O(1)$\n",
    "    \n",
    "So the worst complexity is $O(((n-2) * (3 * O(1)) + O(1))$ -> $O(3n+1)$. It is unlikely to occur has no natural numbers will have factors of all the numbers in the subset $ N \\leq product$\n",
    "\n",
    "The best complexity is for prime numbers, where $O(((n-2) * (2 * O(1)) + O(1))$ -> $O(2n+1)$. Prime numbers have no remainder class of 0.  So the complexity is $\\theta(n)$\n",
    "\n",
    "\n",
    "   "
   ]
  },
  {
   "cell_type": "markdown",
   "id": "d5758971",
   "metadata": {},
   "source": [
    "This exhaustive search may be simplified, but we could cut the running time by adding preventing half of the computations. Instead of using an array we use a set, to prevent factors being repeated unnecessarily."
   ]
  },
  {
   "cell_type": "markdown",
   "id": "082adb9f",
   "metadata": {},
   "source": [
    "__function name :__ find_factors\\\n",
    "__inputs        :__ _product_, an integer value\\\n",
    "__precondition  :__ the product is  a part of the set of natural numbers\\\n",
    "__postcondition :__ returns a set of natural numbers, that all have a remainder class of 0 of the product"
   ]
  },
  {
   "cell_type": "code",
   "execution_count": 11,
   "id": "fb8f3be2",
   "metadata": {},
   "outputs": [],
   "source": [
    "def find_factors(product:int) -> {}:\n",
    "    \"\"\"compute the factors of a given product\n",
    "    \n",
    "    Preconditions: A product is a whole number part of the natural set of numbers\n",
    "    Postcondition: Returns an array of natural numbers greater than 1. If the product is \n",
    "    prime, then the factors array contains only the product itself. Otherwise, the factors\n",
    "    array has a length greater than 2.\n",
    "    \"\"\"\n",
    "    factors = {product}\n",
    "    numbers = range(product//2,1,-1)\n",
    "    for number in numbers:\n",
    "        if (product % number) == 0:\n",
    "            factors.add(number)\n",
    "            factors.add(product // number)\n",
    "    return factors"
   ]
  },
  {
   "cell_type": "code",
   "execution_count": 12,
   "id": "2de9fad8",
   "metadata": {},
   "outputs": [
    {
     "name": "stdout",
     "output_type": "stream",
     "text": [
      "CPU times: user 5 µs, sys: 1e+03 ns, total: 6 µs\n",
      "Wall time: 8.34 µs\n"
     ]
    },
    {
     "data": {
      "text/plain": [
       "{7}"
      ]
     },
     "execution_count": 12,
     "metadata": {},
     "output_type": "execute_result"
    }
   ],
   "source": [
    "%time find_factors(7)"
   ]
  },
  {
   "cell_type": "code",
   "execution_count": 13,
   "id": "85be54a1",
   "metadata": {},
   "outputs": [
    {
     "name": "stdout",
     "output_type": "stream",
     "text": [
      "CPU times: user 7 µs, sys: 1 µs, total: 8 µs\n",
      "Wall time: 11.7 µs\n"
     ]
    },
    {
     "data": {
      "text/plain": [
       "{3, 7, 21}"
      ]
     },
     "execution_count": 13,
     "metadata": {},
     "output_type": "execute_result"
    }
   ],
   "source": [
    "%time find_factors(21)"
   ]
  },
  {
   "cell_type": "code",
   "execution_count": 14,
   "id": "6963dc14",
   "metadata": {},
   "outputs": [
    {
     "name": "stdout",
     "output_type": "stream",
     "text": [
      "CPU times: user 7 µs, sys: 0 ns, total: 7 µs\n",
      "Wall time: 9.3 µs\n"
     ]
    },
    {
     "data": {
      "text/plain": [
       "{2, 3, 4, 6, 9, 12, 18, 36}"
      ]
     },
     "execution_count": 14,
     "metadata": {},
     "output_type": "execute_result"
    }
   ],
   "source": [
    "%time find_factors(36)"
   ]
  },
  {
   "cell_type": "code",
   "execution_count": 15,
   "id": "8fcbd15f",
   "metadata": {},
   "outputs": [
    {
     "name": "stdout",
     "output_type": "stream",
     "text": [
      "CPU times: user 38 µs, sys: 0 ns, total: 38 µs\n",
      "Wall time: 40.3 µs\n"
     ]
    },
    {
     "data": {
      "text/plain": [
       "{5, 13, 19, 65, 95, 247, 1235}"
      ]
     },
     "execution_count": 15,
     "metadata": {},
     "output_type": "execute_result"
    }
   ],
   "source": [
    "%time find_factors(1235)"
   ]
  },
  {
   "cell_type": "code",
   "execution_count": 16,
   "id": "5b528539",
   "metadata": {},
   "outputs": [
    {
     "name": "stdout",
     "output_type": "stream",
     "text": [
      "CPU times: user 2.91 s, sys: 3.82 ms, total: 2.92 s\n",
      "Wall time: 2.91 s\n"
     ]
    },
    {
     "data": {
      "text/plain": [
       "{2,\n",
       " 3,\n",
       " 6,\n",
       " 277,\n",
       " 554,\n",
       " 831,\n",
       " 1662,\n",
       " 59351,\n",
       " 118702,\n",
       " 178053,\n",
       " 356106,\n",
       " 16440227,\n",
       " 32880454,\n",
       " 49320681,\n",
       " 98641362}"
      ]
     },
     "execution_count": 16,
     "metadata": {},
     "output_type": "execute_result"
    }
   ],
   "source": [
    "%time find_factors(98641362)"
   ]
  },
  {
   "cell_type": "markdown",
   "id": "ae33e551",
   "metadata": {},
   "source": [
    "### Complexity \n",
    "\n",
    "Let's have consider each element of the algorithm. \n",
    "\n",
    "__factors = [product]__ \n",
    "It is constant -> $O(1)$\n",
    "\n",
    "__numbers = range(product//2),1,-1)__int\n",
    "\n",
    "It may have a complexity of $O((n/2)-1$. We assume the implementation uses an iteration to generate the range of values. \n",
    "\n",
    "__for number in numbers:__ \n",
    "It is likely to be $O(n/2)-1$, the length of the range numbers. \n",
    "\n",
    "__if (product % number) == 0:__\n",
    "\n",
    "We apply the modolu operator $O(1)$, the comparison has also a constant complexity $O(1)$.\n",
    "\n",
    "__factors.append(number):__\n",
    "It is constant -> $O(1)$\n",
    "\n",
    "__factors.add(product // number):__\n",
    "It is constant -> $O(1)$\n",
    "    \n",
    "So the worst complexity is $O(((n/2) * (4 * O(1)) + O(1))$ -> $O(2n+1)$. \n",
    "\n",
    "The best complexity is for prime numbers, where $O((((n/2)) * (2* O(1)) + O(1))$ -> $O(n+1)$. Prime numbers have no remainder class of 0.  So the complexity is $\\theta(n)$\n",
    "\n",
    "\n",
    "   "
   ]
  },
  {
   "cell_type": "markdown",
   "id": "7978793b",
   "metadata": {},
   "source": [
    "## Comparison of both algorithms"
   ]
  },
  {
   "cell_type": "code",
   "execution_count": 17,
   "id": "cf429306",
   "metadata": {},
   "outputs": [
    {
     "data": {
      "text/plain": [
       "Text(0.5, 1.0, 'Worse case complexity')"
      ]
     },
     "execution_count": 17,
     "metadata": {},
     "output_type": "execute_result"
    },
    {
     "data": {
      "image/png": "[encoded data removed]",
      "text/plain": [
       "<Figure size 1440x432 with 1 Axes>"
      ]
     },
     "metadata": {
      "needs_background": "light"
     },
     "output_type": "display_data"
    }
   ],
   "source": [
    "xs          = range(1,10001, 10) \n",
    "alg_no_1_ys = [3*x+1 for x in xs]\n",
    "alg_no_2_ys = [2*x+1 for x in xs]\n",
    "plt.figure(figsize=(20,6))\n",
    "plt.plot(xs, alg_no_1_ys, color = \"red\", label=\"alg no 1\" )\n",
    "plt.plot(xs, alg_no_2_ys, color = \"black\", label=\"alg no 2\" )\n",
    "plt.xlabel(\"Number compared (unit)\")\n",
    "plt.ylabel(\"Algorithm no 1\")\n",
    "plt.title(\"Worse case complexity\")\n"
   ]
  },
  {
   "cell_type": "code",
   "execution_count": 18,
   "id": "d9b6baa6",
   "metadata": {},
   "outputs": [
    {
     "data": {
      "text/plain": [
       "Text(0.5, 1.0, 'Best case complexity')"
      ]
     },
     "execution_count": 18,
     "metadata": {},
     "output_type": "execute_result"
    },
    {
     "data": {
      "image/png": "[encoded data removed]",
      "text/plain": [
       "<Figure size 1440x432 with 1 Axes>"
      ]
     },
     "metadata": {
      "needs_background": "light"
     },
     "output_type": "display_data"
    }
   ],
   "source": [
    "xs          = range(1,10001, 10) \n",
    "alg_no_1_ys = [2*x+1 for x in xs]\n",
    "alg_no_2_ys = [x+1 for x in xs]\n",
    "plt.figure(figsize=(20,6))\n",
    "plt.plot(xs, alg_no_1_ys, color = \"red\", label=\"alg no 1\")\n",
    "plt.plot(xs, alg_no_2_ys, color = \"black\", label=\"alg no 2\")\n",
    "plt.xlabel(\"Number compared (unit)\")\n",
    "plt.ylabel(\"Algorithm no 1\")\n",
    "plt.title(\"Best case complexity\")\n"
   ]
  },
  {
   "cell_type": "markdown",
   "id": "8ab1213f",
   "metadata": {},
   "source": [
    "# Traveling salesman Problem (TSP)"
   ]
  },
  {
   "cell_type": "markdown",
   "id": "bd961669",
   "metadata": {},
   "source": [
    "Some more information about the TSP can be found in [this thesis](https://etheses.whiterose.ac.uk/19011/) and [wikipedia](https://en.wikipedia.org/wiki/Travelling_salesman_problem). In this example we will simulate some _dummy_ and short instances. The [National TSP instances](https://www.math.uwaterloo.ca/tsp/world/countries.html) shows some long computations and illustrates why exhaustive search become infeasible rapidly."
   ]
  },
  {
   "cell_type": "markdown",
   "id": "3ce96412",
   "metadata": {},
   "source": [
    "## Problem definition\n",
    "\n",
    "_Given a set of cities along with the cost of travel between each pair of them, traveling salesman problem, or TSP for short, is to find the cheapest way of visiting all the cities and returning the starting point._[1]\n",
    "\n",
    "[1] David L Applegate, Robert E Bixby, Vasek Chvatal, and William J Cook. The traveling salesman problem: a computational study. Princeton university press, 2011.\n"
   ]
  },
  {
   "cell_type": "markdown",
   "id": "b3409ccb",
   "metadata": {},
   "source": [
    "## A simple example\n",
    "\n",
    "This example uses five cities named A, B, C, D, E.  The distance between each city is in km, but randomly generated. So each time the cells are executed a new solution may exist. \n",
    "\n",
    "We compute the number of pair of cities. We use a complete graph to compute the number of vertices and therefore $\\frac{n(n-1)}{2}$. An explanation can be found [here](https://mathworld.wolfram.com/CompleteGraph.html)\n",
    "\n"
   ]
  },
  {
   "cell_type": "code",
   "execution_count": 19,
   "id": "65fafecf",
   "metadata": {},
   "outputs": [
    {
     "name": "stdout",
     "output_type": "stream",
     "text": [
      "Cities:\n"
     ]
    }
   ],
   "source": [
    "print(\"Cities:\")\n",
    "no_cities = 5\n",
    "cities = set(string.ascii_uppercase[:no_cities])\n"
   ]
  },
  {
   "cell_type": "code",
   "execution_count": 32,
   "id": "f9851c3f",
   "metadata": {},
   "outputs": [],
   "source": [
    "def build_dist_table_rand(no_cities:int)->[]:\n",
    "    \"\"\"\n",
    "    Build a table of distances between each city. We consider each city a vertex in a digraph\n",
    "    and the distances the edges.\n",
    "    \n",
    "    preconditions: no_cities is greater than 2.\n",
    "    postconditions: returns a list of tuples. Each tuple represent a distinct permulation \n",
    "    of pairs of cities with a distance in km. The list is sorted alphabetically by vertices. \n",
    "    The number of explected rows is (no_cities * (no_cities-1))/2\n",
    "    \"\"\"\n",
    "    assert(no_cities > 2)\n",
    "    # initialise some values\n",
    "    cities         = list(string.ascii_uppercase[:no_cities])\n",
    "    pairs          = int((no_cities * (no_cities-1))/2)\n",
    "    distances      = [random.randrange(10, 2000) for x in range(0,pairs, 1)]\n",
    "    all_poss_pairs = list(permutations(cities,2))\n",
    "    distinct_pairs = all_poss_pairs[0: no_cities-1]\n",
    "    all_cities     = range(1,no_cities-1,1)\n",
    "    dist_table     = []\n",
    "   \n",
    "    \n",
    "    # reduce pairs to distinct pairs\n",
    "    for city_no  in all_cities:\n",
    "        first = city_no * (no_cities-1)\n",
    "        last  = (city_no+1) * (no_cities) - (city_no + 1)\n",
    "        pairs = all_poss_pairs[first:last]\n",
    "        distinct_pairs = distinct_pairs + pairs[city_no: len(pairs)]\n",
    "    \n",
    "    # matches distances and pairs to build dist table\n",
    "    indices = range(0, len(distances), 1)\n",
    "    for index in indices:\n",
    "        entry = (distinct_pairs[index][0], distinct_pairs[index][1], distances[index])\n",
    "        dist_table.append(entry)\n",
    "   \n",
    "    return dist_table\n",
    "\n"
   ]
  },
  {
   "cell_type": "code",
   "execution_count": 21,
   "id": "ceae4329",
   "metadata": {},
   "outputs": [
    {
     "data": {
      "text/plain": [
       "[('A', 'B', 1081),\n",
       " ('A', 'C', 821),\n",
       " ('A', 'D', 1545),\n",
       " ('A', 'E', 1899),\n",
       " ('A', 'F', 1833),\n",
       " ('A', 'G', 1947),\n",
       " ('B', 'C', 311),\n",
       " ('B', 'D', 1656),\n",
       " ('B', 'E', 109),\n",
       " ('B', 'F', 1092),\n",
       " ('B', 'G', 1406),\n",
       " ('C', 'D', 371),\n",
       " ('C', 'E', 35),\n",
       " ('C', 'F', 254),\n",
       " ('C', 'G', 907),\n",
       " ('D', 'E', 988),\n",
       " ('D', 'F', 245),\n",
       " ('D', 'G', 966),\n",
       " ('E', 'F', 193),\n",
       " ('E', 'G', 772),\n",
       " ('F', 'G', 1829)]"
      ]
     },
     "execution_count": 21,
     "metadata": {},
     "output_type": "execute_result"
    }
   ],
   "source": [
    "all_distances = build_dist_table_rand(7)\n",
    "all_distances"
   ]
  },
  {
   "cell_type": "markdown",
   "id": "bfc6f0dd",
   "metadata": {},
   "source": [
    "### Let's compute length of a tour\n",
    "\n"
   ]
  },
  {
   "cell_type": "code",
   "execution_count": null,
   "id": "5bd6f2f1",
   "metadata": {},
   "outputs": [],
   "source": [
    "def find_dist_between_cities(first_city:str, second_city:str, all_distances:[]) -> int:\n",
    "    \"\"\"\n",
    "    search for the distance between two given cities. \n",
    "    preconditions: \n",
    "        - first and second city must be a non-empty string\n",
    "        - all_distances must be not empty and contains tuples of 3 elements.\n",
    "    postconditions: returns the distance between two cities. If the cities are not found, \n",
    "    then a zero length is returned.\n",
    "    \"\"\"\n",
    "    assert(len(first_city) > 0)\n",
    "    assert(len(second_city) > 0)\n",
    "    assert(len(all_distances) > 0)\n",
    "    assert(len(all_distances[0]) == 3)\n",
    "    \n",
    "    distance = 0\n",
    "    \n",
    "    if first_city < second_city:\n",
    "        first  = first_city\n",
    "        second = second_city\n",
    "    else:\n",
    "        first  = second_city\n",
    "        second = first_city\n",
    "        \n",
    "    len_dist  = len(all_distances)\n",
    "    index = 0 \n",
    "    while index < len_dist:\n",
    "        if (all_distances[index][0] == first) & (all_distances[index][1] == second):\n",
    "            distance = all_distances[index][2]\n",
    "            index = len_dist\n",
    "        else :\n",
    "            if index < (len_dist-1):\n",
    "                index = index + 1\n",
    "            else:\n",
    "                index = len_dist\n",
    "            \n",
    "    return distance\n",
    "\n",
    "print(find_dist_between_cities(\"A\",\"B\", all_distances))\n",
    "print(find_dist_between_cities(\"E\",\"D\", all_distances))\n",
    "print(find_dist_between_cities(\"D\",\"D\", all_distances))\n",
    "        \n",
    "        "
   ]
  },
  {
   "cell_type": "code",
   "execution_count": null,
   "id": "ac28d9ba",
   "metadata": {},
   "outputs": [],
   "source": [
    "def total_length_tour(tour:[], all_distances:[]) -> int:\n",
    "    \"\"\"\n",
    "    compute the total length of a given tour\n",
    "    preconditions: \n",
    "        - tour is not empty\n",
    "        - all_distances must be not empty and contains tuples of 3 elements.\n",
    "    postconditions: returns the \n",
    "    \"\"\"\n",
    "    assert(len(tour) > 0)\n",
    "    assert(len(all_distances) > 0)\n",
    "    assert(len(all_distances[0]) == 3)\n",
    "    \n",
    "    tour_length = 0\n",
    "    indices = range(0, len(tour), 1)\n",
    "    for index in indices:\n",
    "\n",
    "        if index == len(tour)-1:\n",
    "            first  = tour[len(tour)-1]\n",
    "            second = tour[0]\n",
    "        else:\n",
    "            first  = tour[index]\n",
    "            second = tour[index+1]\n",
    "        distance = find_dist_between_cities(first,second, all_distances)\n",
    "        tour_length = tour_length + distance\n",
    "        \n",
    "    return tour_length\n",
    "\n",
    "print(total_length_tour([\"A\", \"B\", \"C\", \"D\", \"E\"],all_distances))\n",
    "print(total_length_tour([\"E\", \"D\", \"C\", \"B\", \"A\"],all_distances))\n",
    "    "
   ]
  },
  {
   "cell_type": "markdown",
   "id": "2150be7e",
   "metadata": {},
   "source": [
    "### Exhaustive search to find the shortest tour"
   ]
  },
  {
   "cell_type": "code",
   "execution_count": 42,
   "id": "3770e926",
   "metadata": {},
   "outputs": [],
   "source": [
    "def find_shortest_tour(cities:str, all_distances:[]) -> ():\n",
    "    \"\"\"\n",
    "    compute the shortest tour for n cities.\n",
    "    preconditions: a non-empty string of cities and a non-empty distance table.\n",
    "    postconditions: return a tuple with made of a tour and its total length.  The shortest \n",
    "    tour is search exhaustively through all the possible permutations of cities; \n",
    "    that is a total of squared number of cities in total. \n",
    "    \"\"\"\n",
    "    \n",
    "    assert(len(cities) > 0)\n",
    "    assert(len(all_distances) > 0)\n",
    "    \n",
    "    # All permutations\n",
    "    tours = list(permutations(cities,len(cities)))\n",
    "    best_tour = (tours[0],total_length_tour(tours[0],all_distances))\n",
    "    most_tours = tours[1:len(tours)-1]\n",
    "    \n",
    "    for tour in most_tours:\n",
    "        current_tour = (tour ,total_length_tour(tour ,all_distances))\n",
    "        if (current_tour[1] < best_tour[1]):\n",
    "            best_tour = current_tour\n",
    "    \n",
    "    return best_tour    "
   ]
  },
  {
   "cell_type": "code",
   "execution_count": 35,
   "id": "79288e24",
   "metadata": {},
   "outputs": [
    {
     "name": "stdout",
     "output_type": "stream",
     "text": [
      "The minimum tour length is : \n",
      "CPU times: user 2min 44s, sys: 240 ms, total: 2min 45s\n",
      "Wall time: 2min 45s\n"
     ]
    },
    {
     "data": {
      "text/plain": [
       "(('C', 'G', 'J', 'D', 'A', 'H', 'B', 'F', 'I', 'E'), 3341)"
      ]
     },
     "execution_count": 35,
     "metadata": {},
     "output_type": "execute_result"
    }
   ],
   "source": [
    "print(\"The minimum tour length is : \")\n",
    "%time find_shortest_tour(cities, all_distances)"
   ]
  },
  {
   "cell_type": "markdown",
   "id": "cb9397fb",
   "metadata": {},
   "source": [
    "## Let's explore other instances with more cities\n",
    "\n",
    "We explore the running time and the theta complexity. "
   ]
  },
  {
   "cell_type": "markdown",
   "id": "4185bfb9",
   "metadata": {},
   "source": [
    "## Three cities"
   ]
  },
  {
   "cell_type": "code",
   "execution_count": 36,
   "id": "bfe279e9",
   "metadata": {},
   "outputs": [
    {
     "name": "stdout",
     "output_type": "stream",
     "text": [
      "maximum of number of tours :  9.0\n",
      "{'C', 'A', 'B'}\n"
     ]
    }
   ],
   "source": [
    "no_cities = 3\n",
    "cities    = set(string.ascii_uppercase[:no_cities])\n",
    "print(\"maximum of number of tours : \", math.pow(no_cities,2))\n",
    "print(cities)"
   ]
  },
  {
   "cell_type": "code",
   "execution_count": 37,
   "id": "2cd94e63",
   "metadata": {},
   "outputs": [
    {
     "data": {
      "text/plain": [
       "[('A', 'B', 602), ('A', 'C', 315), ('B', 'C', 1730)]"
      ]
     },
     "execution_count": 37,
     "metadata": {},
     "output_type": "execute_result"
    }
   ],
   "source": [
    "all_distances = build_dist_table_rand(no_cities)\n",
    "all_distances"
   ]
  },
  {
   "cell_type": "code",
   "execution_count": 38,
   "id": "b50e2196",
   "metadata": {},
   "outputs": [
    {
     "name": "stdout",
     "output_type": "stream",
     "text": [
      "The minimum tour length is : \n",
      "CPU times: user 48 µs, sys: 0 ns, total: 48 µs\n",
      "Wall time: 52 µs\n"
     ]
    },
    {
     "data": {
      "text/plain": [
       "(('C', 'A', 'B'), 2647)"
      ]
     },
     "execution_count": 38,
     "metadata": {},
     "output_type": "execute_result"
    }
   ],
   "source": [
    "print(\"The minimum tour length is : \")\n",
    "%time find_shortest_tour(cities, all_distances)"
   ]
  },
  {
   "cell_type": "markdown",
   "id": "75f4e322",
   "metadata": {},
   "source": [
    "## 7 cities"
   ]
  },
  {
   "cell_type": "code",
   "execution_count": 39,
   "id": "4fd61faf",
   "metadata": {},
   "outputs": [
    {
     "name": "stdout",
     "output_type": "stream",
     "text": [
      "maximum of number of tours :  49.0\n",
      "{'C', 'A', 'B', 'G', 'F', 'D', 'E'}\n",
      "The minimum tour length is : \n",
      "CPU times: user 84.6 ms, sys: 3.99 ms, total: 88.6 ms\n",
      "Wall time: 87.8 ms\n"
     ]
    },
    {
     "data": {
      "text/plain": [
       "(('C', 'G', 'A', 'B', 'D', 'F', 'E'), 5038)"
      ]
     },
     "execution_count": 39,
     "metadata": {},
     "output_type": "execute_result"
    }
   ],
   "source": [
    "\n",
    "\n",
    "no_cities = 7\n",
    "cities    = set(string.ascii_uppercase[:no_cities])\n",
    "print(\"maximum of number of tours : \", math.pow(no_cities,2))\n",
    "print(cities)\n",
    "\n",
    "all_distances = build_dist_table_rand(no_cities)\n",
    "all_distances\n",
    "\n",
    "print(\"The minimum tour length is : \")\n",
    "%time find_shortest_tour(cities, all_distances)## Three cities"
   ]
  },
  {
   "cell_type": "markdown",
   "id": "47133ee7",
   "metadata": {},
   "source": [
    "## 10 cities "
   ]
  },
  {
   "cell_type": "code",
   "execution_count": 40,
   "id": "a0aad07f",
   "metadata": {},
   "outputs": [
    {
     "name": "stdout",
     "output_type": "stream",
     "text": [
      "maximum of number of tours :  100.0\n",
      "{'C', 'H', 'I', 'A', 'B', 'G', 'F', 'D', 'J', 'E'}\n",
      "The minimum tour length is : \n",
      "CPU times: user 2min 43s, sys: 192 ms, total: 2min 43s\n",
      "Wall time: 2min 43s\n"
     ]
    },
    {
     "data": {
      "text/plain": [
       "(('C', 'B', 'G', 'J', 'D', 'F', 'A', 'H', 'I', 'E'), 3930)"
      ]
     },
     "execution_count": 40,
     "metadata": {},
     "output_type": "execute_result"
    }
   ],
   "source": [
    "no_cities = 10\n",
    "cities    = set(string.ascii_uppercase[:no_cities])\n",
    "print(\"maximum of number of tours : \", math.pow(no_cities,2))\n",
    "print(cities)\n",
    "\n",
    "all_distances = build_dist_table_rand(no_cities)\n",
    "all_distances\n",
    "\n",
    "print(\"The minimum tour length is : \")\n",
    "%time find_shortest_tour(cities, all_distances)"
   ]
  },
  {
   "cell_type": "markdown",
   "id": "1956f47c",
   "metadata": {},
   "source": [
    "## Complexity\n",
    "\n",
    "\n",
    "[Complexity of exhaustive search and TSP](https://crab.rutgers.edu/users/guyk/es.pdf)\n",
    "\n",
    "The exhaustive search itself remains $\\theta(n)$. However, generating all the possible permutations of tours is $\\theta(n!)$ [see explanations](https://leadcoding.in/find-all-the-permutations-of-an-array/). Therefore, the exponential complexity is higher than the linear complexity. So we assume the complexity is a factorial. \n",
    "\n",
    "Looking at the execution time - which are different from the time complexity - 10 cities tooks minutes rather milliseconds. It demonstrates how quickly exhaustive search can become obsolete and infeasible to use. "
   ]
  },
  {
   "cell_type": "code",
   "execution_count": 46,
   "id": "bbcc416b",
   "metadata": {},
   "outputs": [
    {
     "data": {
      "text/plain": [
       "Text(0.5, 1.0, 'Time complexity')"
      ]
     },
     "execution_count": 46,
     "metadata": {},
     "output_type": "execute_result"
    },
    {
     "data": {
      "image/png": "[encoded data removed]",
      "text/plain": [
       "<Figure size 1440x432 with 1 Axes>"
      ]
     },
     "metadata": {
      "needs_background": "light"
     },
     "output_type": "display_data"
    }
   ],
   "source": [
    "xs = range(1,10, 1) \n",
    "ys = [math.factorial(x) for x in xs]\n",
    "plt.figure(figsize=(20,6))\n",
    "plt.plot(xs, ys, color = \"red\",  )\n",
    "plt.xlabel(\"Number of cities(unit)\")\n",
    "plt.ylabel(\"Algorithm no 1\")\n",
    "plt.title(\"Time complexity\")\n"
   ]
  },
  {
   "cell_type": "code",
   "execution_count": 51,
   "id": "893824cd",
   "metadata": {},
   "outputs": [
    {
     "data": {
      "text/plain": [
       "6"
      ]
     },
     "execution_count": 51,
     "metadata": {},
     "output_type": "execute_result"
    }
   ],
   "source": [
    "math.factorial(3)"
   ]
  },
  {
   "cell_type": "code",
   "execution_count": 52,
   "id": "d11bb703",
   "metadata": {},
   "outputs": [
    {
     "data": {
      "text/plain": [
       "120"
      ]
     },
     "execution_count": 52,
     "metadata": {},
     "output_type": "execute_result"
    }
   ],
   "source": [
    "math.factorial(5)"
   ]
  },
  {
   "cell_type": "code",
   "execution_count": 53,
   "id": "6eec2947",
   "metadata": {},
   "outputs": [
    {
     "data": {
      "text/plain": [
       "5040"
      ]
     },
     "execution_count": 53,
     "metadata": {},
     "output_type": "execute_result"
    }
   ],
   "source": [
    "math.factorial(7)"
   ]
  },
  {
   "cell_type": "code",
   "execution_count": 54,
   "id": "2e130ac5",
   "metadata": {},
   "outputs": [
    {
     "data": {
      "text/plain": [
       "3628800"
      ]
     },
     "execution_count": 54,
     "metadata": {},
     "output_type": "execute_result"
    }
   ],
   "source": [
    "math.factorial(10)"
   ]
  },
  {
   "cell_type": "code",
   "execution_count": null,
   "id": "73a285ee",
   "metadata": {},
   "outputs": [],
   "source": []
  }
 ],
 "metadata": {
  "kernelspec": {
   "display_name": "Python 3",
   "language": "python",
   "name": "python3"
  }
 },
 "nbformat": 4,
 "nbformat_minor": 5
}
