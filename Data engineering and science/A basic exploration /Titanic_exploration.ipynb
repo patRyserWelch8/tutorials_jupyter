{
 "cells": [
  {
   "cell_type": "markdown",
   "id": "9d0a2f3c",
   "metadata": {},
   "source": [
    "__Note to readers:__\n",
    "\n",
    "This notebook has been created and is being used to demonstrate some pragmatic and practical application of some basic statistical methodologies.  The content assume the intended audience may have yet develop a graduate knowledge of statistics and statistical methodologies.  The intended audience may have yet used Python and Pandas for less than 6 months. They may not be profecient at it yet. So, the examples may use code that may seem inefficient to Pandas expert.  \n",
    "\n",
    "Statistical experts or Pandas expert, please, use the techniques you are know to achieve the same goals."
   ]
  },
  {
   "cell_type": "markdown",
   "id": "7dca2520",
   "metadata": {},
   "source": [
    "# Let's explore the Titanic dataset"
   ]
  },
  {
   "cell_type": "markdown",
   "id": "1f0ff944",
   "metadata": {},
   "source": [
    "This notebook uses the [Titanic dataset](https://www.kaggle.com/competitions/titanic/data?select=test.csv). It contains the list of passengers and information collated.  We are assuming, at the time of writing, no individual listed on this dataset are still alive, therefore, the data protection act and other legistation do not apply to the data. \n",
    "\n",
    "Further information about the Titanic ship and disaster can be found on [Wikipedia](https://en.wikipedia.org/wiki/TitanicWikipedia) and [Google Scholar](https://scholar.google.co.uk/scholar?hl=en&as_sdt=0%2C5&q=titanic+sinking&oq=Titanic+) provides peer-reviewed publications. "
   ]
  },
  {
   "cell_type": "markdown",
   "id": "a2aa59e1",
   "metadata": {},
   "source": [
    "# Libraries"
   ]
  },
  {
   "cell_type": "code",

   "execution_count": 69,

   "id": "c7b329a7",
   "metadata": {},
   "outputs": [],
   "source": [
    "import pandas as pd\n",
    "import matplotlib.pyplot as plt\n",
    "import scipy.stats\n",
    "from scipy.stats import f_oneway\n",
    "from scipy import stats\n",
    "%matplotlib inline"
   ]
  },
  {
   "cell_type": "markdown",
   "id": "543165b1",
   "metadata": {},
   "source": [
    "# The dataset"
   ]
  },
  {
   "cell_type": "markdown",
   "id": "752adaac",
   "metadata": {},
   "source": [
    "The dataset has been obtained from [Kaggle](https://www.kaggle.com/competitions/titanic/data?select=test.csv). It is free to use.   We upload the data, explore the meta-data of both datasets. \n",
    "\n",
    "https://www.openml.org/search?type=data&sort=runs&id=40945&status=active\n",
    "\n",
    "We discover the training dataset has a survivor column, which the test dataset has not. The training dataset is also much larger than the test dataset, which is expected for machine learning exploration. "
   ]
  },
  {
   "cell_type": "code",
   "execution_count": 2,
   "id": "00724e08",
   "metadata": {},
   "outputs": [
    {
     "name": "stdout",
     "output_type": "stream",
     "text": [
      "Untitled.ipynb\tdata.csv  phpMYEkMl.arff  test.csv  train.csv\r\n"
     ]
    }
   ],
   "source": [
    "!ls data"
   ]
  },
  {
   "cell_type": "code",
   "execution_count": 3,
   "id": "2a07b360",
   "metadata": {},
   "outputs": [
    {
     "data": {
      "text/html": [
       "<div>\n",
       "<style scoped>\n",
       "    .dataframe tbody tr th:only-of-type {\n",
       "        vertical-align: middle;\n",
       "    }\n",
       "\n",
       "    .dataframe tbody tr th {\n",
       "        vertical-align: top;\n",
       "    }\n",
       "\n",
       "    .dataframe thead th {\n",
       "        text-align: right;\n",
       "    }\n",
       "</style>\n",
       "<table border=\"1\" class=\"dataframe\">\n",
       "  <thead>\n",
       "    <tr style=\"text-align: right;\">\n",
       "      <th></th>\n",
       "      <th>PassengerId</th>\n",
       "      <th>Survived</th>\n",
       "      <th>Pclass</th>\n",
       "      <th>Name</th>\n",
       "      <th>Sex</th>\n",
       "      <th>Age</th>\n",
       "      <th>SibSp</th>\n",
       "      <th>Parch</th>\n",
       "      <th>Ticket</th>\n",
       "      <th>Fare</th>\n",
       "      <th>Cabin</th>\n",
       "      <th>Embarked</th>\n",
       "    </tr>\n",
       "  </thead>\n",
       "  <tbody>\n",
       "    <tr>\n",
       "      <th>0</th>\n",
       "      <td>1</td>\n",
       "      <td>0</td>\n",
       "      <td>3</td>\n",
       "      <td>Braund, Mr. Owen Harris</td>\n",
       "      <td>male</td>\n",
       "      <td>22.0</td>\n",
       "      <td>1</td>\n",
       "      <td>0</td>\n",
       "      <td>A/5 21171</td>\n",
       "      <td>7.2500</td>\n",
       "      <td>NaN</td>\n",
       "      <td>S</td>\n",
       "    </tr>\n",
       "    <tr>\n",
       "      <th>1</th>\n",
       "      <td>2</td>\n",
       "      <td>1</td>\n",
       "      <td>1</td>\n",
       "      <td>Cumings, Mrs. John Bradley (Florence Briggs Th...</td>\n",
       "      <td>female</td>\n",
       "      <td>38.0</td>\n",
       "      <td>1</td>\n",
       "      <td>0</td>\n",
       "      <td>PC 17599</td>\n",
       "      <td>71.2833</td>\n",
       "      <td>C85</td>\n",
       "      <td>C</td>\n",
       "    </tr>\n",
       "    <tr>\n",
       "      <th>2</th>\n",
       "      <td>3</td>\n",
       "      <td>1</td>\n",
       "      <td>3</td>\n",
       "      <td>Heikkinen, Miss. Laina</td>\n",
       "      <td>female</td>\n",
       "      <td>26.0</td>\n",
       "      <td>0</td>\n",
       "      <td>0</td>\n",
       "      <td>STON/O2. 3101282</td>\n",
       "      <td>7.9250</td>\n",
       "      <td>NaN</td>\n",
       "      <td>S</td>\n",
       "    </tr>\n",
       "    <tr>\n",
       "      <th>3</th>\n",
       "      <td>4</td>\n",
       "      <td>1</td>\n",
       "      <td>1</td>\n",
       "      <td>Futrelle, Mrs. Jacques Heath (Lily May Peel)</td>\n",
       "      <td>female</td>\n",
       "      <td>35.0</td>\n",
       "      <td>1</td>\n",
       "      <td>0</td>\n",
       "      <td>113803</td>\n",
       "      <td>53.1000</td>\n",
       "      <td>C123</td>\n",
       "      <td>S</td>\n",
       "    </tr>\n",
       "    <tr>\n",
       "      <th>4</th>\n",
       "      <td>5</td>\n",
       "      <td>0</td>\n",
       "      <td>3</td>\n",
       "      <td>Allen, Mr. William Henry</td>\n",
       "      <td>male</td>\n",
       "      <td>35.0</td>\n",
       "      <td>0</td>\n",
       "      <td>0</td>\n",
       "      <td>373450</td>\n",
       "      <td>8.0500</td>\n",
       "      <td>NaN</td>\n",
       "      <td>S</td>\n",
       "    </tr>\n",
       "  </tbody>\n",
       "</table>\n",
       "</div>"
      ],
      "text/plain": [
       "   PassengerId  Survived  Pclass  \\\n",
       "0            1         0       3   \n",
       "1            2         1       1   \n",
       "2            3         1       3   \n",
       "3            4         1       1   \n",
       "4            5         0       3   \n",
       "\n",
       "                                                Name     Sex   Age  SibSp  \\\n",
       "0                            Braund, Mr. Owen Harris    male  22.0      1   \n",
       "1  Cumings, Mrs. John Bradley (Florence Briggs Th...  female  38.0      1   \n",
       "2                             Heikkinen, Miss. Laina  female  26.0      0   \n",
       "3       Futrelle, Mrs. Jacques Heath (Lily May Peel)  female  35.0      1   \n",
       "4                           Allen, Mr. William Henry    male  35.0      0   \n",
       "\n",
       "   Parch            Ticket     Fare Cabin Embarked  \n",
       "0      0         A/5 21171   7.2500   NaN        S  \n",
       "1      0          PC 17599  71.2833   C85        C  \n",
       "2      0  STON/O2. 3101282   7.9250   NaN        S  \n",
       "3      0            113803  53.1000  C123        S  \n",
       "4      0            373450   8.0500   NaN        S  "
      ]
     },
     "execution_count": 3,
     "metadata": {},
     "output_type": "execute_result"
    }
   ],
   "source": [
    "train = pd.read_csv(\"data/train.csv\")\n",
    "train.head()"
   ]
  },
  {
   "cell_type": "code",
   "execution_count": 4,
   "id": "a871c123",
   "metadata": {},
   "outputs": [
    {
     "data": {
      "text/plain": [
       "PassengerId      int64\n",
       "Survived         int64\n",
       "Pclass           int64\n",
       "Name            object\n",
       "Sex             object\n",
       "Age            float64\n",
       "SibSp            int64\n",
       "Parch            int64\n",
       "Ticket          object\n",
       "Fare           float64\n",
       "Cabin           object\n",
       "Embarked        object\n",
       "dtype: object"
      ]
     },
     "execution_count": 4,
     "metadata": {},
     "output_type": "execute_result"
    }
   ],
   "source": [
    "train.dtypes"
   ]
  },
  {
   "cell_type": "code",
   "execution_count": 5,
   "id": "3f0af28e",
   "metadata": {},
   "outputs": [
    {
     "data": {
      "text/plain": [
       "(891, 12)"
      ]
     },
     "execution_count": 5,
     "metadata": {},
     "output_type": "execute_result"
    }
   ],
   "source": [
    "train.shape"
   ]
  },
  {
   "cell_type": "code",
   "execution_count": 6,
   "id": "cb7d8568",
   "metadata": {},
   "outputs": [
    {
     "data": {
      "text/html": [
       "<div>\n",
       "<style scoped>\n",
       "    .dataframe tbody tr th:only-of-type {\n",
       "        vertical-align: middle;\n",
       "    }\n",
       "\n",
       "    .dataframe tbody tr th {\n",
       "        vertical-align: top;\n",
       "    }\n",
       "\n",
       "    .dataframe thead th {\n",
       "        text-align: right;\n",
       "    }\n",
       "</style>\n",
       "<table border=\"1\" class=\"dataframe\">\n",
       "  <thead>\n",
       "    <tr style=\"text-align: right;\">\n",
       "      <th></th>\n",
       "      <th>PassengerId</th>\n",
       "      <th>Pclass</th>\n",
       "      <th>Name</th>\n",
       "      <th>Sex</th>\n",
       "      <th>Age</th>\n",
       "      <th>SibSp</th>\n",
       "      <th>Parch</th>\n",
       "      <th>Ticket</th>\n",
       "      <th>Fare</th>\n",
       "      <th>Cabin</th>\n",
       "      <th>Embarked</th>\n",
       "    </tr>\n",
       "  </thead>\n",
       "  <tbody>\n",
       "    <tr>\n",
       "      <th>0</th>\n",
       "      <td>892</td>\n",
       "      <td>3</td>\n",
       "      <td>Kelly, Mr. James</td>\n",
       "      <td>male</td>\n",
       "      <td>34.5</td>\n",
       "      <td>0</td>\n",
       "      <td>0</td>\n",
       "      <td>330911</td>\n",
       "      <td>7.8292</td>\n",
       "      <td>NaN</td>\n",
       "      <td>Q</td>\n",
       "    </tr>\n",
       "    <tr>\n",
       "      <th>1</th>\n",
       "      <td>893</td>\n",
       "      <td>3</td>\n",
       "      <td>Wilkes, Mrs. James (Ellen Needs)</td>\n",
       "      <td>female</td>\n",
       "      <td>47.0</td>\n",
       "      <td>1</td>\n",
       "      <td>0</td>\n",
       "      <td>363272</td>\n",
       "      <td>7.0000</td>\n",
       "      <td>NaN</td>\n",
       "      <td>S</td>\n",
       "    </tr>\n",
       "    <tr>\n",
       "      <th>2</th>\n",
       "      <td>894</td>\n",
       "      <td>2</td>\n",
       "      <td>Myles, Mr. Thomas Francis</td>\n",
       "      <td>male</td>\n",
       "      <td>62.0</td>\n",
       "      <td>0</td>\n",
       "      <td>0</td>\n",
       "      <td>240276</td>\n",
       "      <td>9.6875</td>\n",
       "      <td>NaN</td>\n",
       "      <td>Q</td>\n",
       "    </tr>\n",
       "    <tr>\n",
       "      <th>3</th>\n",
       "      <td>895</td>\n",
       "      <td>3</td>\n",
       "      <td>Wirz, Mr. Albert</td>\n",
       "      <td>male</td>\n",
       "      <td>27.0</td>\n",
       "      <td>0</td>\n",
       "      <td>0</td>\n",
       "      <td>315154</td>\n",
       "      <td>8.6625</td>\n",
       "      <td>NaN</td>\n",
       "      <td>S</td>\n",
       "    </tr>\n",
       "    <tr>\n",
       "      <th>4</th>\n",
       "      <td>896</td>\n",
       "      <td>3</td>\n",
       "      <td>Hirvonen, Mrs. Alexander (Helga E Lindqvist)</td>\n",
       "      <td>female</td>\n",
       "      <td>22.0</td>\n",
       "      <td>1</td>\n",
       "      <td>1</td>\n",
       "      <td>3101298</td>\n",
       "      <td>12.2875</td>\n",
       "      <td>NaN</td>\n",
       "      <td>S</td>\n",
       "    </tr>\n",
       "  </tbody>\n",
       "</table>\n",
       "</div>"
      ],
      "text/plain": [
       "   PassengerId  Pclass                                          Name     Sex  \\\n",
       "0          892       3                              Kelly, Mr. James    male   \n",
       "1          893       3              Wilkes, Mrs. James (Ellen Needs)  female   \n",
       "2          894       2                     Myles, Mr. Thomas Francis    male   \n",
       "3          895       3                              Wirz, Mr. Albert    male   \n",
       "4          896       3  Hirvonen, Mrs. Alexander (Helga E Lindqvist)  female   \n",
       "\n",
       "    Age  SibSp  Parch   Ticket     Fare Cabin Embarked  \n",
       "0  34.5      0      0   330911   7.8292   NaN        Q  \n",
       "1  47.0      1      0   363272   7.0000   NaN        S  \n",
       "2  62.0      0      0   240276   9.6875   NaN        Q  \n",
       "3  27.0      0      0   315154   8.6625   NaN        S  \n",
       "4  22.0      1      1  3101298  12.2875   NaN        S  "
      ]
     },
     "execution_count": 6,
     "metadata": {},
     "output_type": "execute_result"
    }
   ],
   "source": [
    "test = pd.read_csv(\"data/test.csv\")\n",
    "test.head()"
   ]
  },
  {
   "cell_type": "code",
   "execution_count": 7,
   "id": "87f593cd",
   "metadata": {},
   "outputs": [
    {
     "data": {
      "text/plain": [
       "PassengerId      int64\n",
       "Pclass           int64\n",
       "Name            object\n",
       "Sex             object\n",
       "Age            float64\n",
       "SibSp            int64\n",
       "Parch            int64\n",
       "Ticket          object\n",
       "Fare           float64\n",
       "Cabin           object\n",
       "Embarked        object\n",
       "dtype: object"
      ]
     },
     "execution_count": 7,
     "metadata": {},
     "output_type": "execute_result"
    }
   ],
   "source": [
    "test.dtypes\n"
   ]
  },
  {
   "cell_type": "code",
   "execution_count": 8,
   "id": "fd7bab97",
   "metadata": {},
   "outputs": [
    {
     "data": {
      "text/plain": [
       "(418, 11)"
      ]
     },
     "execution_count": 8,
     "metadata": {},
     "output_type": "execute_result"
    }
   ],
   "source": [
    "test.shape"
   ]
  },
  {
   "cell_type": "markdown",
   "id": "12128297",
   "metadata": {},
   "source": [
    "We use instead a [complete dataset](https://www.openml.org/search?type=data&sort=runs&id=40945&status=active). "
   ]
  },
  {
   "cell_type": "code",
   "execution_count": 9,
   "id": "9b0c6342",
   "metadata": {},
   "outputs": [
    {
     "data": {
      "text/html": [
       "<div>\n",
       "<style scoped>\n",
       "    .dataframe tbody tr th:only-of-type {\n",
       "        vertical-align: middle;\n",
       "    }\n",
       "\n",
       "    .dataframe tbody tr th {\n",
       "        vertical-align: top;\n",
       "    }\n",
       "\n",
       "    .dataframe thead th {\n",
       "        text-align: right;\n",
       "    }\n",
       "</style>\n",
       "<table border=\"1\" class=\"dataframe\">\n",
       "  <thead>\n",
       "    <tr style=\"text-align: right;\">\n",
       "      <th></th>\n",
       "      <th>'pclass'</th>\n",
       "      <th>'survived'</th>\n",
       "      <th>'name'</th>\n",
       "      <th>'sex'</th>\n",
       "      <th>'age'</th>\n",
       "      <th>'sibsp'</th>\n",
       "      <th>'parch'</th>\n",
       "      <th>'ticket'</th>\n",
       "      <th>'fare'</th>\n",
       "      <th>'cabin'</th>\n",
       "      <th>'embarked'</th>\n",
       "      <th>'boat'</th>\n",
       "      <th>'body'</th>\n",
       "      <th>'home.dest'</th>\n",
       "    </tr>\n",
       "  </thead>\n",
       "  <tbody>\n",
       "    <tr>\n",
       "      <th>0</th>\n",
       "      <td>1</td>\n",
       "      <td>1</td>\n",
       "      <td>Allen, Miss. Elisabeth Walton</td>\n",
       "      <td>female</td>\n",
       "      <td>29</td>\n",
       "      <td>0</td>\n",
       "      <td>0</td>\n",
       "      <td>24160</td>\n",
       "      <td>211.3375</td>\n",
       "      <td>B5</td>\n",
       "      <td>S</td>\n",
       "      <td>2</td>\n",
       "      <td>?</td>\n",
       "      <td>St Louis, MO</td>\n",
       "    </tr>\n",
       "    <tr>\n",
       "      <th>1</th>\n",
       "      <td>1</td>\n",
       "      <td>1</td>\n",
       "      <td>Allison, Master. Hudson Trevor</td>\n",
       "      <td>male</td>\n",
       "      <td>0.9167</td>\n",
       "      <td>1</td>\n",
       "      <td>2</td>\n",
       "      <td>113781</td>\n",
       "      <td>151.55</td>\n",
       "      <td>C22 C26</td>\n",
       "      <td>S</td>\n",
       "      <td>11</td>\n",
       "      <td>?</td>\n",
       "      <td>Montreal, PQ / Chesterville, ON</td>\n",
       "    </tr>\n",
       "    <tr>\n",
       "      <th>2</th>\n",
       "      <td>1</td>\n",
       "      <td>0</td>\n",
       "      <td>Allison, Miss. Helen Loraine</td>\n",
       "      <td>female</td>\n",
       "      <td>2</td>\n",
       "      <td>1</td>\n",
       "      <td>2</td>\n",
       "      <td>113781</td>\n",
       "      <td>151.55</td>\n",
       "      <td>C22 C26</td>\n",
       "      <td>S</td>\n",
       "      <td>?</td>\n",
       "      <td>?</td>\n",
       "      <td>Montreal, PQ / Chesterville, ON</td>\n",
       "    </tr>\n",
       "    <tr>\n",
       "      <th>3</th>\n",
       "      <td>1</td>\n",
       "      <td>0</td>\n",
       "      <td>Allison, Mr. Hudson Joshua Creighton</td>\n",
       "      <td>male</td>\n",
       "      <td>30</td>\n",
       "      <td>1</td>\n",
       "      <td>2</td>\n",
       "      <td>113781</td>\n",
       "      <td>151.55</td>\n",
       "      <td>C22 C26</td>\n",
       "      <td>S</td>\n",
       "      <td>?</td>\n",
       "      <td>135</td>\n",
       "      <td>Montreal, PQ / Chesterville, ON</td>\n",
       "    </tr>\n",
       "    <tr>\n",
       "      <th>4</th>\n",
       "      <td>1</td>\n",
       "      <td>0</td>\n",
       "      <td>Allison, Mrs. Hudson J C (Bessie Waldo Daniels)</td>\n",
       "      <td>female</td>\n",
       "      <td>25</td>\n",
       "      <td>1</td>\n",
       "      <td>2</td>\n",
       "      <td>113781</td>\n",
       "      <td>151.55</td>\n",
       "      <td>C22 C26</td>\n",
       "      <td>S</td>\n",
       "      <td>?</td>\n",
       "      <td>?</td>\n",
       "      <td>Montreal, PQ / Chesterville, ON</td>\n",
       "    </tr>\n",
       "  </tbody>\n",
       "</table>\n",
       "</div>"
      ],
      "text/plain": [
       "   'pclass'  'survived'                                           'name'  \\\n",
       "0         1           1                    Allen, Miss. Elisabeth Walton   \n",
       "1         1           1                   Allison, Master. Hudson Trevor   \n",
       "2         1           0                     Allison, Miss. Helen Loraine   \n",
       "3         1           0             Allison, Mr. Hudson Joshua Creighton   \n",
       "4         1           0  Allison, Mrs. Hudson J C (Bessie Waldo Daniels)   \n",
       "\n",
       "    'sex'   'age'  'sibsp'  'parch' 'ticket'    'fare'  'cabin' 'embarked'  \\\n",
       "0  female      29        0        0    24160  211.3375       B5          S   \n",
       "1    male  0.9167        1        2   113781    151.55  C22 C26          S   \n",
       "2  female       2        1        2   113781    151.55  C22 C26          S   \n",
       "3    male      30        1        2   113781    151.55  C22 C26          S   \n",
       "4  female      25        1        2   113781    151.55  C22 C26          S   \n",
       "\n",
       "  'boat' 'body'                      'home.dest'  \n",
       "0      2      ?                     St Louis, MO  \n",
       "1     11      ?  Montreal, PQ / Chesterville, ON  \n",
       "2      ?      ?  Montreal, PQ / Chesterville, ON  \n",
       "3      ?    135  Montreal, PQ / Chesterville, ON  \n",
       "4      ?      ?  Montreal, PQ / Chesterville, ON  "
      ]
     },
     "execution_count": 9,
     "metadata": {},
     "output_type": "execute_result"
    }
   ],
   "source": [
    "data = pd.read_csv(\"data/data.csv\")\n",
    "data.head()"
   ]
  },
  {
   "cell_type": "code",
   "execution_count": 10,
   "id": "e36caf61",
   "metadata": {},
   "outputs": [
    {
     "data": {
      "text/plain": [
       "'pclass'        int64\n",
       "'survived'      int64\n",
       "'name'         object\n",
       "'sex'          object\n",
       "'age'          object\n",
       "'sibsp'         int64\n",
       "'parch'         int64\n",
       "'ticket'       object\n",
       "'fare'         object\n",
       "'cabin'        object\n",
       "'embarked'     object\n",
       "'boat'         object\n",
       "'body'         object\n",
       "'home.dest'    object\n",
       "dtype: object"
      ]
     },
     "execution_count": 10,
     "metadata": {},
     "output_type": "execute_result"
    }
   ],
   "source": [
    "data.dtypes"
   ]
  },
  {
   "cell_type": "code",
   "execution_count": 11,
   "id": "ab5e5a1a",
   "metadata": {},
   "outputs": [
    {
     "data": {
      "text/plain": [
       "(1309, 14)"
      ]
     },
     "execution_count": 11,
     "metadata": {},
     "output_type": "execute_result"
    }
   ],
   "source": [
    "data.shape\n"
   ]
  },
  {
   "cell_type": "markdown",
   "id": "9b431c80",
   "metadata": {},
   "source": [
    "# Data summary"
   ]
  },
  {
   "cell_type": "markdown",
   "id": "9caf4712",
   "metadata": {},
   "source": [
    "## Categorical data"
   ]
  },
  {
   "cell_type": "markdown",
   "id": "2ee7b02b",
   "metadata": {},
   "source": [
    "We summarize the data and explore the content of each columns. \n",
    "\n",
    "We start with columns we assume could be categorical data; i.e., passenger class, survived, sex, and port of embarkation. We explore their possible distributions.\n",
    "\n",
    "Most passengers would have travelled in third class."
   ]
  },
  {
   "cell_type": "code",
   "execution_count": 12,
   "id": "e6fcea27",
   "metadata": {},
   "outputs": [
    {
     "data": {
      "text/plain": [
       "array([1, 2, 3])"
      ]
     },
     "execution_count": 12,
     "metadata": {},
     "output_type": "execute_result"
    }
   ],
   "source": [
    "data[\"'pclass'\"].unique()"
   ]
  },
  {
   "cell_type": "code",
   "execution_count": 13,
   "id": "59d802bf",
   "metadata": {},
   "outputs": [
    {
     "data": {
      "text/plain": [
       "count    1309.000000\n",
       "mean        2.294882\n",
       "std         0.837836\n",
       "min         1.000000\n",
       "25%         2.000000\n",
       "50%         3.000000\n",
       "75%         3.000000\n",
       "max         3.000000\n",
       "Name: 'pclass', dtype: float64"
      ]
     },
     "execution_count": 13,
     "metadata": {},
     "output_type": "execute_result"
    },
    {
     "data": {
      "image/png": "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\n",
      "text/plain": [
       "<Figure size 432x288 with 1 Axes>"
      ]
     },
     "metadata": {
      "needs_background": "light"
     },
     "output_type": "display_data"
    }
   ],
   "source": [
    "plt.hist(data[\"'pclass'\"], bins = 3)\n",
    "data[\"'pclass'\"].describe()"
   ]
  },
  {
   "cell_type": "markdown",
   "id": "4f3f3195",
   "metadata": {},
   "source": [
    "More passengers would have perished the accident than survived."
   ]
  },
  {
   "cell_type": "code",
   "execution_count": 14,
   "id": "658775f1",
   "metadata": {},
   "outputs": [
    {
     "data": {
      "text/plain": [
       "array([1, 0])"
      ]
     },
     "execution_count": 14,
     "metadata": {},
     "output_type": "execute_result"
    }
   ],
   "source": [
    "data[\"'survived'\"].unique()"
   ]
  },
  {
   "cell_type": "code",
   "execution_count": 15,
   "id": "a1228cf1",
   "metadata": {},
   "outputs": [
    {
     "data": {
      "text/plain": [
       "count    1309.000000\n",
       "mean        0.381971\n",
       "std         0.486055\n",
       "min         0.000000\n",
       "25%         0.000000\n",
       "50%         0.000000\n",
       "75%         1.000000\n",
       "max         1.000000\n",
       "Name: 'survived', dtype: float64"
      ]
     },
     "execution_count": 15,
     "metadata": {},
     "output_type": "execute_result"
    },
    {
     "data": {
      "image/png": "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\n",
      "text/plain": [
       "<Figure size 432x288 with 1 Axes>"
      ]
     },
     "metadata": {
      "needs_background": "light"
     },
     "output_type": "display_data"
    }
   ],
   "source": [
    "plt.hist(data[\"'survived'\"], bins = 2)\n",
    "data[\"'survived'\"].describe()"
   ]
  },
  {
   "cell_type": "markdown",
   "id": "f0130c76",
   "metadata": {},
   "source": [
    "There was more male passengers than females passengers."
   ]
  },
  {
   "cell_type": "code",
   "execution_count": 16,
   "id": "96ab33c2",
   "metadata": {},
   "outputs": [
    {
     "data": {
      "text/plain": [
       "array(['female', 'male'], dtype=object)"
      ]
     },
     "execution_count": 16,
     "metadata": {},
     "output_type": "execute_result"
    }
   ],
   "source": [
    "data[\"'sex'\"].unique()"
   ]
  },
  {
   "cell_type": "code",
   "execution_count": 17,
   "id": "988a7dc3",
   "metadata": {},
   "outputs": [
    {
     "data": {
      "text/plain": [
       "count     1309\n",
       "unique       2\n",
       "top       male\n",
       "freq       843\n",
       "Name: 'sex', dtype: object"
      ]
     },
     "execution_count": 17,
     "metadata": {},
     "output_type": "execute_result"
    },
    {
     "data": {
      "image/png": "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\n",
      "text/plain": [
       "<Figure size 432x288 with 1 Axes>"
      ]
     },
     "metadata": {
      "needs_background": "light"
     },
     "output_type": "display_data"
    }
   ],
   "source": [
    "plt.hist(data[\"'sex'\"], bins = 2)\n",
    "data[\"'sex'\"].describe()"
   ]
  },
  {
   "cell_type": "markdown",
   "id": "d7768b75",
   "metadata": {},
   "source": [
    "A majority of passenger would have emberbaked at Southampton, then Cherbourg. A minority of embarkation port is unknown."
   ]
  },
  {
   "cell_type": "code",
   "execution_count": 18,
   "id": "454f211c",
   "metadata": {},
   "outputs": [
    {
     "data": {
      "text/plain": [
       "array(['S', 'C', '?', 'Q'], dtype=object)"
      ]
     },
     "execution_count": 18,
     "metadata": {},
     "output_type": "execute_result"
    }
   ],
   "source": [
    "data[\"'embarked'\"].unique()"
   ]
  },
  {
   "cell_type": "code",
   "execution_count": 19,
   "id": "de80b033",
   "metadata": {},
   "outputs": [
    {
     "data": {
      "text/plain": [
       "count     1309\n",
       "unique       4\n",
       "top          S\n",
       "freq       914\n",
       "Name: 'embarked', dtype: object"
      ]
     },
     "execution_count": 19,
     "metadata": {},
     "output_type": "execute_result"
    },
    {
     "data": {
      "image/png": "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\n",
      "text/plain": [
       "<Figure size 432x288 with 1 Axes>"
      ]
     },
     "metadata": {
      "needs_background": "light"
     },
     "output_type": "display_data"
    }
   ],
   "source": [
    "plt.hist(data[\"'embarked'\"], bins = 4)\n",
    "data[\"'embarked'\"].describe()"
   ]
  },
  {
   "cell_type": "markdown",
   "id": "fb03b26c",
   "metadata": {},
   "source": [
    "## Numerical data\n",
    "Many passenger may have travelled on their own without any siblings or spouse. Many passengers also travelling without any children or parents. We surmise not many families may have been travelling on the Titanic."
   ]
  },
  {
   "cell_type": "code",
   "execution_count": 20,
   "id": "48d92f29",
   "metadata": {},
   "outputs": [
    {
     "data": {
      "text/plain": [
       "array([0, 1, 2, 3, 4, 5, 8])"
      ]
     },
     "execution_count": 20,
     "metadata": {},
     "output_type": "execute_result"
    }
   ],
   "source": [
    "data[\"'sibsp'\"].unique()"
   ]
  },
  {
   "cell_type": "code",
   "execution_count": 21,
   "id": "a16321c5",
   "metadata": {},
   "outputs": [
    {
     "data": {
      "text/plain": [
       "count    1309.000000\n",
       "mean        0.498854\n",
       "std         1.041658\n",
       "min         0.000000\n",
       "25%         0.000000\n",
       "50%         0.000000\n",
       "75%         1.000000\n",
       "max         8.000000\n",
       "Name: 'sibsp', dtype: float64"
      ]
     },
     "execution_count": 21,
     "metadata": {},
     "output_type": "execute_result"
    },
    {
     "data": {
      "image/png": "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\n",
      "text/plain": [
       "<Figure size 432x288 with 1 Axes>"
      ]
     },
     "metadata": {
      "needs_background": "light"
     },
     "output_type": "display_data"
    }
   ],
   "source": [
    "plt.hist(data[\"'sibsp'\"], bins = 8)\n",
    "data[\"'sibsp'\"].describe()"
   ]
  },
  {
   "cell_type": "code",
   "execution_count": 22,
   "id": "45720a91",
   "metadata": {},
   "outputs": [
    {
     "data": {
      "text/plain": [
       "array([0, 2, 1, 4, 3, 5, 6, 9])"
      ]
     },
     "execution_count": 22,
     "metadata": {},
     "output_type": "execute_result"
    }
   ],
   "source": [
    "data[\"'parch'\"].unique()"
   ]
  },
  {
   "cell_type": "code",
   "execution_count": 23,
   "id": "59619182",
   "metadata": {},
   "outputs": [
    {
     "data": {
      "text/plain": [
       "count    1309.000000\n",
       "mean        0.385027\n",
       "std         0.865560\n",
       "min         0.000000\n",
       "25%         0.000000\n",
       "50%         0.000000\n",
       "75%         0.000000\n",
       "max         9.000000\n",
       "Name: 'parch', dtype: float64"
      ]
     },
     "execution_count": 23,
     "metadata": {},
     "output_type": "execute_result"
    },
    {
     "data": {
      "image/png": "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\n",
      "text/plain": [
       "<Figure size 432x288 with 1 Axes>"
      ]
     },
     "metadata": {
      "needs_background": "light"
     },
     "output_type": "display_data"
    }
   ],
   "source": [
    "plt.hist(data[\"'parch'\"], bins = 9)\n",
    "data[\"'parch'\"].describe()"
   ]
  },
  {

   "cell_type": "code",
   "execution_count": 24,
   "id": "32344ee8",
   "metadata": {},
   "outputs": [
    {
     "ename": "ValueError",
     "evalue": "could not convert string to float: '?'",
     "output_type": "error",
     "traceback": [
      "\u001b[0;31m---------------------------------------------------------------------------\u001b[0m",
      "\u001b[0;31mValueError\u001b[0m                                Traceback (most recent call last)",
      "Input \u001b[0;32mIn [24]\u001b[0m, in \u001b[0;36m<module>\u001b[0;34m\u001b[0m\n\u001b[0;32m----> 1\u001b[0m data[\u001b[38;5;124m\"\u001b[39m\u001b[38;5;124m'\u001b[39m\u001b[38;5;124mfare\u001b[39m\u001b[38;5;124m'\u001b[39m\u001b[38;5;124m\"\u001b[39m] \u001b[38;5;241m=\u001b[39m \u001b[43mdata\u001b[49m\u001b[43m[\u001b[49m\u001b[38;5;124;43m\"\u001b[39;49m\u001b[38;5;124;43m'\u001b[39;49m\u001b[38;5;124;43mfare\u001b[39;49m\u001b[38;5;124;43m'\u001b[39;49m\u001b[38;5;124;43m\"\u001b[39;49m\u001b[43m]\u001b[49m\u001b[38;5;241;43m.\u001b[39;49m\u001b[43mastype\u001b[49m\u001b[43m(\u001b[49m\u001b[38;5;124;43m\"\u001b[39;49m\u001b[38;5;124;43mfloat\u001b[39;49m\u001b[38;5;124;43m\"\u001b[39;49m\u001b[43m)\u001b[49m\n",
      "File \u001b[0;32m/usr/lib/python3/dist-packages/pandas/core/generic.py:5881\u001b[0m, in \u001b[0;36mNDFrame.astype\u001b[0;34m(self, dtype, copy, errors, **kwargs)\u001b[0m\n\u001b[1;32m   5874\u001b[0m     results \u001b[38;5;241m=\u001b[39m (\n\u001b[1;32m   5875\u001b[0m         \u001b[38;5;28mself\u001b[39m\u001b[38;5;241m.\u001b[39miloc[:, i]\u001b[38;5;241m.\u001b[39mastype(dtype, copy\u001b[38;5;241m=\u001b[39mcopy)\n\u001b[1;32m   5876\u001b[0m         \u001b[38;5;28;01mfor\u001b[39;00m i \u001b[38;5;129;01min\u001b[39;00m \u001b[38;5;28mrange\u001b[39m(\u001b[38;5;28mlen\u001b[39m(\u001b[38;5;28mself\u001b[39m\u001b[38;5;241m.\u001b[39mcolumns))\n\u001b[1;32m   5877\u001b[0m     )\n\u001b[1;32m   5879\u001b[0m \u001b[38;5;28;01melse\u001b[39;00m:\n\u001b[1;32m   5880\u001b[0m     \u001b[38;5;66;03m# else, only a single dtype is given\u001b[39;00m\n\u001b[0;32m-> 5881\u001b[0m     new_data \u001b[38;5;241m=\u001b[39m \u001b[38;5;28;43mself\u001b[39;49m\u001b[38;5;241;43m.\u001b[39;49m\u001b[43m_data\u001b[49m\u001b[38;5;241;43m.\u001b[39;49m\u001b[43mastype\u001b[49m\u001b[43m(\u001b[49m\n\u001b[1;32m   5882\u001b[0m \u001b[43m        \u001b[49m\u001b[43mdtype\u001b[49m\u001b[38;5;241;43m=\u001b[39;49m\u001b[43mdtype\u001b[49m\u001b[43m,\u001b[49m\u001b[43m \u001b[49m\u001b[43mcopy\u001b[49m\u001b[38;5;241;43m=\u001b[39;49m\u001b[43mcopy\u001b[49m\u001b[43m,\u001b[49m\u001b[43m \u001b[49m\u001b[43merrors\u001b[49m\u001b[38;5;241;43m=\u001b[39;49m\u001b[43merrors\u001b[49m\u001b[43m,\u001b[49m\u001b[43m \u001b[49m\u001b[38;5;241;43m*\u001b[39;49m\u001b[38;5;241;43m*\u001b[39;49m\u001b[43mkwargs\u001b[49m\n\u001b[1;32m   5883\u001b[0m \u001b[43m    \u001b[49m\u001b[43m)\u001b[49m\n\u001b[1;32m   5884\u001b[0m     \u001b[38;5;28;01mreturn\u001b[39;00m \u001b[38;5;28mself\u001b[39m\u001b[38;5;241m.\u001b[39m_constructor(new_data)\u001b[38;5;241m.\u001b[39m__finalize__(\u001b[38;5;28mself\u001b[39m)\n\u001b[1;32m   5886\u001b[0m \u001b[38;5;66;03m# GH 19920: retain column metadata after concat\u001b[39;00m\n",
      "File \u001b[0;32m/usr/lib/python3/dist-packages/pandas/core/internals/managers.py:581\u001b[0m, in \u001b[0;36mBlockManager.astype\u001b[0;34m(self, dtype, **kwargs)\u001b[0m\n\u001b[1;32m    580\u001b[0m \u001b[38;5;28;01mdef\u001b[39;00m \u001b[38;5;21mastype\u001b[39m(\u001b[38;5;28mself\u001b[39m, dtype, \u001b[38;5;241m*\u001b[39m\u001b[38;5;241m*\u001b[39mkwargs):\n\u001b[0;32m--> 581\u001b[0m     \u001b[38;5;28;01mreturn\u001b[39;00m \u001b[38;5;28;43mself\u001b[39;49m\u001b[38;5;241;43m.\u001b[39;49m\u001b[43mapply\u001b[49m\u001b[43m(\u001b[49m\u001b[38;5;124;43m\"\u001b[39;49m\u001b[38;5;124;43mastype\u001b[39;49m\u001b[38;5;124;43m\"\u001b[39;49m\u001b[43m,\u001b[49m\u001b[43m \u001b[49m\u001b[43mdtype\u001b[49m\u001b[38;5;241;43m=\u001b[39;49m\u001b[43mdtype\u001b[49m\u001b[43m,\u001b[49m\u001b[43m \u001b[49m\u001b[38;5;241;43m*\u001b[39;49m\u001b[38;5;241;43m*\u001b[39;49m\u001b[43mkwargs\u001b[49m\u001b[43m)\u001b[49m\n",
      "File \u001b[0;32m/usr/lib/python3/dist-packages/pandas/core/internals/managers.py:438\u001b[0m, in \u001b[0;36mBlockManager.apply\u001b[0;34m(self, f, axes, filter, do_integrity_check, consolidate, **kwargs)\u001b[0m\n\u001b[1;32m    435\u001b[0m             axis \u001b[38;5;241m=\u001b[39m \u001b[38;5;28mgetattr\u001b[39m(obj, \u001b[38;5;124m\"\u001b[39m\u001b[38;5;124m_info_axis_number\u001b[39m\u001b[38;5;124m\"\u001b[39m, \u001b[38;5;241m0\u001b[39m)\n\u001b[1;32m    436\u001b[0m             kwargs[k] \u001b[38;5;241m=\u001b[39m obj\u001b[38;5;241m.\u001b[39mreindex(b_items, axis\u001b[38;5;241m=\u001b[39maxis, copy\u001b[38;5;241m=\u001b[39malign_copy)\n\u001b[0;32m--> 438\u001b[0m     applied \u001b[38;5;241m=\u001b[39m \u001b[38;5;28;43mgetattr\u001b[39;49m\u001b[43m(\u001b[49m\u001b[43mb\u001b[49m\u001b[43m,\u001b[49m\u001b[43m \u001b[49m\u001b[43mf\u001b[49m\u001b[43m)\u001b[49m\u001b[43m(\u001b[49m\u001b[38;5;241;43m*\u001b[39;49m\u001b[38;5;241;43m*\u001b[39;49m\u001b[43mkwargs\u001b[49m\u001b[43m)\u001b[49m\n\u001b[1;32m    439\u001b[0m     result_blocks \u001b[38;5;241m=\u001b[39m _extend_blocks(applied, result_blocks)\n\u001b[1;32m    441\u001b[0m \u001b[38;5;28;01mif\u001b[39;00m \u001b[38;5;28mlen\u001b[39m(result_blocks) \u001b[38;5;241m==\u001b[39m \u001b[38;5;241m0\u001b[39m:\n",
      "File \u001b[0;32m/usr/lib/python3/dist-packages/pandas/core/internals/blocks.py:559\u001b[0m, in \u001b[0;36mBlock.astype\u001b[0;34m(self, dtype, copy, errors, values, **kwargs)\u001b[0m\n\u001b[1;32m    558\u001b[0m \u001b[38;5;28;01mdef\u001b[39;00m \u001b[38;5;21mastype\u001b[39m(\u001b[38;5;28mself\u001b[39m, dtype, copy\u001b[38;5;241m=\u001b[39m\u001b[38;5;28;01mFalse\u001b[39;00m, errors\u001b[38;5;241m=\u001b[39m\u001b[38;5;124m\"\u001b[39m\u001b[38;5;124mraise\u001b[39m\u001b[38;5;124m\"\u001b[39m, values\u001b[38;5;241m=\u001b[39m\u001b[38;5;28;01mNone\u001b[39;00m, \u001b[38;5;241m*\u001b[39m\u001b[38;5;241m*\u001b[39mkwargs):\n\u001b[0;32m--> 559\u001b[0m     \u001b[38;5;28;01mreturn\u001b[39;00m \u001b[38;5;28;43mself\u001b[39;49m\u001b[38;5;241;43m.\u001b[39;49m\u001b[43m_astype\u001b[49m\u001b[43m(\u001b[49m\u001b[43mdtype\u001b[49m\u001b[43m,\u001b[49m\u001b[43m \u001b[49m\u001b[43mcopy\u001b[49m\u001b[38;5;241;43m=\u001b[39;49m\u001b[43mcopy\u001b[49m\u001b[43m,\u001b[49m\u001b[43m \u001b[49m\u001b[43merrors\u001b[49m\u001b[38;5;241;43m=\u001b[39;49m\u001b[43merrors\u001b[49m\u001b[43m,\u001b[49m\u001b[43m \u001b[49m\u001b[43mvalues\u001b[49m\u001b[38;5;241;43m=\u001b[39;49m\u001b[43mvalues\u001b[49m\u001b[43m,\u001b[49m\u001b[43m \u001b[49m\u001b[38;5;241;43m*\u001b[39;49m\u001b[38;5;241;43m*\u001b[39;49m\u001b[43mkwargs\u001b[49m\u001b[43m)\u001b[49m\n",
      "File \u001b[0;32m/usr/lib/python3/dist-packages/pandas/core/internals/blocks.py:643\u001b[0m, in \u001b[0;36mBlock._astype\u001b[0;34m(self, dtype, copy, errors, values, **kwargs)\u001b[0m\n\u001b[1;32m    641\u001b[0m     \u001b[38;5;66;03m# _astype_nansafe works fine with 1-d only\u001b[39;00m\n\u001b[1;32m    642\u001b[0m     vals1d \u001b[38;5;241m=\u001b[39m values\u001b[38;5;241m.\u001b[39mravel()\n\u001b[0;32m--> 643\u001b[0m     values \u001b[38;5;241m=\u001b[39m \u001b[43mastype_nansafe\u001b[49m\u001b[43m(\u001b[49m\u001b[43mvals1d\u001b[49m\u001b[43m,\u001b[49m\u001b[43m \u001b[49m\u001b[43mdtype\u001b[49m\u001b[43m,\u001b[49m\u001b[43m \u001b[49m\u001b[43mcopy\u001b[49m\u001b[38;5;241;43m=\u001b[39;49m\u001b[38;5;28;43;01mTrue\u001b[39;49;00m\u001b[43m,\u001b[49m\u001b[43m \u001b[49m\u001b[38;5;241;43m*\u001b[39;49m\u001b[38;5;241;43m*\u001b[39;49m\u001b[43mkwargs\u001b[49m\u001b[43m)\u001b[49m\n\u001b[1;32m    645\u001b[0m \u001b[38;5;66;03m# TODO(extension)\u001b[39;00m\n\u001b[1;32m    646\u001b[0m \u001b[38;5;66;03m# should we make this attribute?\u001b[39;00m\n\u001b[1;32m    647\u001b[0m \u001b[38;5;28;01mif\u001b[39;00m \u001b[38;5;28misinstance\u001b[39m(values, np\u001b[38;5;241m.\u001b[39mndarray):\n",
      "File \u001b[0;32m/usr/lib/python3/dist-packages/pandas/core/dtypes/cast.py:735\u001b[0m, in \u001b[0;36mastype_nansafe\u001b[0;34m(arr, dtype, copy, skipna)\u001b[0m\n\u001b[1;32m    731\u001b[0m     warnings\u001b[38;5;241m.\u001b[39mwarn(warn_nannat_platform)\n\u001b[1;32m    733\u001b[0m \u001b[38;5;28;01mif\u001b[39;00m copy \u001b[38;5;129;01mor\u001b[39;00m is_object_dtype(arr) \u001b[38;5;129;01mor\u001b[39;00m is_object_dtype(dtype):\n\u001b[1;32m    734\u001b[0m     \u001b[38;5;66;03m# Explicit copy, or required since NumPy can't view from / to object.\u001b[39;00m\n\u001b[0;32m--> 735\u001b[0m     \u001b[38;5;28;01mreturn\u001b[39;00m \u001b[43marr\u001b[49m\u001b[38;5;241;43m.\u001b[39;49m\u001b[43mastype\u001b[49m\u001b[43m(\u001b[49m\u001b[43mdtype\u001b[49m\u001b[43m,\u001b[49m\u001b[43m \u001b[49m\u001b[43mcopy\u001b[49m\u001b[38;5;241;43m=\u001b[39;49m\u001b[38;5;28;43;01mTrue\u001b[39;49;00m\u001b[43m)\u001b[49m\n\u001b[1;32m    737\u001b[0m \u001b[38;5;28;01mreturn\u001b[39;00m arr\u001b[38;5;241m.\u001b[39mview(dtype)\n",
      "\u001b[0;31mValueError\u001b[0m: could not convert string to float: '?'"
     ]
    }
   ],
   "source": [
    "data[\"'fare'\"] = data[\"'fare'\"].astype(\"float\")"
   ]
  },
  {
  },
  {
   "cell_type": "markdown",
   "id": "27e5d168",
   "metadata": {},
   "source": [
    "Many of the remaining variables have some unique values. It is difficult to find any useful information and knowledge in their current format."
   ]
  },
  {
   "cell_type": "code",
   "execution_count": null,
   "id": "39ae9867",
   "metadata": {},
   "outputs": [],
   "source": [
    "data[\"'ticket'\"].unique().shape"
   ]
  },
  {
   "cell_type": "code",
   "execution_count": null,
   "id": "723591b9",
   "metadata": {},
   "outputs": [],
   "source": [
    "data[\"'age'\"].unique().shape"
   ]
  },
  {
   "cell_type": "code",
   "execution_count": null,
   "id": "b9327d2c",
   "metadata": {},
   "outputs": [],
   "source": [
    "data[\"'fare'\"].unique().shape"
   ]
  },
  {
   "cell_type": "code",
   "execution_count": null,
   "id": "ccefad1e",
   "metadata": {},
   "outputs": [],
   "source": [
    "data[\"'cabin'\"].unique().shape"
   ]
  },
  {
   "cell_type": "code",
   "execution_count": null,
   "id": "7e7b2c4a",
   "metadata": {},
   "outputs": [],
   "source": [
    "data[\"'boat'\"].unique()"
   ]
  },
  {
   "cell_type": "code",
   "execution_count": null,
   "id": "c31f770e",
   "metadata": {},
   "outputs": [],
   "source": [
    "plt.hist(data[\"'boat'\"], bins = 28)\n",
    "data[\"'boat'\"].describe()"
   ]
  },
  {
   "cell_type": "code",
   "execution_count": null,
   "id": "8f010069",
   "metadata": {},
   "outputs": [],
   "source": [
    "data[\"'body'\"].unique()"
   ]
  },
  {
   "cell_type": "code",
   "execution_count": 25,
   "id": "f9e73828",
   "metadata": {},
   "outputs": [
    {
     "data": {
      "text/plain": [
       "(370,)"
      ]
     },
     "execution_count": 25,
     "metadata": {},
     "output_type": "execute_result"
    }
   ],
   "source": [
    "data[\"'home.dest'\"].unique().shape"
   ]
  },
  {
   "cell_type": "markdown",
   "id": "5d1b08fa",
   "metadata": {
    "heading_collapsed": true
   },
   "source": [
    "# Is there a correlation between passenger class and fares?"
   ]
  },
  {
   "cell_type": "markdown",
   "id": "5c20ac8c",

   "metadata": {
    "hidden": true
   },

   "source": [
    "In many public transport tickets to a higher class can cost more than a lower class. So, would like to explore whether this was the case with the titanic.\n",
    "\n",
    "So we first convert in numerical data both the class and the fares.\n",
    "\n",
    "It appears only one fare remains not captured and therefore unknown. The distribution of the fares appears to have mean value at around 33 (unknown currency) with a standard deviation of approximately 52 (unknown currency).  So we could surmise the fares may be skewed to the left. \n",
    "\n",
    "We surmise the larger proportion of third class tickets may skew the distribution."
   ]
  },
  {
   "cell_type": "code",
   "execution_count": 26,
   "id": "90ee97f5",
   "metadata": {
    "hidden": true
   },

   "outputs": [
    {
     "data": {
      "text/plain": [
       "dtype('O')"
      ]
     },
     "execution_count": 26,
     "metadata": {},
     "output_type": "execute_result"
    }
   ],
   "source": [
    "data[\"'fare'\"].dtype"
   ]
  },
  {
   "cell_type": "code",

   "execution_count": 27,
   "id": "2adc22dc",
   "metadata": {
    "hidden": true
   },

   "outputs": [
    {
     "data": {
      "text/plain": [
       "0       211.3375\n",
       "1       151.5500\n",
       "2       151.5500\n",
       "3       151.5500\n",
       "4       151.5500\n",
       "          ...   \n",
       "1304     14.4542\n",
       "1305     14.4542\n",
       "1306      7.2250\n",
       "1307      7.2250\n",
       "1308      7.8750\n",
       "Name: 'fare', Length: 1309, dtype: float64"
      ]
     },
     "execution_count": 27,
     "metadata": {},
     "output_type": "execute_result"
    }
   ],
   "source": [
    "fares = data[\"'fare'\"]\n",
    "fares = fares.replace(\"?\", \"-1\")\n",
    "fares = fares.astype(float)\n",
    "data[\"'fare'\"] = fares\n",
    "fares"
   ]
  },
  {
   "cell_type": "code",
   "execution_count": 28,
   "id": "4266cae6",
   "metadata": {
    "hidden": true
   },
   "outputs": [
    {
     "data": {
      "text/plain": [
       "count    1309.000000\n",
       "mean       33.269280\n",
       "std        51.747562\n",
       "min        -1.000000\n",
       "25%         7.895800\n",
       "50%        14.454200\n",
       "75%        31.275000\n",
       "max       512.329200\n",
       "Name: 'fare', dtype: float64"
      ]
     },
     "execution_count": 28,
     "metadata": {},
     "output_type": "execute_result"
    },
    {
     "data": {
      "image/png": "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\n",
      "text/plain": [
       "<Figure size 432x288 with 1 Axes>"
      ]
     },
     "metadata": {
      "needs_background": "light"
     },
     "output_type": "display_data"
    }
   ],
   "source": [
    "plt.hist(fares, bins = 300)\n",
    "fares.describe()"
   ]
  },
  {
   "cell_type": "code",
   "execution_count": 29,
   "id": "5ef6160a",
   "metadata": {
    "hidden": true
   },
   "outputs": [
    {
     "data": {
      "text/plain": [
       "1"
      ]
     },
     "execution_count": 29,
     "metadata": {},
     "output_type": "execute_result"
    }
   ],
   "source": [
    "fares[fares == -1].count()"
   ]
  },
  {
   "cell_type": "code",
   "execution_count": 30,
   "id": "f7b80577",
   "metadata": {
    "hidden": true
   },

   "outputs": [
    {
     "data": {
      "text/plain": [
       "dtype('int64')"
      ]
     },
     "execution_count": 30,
     "metadata": {},
     "output_type": "execute_result"
    }
   ],
   "source": [
    "data[\"'pclass'\"].dtypes"
   ]
  },
  {
   "cell_type": "code",
   "execution_count": 31,
   "id": "1b14fa0f",
   "metadata": {
    "hidden": true
   },
   "outputs": [
    {
     "data": {
      "text/plain": [
       "0       1.0\n",
       "1       1.0\n",
       "2       1.0\n",
       "3       1.0\n",
       "4       1.0\n",
       "       ... \n",
       "1304    3.0\n",
       "1305    3.0\n",
       "1306    3.0\n",
       "1307    3.0\n",
       "1308    3.0\n",
       "Name: 'pclass', Length: 1309, dtype: float64"
      ]
     },
     "execution_count": 31,
     "metadata": {},
     "output_type": "execute_result"
    }
   ],
   "source": [
    "pclasses = data[\"'pclass'\"].astype(float)\n",
    "pclasses"
   ]
  },
  {
   "cell_type": "markdown",
   "id": "851b0078",

   "metadata": {
    "hidden": true
   },

   "source": [
    "The fares appears vary for each class. The first class spread of the data. However, there appear not to have a clear distinction within the data. None of the correlations suggest a strong correalation exists the values varies between [-0.56, and -0.71]. However, it suggests the fares are likely to decrease as the classes decreases.   \n"
   ]
  },
  {
   "cell_type": "code",
   "execution_count": 32,
   "id": "0d3944ee",
   "metadata": {
    "hidden": true
   },
   "outputs": [
    {
     "data": {
      "text/plain": [
       "<matplotlib.collections.PathCollection at 0x7efd658f6280>
      ]
     },
     "execution_count": 32,
     "metadata": {},
     "output_type": "execute_result"
    },
    {
     "data": {
      "image/png": "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\n",
      "text/plain": [
       "<Figure size 432x288 with 1 Axes>"
      ]
     },
     "metadata": {
      "needs_background": "light"
     },
     "output_type": "display_data"
    }
   ],
   "source": [
    "plt.scatter(pclasses, fares)"
   ]
  },
  {
   "cell_type": "code",
   "execution_count": 33,
   "id": "b5622575",
   "metadata": {
    "hidden": true
   },
   "outputs": [
    {
     "data": {
      "text/plain": [
       "Pclass    float64\n",
       "Fares     float64\n",
       "dtype: object"
      ]
     },
     "execution_count": 33,
     "metadata": {},
     "output_type": "execute_result"
    }
   ],
   "source": [
    "data_vis = pd.DataFrame({\"Pclass\": pclasses, \"Fares\": fares})\n",
    "data_vis.dtypes"
   ]
  },
  {
   "cell_type": "code",
   "execution_count": 34,
   "id": "1cf601a1",
   "metadata": {
    "hidden": true
   },
   "outputs": [
    {
     "data": {
      "text/html": [
       "<div>\n",
       "<style scoped>\n",
       "    .dataframe tbody tr th:only-of-type {\n",
       "        vertical-align: middle;\n",
       "    }\n",
       "\n",
       "    .dataframe tbody tr th {\n",
       "        vertical-align: top;\n",
       "    }\n",
       "\n",
       "    .dataframe thead tr th {\n",
       "        text-align: left;\n",
       "    }\n",
       "\n",
       "    .dataframe thead tr:last-of-type th {\n",
       "        text-align: right;\n",
       "    }\n",
       "</style>\n",
       "<table border=\"1\" class=\"dataframe\">\n",
       "  <thead>\n",
       "    <tr>\n",
       "      <th></th>\n",
       "      <th colspan=\"5\" halign=\"left\">Fares</th>\n",
       "    </tr>\n",
       "    <tr>\n",
       "      <th></th>\n",
       "      <th>min</th>\n",
       "      <th>mean</th>\n",
       "      <th>std</th>\n",
       "      <th>median</th>\n",
       "      <th>max</th>\n",
       "    </tr>\n",
       "    <tr>\n",
       "      <th>Pclass</th>\n",
       "      <th></th>\n",
       "      <th></th>\n",
       "      <th></th>\n",
       "      <th></th>\n",
       "      <th></th>\n",
       "    </tr>\n",
       "  </thead>\n",
       "  <tbody>\n",
       "    <tr>\n",
       "      <th>1.0</th>\n",
       "      <td>0.0</td>\n",
       "      <td>87.508992</td>\n",
       "      <td>80.447178</td>\n",
       "      <td>60.0000</td>\n",
       "      <td>512.3292</td>\n",
       "    </tr>\n",
       "    <tr>\n",
       "      <th>2.0</th>\n",
       "      <td>0.0</td>\n",
       "      <td>21.179196</td>\n",
       "      <td>13.607122</td>\n",
       "      <td>15.0458</td>\n",
       "      <td>73.5000</td>\n",
       "    </tr>\n",
       "    <tr>\n",
       "      <th>3.0</th>\n",
       "      <td>-1.0</td>\n",
       "      <td>13.282715</td>\n",
       "      <td>11.498791</td>\n",
       "      <td>8.0500</td>\n",
       "      <td>69.5500</td>\n",
       "    </tr>\n",
       "  </tbody>\n",
       "</table>\n",
       "</div>"
      ],
      "text/plain": [
       "       Fares                                         \n",
       "         min       mean        std   median       max\n",
       "Pclass                                               \n",
       "1.0      0.0  87.508992  80.447178  60.0000  512.3292\n",
       "2.0      0.0  21.179196  13.607122  15.0458   73.5000\n",
       "3.0     -1.0  13.282715  11.498791   8.0500   69.5500"
      ]
     },
     "execution_count": 34,
     "metadata": {},
     "output_type": "execute_result"
    },
    {
     "data": {
      "image/png": "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\n",
      "text/plain": [
       "<Figure size 432x288 with 1 Axes>"
      ]
     },
     "metadata": {
      "needs_background": "light"
     },
     "output_type": "display_data"
    }
   ],
   "source": [
    "data_vis.boxplot(\"Fares\", by=\"Pclass\", grid=False)\n",
    "data_vis.groupby([\"Pclass\"]).aggregate([\"min\",\"mean\",\"std\",\"median\", \"max\"])"
   ]
  },
  {
   "cell_type": "code",
   "execution_count": 35,
   "id": "79d80127",
   "metadata": {
    "hidden": true
   },

   "outputs": [
    {
     "name": "stdout",
     "output_type": "stream",
     "text": [
      "Pearson  :  -0.5588100663539586\n",
      "Spearman :  -0.7091345258216657\n",
      "Kendall  :  -0.5916856604501165\n"
     ]
    }
   ],
   "source": [
    "print(\"Pearson  : \" , scipy.stats.pearsonr(pclasses, fares)[0])   # Pearson's r\n",
    "\n",
    "print(\"Spearman : \" , scipy.stats.spearmanr(pclasses, fares)[0] )  # Spearman's rho\n",
    "\n",
    "print(\"Kendall  : \" , scipy.stats.kendalltau(pclasses, fares)[0]) # Kendall's tau\n"
   ]
  },
  {
   "cell_type": "markdown",
   "id": "511b4ec4",
   "metadata": {
    "hidden": true
   },
   "source": [
    "## Parametric and non-parametric Anova"
   ]
  },
  {
   "cell_type": "markdown",
   "id": "bc5f6f16",
   "metadata": {
    "hidden": true
   },

   "source": [
    "We test whether there exists a statistical significant difference between the fares of the three passengers classes.  The Null-hyphothesis $h_0$ is that all the expected fares are the same; $\\mu_1 = \\mu_2 = \\mu_3$.  The  alternative hypothesis $h_1$ suggests that  the expected fares for each passenger classes are the different; $\\mu_1 != \\mu_2 != \\mu_3$. We use a p-value of 0.05. \n",
    "\n",
    "\n",
    "\n"
   ]
  },
  {
   "cell_type": "code",
   "execution_count": 36,
   "id": "0426b7df",
   "metadata": {
    "hidden": true
   },

   "outputs": [
    {
     "data": {
      "text/plain": [
       "F_onewayResult(statistic=373.2777701562272, pvalue=6.057778202395735e-129)"
      ]
     },
     "execution_count": 36,
     "metadata": {},
     "output_type": "execute_result"
    }
   ],
   "source": [
    "\n",
    "fares_class_1 = data.loc[data[\"'pclass'\"] == 1, \"'fare'\" ]\n",
    "fares_class_2 = data.loc[data[\"'pclass'\"] == 2, \"'fare'\" ]\n",
    "fares_class_3 = data.loc[data[\"'pclass'\"] == 3, \"'fare'\" ]\n",
    "\n",
    "# Conduct the one-way ANOVA\n",
    "f_oneway(fares_class_1,fares_class_2,fares_class_3)"
   ]
  },
  {
   "cell_type": "code",
   "execution_count": 37,
   "id": "0865eac8",
   "metadata": {
    "hidden": true
   },
   "execution_count": 70,
   "id": "0865eac8",
   "metadata": {},
   "outputs": [
    {
     "name": "stdout",
     "output_type": "stream",
     "text": [
      "KruskalResult(statistic=676.3064776480545, pvalue=1.3864823361354794e-147)\n"
     ]
    }
   ],
   "source": [
    "result = stats.kruskal(fares_class_1, fares_class_2, fares_class_3)\n",
    " \n",
    "# Print the result\n",
    "print(result)"
   ]
  },
  {
   "cell_type": "markdown",
   "id": "22bc8f1d",
   "metadata": {
    "hidden": true
   },
   "source": [
    "$pvalue < 0.05$ for both tests. Therefore we can reject the null hyphothesis. We accept the alternative hypothesis suggesting a significant difference exists between each class for the expected fares around the mean average.\n",
    "\n"
   ]
  },
  {
   "cell_type": "markdown",
   "id": "a59d677c",
   "metadata": {
    "heading_collapsed": true,
    "hidden": true
   },
   "source": [
    "## To conclude"
   ]
  },
  {
   "cell_type": "markdown",
   "id": "75071a2a",
   "metadata": {
    "hidden": true
   },
   "source": [
    "So our question is partially answered. We have yet to fully determined whether a correlation may exists between the fares and the class. Nonetheless, as the passenger class decrease the fares appears to decrease.\n",
    "\n",
    "Three metrics suggest the fares are decreases as the passenger class decrease. The spread of the data suggests some fares may overlap between passenger classes. So, we could suggest a weak correlation may exist and decrease. For example,  both the mean and median decreases from first class to third class.  The spread of the first and second class fares appears to be larger than for the third class. So, some outliers (show in the boxplot) appear to skew the distribution to the right. For that reason, we will choose the _median_  fare for each passenger class; it appears to be closer to the actual fare. \n",
    "\n",
    "With more research in relation to how the tickets were sold and perhaps purchased, perhaps we could explain further this pattern we discussed in the data.  "
   ]
  },
  {
   "cell_type": "markdown",
   "id": "927d03c2",
   "metadata": {},
   "source": [
    "# To which extend, the gender, the age and the passenger class may have influenced surviving the accident?"
   ]
  },
  {
   "cell_type": "markdown",
   "id": "8d47fdcc",
   "metadata": {},
   "source": [
    "It is believed female passengers, and children may have had access first to life boats. It is also believed first-class passengers may have had a greater opportunity to access life boats. All these individuals may have had a greater opportunity to survive the accident. \n",
    "\n",
    "First we discover that only 39% of the total passengers survived the accident. In total 500 passengers survived. This number does not account for any crew who has perished too. These survival rates are quite dramatic and somehow shocking. The disparity between the richest and poorest passengers illustrates how the risks increased per passenger classes."
   ]
  },
  {
   "cell_type": "code",
   "execution_count": 36,
   "id": "5539fd93",
   "metadata": {},
   "outputs": [
    {
     "data": {
      "text/plain": [
       "'survived'\n",
       "0    809\n",
       "1    500\n",
       "Name: 'pclass', dtype: int64"
      ]
     },
     "execution_count": 38,
     "metadata": {},
     "output_type": "execute_result"
    }
   ],
   "source": [
    "data.groupby(\"'survived'\").count()[\"'pclass'\"]"
   ]
  },
  {
   "cell_type": "code",
   "execution_count": 39,
   "id": "f2f88fd9",
   "metadata": {},
   "outputs": [
    {
     "data": {
      "text/plain": [
       "'survived'\n",
       "0    61.802903\n",
       "1    38.197097\n",
       "Name: 'pclass', dtype: float64"
      ]
     },
     "execution_count": 39,
     "metadata": {},
     "output_type": "execute_result"
    }
   ],
   "source": [
    "(data.groupby(\"'survived'\").count()[\"'pclass'\"]/data.shape[0])*100"
   ]
  },
  {
   "cell_type": "markdown",
   "id": "7b398116",
   "metadata": {},
   "source": [
    "## Gender and class"
   ]
  },
  {
   "cell_type": "markdown",
   "id": "fef4fb7d",
   "metadata": {},
   "source": [
    "We can observe approximately 72% of women passengers survived and 19% of male passengers survived the accident.  So we can surmise, more women may have had more opportunity to reach a life boat.\n",
    "\n",
    "Some bar chart decompose explore the proportion and number of passenger for each gender. As the class decreases the number of male passengers increases significantly. It appears the number of women and men appears to be more balanced for the first class, then the variation increases (see table and bar chart below). \n",
    "\n",
    "|Passenger class|Ratio female:male|\n",
    "|----|----:|\n",
    "|first class| 45:55|\n",
    "|second class|38:62|\n",
    "|thired class|30:70|\n",
    "\n"
   ]
  },
  {
   "cell_type": "code",
   "execution_count": 64,
   "id": "57e95723",
   "metadata": {},
   "outputs": [
    {
     "data": {
      "image/png": "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\n",
      "text/plain": [
       "<Figure size 1440x864 with 1 Axes>"
      ]
     },
     "metadata": {
      "needs_background": "light"
     },
     "output_type": "display_data"
    }
   ],
   "source": [
    "#calculate sum of points for each team\n",
    "groups = data.groupby([\"'pclass'\",\"'sex'\"]).count()[\"'survived'\"]\n",
    "#groups.apply(lambda x: print(\"hhh\", x)) \n",
    "#plt.bar(groups, groups.index)\n",
    "xs = list(groups.index)\n",
    "xs = [\"class \"  + str(label[0]) + \" \" + label[1] for label in xs ]\n",
    "ys = groups\n",
    "plt.figure(figsize = (20, 12))\n",
    "bars  = plt.bar(xs,ys)\n",
    "bars[0].set_color(\"pink\")\n",
    "bars[2].set_color(\"pink\")\n",
    "bars[4].set_color(\"pink\")\n",
   ]
  },
  {
   "cell_type": "code",
   "execution_count": 41,

   "id": "2ef5ac54",
   "metadata": {},
   "outputs": [
    {
     "data": {
      "text/html": [
       "<div>\n",
       "<style scoped>\n",
       "    .dataframe tbody tr th:only-of-type {\n",
       "        vertical-align: middle;\n",
       "    }\n",
       "\n",
       "    .dataframe tbody tr th {\n",
       "        vertical-align: top;\n",
       "    }\n",
       "\n",
       "    .dataframe thead th {\n",
       "        text-align: right;\n",
       "    }\n",
       "</style>\n",
       "<table border=\"1\" class=\"dataframe\">\n",
       "  <thead>\n",
       "    <tr style=\"text-align: right;\">\n",
       "      <th>'sex'</th>\n",
       "      <th>female</th>\n",
       "      <th>male</th>\n",
       "      <th>total</th>\n",
       "    </tr>\n",
       "    <tr>\n",
       "      <th>'pclass'</th>\n",
       "      <th></th>\n",
       "      <th></th>\n",
       "      <th></th>\n",
       "    </tr>\n",
       "  </thead>\n",
       "  <tbody>\n",
       "    <tr>\n",
       "      <th>1</th>\n",
       "      <td>44.582043</td>\n",
       "      <td>55.417957</td>\n",
       "      <td>323</td>\n",
       "    </tr>\n",
       "    <tr>\n",
       "      <th>2</th>\n",
       "      <td>38.267148</td>\n",
       "      <td>61.732852</td>\n",
       "      <td>277</td>\n",
       "    </tr>\n",
       "    <tr>\n",
       "      <th>3</th>\n",
       "      <td>30.465444</td>\n",
       "      <td>69.534556</td>\n",
       "      <td>709</td>\n",
       "    </tr>\n",
       "  </tbody>\n",
       "</table>\n",
       "</div>"
      ],
      "text/plain": [
       "'sex'        female       male  total\n",
       "'pclass'                             \n",
       "1         44.582043  55.417957    323\n",
       "2         38.267148  61.732852    277\n",
       "3         30.465444  69.534556    709"
      ]
     },
     "execution_count": 41,
     "metadata": {},
     "output_type": "execute_result"
    }
   ],
   "source": [
    "agg = data.groupby([\"'pclass'\", \"'sex'\"])[\"'survived'\"].count().unstack()\n",
    "agg[\"total\"]  = agg['female'] + agg['male']\n",
    "agg[\"female\"] = (agg['female']/agg[\"total\"])*100\n",
    "agg[\"male\"] = (agg['male']/agg[\"total\"])*100\n",
    "agg"
   ]
  },
  {
   "cell_type": "code",
   "execution_count": 42,
   "id": "01491c39",
   "metadata": {},
   "outputs": [
    {
     "data": {
      "text/plain": [
       "<matplotlib.legend.Legend at 0x7efd62f019d0>"
      ]
     },
     "execution_count": 42,
     "metadata": {},
     "output_type": "execute_result"
    },
    {
     "data": {
      "image/png": "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\n",
      "text/plain": [
       "<Figure size 1440x864 with 1 Axes>"
      ]
     },
     "metadata": {
      "needs_background": "light"
     },
     "output_type": "display_data"
    }
   ],
   "source": [
    "\n",
    "fig, ax = plt.subplots(figsize=(20,12))\n",
    "# First plot the 'Male' bars for every day.\n",
    "ax.bar(agg.index, agg['male'], label='Male')\n",
    "# Then plot the 'Female' bars on top, starting at the top of the 'Male'\n",
    "# bars.\n",
    "ax.bar(agg.index, agg['female'], bottom=agg['male'],\n",
    "       label='Female', color = \"pink\")\n",
    "ax.set_title('Tips by Day and Gender')\n",
    "ax.legend()"
   ]
  },
  {
   "cell_type": "markdown",
   "id": "03ce5244",
   "metadata": {},
   "source": [
    "We now explore the relationship between the gender, class and survival rates. "
   ]
  },
  {
   "cell_type": "code",
   "execution_count": 43,
   "id": "627a6009",
   "metadata": {},
   "outputs": [
    {
     "data": {
      "text/plain": [
       "'sex'   'survived'\n",
       "female  0             127\n",
       "        1             339\n",
       "male    0             682\n",
       "        1             161\n",
       "Name: 'pclass', dtype: int64"
      ]
     },
     "execution_count": 43,
     "metadata": {},
     "output_type": "execute_result"
    }
   ],
   "source": [
    "data.groupby([\"'sex'\",\"'survived'\"]).count()[\"'pclass'\"]\n"
   ]
  },
  {
   "cell_type": "code",
   "execution_count": 44,
   "id": "fc08fd48",
   "metadata": {},
   "outputs": [
    {
     "name": "stdout",
     "output_type": "stream",
     "text": [
      "Women survival rate :  0.7274678111587983\n",
      "Men survival rate   :  0.19098457888493475\n"
     ]
    }
   ],
   "source": [
    "print(\"Women survival rate : \" , 339/(339+127))\n",
    "print(\"Men survival rate   : \" , 161/(161 +682))"
   ]
  },
  {
   "cell_type": "markdown",
   "id": "c616df04",
   "metadata": {},
   "source": [
    "We can observe First class passengers may have been more likely to survive the accident, than second and third class passengers.  The survival rates shockingly decreases from 62% to 26%."
   ]
  },
  {
   "cell_type": "code",
   "execution_count": 45,
   "id": "c15984e3",
   "metadata": {},
   "outputs": [
    {
     "data": {
      "text/html": [
       "<div>\n",
       "<style scoped>\n",
       "    .dataframe tbody tr th:only-of-type {\n",
       "        vertical-align: middle;\n",
       "    }\n",
       "\n",
       "    .dataframe tbody tr th {\n",
       "        vertical-align: top;\n",
       "    }\n",
       "\n",
       "    .dataframe thead th {\n",
       "        text-align: right;\n",
       "    }\n",
       "</style>\n",
       "<table border=\"1\" class=\"dataframe\">\n",
       "  <thead>\n",
       "    <tr style=\"text-align: right;\">\n",
       "      <th>'survived'</th>\n",
       "      <th>0</th>\n",
       "      <th>1</th>\n",
       "      <th>total</th>\n",
       "    </tr>\n",
       "    <tr>\n",
       "      <th>'pclass'</th>\n",
       "      <th></th>\n",
       "      <th></th>\n",
       "      <th></th>\n",
       "    </tr>\n",
       "  </thead>\n",
       "  <tbody>\n",
       "    <tr>\n",
       "      <th>1</th>\n",
       "      <td>38.080495</td>\n",
       "      <td>61.919505</td>\n",
       "      <td>323</td>\n",
       "    </tr>\n",
       "    <tr>\n",
       "      <th>2</th>\n",
       "      <td>57.039711</td>\n",
       "      <td>42.960289</td>\n",
       "      <td>277</td>\n",
       "    </tr>\n",
       "    <tr>\n",
       "      <th>3</th>\n",
       "      <td>74.471086</td>\n",
       "      <td>25.528914</td>\n",
       "      <td>709</td>\n",
       "    </tr>\n",
       "  </tbody>\n",
       "</table>\n",
       "</div>"
      ],
      "text/plain": [
       "'survived'          0          1  total\n",
       "'pclass'                               \n",
       "1           38.080495  61.919505    323\n",
       "2           57.039711  42.960289    277\n",
       "3           74.471086  25.528914    709"
      ]
     },
     "execution_count": 45,
     "metadata": {},
     "output_type": "execute_result"
    }
   ],
   "source": [
    "\n",
    "agg = data.groupby([\"'pclass'\", \"'survived'\"])[\"'sibsp'\"].count().unstack()\n",
    "agg\n",
    "agg[\"total\"]  = agg[0] + agg[1]\n",
    "agg[0] = (agg[0]/agg[\"total\"])*100\n",
    "agg[1] = (agg[1]/agg[\"total\"])*100\n",
    "agg\n"
   ]
  },
  {
   "cell_type": "markdown",
   "id": "59992c8d",
   "metadata": {},
   "source": [
    "We explore the decomposition of survival rate per class and gender.  "
   ]
  },
  {
   "cell_type": "code",
   "execution_count": 46,
   "id": "b5ad805a",
   "metadata": {},
   "outputs": [
    {
     "data": {
      "text/html": [
       "<div>\n",
       "<style scoped>\n",
       "    .dataframe tbody tr th:only-of-type {\n",
       "        vertical-align: middle;\n",
       "    }\n",
       "\n",
       "    .dataframe tbody tr th {\n",
       "        vertical-align: top;\n",
       "    }\n",
       "\n",
       "    .dataframe thead th {\n",
       "        text-align: right;\n",
       "    }\n",
       "</style>\n",
       "<table border=\"1\" class=\"dataframe\">\n",
       "  <thead>\n",
       "    <tr style=\"text-align: right;\">\n",
       "      <th></th>\n",
       "      <th>'pclass'</th>\n",
       "      <th>1</th>\n",
       "      <th>2</th>\n",
       "      <th>3</th>\n",
       "    </tr>\n",
       "    <tr>\n",
       "      <th>'sex'</th>\n",
       "      <th>'survived'</th>\n",
       "      <th></th>\n",
       "      <th></th>\n",
       "      <th></th>\n",
       "    </tr>\n",
       "  </thead>\n",
       "  <tbody>\n",
       "    <tr>\n",
       "      <th rowspan=\"2\" valign=\"top\">female</th>\n",
       "      <th>0</th>\n",
       "      <td>5</td>\n",
       "      <td>12</td>\n",
       "      <td>110</td>\n",
       "    </tr>\n",
       "    <tr>\n",
       "      <th>1</th>\n",
       "      <td>139</td>\n",
       "      <td>94</td>\n",
       "      <td>106</td>\n",
       "    </tr>\n",
       "    <tr>\n",
       "      <th rowspan=\"2\" valign=\"top\">male</th>\n",
       "      <th>0</th>\n",
       "      <td>118</td>\n",
       "      <td>146</td>\n",
       "      <td>418</td>\n",
       "    </tr>\n",
       "    <tr>\n",
       "      <th>1</th>\n",
       "      <td>61</td>\n",
       "      <td>25</td>\n",
       "      <td>75</td>\n",
       "    </tr>\n",
       "  </tbody>\n",
       "</table>\n",
       "</div>"
      ],
      "text/plain": [
       "'pclass'             1    2    3\n",
       "'sex'  'survived'               \n",
       "female 0             5   12  110\n",
       "       1           139   94  106\n",
       "male   0           118  146  418\n",
       "       1            61   25   75"
      ]
     },

     "execution_count": 46,

     "metadata": {},
     "output_type": "execute_result"
    }
   ],
   "source": [
    "agg = data.groupby([\"'pclass'\",\"'sex'\",\"'survived'\"]).count()[\"'sibsp'\"].unstack(0)\n",
    "agg"
   ]
  },
  {
   "cell_type": "code",

   "execution_count": 47,

   "id": "2d39eebc",
   "metadata": {},
   "outputs": [
    {
     "name": "stdout",
     "output_type": "stream",
     "text": [
      "First  class female passengers survival rate  :  96.52777777777779\n",
      "First  class male passengers survival rate    :  30.5\n",
      "---\n",
      "Second class female passengers survival rate  :  88.67924528301887\n",
      "Second class male passengers survival rate    :  14.619883040935672\n",
      "---\n",
      "Third  class female passengers survival rate  :  50.92592592592593\n",
      "Third  class male passengers survival rate    :  15.212981744421908\n"
     ]
    }
   ],
   "source": [
    "print(\"First  class female passengers survival rate  : \" , 139/(5+139) * 100)\n",
    "print(\"First  class male passengers survival rate    : \" , 61/(139+61) *100)\n",
    "print(\"---\")\n",
    "print(\"Second class female passengers survival rate  : \" , 94/(12+94) * 100)\n",
    "print(\"Second class male passengers survival rate    : \" , 25/(146+25) * 100)\n",
    "print(\"---\")\n",
    "print(\"Third  class female passengers survival rate  : \" , 110/(110+106) * 100)\n",
    "print(\"Third  class male passengers survival rate    : \" , 75/(75+418) * 100)"
   ]
  },
  {
   "cell_type": "markdown",
   "id": "ee6012b2",
   "metadata": {},
   "source": [
    "It appears the gender and the passenger class may have contributed to a higher chance to survive the accident. While the proportion of male passengers is greater for each class, the survival rate appears to much lower in comparison to female passengers - see summary table below.\n",
    "\n",
    "|Passenger class|Ratio female:male|Female survival rate|Male survival rate|\n",
    "|----|----:|---:|---:|\n",
    "|first class| 45:55| 97%|30%|\n",
    "|second class|38:62| 89%|15%|\n",
    "|thired class|30:70| 51%|15%|\n",
    "\n",
    "It is worth noting, the number of male passenger is greater in each class and increases for second and third passenger classes. For that reason, some more clarity is brought to  the shockingly low survival rates brings.  More research about the life boats capacity of the titanic may need to be completed to find out more about those findings.\n"
   ]
  },
  {
   "cell_type": "markdown",
   "id": "cf166bf1",
   "metadata": {},
   "source": [
    "## Age"
   ]
  },
  {
   "cell_type": "markdown",
   "id": "d117abd3",
   "metadata": {},
   "source": [
    "Not all passengers' age has been captured - approximately 20%. This limit the opportunity to identify children from adults."
   ]
  },
  {
   "cell_type": "code",
   "execution_count": 48,
   "id": "462589e7",
   "metadata": {},
   "outputs": [
    {
     "data": {
      "text/plain": [
       "'pclass'         int64\n",
       "'survived'       int64\n",
       "'name'          object\n",
       "'sex'           object\n",
       "'age'          float64\n",
       "'sibsp'          int64\n",
       "'parch'          int64\n",
       "'ticket'        object\n",

       "'fare'         float64\n",
       "'cabin'         object\n",
       "'embarked'      object\n",
       "'boat'          object\n",
       "'body'          object\n",
       "'home.dest'     object\n",
       "dtype: object"
      ]
     },
     "execution_count": 48,
     "metadata": {},
     "output_type": "execute_result"
    }
   ],
   "source": [
    "data[\"'age'\"] = data[\"'age'\"].replace(\"?\", \"-1\")\n",
    "data[\"'age'\"] = data[\"'age'\"].astype(float)\n",
    "data.dtypes"
   ]
  },
  {
   "cell_type": "code",
   "execution_count": 49,
   "id": "a9759eff",
   "metadata": {},
   "outputs": [
    {
     "data": {
      "text/plain": [
       "count    1309.000000\n",
       "mean       23.676598\n",
       "std        17.866189\n",
       "min        -1.000000\n",
       "25%         7.000000\n",
       "50%        24.000000\n",
       "75%        35.000000\n",
       "max        80.000000\n",
       "Name: 'age', dtype: float64"
      ]
     },
     "execution_count": 49,
     "metadata": {},
     "output_type": "execute_result"
    },
    {
     "data": {
      "image/png": "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\n",
      "text/plain": [
       "<Figure size 1440x864 with 1 Axes>"
      ]
     },
     "metadata": {
      "needs_background": "light"
     },
     "output_type": "display_data"
    }
   ],
   "source": [
    "plt.figure(figsize =(20,12))\n",
    "plt.hist(data[\"'age'\"],bins= 40)\n",
    "data[\"'age'\"].describe()\n",
    "         "
   ]
  },
  {
   "cell_type": "markdown",
   "id": "fadaad80",
   "metadata": {},
   "source": [
    "There is a limiting factor that we cannot use the age for explore further the impact of surviving the accident. "
   ]
  },
  {
   "cell_type": "markdown",
   "id": "9e6f140f",
   "metadata": {},
   "source": [
    "## To conclude\n",
    "\n",
    "We partially answer this question. The data suggests that female passengers would have had a greater chance to survive the accident. However, it would have nearly halved from first to third class, which would be unethical and shocking.  Male passengers appears to have a lower survival rates across each passenger class. The lowest is in third class (15%), which had the greater amount of male passenger.   \n",
    "\n",
    "Further exploration should look at how traveling within a family may affect the chance to survive the accident."
   ]
  },
  {
   "cell_type": "markdown",
   "id": "b6e16099",
   "metadata": {},
   "source": [
    "# To which extend, traveling has a single passenger may have affected surviving the accident?"
   ]
  },
  {
   "cell_type": "markdown",
   "id": "ecfad196",
   "metadata": {},
   "source": [
    "Not all passengers' age has been captured - approximately 20%. This limite the opportunity to identify children and adults. To overcome this issue we propose to add both statistical variables spouse/sibling and parent/children. It will indicates whether passengers where traveling on their own or part of a familly.\n",
    "\n",
    "\n",
    "We add both siblings/spouse and parents/children variables. we find out that the majority of passengers appears to have travelled on their own with a small family."
   ]
  },
  {
   "cell_type": "code",
   "execution_count": 50,
   "id": "a9bde08e",
   "metadata": {},
   "outputs": [
    {
     "data": {
      "text/plain": [
       "'pclass'         int64\n",
       "'survived'       int64\n",
       "'name'          object\n",
       "'sex'           object\n",
       "'age'          float64\n",
       "'sibsp'          int64\n",
       "'parch'          int64\n",
       "'ticket'        object\n",

       "'fare'         float64\n",
       "'cabin'         object\n",
       "'embarked'      object\n",
       "'boat'          object\n",
       "'body'          object\n",
       "'home.dest'     object\n",
       "dtype: object"
      ]
     },
     "execution_count": 50,
     "metadata": {},
     "output_type": "execute_result"
    }
   ],
   "source": [
    "data.dtypes"
   ]
  },
  {
   "cell_type": "code",
   "execution_count": 51,
   "id": "d89c7acd",
   "metadata": {},
   "outputs": [
    {
     "data": {
      "text/plain": [
       "0"
      ]
     },
     "execution_count": 51,
     "metadata": {},
     "output_type": "execute_result"
    }
   ],
   "source": [
    "data[\"'sibsp'\"].isnull().sum()"
   ]
  },
  {
   "cell_type": "code",
   "execution_count": 52,
   "id": "02b853c7",
   "metadata": {},
   "outputs": [
    {
     "data": {
      "text/plain": [
       "0"
      ]
     },
     "execution_count": 52,
     "metadata": {},
     "output_type": "execute_result"
    }
   ],
   "source": [
    "data[\"'parch'\"].isnull().sum()"
   ]
  },
  {
   "cell_type": "code",

   "execution_count": 53,
   "id": "f1aae0ba",
   "metadata": {},
   "outputs": [
    {
     "data": {
      "text/plain": [
       "0"
      ]
     },
     "execution_count": 53,
     "metadata": {},
     "output_type": "execute_result"
    }
   ],
   "source": [
    "data[\"'survived'\"].isnull().sum()"
   ]
  },
  {
   "cell_type": "code",
   "execution_count": 54,
   "id": "85a73f9a",
   "metadata": {},
   "outputs": [
    {
     "data": {
      "text/plain": [
       "count    1309.000000\n",
       "mean        0.883881\n",
       "std         1.583639\n",
       "min         0.000000\n",
       "25%         0.000000\n",
       "50%         0.000000\n",
       "75%         1.000000\n",
       "max        10.000000\n",
       "Name: fam_members, dtype: float64"
      ]
     },
     "execution_count": 54,
     "metadata": {},
     "output_type": "execute_result"
    },
    {
     "data": {
      "image/png": "iVBORw0KGgoAAAANSUhEUgAABIQAAAKrCAYAAACA+FbvAAAAOXRFWHRTb2Z0d2FyZQBNYXRwbG90bGliIHZlcnNpb24zLjUuMSwgaHR0cHM6Ly9tYXRwbG90bGliLm9yZy/YYfK9AAAACXBIWXMAAAsTAAALEwEAmpwYAAAiJ0lEQVR4nO3df6zld13n8dd7OxYEd2mB2abO1J0mNJrGBOhO2LpsjEt1Q6lx+ocSyK5MSJPZP6qimOjoP2aT/aMkRpTENGkoOuyyaLdC2ghRm4Ix+wddp8DyqxLG2tKZ7Y8Rof4gLnZ97x/32/UyDsy5c+/l3Pb9eCQ35/v9fL/nnvf944Th2e/3nOruAAAAADDHP1n3AAAAAAB8awlCAAAAAMMIQgAAAADDCEIAAAAAwwhCAAAAAMPsW/cASfLyl7+8Dx06tO4xAAAAAJ43HnzwwT/v7v3nO7YngtChQ4dy8uTJdY8BAAAA8LxRVY9+o2NuGQMAAAAYRhACAAAAGEYQAgAAABhGEAIAAAAYRhACAAAAGEYQAgAAABhGEAIAAAAYRhACAAAAGEYQAgAAABhGEAIAAAAYRhACAAAAGEYQAgAAABhGEAIAAAAYRhACAAAAGEYQAgAAABhGEAIAAAAYRhACAAAAGEYQAgAAABhmpSBUVT9TVZ+tqs9U1fur6oVVdXVVPVBVp6rqt6vq0uXcFyz7p5bjh3b1LwAAAABgSy4YhKrqQJKfSnK4u783ySVJ3pTkHUne2d2vSPLlJLcsT7klyZeX9Xcu5wEAAACwR6x6y9i+JN9eVfuSvCjJ40lel+Tu5fiJJDcv20eW/SzHb6iq2pFpAQAAANi2Cwah7j6T5JeTfDEbIejpJA8m+Up3P7OcdjrJgWX7QJLHluc+s5z/sp0dGwAAAICLtcotY5dn46qfq5N8Z5IXJ3n9dl+4qo5V1cmqOnn27Nnt/joAAAAAVrTKLWM/mOTPuvtsd/9dkg8keW2Sy5ZbyJLkYJIzy/aZJFclyXL8JUm+dO4v7e47uvtwdx/ev3//Nv8MAAAAAFa1ShD6YpLrq+pFy2cB3ZDkc0k+muRHl3OOJrln2b532c9y/CPd3Ts3MgAAAADbscpnCD2QjQ+H/niSTy/PuSPJzyd5e1WdysZnBN25POXOJC9b1t+e5PguzA0AAADARaq9cPHO4cOH++TJk+seAwAAAOB5o6oe7O7D5zu26tfOAwAAAPA8IQgBAAAADCMIAQAAAAyz78KnsBWHjn9o3SNwjkduu2ndIwAAAMCe4gohAAAAgGEEIQAAAIBhBCEAAACAYQQhAAAAgGEEIQAAAIBhBCEAAACAYQQhAAAAgGEEIQAAAIBhBCEAAACAYQQhAAAAgGEEIQAAAIBhBCEAAACAYQQhAAAAgGEEIQAAAIBhBCEAAACAYQQhAAAAgGEEIQAAAIBhBCEAAACAYQQhAAAAgGEEIQAAAIBhBCEAAACAYQQhAAAAgGEEIQAAAIBhBCEAAACAYQQhAAAAgGEEIQAAAIBhBCEAAACAYQQhAAAAgGEEIQAAAIBhBCEAAACAYQQhAAAAgGEEIQAAAIBhBCEAAACAYQQhAAAAgGEEIQAAAIBhBCEAAACAYQQhAAAAgGEEIQAAAIBhBCEAAACAYQQhAAAAgGEEIQAAAIBhBCEAAACAYQQhAAAAgGEEIQAAAIBhBCEAAACAYQQhAAAAgGEEIQAAAIBhBCEAAACAYQQhAAAAgGEEIQAAAIBhBCEAAACAYQQhAAAAgGEEIQAAAIBhBCEAAACAYQQhAAAAgGEEIQAAAIBhBCEAAACAYQQhAAAAgGEEIQAAAIBhBCEAAACAYQQhAAAAgGEEIQAAAIBhBCEAAACAYQQhAAAAgGEEIQAAAIBhBCEAAACAYS4YhKrqu6vqk5t+/rKqfrqqXlpV91XVF5bHy5fzq6reVVWnqupTVXXd7v8ZAAAAAKzqgkGouz/f3a/q7lcl+ZdJvprkg0mOJ7m/u69Jcv+ynyQ3Jrlm+TmW5PZdmBsAAACAi7TVW8ZuSPKn3f1okiNJTizrJ5LcvGwfSfLe3vCxJJdV1ZU7MSwAAAAA27fVIPSmJO9ftq/o7seX7SeSXLFsH0jy2KbnnF7Wvk5VHauqk1V18uzZs1scAwAAAICLtXIQqqpLk/xIkv9+7rHu7iS9lRfu7ju6+3B3H96/f/9WngoAAADANmzlCqEbk3y8u59c9p989law5fGpZf1Mkqs2Pe/gsgYAAADAHrCVIPTm/MPtYklyb5Kjy/bRJPdsWn/L8m1j1yd5etOtZQAAAACs2b5VTqqqFyf5oST/cdPybUnuqqpbkjya5I3L+oeTvCHJqWx8I9lbd2xaAAAAALZtpSDU3X+T5GXnrH0pG986du65neTWHZkOAAAAgB231W8ZAwAAAOA5ThACAAAAGEYQAgAAABhGEAIAAAAYRhACAAAAGEYQAgAAABhGEAIAAAAYRhACAAAAGEYQAgAAABhGEAIAAAAYRhACAAAAGEYQAgAAABhGEAIAAAAYRhACAAAAGEYQAgAAABhGEAIAAAAYRhACAAAAGEYQAgAAABhGEAIAAAAYRhACAAAAGEYQAgAAABhGEAIAAAAYRhACAAAAGEYQAgAAABhGEAIAAAAYRhACAAAAGEYQAgAAABhGEAIAAAAYRhACAAAAGEYQAgAAABhGEAIAAAAYRhACAAAAGEYQAgAAABhGEAIAAAAYRhACAAAAGEYQAgAAABhGEAIAAAAYRhACAAAAGEYQAgAAABhGEAIAAAAYRhACAAAAGEYQAgAAABhGEAIAAAAYRhACAAAAGEYQAgAAABhGEAIAAAAYRhACAAAAGEYQAgAAABhGEAIAAAAYRhACAAAAGEYQAgAAABhGEAIAAAAYRhACAAAAGEYQAgAAABhGEAIAAAAYRhACAAAAGEYQAgAAABhGEAIAAAAYRhACAAAAGEYQAgAAABhGEAIAAAAYRhACAAAAGEYQAgAAABhGEAIAAAAYRhACAAAAGEYQAgAAABhGEAIAAAAYRhACAAAAGEYQAgAAABhGEAIAAAAYZqUgVFWXVdXdVfUnVfVQVX1fVb20qu6rqi8sj5cv51ZVvauqTlXVp6rqut39EwAAAADYilWvEPq1JL/X3d+T5JVJHkpyPMn93X1NkvuX/SS5Mck1y8+xJLfv6MQAAAAAbMsFg1BVvSTJ9ye5M0m6+2vd/ZUkR5KcWE47keTmZftIkvf2ho8luayqrtzhuQEAAAC4SKtcIXR1krNJfqOqPlFV766qFye5orsfX855IskVy/aBJI9tev7pZe3rVNWxqjpZVSfPnj178X8BAAAAAFuyShDal+S6JLd396uT/E3+4fawJEl3d5Leygt39x3dfbi7D+/fv38rTwUAAABgG1YJQqeTnO7uB5b9u7MRiJ589law5fGp5fiZJFdtev7BZQ0AAACAPeCCQai7n0jyWFV997J0Q5LPJbk3ydFl7WiSe5bte5O8Zfm2seuTPL3p1jIAAAAA1mzfiuf9ZJL3VdWlSR5O8tZsxKS7quqWJI8meeNy7oeTvCHJqSRfXc4FAAAAYI9YKQh19yeTHD7PoRvOc24nuXV7YwEAAACwW1b5DCEAAAAAnkcEIQAAAIBhBCEAAACAYQQhAAAAgGEEIQAAAIBhBCEAAACAYQQhAAAAgGEEIQAAAIBhBCEAAACAYQQhAAAAgGEEIQAAAIBhBCEAAACAYQQhAAAAgGEEIQAAAIBhBCEAAACAYQQhAAAAgGEEIQAAAIBhBCEAAACAYQQhAAAAgGEEIQAAAIBhBCEAAACAYQQhAAAAgGEEIQAAAIBhBCEAAACAYQQhAAAAgGEEIQAAAIBhBCEAAACAYQQhAAAAgGEEIQAAAIBhBCEAAACAYQQhAAAAgGEEIQAAAIBhBCEAAACAYQQhAAAAgGEEIQAAAIBhBCEAAACAYQQhAAAAgGEEIQAAAIBhBCEAAACAYQQhAAAAgGEEIQAAAIBhBCEAAACAYQQhAAAAgGEEIQAAAIBhBCEAAACAYQQhAAAAgGEEIQAAAIBhBCEAAACAYQQhAAAAgGEEIQAAAIBhBCEAAACAYQQhAAAAgGEEIQAAAIBhBCEAAACAYQQhAAAAgGEEIQAAAIBhBCEAAACAYQQhAAAAgGEEIQAAAIBhBCEAAACAYQQhAAAAgGEEIQAAAIBhBCEAAACAYQQhAAAAgGEEIQAAAIBhBCEAAACAYQQhAAAAgGEEIQAAAIBhBCEAAACAYVYKQlX1SFV9uqo+WVUnl7WXVtV9VfWF5fHyZb2q6l1VdaqqPlVV1+3mHwAAAADA1mzlCqF/292v6u7Dy/7xJPd39zVJ7l/2k+TGJNcsP8eS3L5TwwIAAACwfdu5ZexIkhPL9okkN29af29v+FiSy6rqym28DgAAAAA7aNUg1En+oKoerKpjy9oV3f34sv1EkiuW7QNJHtv03NPLGgAAAAB7wL4Vz/s33X2mqv55kvuq6k82H+zurqreygsvYelYknzXd33XVp4KAAAAwDasdIVQd59ZHp9K8sEkr0ny5LO3gi2PTy2nn0ly1aanH1zWzv2dd3T34e4+vH///ov/CwAAAADYkgsGoap6cVX902e3k/y7JJ9Jcm+So8tpR5Pcs2zfm+Qty7eNXZ/k6U23lgEAAACwZqvcMnZFkg9W1bPn/7fu/r2q+uMkd1XVLUkeTfLG5fwPJ3lDklNJvprkrTs+NQAAAAAX7YJBqLsfTvLK86x/KckN51nvJLfuyHQAAAAA7LjtfO08AAAAAM9BghAAAADAMIIQAAAAwDCCEAAAAMAwghAAAADAMIIQAAAAwDCCEAAAAMAwghAAAADAMIIQAAAAwDCCEAAAAMAwghAAAADAMIIQAAAAwDCCEAAAAMAwghAAAADAMIIQAAAAwDCCEAAAAMAwghAAAADAMIIQAAAAwDCCEAAAAMAwghAAAADAMIIQAAAAwDCCEAAAAMAwghAAAADAMIIQAAAAwDCCEAAAAMAwghAAAADAMIIQAAAAwDCCEAAAAMAwghAAAADAMIIQAAAAwDCCEAAAAMAwghAAAADAMIIQAAAAwDCCEAAAAMAwghAAAADAMIIQAAAAwDCCEAAAAMAwghAAAADAMIIQAAAAwDCCEAAAAMAwghAAAADAMIIQAAAAwDCCEAAAAMAwghAAAADAMIIQAAAAwDCCEAAAAMAwghAAAADAMIIQAAAAwDCCEAAAAMAwghAAAADAMIIQAAAAwDCCEAAAAMAwghAAAADAMIIQAAAAwDCCEAAAAMAwghAAAADAMIIQAAAAwDCCEAAAAMAwghAAAADAMIIQAAAAwDCCEAAAAMAwghAAAADAMIIQAAAAwDCCEAAAAMAwghAAAADAMIIQAAAAwDCCEAAAAMAwghAAAADAMIIQAAAAwDCCEAAAAMAwKwehqrqkqj5RVb+77F9dVQ9U1amq+u2qunRZf8Gyf2o5fmiXZgcAAADgImzlCqG3JXlo0/47kryzu1+R5MtJblnWb0ny5WX9nct5AAAAAOwRKwWhqjqY5KYk7172K8nrkty9nHIiyc3L9pFlP8vxG5bzAQAAANgDVr1C6FeT/FySv1/2X5bkK939zLJ/OsmBZftAkseSZDn+9HL+16mqY1V1sqpOnj179uKmBwAAAGDLLhiEquqHkzzV3Q/u5At39x3dfbi7D+/fv38nfzUAAAAA38S+Fc55bZIfqao3JHlhkn+W5NeSXFZV+5argA4mObOcfybJVUlOV9W+JC9J8qUdnxwAAACAi3LBK4S6+xe6+2B3H0rypiQf6e5/n+SjSX50Oe1oknuW7XuX/SzHP9LdvaNTAwAAAHDRtvItY+f6+SRvr6pT2fiMoDuX9TuTvGxZf3uS49sbEQAAAICdtMotY/9fd/9hkj9cth9O8prznPO3SX5sB2YDAAAAYBds5wohAAAAAJ6DBCEAAACAYQQhAAAAgGEEIQAAAIBhBCEAAACAYQQhAAAAgGEEIQAAAIBhBCEAAACAYQQhAAAAgGEEIQAAAIBhBCEAAACAYQQhAAAAgGEEIQAAAIBhBCEAAACAYQQhAAAAgGEEIQAAAIBhBCEAAACAYQQhAAAAgGEEIQAAAIBhBCEAAACAYQQhAAAAgGEEIQAAAIBhBCEAAACAYQQhAAAAgGEEIQAAAIBhBCEAAACAYQQhAAAAgGEEIQAAAIBhBCEAAACAYQQhAAAAgGEEIQAAAIBhBCEAAACAYQQhAAAAgGEEIQAAAIBhBCEAAACAYQQhAAAAgGEEIQAAAIBhBCEAAACAYQQhAAAAgGEEIQAAAIBhBCEAAACAYQQhAAAAgGEEIQAAAIBhBCEAAACAYQQhAAAAgGEEIQAAAIBhBCEAAACAYQQhAAAAgGEEIQAAAIBhBCEAAACAYQQhAAAAgGEEIQAAAIBhBCEAAACAYQQhAAAAgGEEIQAAAIBhBCEAAACAYQQhAAAAgGEEIQAAAIBhBCEAAACAYQQhAAAAgGEEIQAAAIBhBCEAAACAYQQhAAAAgGEEIQAAAIBhBCEAAACAYQQhAAAAgGEEIQAAAIBhBCEAAACAYQQhAAAAgGEEIQAAAIBhLhiEquqFVfU/q+p/VdVnq+o/LetXV9UDVXWqqn67qi5d1l+w7J9ajh/a5b8BAAAAgC1Y5Qqh/5Pkdd39yiSvSvL6qro+yTuSvLO7X5Hky0luWc6/JcmXl/V3LucBAAAAsEdcMAj1hr9edr9t+ekkr0ty97J+IsnNy/aRZT/L8RuqqnZqYAAAAAC2Z6XPEKqqS6rqk0meSnJfkj9N8pXufmY55XSSA8v2gSSPJcly/OkkLzvP7zxWVSer6uTZs2e39UcAAAAAsLqVglB3/9/uflWSg0lek+R7tvvC3X1Hdx/u7sP79+/f7q8DAAAAYEVb+pax7v5Kko8m+b4kl1XVvuXQwSRnlu0zSa5KkuX4S5J8aSeGBQAAAGD7VvmWsf1Vddmy/e1JfijJQ9kIQz+6nHY0yT3L9r3LfpbjH+nu3sGZAQAAANiGfRc+JVcmOVFVl2QjIN3V3b9bVZ9L8ltV9Z+TfCLJncv5dyb5L1V1KslfJHnTLswNAAAAwEW6YBDq7k8lefV51h/OxucJnbv+t0l+bEemAwAAAGDHbekzhAAAAAB47hOEAAAAAIYRhAAAAACGEYQAAAAAhhGEAAAAAIYRhAAAAACGEYQAAAAAhhGEAAAAAIYRhAAAAACGEYQAAAAAhhGEAAAAAIYRhAAAAACGEYQAAAAAhhGEAAAAAIYRhAAAAACGEYQAAAAAhhGEAAAAAIYRhAAAAACGEYQAAAAAhhGEAAAAAIYRhAAAAACGEYQAAAAAhhGEAAAAAIYRhAAAAACGEYQAAAAAhhGEAAAAAIYRhAAAAACGEYQAAAAAhhGEAAAAAIYRhAAAAACGEYQAAAAAhhGEAAAAAIYRhAAAAACGEYQAAAAAhhGEAAAAAIYRhAAAAACGEYQAAAAAhhGEAAAAAIYRhAAAAACGEYQAAAAAhhGEAAAAAIYRhAAAAACGEYQAAAAAhhGEAAAAAIYRhAAAAACG2bfuAWC3HTr+oXWPwHk8cttN6x4BAABgLFcIAQAAAAwjCAEAAAAMIwgBAAAADCMIAQAAAAwjCAEAAAAMIwgBAAAADCMIAQAAAAwjCAEAAAAMIwgBAAAADCMIAQAAAAwjCAEAAAAMIwgBAAAADCMIAQAAAAwjCAEAAAAMIwgBAAAADCMIAQAAAAwjCAEAAAAMIwgBAAAADCMIAQAAAAwjCAEAAAAMIwgBAAAADCMIAQAAAAwjCAEAAAAMc8EgVFVXVdVHq+pzVfXZqnrbsv7Sqrqvqr6wPF6+rFdVvauqTlXVp6rqut3+IwAAAABY3SpXCD2T5Ge7+9ok1ye5taquTXI8yf3dfU2S+5f9JLkxyTXLz7Ekt+/41AAAAABctAsGoe5+vLs/vmz/VZKHkhxIciTJieW0E0luXraPJHlvb/hYksuq6sqdHhwAAACAi7OlzxCqqkNJXp3kgSRXdPfjy6EnklyxbB9I8timp51e1gAAAADYA1YOQlX1HUl+J8lPd/dfbj7W3Z2kt/LCVXWsqk5W1cmzZ89u5akAAAAAbMNKQaiqvi0bMeh93f2BZfnJZ28FWx6fWtbPJLlq09MPLmtfp7vv6O7D3X14//79Fzs/AAAAAFu0yreMVZI7kzzU3b+y6dC9SY4u20eT3LNp/S3Lt41dn+TpTbeWAQAAALBm+1Y457VJfjzJp6vqk8vaLya5LcldVXVLkkeTvHE59uEkb0hyKslXk7x1JwcGAAAAYHsuGIS6+38kqW9w+IbznN9Jbt3mXAAAAADski19yxgAAAAAz32CEAAAAMAwghAAAADAMIIQAAAAwDCCEAAAAMAwghAAAADAMIIQAAAAwDCCEAAAAMAwghAAAADAMIIQAAAAwDCCEAAAAMAwghAAAADAMIIQAAAAwDCCEAAAAMAwghAAAADAMIIQAAAAwDCCEAAAAMAwghAAAADAMIIQAAAAwDCCEAAAAMAwghAAAADAMIIQAAAAwDCCEAAAAMAwghAAAADAMIIQAAAAwDCCEAAAAMAwghAAAADAMPvWPQAw06HjH1r3CJzjkdtuWvcIAADAt4grhAAAAACGEYQAAAAAhhGEAAAAAIYRhAAAAACGEYQAAAAAhhGEAAAAAIYRhAAAAACGEYQAAAAAhhGEAAAAAIYRhAAAAACGEYQAAAAAhhGEAAAAAIYRhAAAAACGEYQAAAAAhhGEAAAAAIYRhAAAAACGEYQAAAAAhhGEAAAAAIYRhAAAAACGEYQAAAAAhhGEAAAAAIYRhAAAAACGEYQAAAAAhhGEAAAAAIYRhAAAAACGEYQAAAAAhhGEAAAAAIYRhAAAAACGEYQAAAAAhhGEAAAAAIYRhAAAAACGEYQAAAAAhhGEAAAAAIYRhAAAAACGEYQAAAAAhhGEAAAAAIYRhAAAAACGEYQAAAAAhhGEAAAAAIYRhAAAAACGEYQAAAAAhhGEAAAAAIa5YBCqqvdU1VNV9ZlNay+tqvuq6gvL4+XLelXVu6rqVFV9qqqu283hAQAAANi6Va4Q+s0krz9n7XiS+7v7miT3L/tJcmOSa5afY0lu35kxAQAAANgpFwxC3f1HSf7inOUjSU4s2yeS3Lxp/b294WNJLquqK3doVgAAAAB2wMV+htAV3f34sv1EkiuW7QNJHtt03ull7R+pqmNVdbKqTp49e/YixwAAAABgq7b9odLd3Un6Ip53R3cf7u7D+/fv3+4YAAAAAKzoYoPQk8/eCrY8PrWsn0ly1abzDi5rAAAAAOwRFxuE7k1ydNk+muSeTetvWb5t7PokT2+6tQwAAACAPWDfhU6oqvcn+YEkL6+q00l+KcltSe6qqluSPJrkjcvpH07yhiSnknw1yVt3YWYAAAAAtuGCQai73/wNDt1wnnM7ya3bHQoAAACA3bPtD5UGAAAA4LlFEAIAAAAYRhACAAAAGEYQAgAAABhGEAIAAAAYRhACAAAAGEYQAgAAABhGEAIAAAAYRhACAAAAGEYQAgAAABhGEAIAAAAYRhACAAAAGEYQAgAAABhGEAIAAAAYRhACAAAAGEYQAgAAABhGEAIAAAAYRhACAAAAGEYQAgAAABhGEAIAAAAYRhACAAAAGEYQAgAAABhGEAIAAAAYRhACAAAAGEYQAgAAABhGEAIAAAAYRhACAAAAGEYQAgAAABhGEAIAAAAYRhACAAAAGEYQAgAAABhGEAIAAAAYRhACAAAAGEYQAgAAABhGEAIAAAAYRhACAAAAGEYQAgAAABhGEAIAAAAYRhACAAAAGGbfugcAYG84dPxD6x6B83jktpvWPQIAAM9DrhACAAAAGEYQAgAAABhGEAIAAAAYRhACAAAAGEYQAgAAABhGEAIAAAAYRhACAAAAGEYQAgAAABhGEAIAAAAYRhACAAAAGEYQAgAAABhGEAIAAAAYRhACAAAAGGbfugcAAHguOXT8Q+segfN45Lab1j0CADynuEIIAAAAYBhXCAHAHuZqFAAAdoMrhAAAAACGEYQAAAAAhhGEAAAAAIYRhAAAAACG8aHSAAA85/kA9r3nkdtuWvcIAHwTrhACAAAAGEYQAgAAABhGEAIAAAAYxmcIAQAAwJr4DLS9Z8pnoLlCCAAAAGAYQQgAAABgGLeMAQAAO85tMHvPlNtggNW4QggAAABgGEEIAAAAYJhdCUJV9fqq+nxVnaqq47vxGgAAAABcnB0PQlV1SZJfT3JjkmuTvLmqrt3p1wEAAADg4uzGFUKvSXKqux/u7q8l+a0kR3bhdQAAAAC4CLvxLWMHkjy2af90kn917klVdSzJsWX3r6vq87swyzq8PMmfr3sIeA7wXoHVeK/AarxX4ALqHd4nsIrn2XvlX3yjA2v72vnuviPJHet6/d1SVSe7+/C654C9znsFVuO9AqvxXoEL8z6B1Ux5r+zGLWNnkly1af/gsgYAAADAHrAbQeiPk1xTVVdX1aVJ3pTk3l14HQAAAAAuwo7fMtbdz1TVTyT5/SSXJHlPd392p19nD3ve3QYHu8R7BVbjvQKr8V6BC/M+gdWMeK9Ud697BgAAAAC+hXbjljEAAAAA9jBBCAAAAGAYQWiHVNXrq+rzVXWqqo6vex7Yi6rqqqr6aFV9rqo+W1VvW/dMsJdV1SVV9Ymq+t11zwJ7VVVdVlV3V9WfVNVDVfV9654J9qKq+pnl31+fqar3V9UL1z0T7AVV9Z6qeqqqPrNp7aVVdV9VfWF5vHydM+4WQWgHVNUlSX49yY1Jrk3y5qq6dr1TwZ70TJKf7e5rk1yf5FbvFfim3pbkoXUPAXvcryX5ve7+niSvjPcM/CNVdSDJTyU53N3fm40v/3nTeqeCPeM3k7z+nLXjSe7v7muS3L/sP+8IQjvjNUlOdffD3f21JL+V5MiaZ4I9p7sf7+6PL9t/lY1/tB9Y71SwN1XVwSQ3JXn3umeBvaqqXpLk+5PcmSTd/bXu/spah4K9a1+Sb6+qfUlelOR/r3ke2BO6+4+S/MU5y0eSnFi2TyS5+Vs507eKILQzDiR5bNP+6fg/ufBNVdWhJK9O8sCaR4G96leT/FySv1/zHLCXXZ3kbJLfWG6vfHdVvXjdQ8Fe091nkvxyki8meTzJ0939B+udCva0K7r78WX7iSRXrHOY3SIIAd9yVfUdSX4nyU9391+uex7Ya6rqh5M81d0PrnsW2OP2Jbkuye3d/eokf5Pn6WX9sB3L558cyUZE/c4kL66q/7DeqeC5obs7Sa97jt0gCO2MM0mu2rR/cFkDzlFV35aNGPS+7v7AuueBPeq1SX6kqh7Jxm3Ir6uq/7rekWBPOp3kdHc/e7Xp3dkIRMDX+8Ekf9bdZ7v775J8IMm/XvNMsJc9WVVXJsny+NSa59kVgtDO+OMk11TV1VV1aTY+oO3eNc8Ee05VVTY+5+Gh7v6Vdc8De1V3/0J3H+zuQ9n435SPdLf/kgvn6O4nkjxWVd+9LN2Q5HNrHAn2qi8mub6qXrT8e+yG+AB2+GbuTXJ02T6a5J41zrJr9q17gOeD7n6mqn4iye9n4xP739Pdn13zWLAXvTbJjyf5dFV9cln7xe7+8PpGAuA57ieTvG/5j3IPJ3nrmueBPae7H6iqu5N8PBvf+vqJJHesdyrYG6rq/Ul+IMnLq+p0kl9KcluSu6rqliSPJnnj+ibcPbVxOxwAAAAAU7hlDAAAAGAYQQgAAABgGEEIAAAAYBhBCAAAAGAYQQgAAABgGEEIAAAAYBhBCAAAAGCY/wdA88FuL51jQgAAAABJRU5ErkJggg==\n",
      "text/plain": [
       "<Figure size 1440x864 with 1 Axes>"
      ]
     },
     "metadata": {
      "needs_background": "light"
     },
     "output_type": "display_data"
    }
   ],
   "source": [
    "data[\"fam_members\"] = data[\"'sibsp'\"] + data[\"'parch'\"]\n",
    "plt.figure(figsize=(20,12))\n",
    "plt.hist(data[\"fam_members\"], bins = 10)\n",
    "data[\"fam_members\"].describe()\n"
   ]
  },
  {
   "cell_type": "code",
   "execution_count": 55,
   "id": "9068edb0",
   "metadata": {},
   "outputs": [
    {
     "data": {
      "image/png": "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\n",
      "text/plain": [
       "<Figure size 1440x864 with 1 Axes>"
      ]
     },
     "metadata": {
      "needs_background": "light"
     },
     "output_type": "display_data"
    }
   ],
   "source": [
    "#calculate sum of points for each team\n",
    "groups = data.groupby([\"'pclass'\",\"fam_members\"]).count()[\"'survived'\"]\n",
    "xs = list(groups.index)\n",
    "xs = [\"class \"  + str(label[0]) + \" fam. size \" + str(label[1]) for label in xs ]\n",
    "ys = groups\n",
    "plt.figure(figsize = (20, 12))\n",
    "plt.xticks(rotation=90, fontsize = 18)\n",
    "plt.yticks(fontsize = 18)\n",
    "plt.xlabel('Class and family size', fontsize=18)\n",
    "plt.yticks(fontsize = 18)\n",
    "plt.ylabel('number of passengers', fontsize=18)\n",
    "\n",
    "bars  = plt.bar(xs,ys)\n",
    "for bar in range(0,6):\n",
    "    bars[bar].set_color(\"pink\")\n",
    "    \n",
    "\n",
    "for bar in range(6,12):\n",
    "    bars[bar].set_color(\"blue\")\n",
    "    \n",
    "for bar in range(6,12):\n",
    "    bars[bar].set_color(\"green\")\n"
   ]
  },
  {
   "cell_type": "markdown",
   "id": "f6fb7cc1",
   "metadata": {},
   "source": [
    "We explore the survival rate for each family size. It appears the surviving rate decreases as the size of the family increases. "
   ]
  },
  {
   "cell_type": "code",
   "execution_count": 56,
   "id": "8b96a60d",
   "metadata": {},
   "outputs": [
    {
     "data": {
      "text/html": [
       "<div>\n",
       "<style scoped>\n",
       "    .dataframe tbody tr th:only-of-type {\n",
       "        vertical-align: middle;\n",
       "    }\n",
       "\n",
       "    .dataframe tbody tr th {\n",
       "        vertical-align: top;\n",
       "    }\n",
       "\n",
       "    .dataframe thead th {\n",
       "        text-align: right;\n",
       "    }\n",
       "</style>\n",
       "<table border=\"1\" class=\"dataframe\">\n",
       "  <thead>\n",
       "    <tr style=\"text-align: right;\">\n",
       "      <th>'survived'</th>\n",
       "      <th>0</th>\n",
       "      <th>1</th>\n",
       "    </tr>\n",
       "    <tr>\n",
       "      <th>fam_members</th>\n",
       "      <th></th>\n",
       "      <th></th>\n",
       "    </tr>\n",
       "  </thead>\n",
       "  <tbody>\n",
       "    <tr>\n",
       "      <th>0</th>\n",
       "      <td>551.0</td>\n",
       "      <td>239.0</td>\n",
       "    </tr>\n",
       "    <tr>\n",
       "      <th>1</th>\n",
       "      <td>109.0</td>\n",
       "      <td>126.0</td>\n",
       "    </tr>\n",
       "    <tr>\n",
       "      <th>2</th>\n",
       "      <td>69.0</td>\n",
       "      <td>90.0</td>\n",
       "    </tr>\n",
       "    <tr>\n",
       "      <th>3</th>\n",
       "      <td>13.0</td>\n",
       "      <td>30.0</td>\n",
       "    </tr>\n",
       "    <tr>\n",
       "      <th>4</th>\n",
       "      <td>16.0</td>\n",
       "      <td>6.0</td>\n",
       "    </tr>\n",
       "    <tr>\n",
       "      <th>5</th>\n",
       "      <td>20.0</td>\n",
       "      <td>5.0</td>\n",
       "    </tr>\n",
       "    <tr>\n",
       "      <th>6</th>\n",
       "      <td>12.0</td>\n",
       "      <td>4.0</td>\n",
       "    </tr>\n",
       "    <tr>\n",
       "      <th>7</th>\n",
       "      <td>8.0</td>\n",
       "      <td>NaN</td>\n",
       "    </tr>\n",
       "    <tr>\n",
       "      <th>10</th>\n",
       "      <td>11.0</td>\n",
       "      <td>NaN</td>\n",
       "    </tr>\n",
       "  </tbody>\n",
       "</table>\n",
       "</div>"
      ],
      "text/plain": [
       "'survived'       0      1\n",
       "fam_members              \n",
       "0            551.0  239.0\n",
       "1            109.0  126.0\n",
       "2             69.0   90.0\n",
       "3             13.0   30.0\n",
       "4             16.0    6.0\n",
       "5             20.0    5.0\n",
       "6             12.0    4.0\n",
       "7              8.0    NaN\n",
       "10            11.0    NaN"
      ]
     },
     "execution_count": 56,
     "metadata": {},
     "output_type": "execute_result"
    }
   ],
   "source": [
    "agg = data.groupby([\"fam_members\", \"'survived'\"])[\"'sibsp'\"].count().unstack()\n",
    "agg\n"
   ]
  },
  {
   "cell_type": "code",
   "execution_count": 57,
   "id": "7b3f62e3",
   "metadata": {},
   "outputs": [
    {
     "data": {
      "text/html": [
       "<div>\n",
       "<style scoped>\n",
       "    .dataframe tbody tr th:only-of-type {\n",
       "        vertical-align: middle;\n",
       "    }\n",
       "\n",
       "    .dataframe tbody tr th {\n",
       "        vertical-align: top;\n",
       "    }\n",
       "\n",
       "    .dataframe thead th {\n",
       "        text-align: right;\n",
       "    }\n",
       "</style>\n",
       "<table border=\"1\" class=\"dataframe\">\n",
       "  <thead>\n",
       "    <tr style=\"text-align: right;\">\n",
       "      <th>'survived'</th>\n",
       "      <th>0</th>\n",
       "      <th>1</th>\n",
       "      <th>total</th>\n",
       "    </tr>\n",
       "    <tr>\n",
       "      <th>fam_members</th>\n",
       "      <th></th>\n",
       "      <th></th>\n",
       "      <th></th>\n",
       "    </tr>\n",
       "  </thead>\n",
       "  <tbody>\n",
       "    <tr>\n",
       "      <th>0</th>\n",
       "      <td>69.746835</td>\n",
       "      <td>30.253165</td>\n",
       "      <td>790.0</td>\n",
       "    </tr>\n",
       "    <tr>\n",
       "      <th>1</th>\n",
       "      <td>46.382979</td>\n",
       "      <td>53.617021</td>\n",
       "      <td>235.0</td>\n",
       "    </tr>\n",
       "    <tr>\n",
       "      <th>2</th>\n",
       "      <td>43.396226</td>\n",
       "      <td>56.603774</td>\n",
       "      <td>159.0</td>\n",
       "    </tr>\n",
       "    <tr>\n",
       "      <th>3</th>\n",
       "      <td>30.232558</td>\n",
       "      <td>69.767442</td>\n",
       "      <td>43.0</td>\n",
       "    </tr>\n",
       "    <tr>\n",
       "      <th>4</th>\n",
       "      <td>72.727273</td>\n",
       "      <td>27.272727</td>\n",
       "      <td>22.0</td>\n",
       "    </tr>\n",
       "    <tr>\n",
       "      <th>5</th>\n",
       "      <td>80.000000</td>\n",
       "      <td>20.000000</td>\n",
       "      <td>25.0</td>\n",
       "    </tr>\n",
       "    <tr>\n",
       "      <th>6</th>\n",
       "      <td>75.000000</td>\n",
       "      <td>25.000000</td>\n",
       "      <td>16.0</td>\n",
       "    </tr>\n",
       "    <tr>\n",
       "      <th>7</th>\n",
       "      <td>NaN</td>\n",
       "      <td>NaN</td>\n",
       "      <td>NaN</td>\n",
       "    </tr>\n",
       "    <tr>\n",
       "      <th>10</th>\n",
       "      <td>NaN</td>\n",
       "      <td>NaN</td>\n",
       "      <td>NaN</td>\n",
       "    </tr>\n",
       "  </tbody>\n",
       "</table>\n",
       "</div>"
      ],
      "text/plain": [
       "'survived'           0          1  total\n",
       "fam_members                             \n",
       "0            69.746835  30.253165  790.0\n",
       "1            46.382979  53.617021  235.0\n",
       "2            43.396226  56.603774  159.0\n",
       "3            30.232558  69.767442   43.0\n",
       "4            72.727273  27.272727   22.0\n",
       "5            80.000000  20.000000   25.0\n",
       "6            75.000000  25.000000   16.0\n",
       "7                  NaN        NaN    NaN\n",
       "10                 NaN        NaN    NaN"
      ]
     },
     "execution_count": 57,
     "metadata": {},
     "output_type": "execute_result"
    }
   ],
   "source": [
    "agg[\"total\"]  = agg[0] + agg[1]\n",
    "agg[0] = (agg[0]/agg[\"total\"])*100\n",
    "agg[1] = (agg[1]/agg[\"total\"])*100\n",
    "agg"
   ]
  },
  {
   "cell_type": "code",
   "execution_count": 58,
   "id": "5927ee42",
   "metadata": {},
   "outputs": [
    {
     "data": {
      "text/html": [
       "<div>\n",
       "<style scoped>\n",
       "    .dataframe tbody tr th:only-of-type {\n",
       "        vertical-align: middle;\n",
       "    }\n",
       "\n",
       "    .dataframe tbody tr th {\n",
       "        vertical-align: top;\n",
       "    }\n",
       "\n",
       "    .dataframe thead th {\n",
       "        text-align: right;\n",
       "    }\n",
       "</style>\n",
       "<table border=\"1\" class=\"dataframe\">\n",
       "  <thead>\n",
       "    <tr style=\"text-align: right;\">\n",
       "      <th></th>\n",
       "      <th>'survived'</th>\n",
       "      <th>0</th>\n",
       "      <th>1</th>\n",
       "    </tr>\n",
       "    <tr>\n",
       "      <th>'pclass'</th>\n",
       "      <th>fam_members</th>\n",
       "      <th></th>\n",
       "      <th></th>\n",
       "    </tr>\n",
       "  </thead>\n",
       "  <tbody>\n",
       "    <tr>\n",
       "      <th rowspan=\"6\" valign=\"top\">1</th>\n",
       "      <th>0</th>\n",
       "      <td>78.0</td>\n",
       "      <td>82.0</td>\n",
       "    </tr>\n",
       "    <tr>\n",
       "      <th>1</th>\n",
       "      <td>29.0</td>\n",
       "      <td>75.0</td>\n",
       "    </tr>\n",
       "    <tr>\n",
       "      <th>2</th>\n",
       "      <td>10.0</td>\n",
       "      <td>29.0</td>\n",
       "    </tr>\n",
       "    <tr>\n",
       "      <th>3</th>\n",
       "      <td>3.0</td>\n",
       "      <td>6.0</td>\n",
       "    </tr>\n",
       "    <tr>\n",
       "      <th>4</th>\n",
       "      <td>1.0</td>\n",
       "      <td>4.0</td>\n",
       "    </tr>\n",
       "    <tr>\n",
       "      <th>5</th>\n",
       "      <td>2.0</td>\n",
       "      <td>4.0</td>\n",
       "    </tr>\n",
       "    <tr>\n",
       "      <th rowspan=\"6\" valign=\"top\">2</th>\n",
       "      <th>0</th>\n",
       "      <td>110.0</td>\n",
       "      <td>48.0</td>\n",
       "    </tr>\n",
       "    <tr>\n",
       "      <th>1</th>\n",
       "      <td>29.0</td>\n",
       "      <td>23.0</td>\n",
       "    </tr>\n",
       "    <tr>\n",
       "      <th>2</th>\n",
       "      <td>15.0</td>\n",
       "      <td>30.0</td>\n",
       "    </tr>\n",
       "    <tr>\n",
       "      <th>3</th>\n",
       "      <td>4.0</td>\n",
       "      <td>16.0</td>\n",
       "    </tr>\n",
       "    <tr>\n",
       "      <th>4</th>\n",
       "      <td>NaN</td>\n",
       "      <td>1.0</td>\n",
       "    </tr>\n",
       "    <tr>\n",
       "      <th>5</th>\n",
       "      <td>NaN</td>\n",
       "      <td>1.0</td>\n",
       "    </tr>\n",
       "    <tr>\n",
       "      <th rowspan=\"9\" valign=\"top\">3</th>\n",
       "      <th>0</th>\n",
       "      <td>363.0</td>\n",
       "      <td>109.0</td>\n",
       "    </tr>\n",
       "    <tr>\n",
       "      <th>1</th>\n",
       "      <td>51.0</td>\n",
       "      <td>28.0</td>\n",
       "    </tr>\n",
       "    <tr>\n",
       "      <th>2</th>\n",
       "      <td>44.0</td>\n",
       "      <td>31.0</td>\n",
       "    </tr>\n",
       "    <tr>\n",
       "      <th>3</th>\n",
       "      <td>6.0</td>\n",
       "      <td>8.0</td>\n",
       "    </tr>\n",
       "    <tr>\n",
       "      <th>4</th>\n",
       "      <td>15.0</td>\n",
       "      <td>1.0</td>\n",
       "    </tr>\n",
       "    <tr>\n",
       "      <th>5</th>\n",
       "      <td>18.0</td>\n",
       "      <td>NaN</td>\n",
       "    </tr>\n",
       "    <tr>\n",
       "      <th>6</th>\n",
       "      <td>12.0</td>\n",
       "      <td>4.0</td>\n",
       "    </tr>\n",
       "    <tr>\n",
       "      <th>7</th>\n",
       "      <td>8.0</td>\n",
       "      <td>NaN</td>\n",
       "    </tr>\n",
       "    <tr>\n",
       "      <th>10</th>\n",
       "      <td>11.0</td>\n",
       "      <td>NaN</td>\n",
       "    </tr>\n",
       "  </tbody>\n",
       "</table>\n",
       "</div>"
      ],
      "text/plain": [
       "'survived'                0      1\n",
       "'pclass' fam_members              \n",
       "1        0             78.0   82.0\n",
       "         1             29.0   75.0\n",
       "         2             10.0   29.0\n",
       "         3              3.0    6.0\n",
       "         4              1.0    4.0\n",
       "         5              2.0    4.0\n",
       "2        0            110.0   48.0\n",
       "         1             29.0   23.0\n",
       "         2             15.0   30.0\n",
       "         3              4.0   16.0\n",
       "         4              NaN    1.0\n",
       "         5              NaN    1.0\n",
       "3        0            363.0  109.0\n",
       "         1             51.0   28.0\n",
       "         2             44.0   31.0\n",
       "         3              6.0    8.0\n",
       "         4             15.0    1.0\n",
       "         5             18.0    NaN\n",
       "         6             12.0    4.0\n",
       "         7              8.0    NaN\n",
       "         10            11.0    NaN"
      ]
     },
     "execution_count": 58,
     "metadata": {},
     "output_type": "execute_result"
    }
   ],
   "source": [
    "agg = data.groupby([\"'pclass'\", \"fam_members\",\"'survived'\"])[\"'sibsp'\"].count().unstack()\n",
    "agg\n",
    "\n",
    "\n"
   ]
  },
  {
   "cell_type": "code",
   "execution_count": 59,
   "id": "d54cc828",
   "metadata": {},
   "outputs": [
    {
     "data": {
      "text/html": [
       "<div>\n",
       "<style scoped>\n",
       "    .dataframe tbody tr th:only-of-type {\n",
       "        vertical-align: middle;\n",
       "    }\n",
       "\n",
       "    .dataframe tbody tr th {\n",
       "        vertical-align: top;\n",
       "    }\n",
       "\n",
       "    .dataframe thead th {\n",
       "        text-align: right;\n",
       "    }\n",
       "</style>\n",
       "<table border=\"1\" class=\"dataframe\">\n",
       "  <thead>\n",
       "    <tr style=\"text-align: right;\">\n",
       "      <th></th>\n",
       "      <th>'survived'</th>\n",
       "      <th>0</th>\n",
       "      <th>1</th>\n",
       "    </tr>\n",
       "    <tr>\n",
       "      <th>'pclass'</th>\n",
       "      <th>fam_members</th>\n",
       "      <th></th>\n",
       "      <th></th>\n",
       "    </tr>\n",
       "  </thead>\n",
       "  <tbody>\n",
       "    <tr>\n",
       "      <th rowspan=\"6\" valign=\"top\">1</th>\n",
       "      <th>0</th>\n",
       "      <td>48.750000</td>\n",
       "      <td>51.250000</td>\n",
       "    </tr>\n",
       "    <tr>\n",
       "      <th>1</th>\n",
       "      <td>27.884615</td>\n",
       "      <td>72.115385</td>\n",
       "    </tr>\n",
       "    <tr>\n",
       "      <th>2</th>\n",
       "      <td>25.641026</td>\n",
       "      <td>74.358974</td>\n",
       "    </tr>\n",
       "    <tr>\n",
       "      <th>3</th>\n",
       "      <td>33.333333</td>\n",
       "      <td>66.666667</td>\n",
       "    </tr>\n",
       "    <tr>\n",
       "      <th>4</th>\n",
       "      <td>20.000000</td>\n",
       "      <td>80.000000</td>\n",
       "    </tr>\n",
       "    <tr>\n",
       "      <th>5</th>\n",
       "      <td>33.333333</td>\n",
       "      <td>66.666667</td>\n",
       "    </tr>\n",
       "    <tr>\n",
       "      <th rowspan=\"6\" valign=\"top\">2</th>\n",
       "      <th>0</th>\n",
       "      <td>69.620253</td>\n",
       "      <td>30.379747</td>\n",
       "    </tr>\n",
       "    <tr>\n",
       "      <th>1</th>\n",
       "      <td>55.769231</td>\n",
       "      <td>44.230769</td>\n",
       "    </tr>\n",
       "    <tr>\n",
       "      <th>2</th>\n",
       "      <td>33.333333</td>\n",
       "      <td>66.666667</td>\n",
       "    </tr>\n",
       "    <tr>\n",
       "      <th>3</th>\n",
       "      <td>20.000000</td>\n",
       "      <td>80.000000</td>\n",
       "    </tr>\n",
       "    <tr>\n",
       "      <th>4</th>\n",
       "      <td>NaN</td>\n",
       "      <td>NaN</td>\n",
       "    </tr>\n",
       "    <tr>\n",
       "      <th>5</th>\n",
       "      <td>NaN</td>\n",
       "      <td>NaN</td>\n",
       "    </tr>\n",
       "    <tr>\n",
       "      <th rowspan=\"9\" valign=\"top\">3</th>\n",
       "      <th>0</th>\n",
       "      <td>76.906780</td>\n",
       "      <td>23.093220</td>\n",
       "    </tr>\n",
       "    <tr>\n",
       "      <th>1</th>\n",
       "      <td>64.556962</td>\n",
       "      <td>35.443038</td>\n",
       "    </tr>\n",
       "    <tr>\n",
       "      <th>2</th>\n",
       "      <td>58.666667</td>\n",
       "      <td>41.333333</td>\n",
       "    </tr>\n",
       "    <tr>\n",
       "      <th>3</th>\n",
       "      <td>42.857143</td>\n",
       "      <td>57.142857</td>\n",
       "    </tr>\n",
       "    <tr>\n",
       "      <th>4</th>\n",
       "      <td>93.750000</td>\n",
       "      <td>6.250000</td>\n",
       "    </tr>\n",
       "    <tr>\n",
       "      <th>5</th>\n",
       "      <td>NaN</td>\n",
       "      <td>NaN</td>\n",
       "    </tr>\n",
       "    <tr>\n",
       "      <th>6</th>\n",
       "      <td>75.000000</td>\n",
       "      <td>25.000000</td>\n",
       "    </tr>\n",
       "    <tr>\n",
       "      <th>7</th>\n",
       "      <td>NaN</td>\n",
       "      <td>NaN</td>\n",
       "    </tr>\n",
       "    <tr>\n",
       "      <th>10</th>\n",
       "      <td>NaN</td>\n",
       "      <td>NaN</td>\n",
       "    </tr>\n",
       "  </tbody>\n",
       "</table>\n",
       "</div>"
      ],
      "text/plain": [
       "'survived'                    0          1\n",
       "'pclass' fam_members                      \n",
       "1        0            48.750000  51.250000\n",
       "         1            27.884615  72.115385\n",
       "         2            25.641026  74.358974\n",
       "         3            33.333333  66.666667\n",
       "         4            20.000000  80.000000\n",
       "         5            33.333333  66.666667\n",
       "2        0            69.620253  30.379747\n",
       "         1            55.769231  44.230769\n",
       "         2            33.333333  66.666667\n",
       "         3            20.000000  80.000000\n",
       "         4                  NaN        NaN\n",
       "         5                  NaN        NaN\n",
       "3        0            76.906780  23.093220\n",
       "         1            64.556962  35.443038\n",
       "         2            58.666667  41.333333\n",
       "         3            42.857143  57.142857\n",
       "         4            93.750000   6.250000\n",
       "         5                  NaN        NaN\n",
       "         6            75.000000  25.000000\n",
       "         7                  NaN        NaN\n",
       "         10                 NaN        NaN"
      ]
     },
     "execution_count": 59,

     "metadata": {},
     "output_type": "execute_result"
    }
   ],
   "source": [
    "agg[\"total\"]  = agg[0] + agg[1]\n",
    "agg[0] = (agg[0]/agg[\"total\"])*100\n",
    "agg[1] = (agg[1]/agg[\"total\"])*100\n",
    "agg.loc[:,[0,1]]\n"
   ]
  },
  {
   "cell_type": "markdown",
   "id": "55cc4520",
   "metadata": {},
   "source": [
    "__female survival rate:__"
   ]
  },
  {
   "cell_type": "code",
   "execution_count": 60,
   "id": "85654237",
   "metadata": {},
   "outputs": [
    {
     "data": {
      "text/html": [
       "<div>\n",
       "<style scoped>\n",
       "    .dataframe tbody tr th:only-of-type {\n",
       "        vertical-align: middle;\n",
       "    }\n",
       "\n",
       "    .dataframe tbody tr th {\n",
       "        vertical-align: top;\n",
       "    }\n",
       "\n",
       "    .dataframe thead th {\n",
       "        text-align: right;\n",
       "    }\n",
       "</style>\n",
       "<table border=\"1\" class=\"dataframe\">\n",
       "  <thead>\n",
       "    <tr style=\"text-align: right;\">\n",
       "      <th></th>\n",
       "      <th>'survived'</th>\n",
       "      <th>0</th>\n",
       "      <th>1</th>\n",
       "    </tr>\n",
       "    <tr>\n",
       "      <th>'pclass'</th>\n",
       "      <th>fam_members</th>\n",
       "      <th></th>\n",
       "      <th></th>\n",
       "    </tr>\n",
       "  </thead>\n",
       "  <tbody>\n",
       "    <tr>\n",
       "      <th rowspan=\"6\" valign=\"top\">1</th>\n",
       "      <th>0</th>\n",
       "      <td>2.0</td>\n",
       "      <td>50.0</td>\n",
       "    </tr>\n",
       "    <tr>\n",
       "      <th>1</th>\n",
       "      <td>1.0</td>\n",
       "      <td>58.0</td>\n",
       "    </tr>\n",
       "    <tr>\n",
       "      <th>2</th>\n",
       "      <td>NaN</td>\n",
       "      <td>21.0</td>\n",
       "    </tr>\n",
       "    <tr>\n",
       "      <th>3</th>\n",
       "      <td>2.0</td>\n",
       "      <td>3.0</td>\n",
       "    </tr>\n",
       "    <tr>\n",
       "      <th>4</th>\n",
       "      <td>NaN</td>\n",
       "      <td>3.0</td>\n",
       "    </tr>\n",
       "    <tr>\n",
       "      <th>5</th>\n",
       "      <td>NaN</td>\n",
       "      <td>4.0</td>\n",
       "    </tr>\n",
       "    <tr>\n",
       "      <th rowspan=\"6\" valign=\"top\">2</th>\n",
       "      <th>0</th>\n",
       "      <td>6.0</td>\n",
       "      <td>36.0</td>\n",
       "    </tr>\n",
       "    <tr>\n",
       "      <th>1</th>\n",
       "      <td>4.0</td>\n",
       "      <td>22.0</td>\n",
       "    </tr>\n",
       "    <tr>\n",
       "      <th>2</th>\n",
       "      <td>2.0</td>\n",
       "      <td>19.0</td>\n",
       "    </tr>\n",
       "    <tr>\n",
       "      <th>3</th>\n",
       "      <td>NaN</td>\n",
       "      <td>15.0</td>\n",
       "    </tr>\n",
       "    <tr>\n",
       "      <th>4</th>\n",
       "      <td>NaN</td>\n",
       "      <td>1.0</td>\n",
       "    </tr>\n",
       "    <tr>\n",
       "      <th>5</th>\n",
       "      <td>NaN</td>\n",
       "      <td>1.0</td>\n",
       "    </tr>\n",
       "    <tr>\n",
       "      <th rowspan=\"9\" valign=\"top\">3</th>\n",
       "      <th>0</th>\n",
       "      <td>44.0</td>\n",
       "      <td>56.0</td>\n",
       "    </tr>\n",
       "    <tr>\n",
       "      <th>1</th>\n",
       "      <td>19.0</td>\n",
       "      <td>19.0</td>\n",
       "    </tr>\n",
       "    <tr>\n",
       "      <th>2</th>\n",
       "      <td>16.0</td>\n",
       "      <td>21.0</td>\n",
       "    </tr>\n",
       "    <tr>\n",
       "      <th>3</th>\n",
       "      <td>2.0</td>\n",
       "      <td>7.0</td>\n",
       "    </tr>\n",
       "    <tr>\n",
       "      <th>4</th>\n",
       "      <td>10.0</td>\n",
       "      <td>NaN</td>\n",
       "    </tr>\n",
       "    <tr>\n",
       "      <th>5</th>\n",
       "      <td>5.0</td>\n",
       "      <td>NaN</td>\n",
       "    </tr>\n",
       "    <tr>\n",
       "      <th>6</th>\n",
       "      <td>6.0</td>\n",
       "      <td>3.0</td>\n",
       "    </tr>\n",
       "    <tr>\n",
       "      <th>7</th>\n",
       "      <td>3.0</td>\n",
       "      <td>NaN</td>\n",
       "    </tr>\n",
       "    <tr>\n",
       "      <th>10</th>\n",
       "      <td>5.0</td>\n",
       "      <td>NaN</td>\n",
       "    </tr>\n",
       "  </tbody>\n",
       "</table>\n",
       "</div>"
      ],
      "text/plain": [
       "'survived'               0     1\n",
       "'pclass' fam_members            \n",
       "1        0             2.0  50.0\n",
       "         1             1.0  58.0\n",
       "         2             NaN  21.0\n",
       "         3             2.0   3.0\n",
       "         4             NaN   3.0\n",
       "         5             NaN   4.0\n",
       "2        0             6.0  36.0\n",
       "         1             4.0  22.0\n",
       "         2             2.0  19.0\n",
       "         3             NaN  15.0\n",
       "         4             NaN   1.0\n",
       "         5             NaN   1.0\n",
       "3        0            44.0  56.0\n",
       "         1            19.0  19.0\n",
       "         2            16.0  21.0\n",
       "         3             2.0   7.0\n",
       "         4            10.0   NaN\n",
       "         5             5.0   NaN\n",
       "         6             6.0   3.0\n",
       "         7             3.0   NaN\n",
       "         10            5.0   NaN"
      ]
     },
     "execution_count": 60,
     "metadata": {},
     "output_type": "execute_result"
    }
   ],
   "source": [
    "agg = data.loc[data[\"'sex'\"] == 'female', [\"'pclass'\", \"fam_members\", \"'survived'\",\"'sibsp'\"]]\n",
    "agg = agg.groupby([\"'pclass'\", 'fam_members',\"'survived'\"]).count()[\"'sibsp'\"].unstack()\n",
    "agg"
   ]
  },
  {
   "cell_type": "code",
   "execution_count": 61,
   "id": "f72f9960",
   "metadata": {},
   "outputs": [
    {
     "data": {
      "text/html": [
       "<div>\n",
       "<style scoped>\n",
       "    .dataframe tbody tr th:only-of-type {\n",
       "        vertical-align: middle;\n",
       "    }\n",
       "\n",
       "    .dataframe tbody tr th {\n",
       "        vertical-align: top;\n",
       "    }\n",
       "\n",
       "    .dataframe thead th {\n",
       "        text-align: right;\n",
       "    }\n",
       "</style>\n",
       "<table border=\"1\" class=\"dataframe\">\n",
       "  <thead>\n",
       "    <tr style=\"text-align: right;\">\n",
       "      <th></th>\n",
       "      <th>'survived'</th>\n",
       "      <th>0</th>\n",
       "      <th>1</th>\n",
       "      <th>total</th>\n",
       "    </tr>\n",
       "    <tr>\n",
       "      <th>'pclass'</th>\n",
       "      <th>fam_members</th>\n",
       "      <th></th>\n",
       "      <th></th>\n",
       "      <th></th>\n",
       "    </tr>\n",
       "  </thead>\n",
       "  <tbody>\n",
       "    <tr>\n",
       "      <th rowspan=\"6\" valign=\"top\">1</th>\n",
       "      <th>0</th>\n",
       "      <td>3.846154</td>\n",
       "      <td>96.153846</td>\n",
       "      <td>52.0</td>\n",
       "    </tr>\n",
       "    <tr>\n",
       "      <th>1</th>\n",
       "      <td>1.694915</td>\n",
       "      <td>98.305085</td>\n",
       "      <td>59.0</td>\n",
       "    </tr>\n",
       "    <tr>\n",
       "      <th>2</th>\n",
       "      <td>NaN</td>\n",
       "      <td>NaN</td>\n",
       "      <td>NaN</td>\n",
       "    </tr>\n",
       "    <tr>\n",
       "      <th>3</th>\n",
       "      <td>40.000000</td>\n",
       "      <td>60.000000</td>\n",
       "      <td>5.0</td>\n",
       "    </tr>\n",
       "    <tr>\n",
       "      <th>4</th>\n",
       "      <td>NaN</td>\n",
       "      <td>NaN</td>\n",
       "      <td>NaN</td>\n",
       "    </tr>\n",
       "    <tr>\n",
       "      <th>5</th>\n",
       "      <td>NaN</td>\n",
       "      <td>NaN</td>\n",
       "      <td>NaN</td>\n",
       "    </tr>\n",
       "    <tr>\n",
       "      <th rowspan=\"6\" valign=\"top\">2</th>\n",
       "      <th>0</th>\n",
       "      <td>14.285714</td>\n",
       "      <td>85.714286</td>\n",
       "      <td>42.0</td>\n",
       "    </tr>\n",
       "    <tr>\n",
       "      <th>1</th>\n",
       "      <td>15.384615</td>\n",
       "      <td>84.615385</td>\n",
       "      <td>26.0</td>\n",
       "    </tr>\n",
       "    <tr>\n",
       "      <th>2</th>\n",
       "      <td>9.523810</td>\n",
       "      <td>90.476190</td>\n",
       "      <td>21.0</td>\n",
       "    </tr>\n",
       "    <tr>\n",
       "      <th>3</th>\n",
       "      <td>NaN</td>\n",
       "      <td>NaN</td>\n",
       "      <td>NaN</td>\n",
       "    </tr>\n",
       "    <tr>\n",
       "      <th>4</th>\n",
       "      <td>NaN</td>\n",
       "      <td>NaN</td>\n",
       "      <td>NaN</td>\n",
       "    </tr>\n",
       "    <tr>\n",
       "      <th>5</th>\n",
       "      <td>NaN</td>\n",
       "      <td>NaN</td>\n",
       "      <td>NaN</td>\n",
       "    </tr>\n",
       "    <tr>\n",
       "      <th rowspan=\"9\" valign=\"top\">3</th>\n",
       "      <th>0</th>\n",
       "      <td>44.000000</td>\n",
       "      <td>56.000000</td>\n",
       "      <td>100.0</td>\n",
       "    </tr>\n",
       "    <tr>\n",
       "      <th>1</th>\n",
       "      <td>50.000000</td>\n",
       "      <td>50.000000</td>\n",
       "      <td>38.0</td>\n",
       "    </tr>\n",
       "    <tr>\n",
       "      <th>2</th>\n",
       "      <td>43.243243</td>\n",
       "      <td>56.756757</td>\n",
       "      <td>37.0</td>\n",
       "    </tr>\n",
       "    <tr>\n",
       "      <th>3</th>\n",
       "      <td>22.222222</td>\n",
       "      <td>77.777778</td>\n",
       "      <td>9.0</td>\n",
       "    </tr>\n",
       "    <tr>\n",
       "      <th>4</th>\n",
       "      <td>NaN</td>\n",
       "      <td>NaN</td>\n",
       "      <td>NaN</td>\n",
       "    </tr>\n",
       "    <tr>\n",
       "      <th>5</th>\n",
       "      <td>NaN</td>\n",
       "      <td>NaN</td>\n",
       "      <td>NaN</td>\n",
       "    </tr>\n",
       "    <tr>\n",
       "      <th>6</th>\n",
       "      <td>66.666667</td>\n",
       "      <td>33.333333</td>\n",
       "      <td>9.0</td>\n",
       "    </tr>\n",
       "    <tr>\n",
       "      <th>7</th>\n",
       "      <td>NaN</td>\n",
       "      <td>NaN</td>\n",
       "      <td>NaN</td>\n",
       "    </tr>\n",
       "    <tr>\n",
       "      <th>10</th>\n",
       "      <td>NaN</td>\n",
       "      <td>NaN</td>\n",
       "      <td>NaN</td>\n",
       "    </tr>\n",
       "  </tbody>\n",
       "</table>\n",
       "</div>"
      ],
      "text/plain": [
       "'survived'                    0          1  total\n",
       "'pclass' fam_members                             \n",
       "1        0             3.846154  96.153846   52.0\n",
       "         1             1.694915  98.305085   59.0\n",
       "         2                  NaN        NaN    NaN\n",
       "         3            40.000000  60.000000    5.0\n",
       "         4                  NaN        NaN    NaN\n",
       "         5                  NaN        NaN    NaN\n",
       "2        0            14.285714  85.714286   42.0\n",
       "         1            15.384615  84.615385   26.0\n",
       "         2             9.523810  90.476190   21.0\n",
       "         3                  NaN        NaN    NaN\n",
       "         4                  NaN        NaN    NaN\n",
       "         5                  NaN        NaN    NaN\n",
       "3        0            44.000000  56.000000  100.0\n",
       "         1            50.000000  50.000000   38.0\n",
       "         2            43.243243  56.756757   37.0\n",
       "         3            22.222222  77.777778    9.0\n",
       "         4                  NaN        NaN    NaN\n",
       "         5                  NaN        NaN    NaN\n",
       "         6            66.666667  33.333333    9.0\n",
       "         7                  NaN        NaN    NaN\n",
       "         10                 NaN        NaN    NaN"
      ]
     },
     "execution_count": 61,
     "metadata": {},
     "output_type": "execute_result"
    }
   ],
   "source": [
    "agg[\"total\"]  = agg[0] + agg[1]\n",
    "agg[0] = (agg[0]/agg[\"total\"])*100\n",
    "agg[1] = (agg[1]/agg[\"total\"])*100\n",
    "agg"
   ]
  },
  {
   "cell_type": "markdown",
   "id": "926c575f",
   "metadata": {},
   "source": [
    "__Male:__"
   ]
  },
  {
   "cell_type": "code",
   "execution_count": 62,
   "id": "43a8d45e",
   "metadata": {},
   "outputs": [
    {
     "data": {
      "text/html": [
       "<div>\n",
       "<style scoped>\n",
       "    .dataframe tbody tr th:only-of-type {\n",
       "        vertical-align: middle;\n",
       "    }\n",
       "\n",
       "    .dataframe tbody tr th {\n",
       "        vertical-align: top;\n",
       "    }\n",
       "\n",
       "    .dataframe thead th {\n",
       "        text-align: right;\n",
       "    }\n",
       "</style>\n",
       "<table border=\"1\" class=\"dataframe\">\n",
       "  <thead>\n",
       "    <tr style=\"text-align: right;\">\n",
       "      <th></th>\n",
       "      <th>'survived'</th>\n",
       "      <th>0</th>\n",
       "      <th>1</th>\n",
       "      <th>total</th>\n",
       "    </tr>\n",
       "    <tr>\n",
       "      <th>'pclass'</th>\n",
       "      <th>fam_members</th>\n",
       "      <th></th>\n",
       "      <th></th>\n",
       "      <th></th>\n",
       "    </tr>\n",
       "  </thead>\n",
       "  <tbody>\n",
       "    <tr>\n",
       "      <th rowspan=\"6\" valign=\"top\">1</th>\n",
       "      <th>0</th>\n",
       "      <td>70.370370</td>\n",
       "      <td>29.629630</td>\n",
       "      <td>108.0</td>\n",
       "    </tr>\n",
       "    <tr>\n",
       "      <th>1</th>\n",
       "      <td>62.222222</td>\n",
       "      <td>37.777778</td>\n",
       "      <td>45.0</td>\n",
       "    </tr>\n",
       "    <tr>\n",
       "      <th>2</th>\n",
       "      <td>55.555556</td>\n",
       "      <td>44.444444</td>\n",
       "      <td>18.0</td>\n",
       "    </tr>\n",
       "    <tr>\n",
       "      <th>3</th>\n",
       "      <td>25.000000</td>\n",
       "      <td>75.000000</td>\n",
       "      <td>4.0</td>\n",
       "    </tr>\n",
       "    <tr>\n",
       "      <th>4</th>\n",
       "      <td>50.000000</td>\n",
       "      <td>50.000000</td>\n",
       "      <td>2.0</td>\n",
       "    </tr>\n",
       "    <tr>\n",
       "      <th>5</th>\n",
       "      <td>NaN</td>\n",
       "      <td>NaN</td>\n",
       "      <td>NaN</td>\n",
       "    </tr>\n",
       "    <tr>\n",
       "      <th rowspan=\"4\" valign=\"top\">2</th>\n",
       "      <th>0</th>\n",
       "      <td>89.655172</td>\n",
       "      <td>10.344828</td>\n",
       "      <td>116.0</td>\n",
       "    </tr>\n",
       "    <tr>\n",
       "      <th>1</th>\n",
       "      <td>96.153846</td>\n",
       "      <td>3.846154</td>\n",
       "      <td>26.0</td>\n",
       "    </tr>\n",
       "    <tr>\n",
       "      <th>2</th>\n",
       "      <td>54.166667</td>\n",
       "      <td>45.833333</td>\n",
       "      <td>24.0</td>\n",
       "    </tr>\n",
       "    <tr>\n",
       "      <th>3</th>\n",
       "      <td>80.000000</td>\n",
       "      <td>20.000000</td>\n",
       "      <td>5.0</td>\n",
       "    </tr>\n",
       "    <tr>\n",
       "      <th rowspan=\"9\" valign=\"top\">3</th>\n",
       "      <th>0</th>\n",
       "      <td>85.752688</td>\n",
       "      <td>14.247312</td>\n",
       "      <td>372.0</td>\n",
       "    </tr>\n",
       "    <tr>\n",
       "      <th>1</th>\n",
       "      <td>78.048780</td>\n",
       "      <td>21.951220</td>\n",
       "      <td>41.0</td>\n",
       "    </tr>\n",
       "    <tr>\n",
       "      <th>2</th>\n",
       "      <td>73.684211</td>\n",
       "      <td>26.315789</td>\n",
       "      <td>38.0</td>\n",
       "    </tr>\n",
       "    <tr>\n",
       "      <th>3</th>\n",
       "      <td>80.000000</td>\n",
       "      <td>20.000000</td>\n",
       "      <td>5.0</td>\n",
       "    </tr>\n",
       "    <tr>\n",
       "      <th>4</th>\n",
       "      <td>83.333333</td>\n",
       "      <td>16.666667</td>\n",
       "      <td>6.0</td>\n",
       "    </tr>\n",
       "    <tr>\n",
       "      <th>5</th>\n",
       "      <td>NaN</td>\n",
       "      <td>NaN</td>\n",
       "      <td>NaN</td>\n",
       "    </tr>\n",
       "    <tr>\n",
       "      <th>6</th>\n",
       "      <td>85.714286</td>\n",
       "      <td>14.285714</td>\n",
       "      <td>7.0</td>\n",
       "    </tr>\n",
       "    <tr>\n",
       "      <th>7</th>\n",
       "      <td>NaN</td>\n",
       "      <td>NaN</td>\n",
       "      <td>NaN</td>\n",
       "    </tr>\n",
       "    <tr>\n",
       "      <th>10</th>\n",
       "      <td>NaN</td>\n",
       "      <td>NaN</td>\n",
       "      <td>NaN</td>\n",
       "    </tr>\n",
       "  </tbody>\n",
       "</table>\n",
       "</div>"
      ],
      "text/plain": [
       "'survived'                    0          1  total\n",
       "'pclass' fam_members                             \n",
       "1        0            70.370370  29.629630  108.0\n",
       "         1            62.222222  37.777778   45.0\n",
       "         2            55.555556  44.444444   18.0\n",
       "         3            25.000000  75.000000    4.0\n",
       "         4            50.000000  50.000000    2.0\n",
       "         5                  NaN        NaN    NaN\n",
       "2        0            89.655172  10.344828  116.0\n",
       "         1            96.153846   3.846154   26.0\n",
       "         2            54.166667  45.833333   24.0\n",
       "         3            80.000000  20.000000    5.0\n",
       "3        0            85.752688  14.247312  372.0\n",
       "         1            78.048780  21.951220   41.0\n",
       "         2            73.684211  26.315789   38.0\n",
       "         3            80.000000  20.000000    5.0\n",
       "         4            83.333333  16.666667    6.0\n",
       "         5                  NaN        NaN    NaN\n",
       "         6            85.714286  14.285714    7.0\n",
       "         7                  NaN        NaN    NaN\n",
       "         10                 NaN        NaN    NaN"
      ]
     },
     "execution_count": 62,
     "metadata": {},
     "output_type": "execute_result"
    }
   ],
   "source": [
    "agg = data.loc[data[\"'sex'\"] == 'male', [\"'pclass'\", \"fam_members\", \"'survived'\",\"'sibsp'\"]]\n",
    "agg = agg.groupby([\"'pclass'\", 'fam_members',\"'survived'\"]).count()[\"'sibsp'\"].unstack()\n",
    "agg\n",
    "\n",
    "agg[\"total\"]  = agg[0] + agg[1]\n",
    "agg[0] = (agg[0]/agg[\"total\"])*100\n",
    "agg[1] = (agg[1]/agg[\"total\"])*100\n",
    "agg"
   ]
  },
  {
   "cell_type": "code",
   "execution_count": 63,
   "id": "8623e9bb",
   "metadata": {},
   "outputs": [
    {
     "name": "stdout",
     "output_type": "stream",
     "text": [
      "'survived'                0      1\n",
      "'pclass' fam_members              \n",
      "1        0             78.0   82.0\n",
      "         1             29.0   75.0\n",
      "         2             10.0   29.0\n",
      "         3              3.0    6.0\n",
      "         4              1.0    4.0\n",
      "         5              2.0    4.0\n",
      "2        0            110.0   48.0\n",
      "         1             29.0   23.0\n",
      "         2             15.0   30.0\n",
      "         3              4.0   16.0\n",
      "         4              NaN    1.0\n",
      "         5              NaN    1.0\n",
      "3        0            363.0  109.0\n",
      "         1             51.0   28.0\n",
      "         2             44.0   31.0\n",
      "         3              6.0    8.0\n",
      "         4             15.0    1.0\n",
      "         5             18.0    NaN\n",
      "         6             12.0    4.0\n",
      "         7              8.0    NaN\n",
      "         10            11.0    NaN\n"
     ]
    },
    {
     "data": {
      "text/html": [
       "<div>\n",
       "<style scoped>\n",
       "    .dataframe tbody tr th:only-of-type {\n",
       "        vertical-align: middle;\n",
       "    }\n",
       "\n",
       "    .dataframe tbody tr th {\n",
       "        vertical-align: top;\n",
       "    }\n",
       "\n",
       "    .dataframe thead th {\n",
       "        text-align: right;\n",
       "    }\n",
       "</style>\n",
       "<table border=\"1\" class=\"dataframe\">\n",
       "  <thead>\n",
       "    <tr style=\"text-align: right;\">\n",
       "      <th></th>\n",
       "      <th>'survived'</th>\n",
       "      <th>0</th>\n",
       "      <th>1</th>\n",
       "    </tr>\n",
       "    <tr>\n",
       "      <th>'pclass'</th>\n",
       "      <th>fam_members</th>\n",
       "      <th></th>\n",
       "      <th></th>\n",
       "    </tr>\n",
       "  </thead>\n",
       "  <tbody>\n",
       "    <tr>\n",
       "      <th rowspan=\"6\" valign=\"top\">1</th>\n",
       "      <th>0</th>\n",
       "      <td>48.750000</td>\n",
       "      <td>51.250000</td>\n",
       "    </tr>\n",
       "    <tr>\n",
       "      <th>1</th>\n",
       "      <td>27.884615</td>\n",
       "      <td>72.115385</td>\n",
       "    </tr>\n",
       "    <tr>\n",
       "      <th>2</th>\n",
       "      <td>25.641026</td>\n",
       "      <td>74.358974</td>\n",
       "    </tr>\n",
       "    <tr>\n",
       "      <th>3</th>\n",
       "      <td>33.333333</td>\n",
       "      <td>66.666667</td>\n",
       "    </tr>\n",
       "    <tr>\n",
       "      <th>4</th>\n",
       "      <td>20.000000</td>\n",
       "      <td>80.000000</td>\n",
       "    </tr>\n",
       "    <tr>\n",
       "      <th>5</th>\n",
       "      <td>33.333333</td>\n",
       "      <td>66.666667</td>\n",
       "    </tr>\n",
       "    <tr>\n",
       "      <th rowspan=\"6\" valign=\"top\">2</th>\n",
       "      <th>0</th>\n",
       "      <td>69.620253</td>\n",
       "      <td>30.379747</td>\n",
       "    </tr>\n",
       "    <tr>\n",
       "      <th>1</th>\n",
       "      <td>55.769231</td>\n",
       "      <td>44.230769</td>\n",
       "    </tr>\n",
       "    <tr>\n",
       "      <th>2</th>\n",
       "      <td>33.333333</td>\n",
       "      <td>66.666667</td>\n",
       "    </tr>\n",
       "    <tr>\n",
       "      <th>3</th>\n",
       "      <td>20.000000</td>\n",
       "      <td>80.000000</td>\n",
       "    </tr>\n",
       "    <tr>\n",
       "      <th>4</th>\n",
       "      <td>NaN</td>\n",
       "      <td>NaN</td>\n",
       "    </tr>\n",
       "    <tr>\n",
       "      <th>5</th>\n",
       "      <td>NaN</td>\n",
       "      <td>NaN</td>\n",
       "    </tr>\n",
       "    <tr>\n",
       "      <th rowspan=\"9\" valign=\"top\">3</th>\n",
       "      <th>0</th>\n",
       "      <td>76.906780</td>\n",
       "      <td>23.093220</td>\n",
       "    </tr>\n",
       "    <tr>\n",
       "      <th>1</th>\n",
       "      <td>64.556962</td>\n",
       "      <td>35.443038</td>\n",
       "    </tr>\n",
       "    <tr>\n",
       "      <th>2</th>\n",
       "      <td>58.666667</td>\n",
       "      <td>41.333333</td>\n",
       "    </tr>\n",
       "    <tr>\n",
       "      <th>3</th>\n",
       "      <td>42.857143</td>\n",
       "      <td>57.142857</td>\n",
       "    </tr>\n",
       "    <tr>\n",
       "      <th>4</th>\n",
       "      <td>93.750000</td>\n",
       "      <td>6.250000</td>\n",
       "    </tr>\n",
       "    <tr>\n",
       "      <th>5</th>\n",
       "      <td>NaN</td>\n",
       "      <td>NaN</td>\n",
       "    </tr>\n",
       "    <tr>\n",
       "      <th>6</th>\n",
       "      <td>75.000000</td>\n",
       "      <td>25.000000</td>\n",
       "    </tr>\n",
       "    <tr>\n",
       "      <th>7</th>\n",
       "      <td>NaN</td>\n",
       "      <td>NaN</td>\n",
       "    </tr>\n",
       "    <tr>\n",
       "      <th>10</th>\n",
       "      <td>NaN</td>\n",
       "      <td>NaN</td>\n",
       "    </tr>\n",
       "  </tbody>\n",
       "</table>\n",
       "</div>"
      ],
      "text/plain": [
       "'survived'                    0          1\n",
       "'pclass' fam_members                      \n",
       "1        0            48.750000  51.250000\n",
       "         1            27.884615  72.115385\n",
       "         2            25.641026  74.358974\n",
       "         3            33.333333  66.666667\n",
       "         4            20.000000  80.000000\n",
       "         5            33.333333  66.666667\n",
       "2        0            69.620253  30.379747\n",
       "         1            55.769231  44.230769\n",
       "         2            33.333333  66.666667\n",
       "         3            20.000000  80.000000\n",
       "         4                  NaN        NaN\n",
       "         5                  NaN        NaN\n",
       "3        0            76.906780  23.093220\n",
       "         1            64.556962  35.443038\n",
       "         2            58.666667  41.333333\n",
       "         3            42.857143  57.142857\n",
       "         4            93.750000   6.250000\n",
       "         5                  NaN        NaN\n",
       "         6            75.000000  25.000000\n",
       "         7                  NaN        NaN\n",
       "         10                 NaN        NaN"
      ]
     },
     "execution_count": 63,
     "metadata": {},
     "output_type": "execute_result"
    }
   ],
   "source": [
    "agg = data.groupby([\"'pclass'\", \"fam_members\",\"'survived'\"])[\"'sibsp'\"].count().unstack()\n",
    "print(agg)\n",
    "\n",
    "\n",
    "agg[\"total\"]  = agg[0] + agg[1]\n",
    "agg[0] = (agg[0]/agg[\"total\"])*100\n",
    "agg[1] = (agg[1]/agg[\"total\"])*100\n",
    "agg.loc[:,[0,1]]\n"
   ]
  },
  {
   "cell_type": "markdown",
   "id": "47b1c556",
   "metadata": {},
   "source": [
    "Female passengers traveling on their own or with a small family - 1 to 4 members -  in first class appears to have survived the most the accident. High survival rate (i.e., 85% or above) have also been achieved for female passenger in second class.  Female third class passengers survival rate nearly halved from first class to second classes. The size of the family appears to lower the survival rate to.  See table below.\n",
    "\n",
    "\n",
    "The male passengers across all the passenger classes appears much lower. \n",
    "\n",
    "| Passenger class| family members| female survival rate | male survival rate|\n",
    "|---|----:|----:|----:|\n",
    "| 1 | 0 | __96%__ | 51% |\n",
    "| 2 | 0 | 85% | 30% |\n",
    "| 3 | 0 | 56% | 24% |\n",
    "| 1 | 1 | __98%__ | 72% |\n",
    "| 2 | 1 | 84% | 44% |\n",
    "| 3 | 1 | 50% | 35% |\n",
    "| 1 | 2 | 100% | 74% |\n",
    "| 2 | 2 | 90% | 66% |\n",
    "| 3 | 2 | 56% | 41% |\n",
    "| 1 | 3|  40% | 66% |\n",
    "| 2 | 3 | __100%__ | 80% |\n",
    "| 3 | 3 | 23% | 57%|\n",
    "| 1 | 4|  __100%__ |80% |\n",
    "| 2 | 4|  100% | 100%|\n",
    "| 3 | 4|  0% | 6% |\n",
    "| 1 | 5 | 100% | 66% |\n",
    "| 2 | 5 | 0% |100% |\n",
    "| 3 | 5 | 0% | 0% |\n",
    "| 1 | 6 | - | - |\n",
    "| 2 | 6 | - | - |\n",
    "| 3 | 6 | 4% | 25%|\n",
    "| 1 | 7 | - | - |\n",
    "| 2 | 7 | - | - |\n",
    "| 3 | 7 | 0% | 0%|\n",
    "| 1 | 8 | - | - |\n",
    "| 2 | 8 | - | - |\n",
    "| 3 | 8 | - | - |\n",
    "| 1 | 9 | - | - |\n",
    "| 2 | 9 | - | - |\n",
    "| 3 | 9 | - | - |\n",
    "| 1 | 10 | - | - |\n",
    "| 2 | 10 | - | - |\n",
    "| 3 | 10 | 0% | 0% |\n"
   ]
  },
  {
   "cell_type": "markdown",
   "id": "733cacda",
   "metadata": {},
   "source": [
    "The size of family traveling on the Titanic may have not impacted greatly on the surviving the accident. Passengers traveling on their own or traveling with small families may have increased the chance of surviving across the three passenger classes."
   ]
  },
  {
   "cell_type": "code",
   "execution_count": null,
   "id": "ea0f1454",
   "metadata": {},
   "outputs": [],
   "source": []
  },
  {
   "cell_type": "code",
   "execution_count": null,
   "id": "a53dd549",
   "metadata": {},
   "outputs": [],
   "source": []
  }
 ],
 "metadata": {
  "kernelspec": {
   "display_name": "Python 3",
   "language": "python",
   "name": "python3"
  },
  "language_info": {
   "codemirror_mode": {
    "name": "ipython",
    "version": 3
   },
   "file_extension": ".py",
   "mimetype": "text/x-python",
   "name": "python",
   "nbconvert_exporter": "python",
   "pygments_lexer": "ipython3",
   "version": "3.8.10"
  }
 },
 "nbformat": 4,
 "nbformat_minor": 5
}
