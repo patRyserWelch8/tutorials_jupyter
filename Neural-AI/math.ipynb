{
 "cells": [
  {
   "cell_type": "markdown",
   "id": "319bb4b3",
   "metadata": {},
   "source": [
    "# Example of Markdown markup language\n",
    "## It needs some practice\n",
    "### plenty of cheat sheet on the web\n",
    "An AL can master marking"
   ]
  },
  {
   "cell_type": "code",
   "execution_count": 2,
   "id": "e86a36a5",
   "metadata": {},
   "outputs": [
    {
     "name": "stdout",
     "output_type": "stream",
     "text": [
      " 0-foundations\r\n",
      " 02.zip\r\n",
      " 03\r\n",
      " 03.zip\r\n",
      " 1-perceptrons\r\n",
      " 2-cnn\r\n",
      " 2021J_EMA\r\n",
      " 2021J_EMA.zip\r\n",
      "'2021J_TMA02_Q1_solution_markingguide v3.ipynb'\r\n",
      " 2021J_TMA03\r\n",
      " 2021J_TMA03.zip\r\n",
      "'2021J_TMA03_Q3 (1).ipynb'\r\n",
      " 2021J_TMA03_Q3.ipynb\r\n",
      " 2021J_TMA03_Q4.ipynb\r\n",
      " 2022J_TMA01_Q1.ipynb\r\n",
      " 2022J_TMA01_Q1.md\r\n",
      " 2022J_TMA01_q2.ipynb\r\n",
      " 2022J_TMA01_q2.md\r\n",
      " 3-rnn\r\n",
      " 4-unsupervised\r\n",
      " 5-alternatives\r\n",
      " 6-data\r\n",
      " 7-conclusion\r\n",
      " Esteem\r\n",
      "'Getting started with Jupyter.ipynb'\r\n",
      " TM358-21J-EMA.ipynb\r\n",
      " TM358_TMA03_22J\r\n",
      " TMA0122J\r\n",
      "'Untitled Folder 1'\r\n",
      " ZZZZ-student-info.txt\r\n",
      " __MACOSX\r\n",
      " images\r\n",
      " inat-species-example.ipynb\r\n",
      " inat-top-level-example.ipynb\r\n",
      " math.ipynb\r\n",
      " tma03\r\n"
     ]
    }
   ],
   "source": [
    "!ls"
   ]
  },
  {
   "cell_type": "code",
   "execution_count": 3,
   "id": "9392d19f",
   "metadata": {},
   "outputs": [
    {
     "data": {
      "text/plain": [
       "[11, 33, 39, 12, 15]"
      ]
     },
     "execution_count": 3,
     "metadata": {},
     "output_type": "execute_result"
    }
   ],
   "source": [
    "a = [1,10,20,2,5]\n",
    "b = [10,23,19,10,10]\n",
    "c = [a[i] + b[i] for i in range(0,5)]\n",
    "c"
   ]
  },
  {
   "cell_type": "code",
   "execution_count": 4,
   "id": "48998716",
   "metadata": {},
   "outputs": [
    {
     "data": {
      "text/plain": [
       "[-9, -13, 1, -8, -5]"
      ]
     },
     "execution_count": 4,
     "metadata": {},
     "output_type": "execute_result"
    }
   ],
   "source": [
    "a = [1,10,20,2,5]\n",
    "b = [10,23,19,10,10]\n",
    "c = [a[i] - b[i] for i in range(0,5)]\n",
    "c"
   ]
  },
  {
   "cell_type": "code",
   "execution_count": 5,
   "id": "2df37994",
   "metadata": {},
   "outputs": [
    {
     "name": "stdout",
     "output_type": "stream",
     "text": [
      "products :  [10, 230, 380, 20, 50]\n",
      "dot product : 690\n"
     ]
    }
   ],
   "source": [
    "a = [1,10,20,2,5]\n",
    "b = [10,23,19,10,10]\n",
    "products = [a[i] * b[i] for i in range(0,5)]\n",
    "print(\"products : \", products)\n",
    "dot_product   = sum(products)\n",
    "print(\"dot product :\" , dot_product)"
   ]
  },
  {
   "cell_type": "code",
   "execution_count": 6,
   "id": "2d7da889",
   "metadata": {},
   "outputs": [
    {
     "data": {
      "text/plain": [
       "[[1, 5], [-1, 15], [-6, 7]]"
      ]
     },
     "execution_count": 6,
     "metadata": {},
     "output_type": "execute_result"
    }
   ],
   "source": [
    "\n",
    "A = [[-2, 4],\n",
    "     [1, 5],\n",
    "     [0,3]]\n",
    "B = [[3, 1],\n",
    "     [-2, 10],\n",
    "     [-6,4]]\n",
    "C = [0,0,0]\n",
    "\n",
    "\n",
    "for row in range(0,3):\n",
    "    row_totals = [A[row][col] + B[row][col] for col in range(0,2)]\n",
    "    C[row] = row_totals\n",
    "    \n",
    "C"
   ]
  },
  {
   "cell_type": "code",
   "execution_count": 7,
   "id": "003fa977",
   "metadata": {},
   "outputs": [
    {
     "data": {
      "text/plain": [
       "[[-5, 3], [3, -5], [6, -1]]"
      ]
     },
     "execution_count": 7,
     "metadata": {},
     "output_type": "execute_result"
    }
   ],
   "source": [
    "A = [[-2, 4],\n",
    "     [1, 5],\n",
    "     [0,3]]\n",
    "B = [[3, 1],\n",
    "     [-2, 10],\n",
    "     [-6,4]]\n",
    "C = [0,0,0]\n",
    "\n",
    "\n",
    "for row in range(0,3):\n",
    "    row_diff = [A[row][col] - B[row][col] for col in range(0,2)]\n",
    "    C[row] = row_diff\n",
    "    \n",
    "C"
   ]
  },
  {
   "cell_type": "code",
   "execution_count": 8,
   "id": "9d7d7154",
   "metadata": {},
   "outputs": [
    {
     "data": {
      "text/plain": [
       "array([[-5,  3],\n",
       "       [ 3, -5],\n",
       "       [ 6, -1]])"
      ]
     },
     "execution_count": 8,
     "metadata": {},
     "output_type": "execute_result"
    }
   ],
   "source": [
    "import numpy as np\n",
    "A = np.array([[-2, 4],\n",
    "     [1, 5],\n",
    "     [0,3]])\n",
    "B = np.array([[3, 1],\n",
    "     [-2, 10],\n",
    "     [-6,4]])\n",
    "C = A - B\n",
    "C"
   ]
  },
  {
   "cell_type": "code",
   "execution_count": 9,
   "id": "017474cd",
   "metadata": {},
   "outputs": [
    {
     "data": {
      "text/plain": [
       "array([[-6,  4],\n",
       "       [-2, 50],\n",
       "       [ 0, 12]])"
      ]
     },
     "execution_count": 9,
     "metadata": {},
     "output_type": "execute_result"
    }
   ],
   "source": [
    "import numpy as np\n",
    "A = np.array([[-2, 4],\n",
    "     [1, 5],\n",
    "     [0,3]])\n",
    "B = np.array([[3, 1],\n",
    "     [-2, 10],\n",
    "     [-6,4]])\n",
    "C = A * B\n",
    "C"
   ]
  },
  {
   "cell_type": "code",
   "execution_count": 10,
   "id": "cea3c8ea",
   "metadata": {},
   "outputs": [
    {
     "ename": "ValueError",
     "evalue": "shapes (3,2) and (3,2) not aligned: 2 (dim 1) != 3 (dim 0)",
     "output_type": "error",
     "traceback": [
      "\u001b[0;31m---------------------------------------------------------------------------\u001b[0m",
      "\u001b[0;31mValueError\u001b[0m                                Traceback (most recent call last)",
      "\u001b[0;32m<ipython-input-10-dbd32f93d960>\u001b[0m in \u001b[0;36m<module>\u001b[0;34m\u001b[0m\n\u001b[1;32m      6\u001b[0m      \u001b[0;34m[\u001b[0m\u001b[0;34m-\u001b[0m\u001b[0;36m2\u001b[0m\u001b[0;34m,\u001b[0m \u001b[0;36m10\u001b[0m\u001b[0;34m]\u001b[0m\u001b[0;34m,\u001b[0m\u001b[0;34m\u001b[0m\u001b[0;34m\u001b[0m\u001b[0m\n\u001b[1;32m      7\u001b[0m      [-6,4]])\n\u001b[0;32m----> 8\u001b[0;31m \u001b[0mC\u001b[0m \u001b[0;34m=\u001b[0m \u001b[0mA\u001b[0m\u001b[0;34m.\u001b[0m\u001b[0mdot\u001b[0m\u001b[0;34m(\u001b[0m\u001b[0mB\u001b[0m\u001b[0;34m)\u001b[0m\u001b[0;34m\u001b[0m\u001b[0;34m\u001b[0m\u001b[0m\n\u001b[0m\u001b[1;32m      9\u001b[0m \u001b[0mC\u001b[0m\u001b[0;34m\u001b[0m\u001b[0;34m\u001b[0m\u001b[0m\n",
      "\u001b[0;31mValueError\u001b[0m: shapes (3,2) and (3,2) not aligned: 2 (dim 1) != 3 (dim 0)"
     ]
    }
   ],
   "source": [
    "import numpy as np\n",
    "A = np.array([[-2, 4],\n",
    "     [1, 5],\n",
    "     [0,3]])\n",
    "B = np.array([[3, 1],\n",
    "     [-2, 10],\n",
    "     [-6,4]])\n",
    "C = A.dot(B)\n",
    "C"
   ]
  },
  {
   "cell_type": "code",
   "execution_count": 11,
   "id": "48cb2257",
   "metadata": {},
   "outputs": [
    {
     "data": {
      "text/plain": [
       "array([[-44,  58],\n",
       "       [-43,  75],\n",
       "       [-36,  50]])"
      ]
     },
     "execution_count": 11,
     "metadata": {},
     "output_type": "execute_result"
    }
   ],
   "source": [
    "import numpy as np\n",
    "A = np.array([[-2, 4, 5],\n",
    "     [1, 5, 6],\n",
    "     [0,3, 5]])\n",
    "B = np.array([[3, 1],\n",
    "     [-2, 10],\n",
    "     [-6,4]])\n",
    "C = A.dot(B)\n",
    "C"
   ]
  },
  {
   "cell_type": "code",
   "execution_count": 12,
   "id": "6d9f7022",
   "metadata": {},
   "outputs": [
    {
     "data": {
      "text/plain": [
       "[[-44, 58], [-43, 75], [-36, 50]]"
      ]
     },
     "execution_count": 12,
     "metadata": {},
     "output_type": "execute_result"
    }
   ],
   "source": [
    "A = np.array([[-2, 4, 5],\n",
    "     [1, 5, 6],\n",
    "     [0,3, 5]])\n",
    "B = np.array([[3, 1],\n",
    "     [-2, 10],\n",
    "     [-6,4]])\n",
    "C =[0,0,0]\n",
    "\n",
    "for row in range(0,3): # rows of matrix A\n",
    "    dot_products = [0,0]\n",
    "    for col in range(0,2): # cols of matrix B\n",
    "        row_A = A[row]\n",
    "        col_B = [B[r][col] for r in range(0,3)]\n",
    "        \n",
    "        products = [row_A[i] * col_B[i] for i in range(0,3)]\n",
    "        dot_product   = sum(products)\n",
    "        dot_products[col] = dot_product\n",
    "    C[row] = dot_products\n",
    "C\n"
   ]
  },
  {
   "cell_type": "markdown",
   "id": "f4802d49",
   "metadata": {},
   "source": []
  },
  {
   "cell_type": "code",
   "execution_count": 13,
   "id": "d1d8a1ae",
   "metadata": {},
   "outputs": [
    {
     "name": "stdout",
     "output_type": "stream",
     "text": [
      "80.75\n"
     ]
    }
   ],
   "source": [
    "weigths = [0.15, 0.25, 0.30, 0.30]\n",
    "marks   = [85, 80, 70, 90] \n",
    "assessment_score = 0\n",
    "for i in range(len(marks)):\n",
    "    assessment_score += weigths[i] * marks[i]\n",
    "    \n",
    "print(assessment_score)\n",
    "    "
   ]
  },
  {
   "cell_type": "code",
   "execution_count": 14,
   "id": "6c549909",
   "metadata": {},
   "outputs": [],
   "source": [
    "def relu(x):\n",
    "    if x < 0:\n",
    "        return 0\n",
    "    else :\n",
    "        return x\n",
    "    \n"
   ]
  },
  {
   "cell_type": "code",
   "execution_count": 15,
   "id": "e2133df1",
   "metadata": {},
   "outputs": [
    {
     "data": {
      "text/plain": [
       "0"
      ]
     },
     "execution_count": 15,
     "metadata": {},
     "output_type": "execute_result"
    }
   ],
   "source": [
    "relu(-100)"
   ]
  },
  {
   "cell_type": "code",
   "execution_count": 16,
   "id": "2a937e00",
   "metadata": {},
   "outputs": [
    {
     "data": {
      "text/plain": [
       "0"
      ]
     },
     "execution_count": 16,
     "metadata": {},
     "output_type": "execute_result"
    }
   ],
   "source": [
    "relu(0)"
   ]
  },
  {
   "cell_type": "code",
   "execution_count": 17,
   "id": "1d700ae5",
   "metadata": {},
   "outputs": [
    {
     "data": {
      "text/plain": [
       "100"
      ]
     },
     "execution_count": 17,
     "metadata": {},
     "output_type": "execute_result"
    }
   ],
   "source": [
    "relu(100)"
   ]
  },
  {
   "cell_type": "code",
   "execution_count": 18,
   "id": "5f2e9598",
   "metadata": {},
   "outputs": [
    {
     "ename": "NameError",
     "evalue": "name 'y' is not defined",
     "output_type": "error",
     "traceback": [
      "\u001b[0;31m---------------------------------------------------------------------------\u001b[0m",
      "\u001b[0;31mNameError\u001b[0m                                 Traceback (most recent call last)",
      "\u001b[0;32m<ipython-input-18-89f55432adbb>\u001b[0m in \u001b[0;36m<module>\u001b[0;34m\u001b[0m\n\u001b[1;32m      4\u001b[0m \u001b[0my_1\u001b[0m \u001b[0;34m=\u001b[0m \u001b[0mnp\u001b[0m\u001b[0;34m.\u001b[0m\u001b[0mexp\u001b[0m\u001b[0;34m(\u001b[0m\u001b[0mx\u001b[0m\u001b[0;34m)\u001b[0m\u001b[0;34m\u001b[0m\u001b[0;34m\u001b[0m\u001b[0m\n\u001b[1;32m      5\u001b[0m \u001b[0my_2\u001b[0m \u001b[0;34m=\u001b[0m \u001b[0mnp\u001b[0m\u001b[0;34m.\u001b[0m\u001b[0mexp\u001b[0m\u001b[0;34m(\u001b[0m\u001b[0;34m-\u001b[0m\u001b[0mx\u001b[0m\u001b[0;34m)\u001b[0m\u001b[0;34m\u001b[0m\u001b[0;34m\u001b[0m\u001b[0m\n\u001b[0;32m----> 6\u001b[0;31m \u001b[0mplt\u001b[0m\u001b[0;34m.\u001b[0m\u001b[0mplot\u001b[0m\u001b[0;34m(\u001b[0m\u001b[0mx\u001b[0m\u001b[0;34m,\u001b[0m\u001b[0my\u001b[0m\u001b[0;34m)\u001b[0m\u001b[0;34m\u001b[0m\u001b[0;34m\u001b[0m\u001b[0m\n\u001b[0m\u001b[1;32m      7\u001b[0m \u001b[0;34m\u001b[0m\u001b[0m\n",
      "\u001b[0;31mNameError\u001b[0m: name 'y' is not defined"
     ]
    }
   ],
   "source": [
    "import matplotlib.pyplot as plt\n",
    "import numpy as np\n",
    "x = np.arange(-10,11)\n",
    "y_1 = np.exp(x)\n",
    "y_2 = np.exp(-x)\n",
    "plt.plot(x,y)\n",
    "\n"
   ]
  },
  {
   "cell_type": "code",
   "execution_count": 19,
   "id": "560b749f",
   "metadata": {},
   "outputs": [
    {
     "data": {
      "text/plain": [
       "array([4.53978687e-05, 1.23394576e-04, 3.35350130e-04, 9.11051194e-04,\n",
       "       2.47262316e-03, 6.69285092e-03, 1.79862100e-02, 4.74258732e-02,\n",
       "       1.19202922e-01, 2.68941421e-01, 5.00000000e-01, 7.31058579e-01,\n",
       "       8.80797078e-01, 9.52574127e-01, 9.82013790e-01, 9.93307149e-01,\n",
       "       9.97527377e-01, 9.99088949e-01, 9.99664650e-01, 9.99876605e-01,\n",
       "       9.99954602e-01])"
      ]
     },
     "execution_count": 19,
     "metadata": {},
     "output_type": "execute_result"
    },
    {
     "data": {
      "image/png": "[encoded data removed]",
      "text/plain": [
       "<Figure size 432x288 with 1 Axes>"
      ]
     },
     "metadata": {
      "needs_background": "light"
     },
     "output_type": "display_data"
    }
   ],
   "source": [
    "import matplotlib.pyplot as plt\n",
    "import numpy as np\n",
    "x = np.arange(-10,11)\n",
    "y = 1/(1+np.exp(-x))\n",
    "plt.plot(x,y)\n",
    "y\n",
    "\n"
   ]
  },
  {
   "cell_type": "code",
   "execution_count": 20,
   "id": "5d07f34d",
   "metadata": {},
   "outputs": [
    {
     "data": {
      "text/plain": [
       "[<matplotlib.lines.Line2D at 0x7f77bc9559e8>]"
      ]
     },
     "execution_count": 20,
     "metadata": {},
     "output_type": "execute_result"
    },
    {
     "data": {
      "image/png": "[encoded data removed]",
      "text/plain": [
       "<Figure size 432x288 with 1 Axes>"
      ]
     },
     "metadata": {
      "needs_background": "light"
     },
     "output_type": "display_data"
    }
   ],
   "source": [
    "import matplotlib.pyplot as plt\n",
    "import numpy as np\n",
    "x = np.arange(1,100000)\n",
    "y = np.log10(x)\n",
    "plt.plot(x,y)\n",
    "\n",
    "\n"
   ]
  },
  {
   "cell_type": "code",
   "execution_count": 21,
   "id": "45741552",
   "metadata": {},
   "outputs": [
    {
     "ename": "ValueError",
     "evalue": "math domain error",
     "output_type": "error",
     "traceback": [
      "\u001b[0;31m---------------------------------------------------------------------------\u001b[0m",
      "\u001b[0;31mValueError\u001b[0m                                Traceback (most recent call last)",
      "\u001b[0;32m<ipython-input-21-ff21a0c01d52>\u001b[0m in \u001b[0;36m<module>\u001b[0;34m\u001b[0m\n\u001b[1;32m      1\u001b[0m \u001b[0;32mimport\u001b[0m \u001b[0mmath\u001b[0m\u001b[0;34m\u001b[0m\u001b[0;34m\u001b[0m\u001b[0m\n\u001b[0;32m----> 2\u001b[0;31m \u001b[0mmath\u001b[0m\u001b[0;34m.\u001b[0m\u001b[0mlog\u001b[0m\u001b[0;34m(\u001b[0m\u001b[0;36m0\u001b[0m\u001b[0;34m,\u001b[0m\u001b[0;36m10\u001b[0m\u001b[0;34m)\u001b[0m\u001b[0;34m\u001b[0m\u001b[0;34m\u001b[0m\u001b[0m\n\u001b[0m",
      "\u001b[0;31mValueError\u001b[0m: math domain error"
     ]
    }
   ],
   "source": [
    "import math\n",
    "math.log(0,10)"
   ]
  },
  {
   "cell_type": "code",
   "execution_count": 22,
   "id": "ab51eb74",
   "metadata": {},
   "outputs": [
    {
     "data": {
      "text/plain": [
       "0.0"
      ]
     },
     "execution_count": 22,
     "metadata": {},
     "output_type": "execute_result"
    }
   ],
   "source": [
    "math.log(1,10)"
   ]
  },
  {
   "cell_type": "code",
   "execution_count": 23,
   "id": "1db2daed",
   "metadata": {},
   "outputs": [
    {
     "data": {
      "text/plain": [
       "7.0"
      ]
     },
     "execution_count": 23,
     "metadata": {},
     "output_type": "execute_result"
    }
   ],
   "source": [
    "math.log10(10000000)"
   ]
  },
  {
   "cell_type": "code",
   "execution_count": 24,
   "id": "6bbd4efc",
   "metadata": {},
   "outputs": [
    {
     "ename": "ValueError",
     "evalue": "math domain error",
     "output_type": "error",
     "traceback": [
      "\u001b[0;31m---------------------------------------------------------------------------\u001b[0m",
      "\u001b[0;31mValueError\u001b[0m                                Traceback (most recent call last)",
      "\u001b[0;32m<ipython-input-24-348a17ea8c40>\u001b[0m in \u001b[0;36m<module>\u001b[0;34m\u001b[0m\n\u001b[0;32m----> 1\u001b[0;31m \u001b[0mmath\u001b[0m\u001b[0;34m.\u001b[0m\u001b[0mlog2\u001b[0m\u001b[0;34m(\u001b[0m\u001b[0;36m0\u001b[0m\u001b[0;34m)\u001b[0m\u001b[0;34m\u001b[0m\u001b[0;34m\u001b[0m\u001b[0m\n\u001b[0m",
      "\u001b[0;31mValueError\u001b[0m: math domain error"
     ]
    }
   ],
   "source": [
    "math.log2(0)"
   ]
  },
  {
   "cell_type": "code",
   "execution_count": 25,
   "id": "0798b3ed",
   "metadata": {},
   "outputs": [
    {
     "data": {
      "text/plain": [
       "[<matplotlib.lines.Line2D at 0x7f77bc8cab70>]"
      ]
     },
     "execution_count": 25,
     "metadata": {},
     "output_type": "execute_result"
    },
    {
     "data": {
      "image/png": "[encoded data removed]",
      "text/plain": [
       "<Figure size 432x288 with 1 Axes>"
      ]
     },
     "metadata": {
      "needs_background": "light"
     },
     "output_type": "display_data"
    }
   ],
   "source": [
    "import matplotlib.pyplot as plt\n",
    "import numpy as np\n",
    "x = np.arange(1,math.pow(2,16))\n",
    "y = np.log2(x)\n",
    "plt.plot(x,y)\n",
    "\n",
    "\n"
   ]
  },
  {
   "cell_type": "code",
   "execution_count": 26,
   "id": "976692d9",
   "metadata": {},
   "outputs": [
    {
     "data": {
      "text/plain": [
       "65536.0"
      ]
     },
     "execution_count": 26,
     "metadata": {},
     "output_type": "execute_result"
    }
   ],
   "source": [
    "math.pow(2,16)"
   ]
  },
  {
   "cell_type": "code",
   "execution_count": 27,
   "id": "2e781c0e",
   "metadata": {},
   "outputs": [
    {
     "ename": "SyntaxError",
     "evalue": "invalid syntax (<ipython-input-27-52c5e0624e8b>, line 4)",
     "output_type": "error",
     "traceback": [
      "\u001b[0;36m  File \u001b[0;32m\"<ipython-input-27-52c5e0624e8b>\"\u001b[0;36m, line \u001b[0;32m4\u001b[0m\n\u001b[0;31m    y = [math.log(x) for i ]\u001b[0m\n\u001b[0m                           ^\u001b[0m\n\u001b[0;31mSyntaxError\u001b[0m\u001b[0;31m:\u001b[0m invalid syntax\n"
     ]
    }
   ],
   "source": [
    "import matplotlib.pyplot as plt\n",
    "import numpy as np\n",
    "x = np.arange(1,10)\n",
    "y = [math.log(x) for i ]\n",
    "plt.plot(x,y)"
   ]
  },
  {
   "cell_type": "code",
   "execution_count": 28,
   "id": "f80cfd16",
   "metadata": {},
   "outputs": [
    {
     "data": {
      "text/plain": [
       "59874.14171519782"
      ]
     },
     "execution_count": 28,
     "metadata": {},
     "output_type": "execute_result"
    }
   ],
   "source": [
    "math.exp(11)"
   ]
  },
  {
   "cell_type": "code",
   "execution_count": 29,
   "id": "b186d136",
   "metadata": {},
   "outputs": [
    {
     "data": {
      "text/plain": [
       "11.0"
      ]
     },
     "execution_count": 29,
     "metadata": {},
     "output_type": "execute_result"
    }
   ],
   "source": [
    "math.log(math.exp(11))"
   ]
  },
  {
   "cell_type": "code",
   "execution_count": 30,
   "id": "267f42f4",
   "metadata": {},
   "outputs": [
    {
     "data": {
      "text/plain": [
       "-0.5228787452803376"
      ]
     },
     "execution_count": 30,
     "metadata": {},
     "output_type": "execute_result"
    }
   ],
   "source": [
    "math.log10(0.3)\n"
   ]
  },
  {
   "cell_type": "code",
   "execution_count": 31,
   "id": "d79ea6e7",
   "metadata": {},
   "outputs": [
    {
     "ename": "ValueError",
     "evalue": "math domain error",
     "output_type": "error",
     "traceback": [
      "\u001b[0;31m---------------------------------------------------------------------------\u001b[0m",
      "\u001b[0;31mValueError\u001b[0m                                Traceback (most recent call last)",
      "\u001b[0;32m<ipython-input-31-f7278b7c2ed1>\u001b[0m in \u001b[0;36m<module>\u001b[0;34m\u001b[0m\n\u001b[0;32m----> 1\u001b[0;31m \u001b[0mmath\u001b[0m\u001b[0;34m.\u001b[0m\u001b[0mlog\u001b[0m\u001b[0;34m(\u001b[0m\u001b[0;36m0\u001b[0m\u001b[0;34m)\u001b[0m\u001b[0;34m\u001b[0m\u001b[0;34m\u001b[0m\u001b[0m\n\u001b[0m",
      "\u001b[0;31mValueError\u001b[0m: math domain error"
     ]
    }
   ],
   "source": [
    "math.log(0)"
   ]
  },
  {
   "cell_type": "code",
   "execution_count": 32,
   "id": "6767a1c3",
   "metadata": {},
   "outputs": [],
   "source": [
    "def relu(x):\n",
    "    if (x < 0):\n",
    "        return 0\n",
    "    else:\n",
    "        return x\n",
    "    \n"
   ]
  },
  {
   "cell_type": "code",
   "execution_count": 33,
   "id": "80c084a0",
   "metadata": {},
   "outputs": [
    {
     "ename": "ValueError",
     "evalue": "x and y must have same first dimension, but have shapes (65535,) and (200,)",
     "output_type": "error",
     "traceback": [
      "\u001b[0;31m---------------------------------------------------------------------------\u001b[0m",
      "\u001b[0;31mValueError\u001b[0m                                Traceback (most recent call last)",
      "\u001b[0;32m<ipython-input-33-fb35d706e576>\u001b[0m in \u001b[0;36m<module>\u001b[0;34m\u001b[0m\n\u001b[1;32m      3\u001b[0m \u001b[0mx_values\u001b[0m \u001b[0;34m=\u001b[0m \u001b[0mnp\u001b[0m\u001b[0;34m.\u001b[0m\u001b[0marange\u001b[0m\u001b[0;34m(\u001b[0m\u001b[0;34m-\u001b[0m\u001b[0;36m100\u001b[0m\u001b[0;34m,\u001b[0m\u001b[0;36m100\u001b[0m\u001b[0;34m)\u001b[0m\u001b[0;34m\u001b[0m\u001b[0;34m\u001b[0m\u001b[0m\n\u001b[1;32m      4\u001b[0m \u001b[0my\u001b[0m \u001b[0;34m=\u001b[0m \u001b[0;34m[\u001b[0m\u001b[0mrelu\u001b[0m\u001b[0;34m(\u001b[0m\u001b[0mx\u001b[0m\u001b[0;34m)\u001b[0m \u001b[0;32mfor\u001b[0m \u001b[0mx\u001b[0m \u001b[0;32min\u001b[0m \u001b[0mx_values\u001b[0m\u001b[0;34m]\u001b[0m\u001b[0;34m\u001b[0m\u001b[0;34m\u001b[0m\u001b[0m\n\u001b[0;32m----> 5\u001b[0;31m \u001b[0mplt\u001b[0m\u001b[0;34m.\u001b[0m\u001b[0mplot\u001b[0m\u001b[0;34m(\u001b[0m\u001b[0mx\u001b[0m\u001b[0;34m,\u001b[0m\u001b[0my\u001b[0m\u001b[0;34m)\u001b[0m\u001b[0;34m\u001b[0m\u001b[0;34m\u001b[0m\u001b[0m\n\u001b[0m",
      "\u001b[0;32m/usr/local/lib/python3.6/dist-packages/matplotlib/pyplot.py\u001b[0m in \u001b[0;36mplot\u001b[0;34m(scalex, scaley, data, *args, **kwargs)\u001b[0m\n\u001b[1;32m   2840\u001b[0m     return gca().plot(\n\u001b[1;32m   2841\u001b[0m         \u001b[0;34m*\u001b[0m\u001b[0margs\u001b[0m\u001b[0;34m,\u001b[0m \u001b[0mscalex\u001b[0m\u001b[0;34m=\u001b[0m\u001b[0mscalex\u001b[0m\u001b[0;34m,\u001b[0m \u001b[0mscaley\u001b[0m\u001b[0;34m=\u001b[0m\u001b[0mscaley\u001b[0m\u001b[0;34m,\u001b[0m\u001b[0;34m\u001b[0m\u001b[0;34m\u001b[0m\u001b[0m\n\u001b[0;32m-> 2842\u001b[0;31m         **({\"data\": data} if data is not None else {}), **kwargs)\n\u001b[0m\u001b[1;32m   2843\u001b[0m \u001b[0;34m\u001b[0m\u001b[0m\n\u001b[1;32m   2844\u001b[0m \u001b[0;34m\u001b[0m\u001b[0m\n",
      "\u001b[0;32m/usr/local/lib/python3.6/dist-packages/matplotlib/axes/_axes.py\u001b[0m in \u001b[0;36mplot\u001b[0;34m(self, scalex, scaley, data, *args, **kwargs)\u001b[0m\n\u001b[1;32m   1741\u001b[0m         \"\"\"\n\u001b[1;32m   1742\u001b[0m         \u001b[0mkwargs\u001b[0m \u001b[0;34m=\u001b[0m \u001b[0mcbook\u001b[0m\u001b[0;34m.\u001b[0m\u001b[0mnormalize_kwargs\u001b[0m\u001b[0;34m(\u001b[0m\u001b[0mkwargs\u001b[0m\u001b[0;34m,\u001b[0m \u001b[0mmlines\u001b[0m\u001b[0;34m.\u001b[0m\u001b[0mLine2D\u001b[0m\u001b[0;34m)\u001b[0m\u001b[0;34m\u001b[0m\u001b[0;34m\u001b[0m\u001b[0m\n\u001b[0;32m-> 1743\u001b[0;31m         \u001b[0mlines\u001b[0m \u001b[0;34m=\u001b[0m \u001b[0;34m[\u001b[0m\u001b[0;34m*\u001b[0m\u001b[0mself\u001b[0m\u001b[0;34m.\u001b[0m\u001b[0m_get_lines\u001b[0m\u001b[0;34m(\u001b[0m\u001b[0;34m*\u001b[0m\u001b[0margs\u001b[0m\u001b[0;34m,\u001b[0m \u001b[0mdata\u001b[0m\u001b[0;34m=\u001b[0m\u001b[0mdata\u001b[0m\u001b[0;34m,\u001b[0m \u001b[0;34m**\u001b[0m\u001b[0mkwargs\u001b[0m\u001b[0;34m)\u001b[0m\u001b[0;34m]\u001b[0m\u001b[0;34m\u001b[0m\u001b[0;34m\u001b[0m\u001b[0m\n\u001b[0m\u001b[1;32m   1744\u001b[0m         \u001b[0;32mfor\u001b[0m \u001b[0mline\u001b[0m \u001b[0;32min\u001b[0m \u001b[0mlines\u001b[0m\u001b[0;34m:\u001b[0m\u001b[0;34m\u001b[0m\u001b[0;34m\u001b[0m\u001b[0m\n\u001b[1;32m   1745\u001b[0m             \u001b[0mself\u001b[0m\u001b[0;34m.\u001b[0m\u001b[0madd_line\u001b[0m\u001b[0;34m(\u001b[0m\u001b[0mline\u001b[0m\u001b[0;34m)\u001b[0m\u001b[0;34m\u001b[0m\u001b[0;34m\u001b[0m\u001b[0m\n",
      "\u001b[0;32m/usr/local/lib/python3.6/dist-packages/matplotlib/axes/_base.py\u001b[0m in \u001b[0;36m__call__\u001b[0;34m(self, data, *args, **kwargs)\u001b[0m\n\u001b[1;32m    271\u001b[0m                 \u001b[0mthis\u001b[0m \u001b[0;34m+=\u001b[0m \u001b[0margs\u001b[0m\u001b[0;34m[\u001b[0m\u001b[0;36m0\u001b[0m\u001b[0;34m]\u001b[0m\u001b[0;34m,\u001b[0m\u001b[0;34m\u001b[0m\u001b[0;34m\u001b[0m\u001b[0m\n\u001b[1;32m    272\u001b[0m                 \u001b[0margs\u001b[0m \u001b[0;34m=\u001b[0m \u001b[0margs\u001b[0m\u001b[0;34m[\u001b[0m\u001b[0;36m1\u001b[0m\u001b[0;34m:\u001b[0m\u001b[0;34m]\u001b[0m\u001b[0;34m\u001b[0m\u001b[0;34m\u001b[0m\u001b[0m\n\u001b[0;32m--> 273\u001b[0;31m             \u001b[0;32myield\u001b[0m \u001b[0;32mfrom\u001b[0m \u001b[0mself\u001b[0m\u001b[0;34m.\u001b[0m\u001b[0m_plot_args\u001b[0m\u001b[0;34m(\u001b[0m\u001b[0mthis\u001b[0m\u001b[0;34m,\u001b[0m \u001b[0mkwargs\u001b[0m\u001b[0;34m)\u001b[0m\u001b[0;34m\u001b[0m\u001b[0;34m\u001b[0m\u001b[0m\n\u001b[0m\u001b[1;32m    274\u001b[0m \u001b[0;34m\u001b[0m\u001b[0m\n\u001b[1;32m    275\u001b[0m     \u001b[0;32mdef\u001b[0m \u001b[0mget_next_color\u001b[0m\u001b[0;34m(\u001b[0m\u001b[0mself\u001b[0m\u001b[0;34m)\u001b[0m\u001b[0;34m:\u001b[0m\u001b[0;34m\u001b[0m\u001b[0;34m\u001b[0m\u001b[0m\n",
      "\u001b[0;32m/usr/local/lib/python3.6/dist-packages/matplotlib/axes/_base.py\u001b[0m in \u001b[0;36m_plot_args\u001b[0;34m(self, tup, kwargs)\u001b[0m\n\u001b[1;32m    397\u001b[0m \u001b[0;34m\u001b[0m\u001b[0m\n\u001b[1;32m    398\u001b[0m         \u001b[0;32mif\u001b[0m \u001b[0mx\u001b[0m\u001b[0;34m.\u001b[0m\u001b[0mshape\u001b[0m\u001b[0;34m[\u001b[0m\u001b[0;36m0\u001b[0m\u001b[0;34m]\u001b[0m \u001b[0;34m!=\u001b[0m \u001b[0my\u001b[0m\u001b[0;34m.\u001b[0m\u001b[0mshape\u001b[0m\u001b[0;34m[\u001b[0m\u001b[0;36m0\u001b[0m\u001b[0;34m]\u001b[0m\u001b[0;34m:\u001b[0m\u001b[0;34m\u001b[0m\u001b[0;34m\u001b[0m\u001b[0m\n\u001b[0;32m--> 399\u001b[0;31m             raise ValueError(f\"x and y must have same first dimension, but \"\n\u001b[0m\u001b[1;32m    400\u001b[0m                              f\"have shapes {x.shape} and {y.shape}\")\n\u001b[1;32m    401\u001b[0m         \u001b[0;32mif\u001b[0m \u001b[0mx\u001b[0m\u001b[0;34m.\u001b[0m\u001b[0mndim\u001b[0m \u001b[0;34m>\u001b[0m \u001b[0;36m2\u001b[0m \u001b[0;32mor\u001b[0m \u001b[0my\u001b[0m\u001b[0;34m.\u001b[0m\u001b[0mndim\u001b[0m \u001b[0;34m>\u001b[0m \u001b[0;36m2\u001b[0m\u001b[0;34m:\u001b[0m\u001b[0;34m\u001b[0m\u001b[0;34m\u001b[0m\u001b[0m\n",
      "\u001b[0;31mValueError\u001b[0m: x and y must have same first dimension, but have shapes (65535,) and (200,)"
     ]
    },
    {
     "data": {
      "image/png": "[encoded data removed]",
      "text/plain": [
       "<Figure size 432x288 with 1 Axes>"
      ]
     },
     "metadata": {
      "needs_background": "light"
     },
     "output_type": "display_data"
    }
   ],
   "source": [
    "import matplotlib.pyplot as plt\n",
    "import numpy as np\n",
    "x_values = np.arange(-100,100)\n",
    "y = [relu(x) for x in x_values]\n",
    "plt.plot(x,y)"
   ]
  },
  {
   "cell_type": "code",
   "execution_count": 34,
   "id": "dbf6824e",
   "metadata": {},
   "outputs": [
    {
     "data": {
      "text/plain": [
       "0.9171523356672744"
      ]
     },
     "execution_count": 34,
     "metadata": {},
     "output_type": "execute_result"
    }
   ],
   "source": [
    "import math\n",
    "\n",
    "math.tanh(math.radians(90))\n"
   ]
  },
  {
   "cell_type": "code",
   "execution_count": 35,
   "id": "c7333571",
   "metadata": {},
   "outputs": [
    {
     "data": {
      "text/plain": [
       "0.0"
      ]
     },
     "execution_count": 35,
     "metadata": {},
     "output_type": "execute_result"
    }
   ],
   "source": [
    "math.tanh(0)"
   ]
  },
  {
   "cell_type": "code",
   "execution_count": 36,
   "id": "9f7eddef",
   "metadata": {},
   "outputs": [
    {
     "data": {
      "text/plain": [
       "[<matplotlib.lines.Line2D at 0x7f77bc548470>]"
      ]
     },
     "execution_count": 36,
     "metadata": {},
     "output_type": "execute_result"
    },
    {
     "data": {
      "image/png": "[encoded data removed]",
      "text/plain": [
       "<Figure size 432x288 with 1 Axes>"
      ]
     },
     "metadata": {
      "needs_background": "light"
     },
     "output_type": "display_data"
    }
   ],
   "source": [
    "import matplotlib.pyplot as plt\n",
    "import math\n",
    "import numpy as np\n",
    "\n",
    "x = np.arange(-10,10,0.2)\n",
    "sum_x = np.sum(np.exp(x))\n",
    "y = [5*math.pow(i,3) + 10* math.pow(i,2) + 4 *i + 6  for i in x]\n",
    "plt.plot(x,y)"
   ]
  },
  {
   "cell_type": "code",
   "execution_count": 37,
   "id": "4928280e",
   "metadata": {},
   "outputs": [
    {
     "data": {
      "text/plain": [
       "[<matplotlib.lines.Line2D at 0x7f77bc52d7f0>]"
      ]
     },
     "execution_count": 37,
     "metadata": {},
     "output_type": "execute_result"
    },
    {
     "data": {
      "image/png": "[encoded data removed]",
      "text/plain": [
       "<Figure size 432x288 with 1 Axes>"
      ]
     },
     "metadata": {
      "needs_background": "light"
     },
     "output_type": "display_data"
    }
   ],
   "source": [
    "import matplotlib.pyplot as plt\n",
    "import numpy as np\n",
    "x = np.arange(-4,4.1,0.1)\n",
    "y = np.tanh(x)\n",
    "plt.plot(x,y)"
   ]
  },
  {
   "cell_type": "code",
   "execution_count": 38,
   "id": "334f3b7e",
   "metadata": {},
   "outputs": [],
   "source": [
    "def fibonacci_o(n):\n",
    "    if n in {0, 1}:  # Base case\n",
    "        return n\n",
    "    return fibonacci_of(n - 1) + fibonacci_of(n - 2)  # Recursive case"
   ]
  },
  {
   "cell_type": "code",
   "execution_count": 39,
   "id": "8ced333d",
   "metadata": {},
   "outputs": [
    {
     "ename": "NameError",
     "evalue": "name 'fibonacci_of' is not defined",
     "output_type": "error",
     "traceback": [
      "\u001b[0;31m---------------------------------------------------------------------------\u001b[0m",
      "\u001b[0;31mNameError\u001b[0m                                 Traceback (most recent call last)",
      "\u001b[0;32m<ipython-input-39-ef5fecde17ec>\u001b[0m in \u001b[0;36m<module>\u001b[0;34m\u001b[0m\n\u001b[0;32m----> 1\u001b[0;31m \u001b[0;34m[\u001b[0m\u001b[0mfibonacci_o\u001b[0m\u001b[0;34m(\u001b[0m\u001b[0mn\u001b[0m\u001b[0;34m)\u001b[0m \u001b[0;32mfor\u001b[0m \u001b[0mn\u001b[0m \u001b[0;32min\u001b[0m \u001b[0mrange\u001b[0m\u001b[0;34m(\u001b[0m\u001b[0;36m15\u001b[0m\u001b[0;34m)\u001b[0m\u001b[0;34m]\u001b[0m\u001b[0;34m\u001b[0m\u001b[0;34m\u001b[0m\u001b[0m\n\u001b[0m",
      "\u001b[0;32m<ipython-input-39-ef5fecde17ec>\u001b[0m in \u001b[0;36m<listcomp>\u001b[0;34m(.0)\u001b[0m\n\u001b[0;32m----> 1\u001b[0;31m \u001b[0;34m[\u001b[0m\u001b[0mfibonacci_o\u001b[0m\u001b[0;34m(\u001b[0m\u001b[0mn\u001b[0m\u001b[0;34m)\u001b[0m \u001b[0;32mfor\u001b[0m \u001b[0mn\u001b[0m \u001b[0;32min\u001b[0m \u001b[0mrange\u001b[0m\u001b[0;34m(\u001b[0m\u001b[0;36m15\u001b[0m\u001b[0;34m)\u001b[0m\u001b[0;34m]\u001b[0m\u001b[0;34m\u001b[0m\u001b[0;34m\u001b[0m\u001b[0m\n\u001b[0m",
      "\u001b[0;32m<ipython-input-38-15c3c7c926fe>\u001b[0m in \u001b[0;36mfibonacci_o\u001b[0;34m(n)\u001b[0m\n\u001b[1;32m      2\u001b[0m     \u001b[0;32mif\u001b[0m \u001b[0mn\u001b[0m \u001b[0;32min\u001b[0m \u001b[0;34m{\u001b[0m\u001b[0;36m0\u001b[0m\u001b[0;34m,\u001b[0m \u001b[0;36m1\u001b[0m\u001b[0;34m}\u001b[0m\u001b[0;34m:\u001b[0m  \u001b[0;31m# Base case\u001b[0m\u001b[0;34m\u001b[0m\u001b[0;34m\u001b[0m\u001b[0m\n\u001b[1;32m      3\u001b[0m         \u001b[0;32mreturn\u001b[0m \u001b[0mn\u001b[0m\u001b[0;34m\u001b[0m\u001b[0;34m\u001b[0m\u001b[0m\n\u001b[0;32m----> 4\u001b[0;31m     \u001b[0;32mreturn\u001b[0m \u001b[0mfibonacci_of\u001b[0m\u001b[0;34m(\u001b[0m\u001b[0mn\u001b[0m \u001b[0;34m-\u001b[0m \u001b[0;36m1\u001b[0m\u001b[0;34m)\u001b[0m \u001b[0;34m+\u001b[0m \u001b[0mfibonacci_of\u001b[0m\u001b[0;34m(\u001b[0m\u001b[0mn\u001b[0m \u001b[0;34m-\u001b[0m \u001b[0;36m2\u001b[0m\u001b[0;34m)\u001b[0m  \u001b[0;31m# Recursive case\u001b[0m\u001b[0;34m\u001b[0m\u001b[0;34m\u001b[0m\u001b[0m\n\u001b[0m",
      "\u001b[0;31mNameError\u001b[0m: name 'fibonacci_of' is not defined"
     ]
    }
   ],
   "source": [
    "[fibonacci_o(n) for n in range(15)]"
   ]
  },
  {
   "cell_type": "code",
   "execution_count": 40,
   "id": "cd9985f8",
   "metadata": {},
   "outputs": [
    {
     "data": {
      "text/plain": [
       "[5, 8, 11, 14, 17, 20, 23, 26, 29, 32, 35, 38, 41, 44, 47]"
      ]
     },
     "execution_count": 40,
     "metadata": {},
     "output_type": "execute_result"
    }
   ],
   "source": [
    "def arithmetic_o(n):\n",
    "    if n in{0}:\n",
    "        return 5\n",
    "    return arithmetic_o(n-1) + 3\n",
    "\n",
    "[arithmetic_o(n) for n in range(15)]\n"
   ]
  },
  {
   "cell_type": "code",
   "execution_count": 41,
   "id": "719aaeb2",
   "metadata": {},
   "outputs": [
    {
     "data": {
      "text/plain": [
       "[5.0,\n",
       " 15.0,\n",
       " 45.0,\n",
       " 135.0,\n",
       " 405.0,\n",
       " 1215.0,\n",
       " 3645.0,\n",
       " 10935.0,\n",
       " 32805.0,\n",
       " 98415.0,\n",
       " 295245.0,\n",
       " 885735.0,\n",
       " 2657205.0,\n",
       " 7971615.0]"
      ]
     },
     "execution_count": 41,
     "metadata": {},
     "output_type": "execute_result"
    }
   ],
   "source": [
    "def geometric_o(n):\n",
    "    return 5.0 * pow(3,(n-1))\n",
    "\n",
    "[geometric_o(n) for n in range(1,15)]"
   ]
  },
  {
   "cell_type": "code",
   "execution_count": 42,
   "id": "bd508da7",
   "metadata": {},
   "outputs": [
    {
     "data": {
      "text/plain": [
       "5"
      ]
     },
     "execution_count": 42,
     "metadata": {},
     "output_type": "execute_result"
    }
   ],
   "source": [
    "pow(3,0)* 5"
   ]
  },
  {
   "cell_type": "code",
   "execution_count": 43,
   "id": "3fa890ff",
   "metadata": {},
   "outputs": [
    {
     "data": {
      "text/plain": [
       "range(0, 15)"
      ]
     },
     "execution_count": 43,
     "metadata": {},
     "output_type": "execute_result"
    }
   ],
   "source": [
    "range(15)"
   ]
  },
  {
   "cell_type": "code",
   "execution_count": 44,
   "id": "6723cae6",
   "metadata": {},
   "outputs": [
    {
     "data": {
      "image/png": "[encoded data removed]",
      "text/plain": [
       "<Figure size 432x288 with 1 Axes>"
      ]
     },
     "metadata": {
      "needs_background": "light"
     },
     "output_type": "display_data"
    }
   ],
   "source": [
    "import matplotlib.pyplot as plt\n",
    "import numpy as np\n",
    "from random import randint\n",
    "\n",
    "x = [randint(0, 3600) for p in range(0, 200)]\n",
    "y = [randint(0, 5 * x[p] + x[p] ) for p in range(0, 200)]\n",
    "#y = np.multiply(x,5)\n",
    "\n",
    "plt.scatter(x, y)\n",
    "plt.show()"
   ]
  },
  {
   "cell_type": "code",
   "execution_count": 45,
   "id": "ffcfe02e",
   "metadata": {},
   "outputs": [
    {
     "data": {
      "text/plain": [
       "[8, 1, 2, 3, 7, 3, 3, 8, 4, 5]"
      ]
     },
     "execution_count": 45,
     "metadata": {},
     "output_type": "execute_result"
    }
   ],
   "source": [
    "from random import randint\n",
    "\n",
    "x = [randint(0, 9) for p in range(0, 10)]\n",
    "x"
   ]
  },
  {
   "cell_type": "code",
   "execution_count": 46,
   "id": "ccc47e77",
   "metadata": {},
   "outputs": [
    {
     "data": {
      "image/png": "[encoded data removed]",
      "text/plain": [
       "<Figure size 432x288 with 1 Axes>"
      ]
     },
     "metadata": {
      "needs_background": "light"
     },
     "output_type": "display_data"
    }
   ],
   "source": [
    "import matplotlib.pyplot as plt\n",
    "import numpy as np\n",
    "from random import randint\n",
    "\n",
    "x = [randint(0, 3600) for p in range(0, 200)]\n",
    "y = [randint(100,500) for p in range(0, 200)]\n",
    "#y = np.multiply(x,5)\n",
    "\n",
    "plt.scatter(x, y)\n",
    "plt.show()"
   ]
  },
  {
   "cell_type": "code",
   "execution_count": 47,
   "id": "370f3db3",
   "metadata": {},
   "outputs": [
    {
     "data": {
      "image/png": "[encoded data removed]",
      "text/plain": [
       "<Figure size 432x288 with 1 Axes>"
      ]
     },
     "metadata": {
      "needs_background": "light"
     },
     "output_type": "display_data"
    }
   ],
   "source": [
    "# libraries\n",
    "import matplotlib.pyplot as plt\n",
    "import numpy as np\n",
    "import pandas as pd\n",
    " \n",
    "# Dataset:\n",
    "df=pd.DataFrame({'x': np.random.normal(10, 1.2, 20000), 'y': np.random.normal(10, 1.2, 20000), 'group': np.repeat('A',20000) })\n",
    "tmp1=pd.DataFrame({'x': np.random.normal(14.5, 1.2, 20000), 'y': np.random.normal(14.5, 1.2, 20000), 'group': np.repeat('B',20000) })\n",
    "tmp2=pd.DataFrame({'x': np.random.normal(9.5, 1.5, 20000), 'y': np.random.normal(15.5, 1.5, 20000), 'group': np.repeat('C',20000) })\n",
    "df=df.append(tmp1).append(tmp2)\n",
    " \n",
    "# plot\n",
    "plt.plot( 'x', 'y', \"\", data=df, linestyle='', marker='o')\n",
    "plt.xlabel('Value of X')\n",
    "plt.ylabel('Value of Y')\n",
    "plt.title('Overplotting looks like that:', loc='left')\n",
    "plt.show()"
   ]
  },
  {
   "cell_type": "code",
   "execution_count": 48,
   "id": "f4949a81",
   "metadata": {},
   "outputs": [
    {
     "data": {
      "image/png": "[encoded data removed]",
      "text/plain": [
       "<Figure size 432x288 with 1 Axes>"
      ]
     },
     "metadata": {
      "needs_background": "light"
     },
     "output_type": "display_data"
    }
   ],
   "source": [
    "import matplotlib.pyplot as plt\n",
    "import numpy as np\n",
    "\n",
    "\n",
    "x = [randint(0, 3600) for p in range(0, 1000)]\n",
    "y = np.random.uniform(-1,10,1000)\n",
    "y = [int(y[p]) for p in range(0,1000)]\n",
    "\n",
    "#y = [random.uniform(0,1)  for p in range(0, 200)]\n",
    "#y = np.multiply(x,5)\n",
    "\n",
    "plt.scatter(x, y)\n",
    "plt.show()"
   ]
  },
  {
   "cell_type": "code",
   "execution_count": 49,
   "id": "be0a9076",
   "metadata": {},
   "outputs": [
    {
     "data": {
      "image/png": "[encoded data removed]",
      "text/plain": [
       "<Figure size 432x288 with 1 Axes>"
      ]
     },
     "metadata": {
      "needs_background": "light"
     },
     "output_type": "display_data"
    }
   ],
   "source": [
    "import matplotlib.pyplot as plt\n",
    "import numpy as np\n",
    "\n",
    "\n",
    "x = [randint(0, 3600) for p in range(0, 1000)]\n",
    "y = np.random.uniform(-1,10,1000)\n",
    "y = [int(y[p]) + np.random.randn(1)* 0.08  for p in range(0,1000)]\n",
    "\n",
    "plt.scatter(x, y)\n",
    "plt.show()"
   ]
  },
  {
   "cell_type": "code",
   "execution_count": 50,
   "id": "9e3fdfe1",
   "metadata": {},
   "outputs": [],
   "source": [
    "import pandas as pd  \n",
    "import numpy as np  \n",
    "import matplotlib.pyplot as plt  \n",
    "\n",
    "from sklearn.model_selection import train_test_split \n",
    "from sklearn.linear_model import LinearRegression\n",
    "from sklearn import metrics\n",
    "#%matplotlib inline\n"
   ]
  },
  {
   "cell_type": "code",
   "execution_count": 51,
   "id": "ac2fea3e",
   "metadata": {},
   "outputs": [
    {
     "data": {
      "image/png": "[encoded data removed]",
      "text/plain": [
       "<Figure size 432x288 with 1 Axes>"
      ]
     },
     "metadata": {
      "needs_background": "light"
     },
     "output_type": "display_data"
    }
   ],
   "source": [
    "x = np.arange(0, 200)\n",
    "y = [ 5 * x[p] + ( 100 * np.random.randn(1))  for p in range(0,200)]\n",
    "x = x.reshape(-1,1)\n",
    "\n",
    "plt.scatter(x, y)\n",
    "plt.show()"
   ]
  },
  {
   "cell_type": "code",
   "execution_count": 52,
   "id": "d6678dd4",
   "metadata": {},
   "outputs": [],
   "source": [
    "X_train, X_test, y_train, y_test = train_test_split(x, y, test_size=0.2, random_state=0)"
   ]
  },
  {
   "cell_type": "code",
   "execution_count": 53,
   "id": "8259aa99",
   "metadata": {},
   "outputs": [
    {
     "data": {
      "text/plain": [
       "LinearRegression()"
      ]
     },
     "execution_count": 53,
     "metadata": {},
     "output_type": "execute_result"
    }
   ],
   "source": [
    "regressor = LinearRegression()  \n",
    "regressor.fit(X_train, y_train) #training the model"
   ]
  },
  {
   "cell_type": "code",
   "execution_count": 54,
   "id": "c2b03a10",
   "metadata": {},
   "outputs": [
    {
     "name": "stdout",
     "output_type": "stream",
     "text": [
      "B_x : [[4.90450874]]\n",
      "B_0 : [13.85622803]\n"
     ]
    }
   ],
   "source": [
    "print(\"B_x :\", regressor.coef_)\n",
    "print(\"B_0 :\",regressor.intercept_)"
   ]
  },
  {
   "cell_type": "code",
   "execution_count": 55,
   "id": "3615f468",
   "metadata": {},
   "outputs": [
    {
     "data": {
      "image/png": "[encoded data removed]",
      "text/plain": [
       "<Figure size 432x288 with 1 Axes>"
      ]
     },
     "metadata": {
      "needs_background": "light"
     },
     "output_type": "display_data"
    }
   ],
   "source": [
    "y_pred = regressor.predict(X_test)\n",
    "plt.scatter(X_test, y_test,  color='blue')\n",
    "plt.plot(X_test, y_pred, color='red', linewidth=2)\n",
    "plt.show()\n"
   ]
  },
  {
   "cell_type": "code",
   "execution_count": null,
   "id": "91f2d416",
   "metadata": {},
   "outputs": [],
   "source": []
  },
  {
   "cell_type": "code",
   "execution_count": null,
   "id": "143f0a63",
   "metadata": {},
   "outputs": [],
   "source": []
  },
  {
   "cell_type": "code",
   "execution_count": 56,
   "id": "d3966712",
   "metadata": {},
   "outputs": [
    {
     "data": {
      "image/png": "[encoded data removed]",
      "text/plain": [
       "<Figure size 432x288 with 1 Axes>"
      ]
     },
     "metadata": {
      "needs_background": "light"
     },
     "output_type": "display_data"
    }
   ],
   "source": [
    "plt.scatter(X_test, y_test,  color='blue')\n",
    "plt.plot(X_test, y_pred, color='red', linewidth=2)\n",
    "plt.show()"
   ]
  },
  {
   "cell_type": "code",
   "execution_count": 57,
   "id": "aab74060",
   "metadata": {},
   "outputs": [
    {
     "data": {
      "text/plain": [
       "[array([-200.15336319]),\n",
       " array([-221.48474907]),\n",
       " array([-9.5042865]),\n",
       " array([-98.48970098]),\n",
       " array([-67.0385601]),\n",
       " array([-68.01249677]),\n",
       " array([78.42602435]),\n",
       " array([-74.62461519]),\n",
       " array([-105.48761897]),\n",
       " array([154.87002705]),\n",
       " array([-129.52223599]),\n",
       " array([92.08157698]),\n",
       " array([-152.62671561]),\n",
       " array([123.02777328]),\n",
       " array([-11.21566685]),\n",
       " array([218.98451157]),\n",
       " array([25.23050771]),\n",
       " array([-174.11060493]),\n",
       " array([-64.68406248]),\n",
       " array([167.4610692]),\n",
       " array([53.27176783]),\n",
       " array([47.4460911]),\n",
       " array([-130.36497014]),\n",
       " array([-40.4301328]),\n",
       " array([82.93931728]),\n",
       " array([6.35670275]),\n",
       " array([-82.77540124]),\n",
       " array([53.17579473]),\n",
       " array([63.33947424]),\n",
       " array([12.72854863]),\n",
       " array([-23.13094901]),\n",
       " array([69.18266429]),\n",
       " array([54.54140114]),\n",
       " array([-81.43173203]),\n",
       " array([-105.42088406]),\n",
       " array([91.57457357]),\n",
       " array([-131.46682186]),\n",
       " array([-24.13715175]),\n",
       " array([270.04130107]),\n",
       " array([-71.93734892])]"
      ]
     },
     "execution_count": 57,
     "metadata": {},
     "output_type": "execute_result"
    }
   ],
   "source": [
    "error = [y_test[i] - y_pred[i] for i in range(0, len(y_test))]\n",
    "error"
   ]
  },
  {
   "cell_type": "code",
   "execution_count": 58,
   "id": "630852b7",
   "metadata": {},
   "outputs": [
    {
     "name": "stdout",
     "output_type": "stream",
     "text": [
      "Mean Absolute Error: 93.31822987946882\n",
      "Mean Squared Error: 12617.114571956883\n",
      "Root Mean Squared Error: 112.32593009611308\n"
     ]
    }
   ],
   "source": [
    "print('Mean Absolute Error:', metrics.mean_absolute_error(y_test, y_pred))  \n",
    "print('Mean Squared Error:', metrics.mean_squared_error(y_test, y_pred))  \n",
    "print('Root Mean Squared Error:', np.sqrt(metrics.mean_squared_error(y_test, y_pred)))"
   ]
  },
  {
   "cell_type": "code",
   "execution_count": 59,
   "id": "d4831171",
   "metadata": {},
   "outputs": [
    {
     "ename": "ValueError",
     "evalue": "continuous is not supported",
     "output_type": "error",
     "traceback": [
      "\u001b[0;31m---------------------------------------------------------------------------\u001b[0m",
      "\u001b[0;31mValueError\u001b[0m                                Traceback (most recent call last)",
      "\u001b[0;32m<ipython-input-59-eb27c3a21518>\u001b[0m in \u001b[0;36m<module>\u001b[0;34m\u001b[0m\n\u001b[0;32m----> 1\u001b[0;31m \u001b[0mmetrics\u001b[0m\u001b[0;34m.\u001b[0m\u001b[0maccuracy_score\u001b[0m\u001b[0;34m(\u001b[0m\u001b[0my_test\u001b[0m\u001b[0;34m,\u001b[0m \u001b[0my_pred\u001b[0m\u001b[0;34m)\u001b[0m\u001b[0;34m\u001b[0m\u001b[0;34m\u001b[0m\u001b[0m\n\u001b[0m",
      "\u001b[0;32m/usr/local/lib/python3.6/dist-packages/sklearn/utils/validation.py\u001b[0m in \u001b[0;36minner_f\u001b[0;34m(*args, **kwargs)\u001b[0m\n\u001b[1;32m     61\u001b[0m             \u001b[0mextra_args\u001b[0m \u001b[0;34m=\u001b[0m \u001b[0mlen\u001b[0m\u001b[0;34m(\u001b[0m\u001b[0margs\u001b[0m\u001b[0;34m)\u001b[0m \u001b[0;34m-\u001b[0m \u001b[0mlen\u001b[0m\u001b[0;34m(\u001b[0m\u001b[0mall_args\u001b[0m\u001b[0;34m)\u001b[0m\u001b[0;34m\u001b[0m\u001b[0;34m\u001b[0m\u001b[0m\n\u001b[1;32m     62\u001b[0m             \u001b[0;32mif\u001b[0m \u001b[0mextra_args\u001b[0m \u001b[0;34m<=\u001b[0m \u001b[0;36m0\u001b[0m\u001b[0;34m:\u001b[0m\u001b[0;34m\u001b[0m\u001b[0;34m\u001b[0m\u001b[0m\n\u001b[0;32m---> 63\u001b[0;31m                 \u001b[0;32mreturn\u001b[0m \u001b[0mf\u001b[0m\u001b[0;34m(\u001b[0m\u001b[0;34m*\u001b[0m\u001b[0margs\u001b[0m\u001b[0;34m,\u001b[0m \u001b[0;34m**\u001b[0m\u001b[0mkwargs\u001b[0m\u001b[0;34m)\u001b[0m\u001b[0;34m\u001b[0m\u001b[0;34m\u001b[0m\u001b[0m\n\u001b[0m\u001b[1;32m     64\u001b[0m \u001b[0;34m\u001b[0m\u001b[0m\n\u001b[1;32m     65\u001b[0m             \u001b[0;31m# extra_args > 0\u001b[0m\u001b[0;34m\u001b[0m\u001b[0;34m\u001b[0m\u001b[0;34m\u001b[0m\u001b[0m\n",
      "\u001b[0;32m/usr/local/lib/python3.6/dist-packages/sklearn/metrics/_classification.py\u001b[0m in \u001b[0;36maccuracy_score\u001b[0;34m(y_true, y_pred, normalize, sample_weight)\u001b[0m\n\u001b[1;32m    200\u001b[0m \u001b[0;34m\u001b[0m\u001b[0m\n\u001b[1;32m    201\u001b[0m     \u001b[0;31m# Compute accuracy for each possible representation\u001b[0m\u001b[0;34m\u001b[0m\u001b[0;34m\u001b[0m\u001b[0;34m\u001b[0m\u001b[0m\n\u001b[0;32m--> 202\u001b[0;31m     \u001b[0my_type\u001b[0m\u001b[0;34m,\u001b[0m \u001b[0my_true\u001b[0m\u001b[0;34m,\u001b[0m \u001b[0my_pred\u001b[0m \u001b[0;34m=\u001b[0m \u001b[0m_check_targets\u001b[0m\u001b[0;34m(\u001b[0m\u001b[0my_true\u001b[0m\u001b[0;34m,\u001b[0m \u001b[0my_pred\u001b[0m\u001b[0;34m)\u001b[0m\u001b[0;34m\u001b[0m\u001b[0;34m\u001b[0m\u001b[0m\n\u001b[0m\u001b[1;32m    203\u001b[0m     \u001b[0mcheck_consistent_length\u001b[0m\u001b[0;34m(\u001b[0m\u001b[0my_true\u001b[0m\u001b[0;34m,\u001b[0m \u001b[0my_pred\u001b[0m\u001b[0;34m,\u001b[0m \u001b[0msample_weight\u001b[0m\u001b[0;34m)\u001b[0m\u001b[0;34m\u001b[0m\u001b[0;34m\u001b[0m\u001b[0m\n\u001b[1;32m    204\u001b[0m     \u001b[0;32mif\u001b[0m \u001b[0my_type\u001b[0m\u001b[0;34m.\u001b[0m\u001b[0mstartswith\u001b[0m\u001b[0;34m(\u001b[0m\u001b[0;34m'multilabel'\u001b[0m\u001b[0;34m)\u001b[0m\u001b[0;34m:\u001b[0m\u001b[0;34m\u001b[0m\u001b[0;34m\u001b[0m\u001b[0m\n",
      "\u001b[0;32m/usr/local/lib/python3.6/dist-packages/sklearn/metrics/_classification.py\u001b[0m in \u001b[0;36m_check_targets\u001b[0;34m(y_true, y_pred)\u001b[0m\n\u001b[1;32m     98\u001b[0m     \u001b[0;31m# No metrics support \"multiclass-multioutput\" format\u001b[0m\u001b[0;34m\u001b[0m\u001b[0;34m\u001b[0m\u001b[0;34m\u001b[0m\u001b[0m\n\u001b[1;32m     99\u001b[0m     \u001b[0;32mif\u001b[0m \u001b[0;34m(\u001b[0m\u001b[0my_type\u001b[0m \u001b[0;32mnot\u001b[0m \u001b[0;32min\u001b[0m \u001b[0;34m[\u001b[0m\u001b[0;34m\"binary\"\u001b[0m\u001b[0;34m,\u001b[0m \u001b[0;34m\"multiclass\"\u001b[0m\u001b[0;34m,\u001b[0m \u001b[0;34m\"multilabel-indicator\"\u001b[0m\u001b[0;34m]\u001b[0m\u001b[0;34m)\u001b[0m\u001b[0;34m:\u001b[0m\u001b[0;34m\u001b[0m\u001b[0;34m\u001b[0m\u001b[0m\n\u001b[0;32m--> 100\u001b[0;31m         \u001b[0;32mraise\u001b[0m \u001b[0mValueError\u001b[0m\u001b[0;34m(\u001b[0m\u001b[0;34m\"{0} is not supported\"\u001b[0m\u001b[0;34m.\u001b[0m\u001b[0mformat\u001b[0m\u001b[0;34m(\u001b[0m\u001b[0my_type\u001b[0m\u001b[0;34m)\u001b[0m\u001b[0;34m)\u001b[0m\u001b[0;34m\u001b[0m\u001b[0;34m\u001b[0m\u001b[0m\n\u001b[0m\u001b[1;32m    101\u001b[0m \u001b[0;34m\u001b[0m\u001b[0m\n\u001b[1;32m    102\u001b[0m     \u001b[0;32mif\u001b[0m \u001b[0my_type\u001b[0m \u001b[0;32min\u001b[0m \u001b[0;34m[\u001b[0m\u001b[0;34m\"binary\"\u001b[0m\u001b[0;34m,\u001b[0m \u001b[0;34m\"multiclass\"\u001b[0m\u001b[0;34m]\u001b[0m\u001b[0;34m:\u001b[0m\u001b[0;34m\u001b[0m\u001b[0;34m\u001b[0m\u001b[0m\n",
      "\u001b[0;31mValueError\u001b[0m: continuous is not supported"
     ]
    }
   ],
   "source": [
    "metrics.accuracy_score(y_test, y_pred)"
   ]
  },
  {
   "cell_type": "code",
   "execution_count": 60,
   "id": "31c20aeb",
   "metadata": {},
   "outputs": [
    {
     "data": {
      "image/png": "[encoded data removed]",
      "text/plain": [
       "<Figure size 432x288 with 1 Axes>"
      ]
     },
     "metadata": {
      "needs_background": "light"
     },
     "output_type": "display_data"
    }
   ],
   "source": [
    "gradient = 5\n",
    "intercept = 4\n",
    "x = np.arange(0, 20)\n",
    "y = [ gradient * x[p] + intercept  for p in range(0,20)]\n",
    "x = x.reshape(-1,1)\n",
    "\n",
    "plt.plot(x, y)\n",
    "plt.show()"
   ]
  },
  {
   "cell_type": "code",
   "execution_count": 61,
   "id": "488eaf76",
   "metadata": {},
   "outputs": [
    {
     "name": "stdout",
     "output_type": "stream",
     "text": [
      "[5.]\n"
     ]
    }
   ],
   "source": [
    "run = x[len(x)-1] - x[0]\n",
    "rise = y[len(y)-1] - y[0]\n",
    "gradient = rise/run\n",
    "print(gradient)"
   ]
  },
  {
   "cell_type": "code",
   "execution_count": 62,
   "id": "4922bed7",
   "metadata": {},
   "outputs": [
    {
     "name": "stdout",
     "output_type": "stream",
     "text": [
      "gradient between  0  and  1  is  [5.]\n",
      "gradient between  1  and  2  is  [5.]\n",
      "gradient between  2  and  3  is  [5.]\n",
      "gradient between  3  and  4  is  [5.]\n",
      "gradient between  4  and  5  is  [5.]\n",
      "gradient between  5  and  6  is  [5.]\n",
      "gradient between  6  and  7  is  [5.]\n",
      "gradient between  7  and  8  is  [5.]\n",
      "gradient between  8  and  9  is  [5.]\n",
      "gradient between  9  and  10  is  [5.]\n",
      "gradient between  10  and  11  is  [5.]\n",
      "gradient between  11  and  12  is  [5.]\n",
      "gradient between  12  and  13  is  [5.]\n",
      "gradient between  13  and  14  is  [5.]\n",
      "gradient between  14  and  15  is  [5.]\n",
      "gradient between  15  and  16  is  [5.]\n",
      "gradient between  16  and  17  is  [5.]\n",
      "gradient between  17  and  18  is  [5.]\n",
      "gradient between  18  and  19  is  [5.]\n"
     ]
    }
   ],
   "source": [
    "for i in range(0,19):\n",
    "        run  = x[i+1] - x[i]\n",
    "        rise = y[i+1] - y[i]\n",
    "        gradient = rise/run\n",
    "        print(\"gradient between \", i, \" and \", i+1, \" is \" , gradient)"
   ]
  },
  {
   "cell_type": "code",
   "execution_count": 63,
   "id": "df5b79c8",
   "metadata": {},
   "outputs": [
    {
     "data": {
      "image/png": "[encoded data removed]",
      "text/plain": [
       "<Figure size 432x288 with 1 Axes>"
      ]
     },
     "metadata": {
      "needs_background": "light"
     },
     "output_type": "display_data"
    }
   ],
   "source": [
    "gradient = 5\n",
    "intercept = np.random.uniform(-100,101,1)\n",
    "x = np.arange(0, 20)\n",
    "y = [ gradient * x[p] + intercept  for p in range(0,20)]\n",
    "x = x.reshape(-1,1)\n",
    "\n",
    "plt.plot(x, y)\n",
    "plt.show()"
   ]
  },
  {
   "cell_type": "code",
   "execution_count": 64,
   "id": "33eb4916",
   "metadata": {},
   "outputs": [
    {
     "name": "stdout",
     "output_type": "stream",
     "text": [
      "The y intercept is  [11.46316667]\n",
      "gradient between  0  and  1  is  [5.]\n",
      "gradient between  1  and  2  is  [5.]\n",
      "gradient between  2  and  3  is  [5.]\n",
      "gradient between  3  and  4  is  [5.]\n",
      "gradient between  4  and  5  is  [5.]\n",
      "gradient between  5  and  6  is  [5.]\n",
      "gradient between  6  and  7  is  [5.]\n",
      "gradient between  7  and  8  is  [5.]\n",
      "gradient between  8  and  9  is  [5.]\n",
      "gradient between  9  and  10  is  [5.]\n",
      "gradient between  10  and  11  is  [5.]\n",
      "gradient between  11  and  12  is  [5.]\n",
      "gradient between  12  and  13  is  [5.]\n",
      "gradient between  13  and  14  is  [5.]\n",
      "gradient between  14  and  15  is  [5.]\n",
      "gradient between  15  and  16  is  [5.]\n",
      "gradient between  16  and  17  is  [5.]\n",
      "gradient between  17  and  18  is  [5.]\n",
      "gradient between  18  and  19  is  [5.]\n"
     ]
    }
   ],
   "source": [
    "print(\"The y intercept is \", intercept)\n",
    "for i in range(0,19):\n",
    "        run  = x[i+1] - x[i]\n",
    "        rise = y[i+1] - y[i]\n",
    "        gradient = rise/run\n",
    "        print(\"gradient between \", i, \" and \", i+1, \" is \" , gradient)"
   ]
  },
  {
   "cell_type": "code",
   "execution_count": 65,
   "id": "eb38a2e0",
   "metadata": {},
   "outputs": [
    {
     "data": {
      "text/plain": [
       "[<matplotlib.lines.Line2D at 0x7f779e602390>]"
      ]
     },
     "execution_count": 65,
     "metadata": {},
     "output_type": "execute_result"
    },
    {
     "data": {
      "image/png": "[encoded data removed]",
      "text/plain": [
       "<Figure size 432x288 with 1 Axes>"
      ]
     },
     "metadata": {
      "needs_background": "light"
     },
     "output_type": "display_data"
    }
   ],
   "source": [
    "import matplotlib.pyplot as plt\n",
    "import numpy as np\n",
    "import math\n",
    "x  = np.arange(-10,10, pow(10, -2))\n",
    "y  = [pow(i,3) for i in x]\n",
    "plt.plot(x,y)"
   ]
  },
  {
   "cell_type": "code",
   "execution_count": 66,
   "id": "8ddf6ba9",
   "metadata": {},
   "outputs": [
    {
     "data": {
      "text/plain": [
       "[<matplotlib.lines.Line2D at 0x7f779e573da0>]"
      ]
     },
     "execution_count": 66,
     "metadata": {},
     "output_type": "execute_result"
    },
    {
     "data": {
      "image/png": "[encoded data removed]",
      "text/plain": [
       "<Figure size 432x288 with 1 Axes>"
      ]
     },
     "metadata": {
      "needs_background": "light"
     },
     "output_type": "display_data"
    }
   ],
   "source": [
    "import matplotlib.pyplot as plt\n",
    "import numpy as np\n",
    "import math\n",
    "\n",
    "y_d  = [3*pow(x_value,2) for x_value in x]\n",
    "\n",
    "plt.plot(x, y_d)"
   ]
  },
  {
   "cell_type": "code",
   "execution_count": 67,
   "id": "fd6755ff",
   "metadata": {},
   "outputs": [
    {
     "data": {
      "text/plain": [
       "[-9.98, -9.900000000000002, -9.820000000000004]"
      ]
     },
     "execution_count": 67,
     "metadata": {},
     "output_type": "execute_result"
    }
   ],
   "source": [
    "values = [x[2], x[10], x[18]]\n",
    "\n",
    "values"
   ]
  },
  {
   "cell_type": "code",
   "execution_count": 68,
   "id": "368503ba",
   "metadata": {},
   "outputs": [
    {
     "name": "stdout",
     "output_type": "stream",
     "text": [
      "===== The gradient when x is  -9.98  =====\n",
      "rate of change between  -9.98  and  -8.98  is  -56.87999999999994\n",
      "rate of change between  -9.98  and  -9.88  is  -59.5799999999997\n",
      "rate of change between  -9.98  and  -9.97  is  -59.84999999999445\n",
      "rate of change between  -9.98  and  -9.979000000000001  is  -59.876999999914915\n",
      "rate of change between  -9.98  and  -9.9799  is  -59.87969999978304\n",
      "rate of change between  -9.98  and  -9.97999  is  -59.87996999010647\n",
      "rate of change between  -9.98  and  -9.979999000000001  is  -59.87999691114965\n",
      "rate of change between  -9.98  and  -9.979999900000001  is  -59.87999884382589\n",
      "rate of change between  -9.98  and  -9.97999999  is  -59.879999980694265\n",
      "rate of change between  -9.98  and  -9.979999999  is  -59.87999429635237\n",
      "rate of change between  -9.98  and  -9.9799999999  is  -59.87999429635238\n",
      "rate of change between  -9.98  and  -9.979999999990001  is  -59.86748874420301\n",
      "rate of change between  -9.98  and  -9.979999999999  is  -59.85612006043084\n",
      "rate of change between  -9.98  and  -9.979999999999901  is  -59.117155615240335\n",
      "===== The gradient when x is  -9.900000000000002  =====\n",
      "rate of change between  -9.900000000000002  and  -8.900000000000002  is  -56.400000000000034\n",
      "rate of change between  -9.900000000000002  and  -9.800000000000002  is  -59.10000000000025\n",
      "rate of change between  -9.900000000000002  and  -9.890000000000002  is  -59.370000000001255\n",
      "rate of change between  -9.900000000000002  and  -9.899000000000003  is  -59.39699999998993\n",
      "rate of change between  -9.900000000000002  and  -9.899900000000002  is  -59.39969999985806\n",
      "rate of change between  -9.900000000000002  and  -9.899990000000003  is  -59.399970001550166\n",
      "rate of change between  -9.900000000000002  and  -9.899999000000003  is  -59.399996985121106\n",
      "rate of change between  -9.900000000000002  and  -9.899999900000003  is  -59.3999993725447\n",
      "rate of change between  -9.900000000000002  and  -9.899999990000001  is  -59.400008467491716\n",
      "rate of change between  -9.900000000000002  and  -9.899999999000002  is  -59.40006531091057\n",
      "rate of change between  -9.900000000000002  and  -9.899999999900002  is  -59.40023584116716\n",
      "rate of change between  -9.900000000000002  and  -9.899999999990003  is  -59.3956883676583\n",
      "rate of change between  -9.900000000000002  and  -9.899999999999002  is  -59.401372709544376\n",
      "rate of change between  -9.900000000000002  and  -9.899999999999903  is  -59.117155615240335\n",
      "===== The gradient when x is  -9.820000000000004  =====\n",
      "rate of change between  -9.820000000000004  and  -8.820000000000004  is  -55.91999999999999\n",
      "rate of change between  -9.820000000000004  and  -9.720000000000004  is  -58.61999999999966\n",
      "rate of change between  -9.820000000000004  and  -9.810000000000004  is  -58.88999999999669\n",
      "rate of change between  -9.820000000000004  and  -9.819000000000004  is  -58.91699999995126\n",
      "rate of change between  -9.820000000000004  and  -9.819900000000004  is  -58.91969999993307\n",
      "rate of change between  -9.820000000000004  and  -9.819990000000004  is  -58.91996999594084\n",
      "rate of change between  -9.820000000000004  and  -9.819999000000005  is  -58.91999694540573\n",
      "rate of change between  -9.820000000000004  and  -9.819999900000004  is  -58.91999933282932\n",
      "rate of change between  -9.820000000000004  and  -9.819999990000003  is  -58.91999990126351\n",
      "rate of change between  -9.820000000000004  and  -9.819999999000004  is  -58.919965795212185\n",
      "rate of change between  -9.820000000000004  and  -9.819999999900004  is  -58.91990895179333\n",
      "rate of change between  -9.820000000000004  and  -9.819999999990005  is  -58.912519307341434\n",
      "rate of change between  -9.820000000000004  and  -9.819999999999004  is  -58.8897819397971\n",
      "rate of change between  -9.820000000000004  and  -9.819999999999904  is  -57.980287238024175\n"
     ]
    }
   ],
   "source": [
    "             \n",
    "for value in values:\n",
    "    print(\"===== The gradient when x is \", value, \" =====\") \n",
    "    for power in range(0,14):\n",
    "        increase = 1/pow(10,power)\n",
    "        run = increase\n",
    "        rise =  (3 * pow(value + increase, 2)) - (3 * pow(value, 2))\n",
    "        gradient = rise/run\n",
    "        print(\"rate of change between \", value, \" and \", value + increase, \" is \" , gradient)"
   ]
  },
  {
   "cell_type": "code",
   "execution_count": 69,
   "id": "b839f815",
   "metadata": {},
   "outputs": [
    {
     "data": {
      "text/plain": [
       "[<matplotlib.lines.Line2D at 0x7f779a47e518>]"
      ]
     },
     "execution_count": 69,
     "metadata": {},
     "output_type": "execute_result"
    },
    {
     "data": {
      "image/png": "[encoded data removed]",
      "text/plain": [
       "<Figure size 432x288 with 1 Axes>"
      ]
     },
     "metadata": {
      "needs_background": "light"
     },
     "output_type": "display_data"
    }
   ],
   "source": [
    "import matplotlib.pyplot as plt\n",
    "import numpy as np\n",
    "import math\n",
    "x  = np.arange(-10,11,pow(10,-5))\n",
    "y  = [(math.exp(-i))/(pow(1 + (math.exp(-i)),2)) for i in x]\n",
    "plt.plot(x,y)"
   ]
  },
  {
   "cell_type": "code",
   "execution_count": 70,
   "id": "909d67bd",
   "metadata": {},
   "outputs": [
    {
     "data": {
      "text/plain": [
       "array([4.53978687e-05, 4.53979141e-05, 4.53979595e-05, ...,\n",
       "       9.99983299e-01, 9.99983299e-01, 9.99983299e-01])"
      ]
     },
     "execution_count": 70,
     "metadata": {},
     "output_type": "execute_result"
    },
    {
     "data": {
      "image/png": "[encoded data removed]",
      "text/plain": [
       "<Figure size 432x288 with 1 Axes>"
      ]
     },
     "metadata": {
      "needs_background": "light"
     },
     "output_type": "display_data"
    }
   ],
   "source": [
    "import matplotlib.pyplot as plt\n",
    "import numpy as np\n",
    "x = np.arange(-10, 11, 0.000001)\n",
    "y = 1/(1+np.exp(-x))\n",
    "plt.plot(x,y)\n",
    "y\n",
    "\n",
    "\n"
   ]
  },
  {
   "cell_type": "code",
   "execution_count": 71,
   "id": "cba0bc0a",
   "metadata": {},
   "outputs": [
    {
     "data": {
      "text/plain": [
       "0.5"
      ]
     },
     "execution_count": 71,
     "metadata": {},
     "output_type": "execute_result"
    }
   ],
   "source": [
    "1/(1+np.exp(-0))\n"
   ]
  },
  {
   "cell_type": "code",
   "execution_count": 72,
   "id": "4b5073c1",
   "metadata": {},
   "outputs": [
    {
     "data": {
      "text/plain": [
       "0.2"
      ]
     },
     "execution_count": 72,
     "metadata": {},
     "output_type": "execute_result"
    }
   ],
   "source": [
    "math.exp(0)/(1 + pow(math.exp(0)+1,2))"
   ]
  },
  {
   "cell_type": "code",
   "execution_count": 73,
   "id": "57c2f28e",
   "metadata": {},
   "outputs": [
    {
     "data": {
      "image/png": "[encoded data removed]",
      "text/plain": [
       "<Figure size 432x288 with 1 Axes>"
      ]
     },
     "metadata": {
      "needs_background": "light"
     },
     "output_type": "display_data"
    },
    {
     "name": "stdout",
     "output_type": "stream",
     "text": [
      "[[1.         0.03701685]\n",
      " [0.03701685 1.        ]]\n"
     ]
    }
   ],
   "source": [
    "import numpy as np \n",
    "import matplotlib.pyplot as plt\n",
    "import random\n",
    "import math\n",
    "x = np.arange(0, 200)\n",
    "y = [ np.random.randn(1)* x[p]  for p in range(0,200)]\n",
    "x = x.reshape(-1,1)\n",
    "\n",
    "plt.scatter(x, y)\n",
    "plt.show()\n",
    "\n",
    "print(np.corrcoef(x, y,rowvar=False))\n",
    "\n"
   ]
  },
  {
   "cell_type": "code",
   "execution_count": 74,
   "id": "ae0075da",
   "metadata": {},
   "outputs": [
    {
     "data": {
      "image/png": "[encoded data removed]",
      "text/plain": [
       "<Figure size 432x288 with 1 Axes>"
      ]
     },
     "metadata": {
      "needs_background": "light"
     },
     "output_type": "display_data"
    },
    {
     "name": "stdout",
     "output_type": "stream",
     "text": [
      "[[1.         0.95433039]\n",
      " [0.95433039 1.        ]]\n"
     ]
    },
    {
     "data": {
      "text/plain": [
       "0.9543303942680158"
      ]
     },
     "execution_count": 74,
     "metadata": {},
     "output_type": "execute_result"
    }
   ],
   "source": [
    "import numpy as np \n",
    "import matplotlib.pyplot as plt\n",
    "import random\n",
    "x = np.arange(0, 200)\n",
    "y = [5 * x[p] + ( 100 * np.random.randn(1))  for p in range(0,200)]\n",
    "x = x.reshape(-1,1)\n",
    "\n",
    "plt.scatter(x, y)\n",
    "plt.show()\n",
    "\n",
    "print(np.corrcoef(x, y,rowvar=False))\n",
    "\n",
    "x_mean = np.mean(x)\n",
    "y_mean = np.mean(y)\n",
    "\n",
    "product_diff = [(x[i] - x_mean) * (y[i] - y_mean) for i in range(0, 200)]\n",
    "sum_product_diff = np.sum(product_diff)\n",
    "sum_product_diff\n",
    "\n",
    "diff_square_x = [pow(x[i] - x_mean,2) for i in range(0, 200)]\n",
    "sum_diff_square_x = np.sum(diff_square_x)\n",
    "diff_square_y = [pow(y[i] - y_mean,2) for i in range(0, 200)]\n",
    "sum_diff_square_y = np.sum(diff_square_y)\n",
    "\n",
    "pearson_coeff = sum_product_diff / (math.sqrt(sum_diff_square_x) * math.sqrt(sum_diff_square_y))\n",
    "pearson_coeff"
   ]
  },
  {
   "cell_type": "code",
   "execution_count": 75,
   "id": "0ba54bc8",
   "metadata": {},
   "outputs": [],
   "source": [
    "import pandas as pd  \n",
    "import numpy as np  \n",
    "import matplotlib.pyplot as plt  \n",
    "\n",
    "from sklearn.model_selection import train_test_split \n",
    "from sklearn.linear_model import LinearRegression\n",
    "from sklearn import metrics\n",
    "#%matplotlib inline"
   ]
  },
  {
   "cell_type": "code",
   "execution_count": 76,
   "id": "3ccfdf90",
   "metadata": {},
   "outputs": [
    {
     "data": {
      "image/png": "[encoded data removed]",
      "text/plain": [
       "<Figure size 432x288 with 1 Axes>"
      ]
     },
     "metadata": {
      "needs_background": "light"
     },
     "output_type": "display_data"
    }
   ],
   "source": [
    "x = np.arange(0, 200)\n",
    "y = [ 5 * x[p] + ( 100 * np.random.randn(1))  for p in range(0,200)]\n",
    "x = x.reshape(-1,1)\n",
    "\n",
    "plt.scatter(x, y)\n",
    "plt.show()"
   ]
  },
  {
   "cell_type": "code",
   "execution_count": 77,
   "id": "6ed32ee9",
   "metadata": {},
   "outputs": [
    {
     "data": {
      "image/png": "[encoded data removed]",
      "text/plain": [
       "<Figure size 432x288 with 1 Axes>"
      ]
     },
     "metadata": {
      "needs_background": "light"
     },
     "output_type": "display_data"
    }
   ],
   "source": [
    "# Step 1: Import packages, functions, and classes\n",
    "import numpy as np\n",
    "from sklearn.linear_model import LogisticRegression\n",
    "from sklearn.model_selection import train_test_split \n",
    "from sklearn.metrics import classification_report, confusion_matrix\n",
    "from scipy.special import expit\n",
    "import random\n",
    "\n",
    "# Step 2: Get data\n",
    "x = np.arange(0, 200)\n",
    "x = x.reshape(-1,1)\n",
    "y_1 = [round(random.uniform(0,0.5))  for p in range(0,80)]\n",
    "y_2 = [round(random.uniform(0.4,1))  for p in range(0,20)]\n",
    "y_3 = [round(random.uniform(0.5,1))  for p in range(0,80)]\n",
    "y_4 = [round(random.uniform(0.4,1))  for p in range(0,20)]\n",
    "y = np.concatenate((y_1, y_2, y_3, y_4))\n",
    "plt.scatter(x, y)\n",
    "plt.show()\n",
    "\n"
   ]
  },
  {
   "cell_type": "code",
   "execution_count": 78,
   "id": "816f6ce2",
   "metadata": {},
   "outputs": [
    {
     "data": {
      "text/plain": [
       "array([[134],\n",
       "       [ 66],\n",
       "       [ 26],\n",
       "       [113],\n",
       "       [168],\n",
       "       [ 63],\n",
       "       [  8],\n",
       "       [ 75],\n",
       "       [118],\n",
       "       [143],\n",
       "       [ 71],\n",
       "       [124],\n",
       "       [184],\n",
       "       [ 97],\n",
       "       [149],\n",
       "       [ 24],\n",
       "       [ 30],\n",
       "       [160],\n",
       "       [ 40],\n",
       "       [ 56],\n",
       "       [131],\n",
       "       [ 96],\n",
       "       [181],\n",
       "       [ 19],\n",
       "       [153],\n",
       "       [ 92],\n",
       "       [ 54],\n",
       "       [163],\n",
       "       [ 51],\n",
       "       [ 86],\n",
       "       [139],\n",
       "       [ 90],\n",
       "       [137],\n",
       "       [101],\n",
       "       [144],\n",
       "       [ 89],\n",
       "       [109],\n",
       "       [ 14],\n",
       "       [ 27],\n",
       "       [141],\n",
       "       [187],\n",
       "       [ 46],\n",
       "       [138],\n",
       "       [195],\n",
       "       [108],\n",
       "       [ 62],\n",
       "       [  2],\n",
       "       [ 59],\n",
       "       [136],\n",
       "       [197],\n",
       "       [ 43],\n",
       "       [ 10],\n",
       "       [194],\n",
       "       [ 73],\n",
       "       [196],\n",
       "       [178],\n",
       "       [175],\n",
       "       [126],\n",
       "       [ 93],\n",
       "       [112],\n",
       "       [158],\n",
       "       [191],\n",
       "       [ 50],\n",
       "       [  0],\n",
       "       [ 94],\n",
       "       [110],\n",
       "       [ 95],\n",
       "       [ 64],\n",
       "       [167],\n",
       "       [ 41],\n",
       "       [ 69],\n",
       "       [ 49],\n",
       "       [ 48],\n",
       "       [ 85],\n",
       "       [ 13],\n",
       "       [161],\n",
       "       [ 23],\n",
       "       [186],\n",
       "       [135],\n",
       "       [ 20],\n",
       "       [ 15],\n",
       "       [ 78],\n",
       "       [104],\n",
       "       [ 52],\n",
       "       [100],\n",
       "       [ 76],\n",
       "       [  3],\n",
       "       [116],\n",
       "       [164],\n",
       "       [198],\n",
       "       [  6],\n",
       "       [ 68],\n",
       "       [ 84],\n",
       "       [121],\n",
       "       [155],\n",
       "       [171],\n",
       "       [156],\n",
       "       [ 91],\n",
       "       [199],\n",
       "       [ 11],\n",
       "       [119],\n",
       "       [102],\n",
       "       [ 35],\n",
       "       [ 57],\n",
       "       [ 65],\n",
       "       [  1],\n",
       "       [120],\n",
       "       [162],\n",
       "       [ 42],\n",
       "       [105],\n",
       "       [132],\n",
       "       [173],\n",
       "       [ 17],\n",
       "       [ 38],\n",
       "       [133],\n",
       "       [ 53],\n",
       "       [157],\n",
       "       [128],\n",
       "       [ 34],\n",
       "       [ 28],\n",
       "       [114],\n",
       "       [151],\n",
       "       [ 31],\n",
       "       [166],\n",
       "       [127],\n",
       "       [176],\n",
       "       [ 32],\n",
       "       [142],\n",
       "       [169],\n",
       "       [147],\n",
       "       [ 29],\n",
       "       [ 99],\n",
       "       [ 82],\n",
       "       [ 79],\n",
       "       [115],\n",
       "       [148],\n",
       "       [193],\n",
       "       [ 72],\n",
       "       [ 77],\n",
       "       [ 25],\n",
       "       [165],\n",
       "       [ 81],\n",
       "       [188],\n",
       "       [174],\n",
       "       [190],\n",
       "       [ 39],\n",
       "       [ 58],\n",
       "       [140],\n",
       "       [ 88],\n",
       "       [ 70],\n",
       "       [ 87],\n",
       "       [ 36],\n",
       "       [ 21],\n",
       "       [  9],\n",
       "       [103],\n",
       "       [ 67],\n",
       "       [192],\n",
       "       [117],\n",
       "       [ 47],\n",
       "       [172]])"
      ]
     },
     "execution_count": 78,
     "metadata": {},
     "output_type": "execute_result"
    }
   ],
   "source": [
    "X_train, X_test, y_train, y_test = train_test_split(x, y, test_size=0.2, random_state=0)\n",
    "X_train"
   ]
  },
  {
   "cell_type": "code",
   "execution_count": 1,
   "id": "7d28b3e8",
   "metadata": {},
   "outputs": [
    {
     "ename": "NameError",
     "evalue": "name 'LogisticRegression' is not defined",
     "output_type": "error",
     "traceback": [
      "\u001b[0;31m---------------------------------------------------------------------------\u001b[0m",
      "\u001b[0;31mNameError\u001b[0m                                 Traceback (most recent call last)",
      "\u001b[0;32m<ipython-input-1-3430fc0b4efe>\u001b[0m in \u001b[0;36m<module>\u001b[0;34m\u001b[0m\n\u001b[1;32m      1\u001b[0m \u001b[0;31m# Step 3: Create a model and train it\u001b[0m\u001b[0;34m\u001b[0m\u001b[0;34m\u001b[0m\u001b[0;34m\u001b[0m\u001b[0m\n\u001b[0;32m----> 2\u001b[0;31m \u001b[0mmodel\u001b[0m \u001b[0;34m=\u001b[0m \u001b[0mLogisticRegression\u001b[0m\u001b[0;34m(\u001b[0m\u001b[0msolver\u001b[0m\u001b[0;34m=\u001b[0m\u001b[0;34m'liblinear'\u001b[0m\u001b[0;34m,\u001b[0m \u001b[0mC\u001b[0m\u001b[0;34m=\u001b[0m\u001b[0;36m10.0\u001b[0m\u001b[0;34m,\u001b[0m \u001b[0mrandom_state\u001b[0m\u001b[0;34m=\u001b[0m\u001b[0;36m0\u001b[0m\u001b[0;34m)\u001b[0m\u001b[0;34m\u001b[0m\u001b[0;34m\u001b[0m\u001b[0m\n\u001b[0m\u001b[1;32m      3\u001b[0m \u001b[0mmodel\u001b[0m\u001b[0;34m.\u001b[0m\u001b[0mfit\u001b[0m\u001b[0;34m(\u001b[0m\u001b[0mX_train\u001b[0m\u001b[0;34m,\u001b[0m \u001b[0my_train\u001b[0m\u001b[0;34m)\u001b[0m\u001b[0;34m\u001b[0m\u001b[0;34m\u001b[0m\u001b[0m\n\u001b[1;32m      4\u001b[0m \u001b[0;34m\u001b[0m\u001b[0m\n\u001b[1;32m      5\u001b[0m \u001b[0;34m\u001b[0m\u001b[0m\n",
      "\u001b[0;31mNameError\u001b[0m: name 'LogisticRegression' is not defined"
     ]
    }
   ],
   "source": [
    "# Step 3: Create a model and train it\n",
    "model = LogisticRegression(solver='liblinear', C=10.0, random_state=0)\n",
    "model.fit(X_train, y_train)\n",
    "\n",
    "\n",
    "# Step 4: Evaluate the model\n",
    "p_pred = model.predict_proba(X_test)\n",
    "y_pred = model.predict(X_test)\n",
    "score_ = model.score(X_test, y_test )\n",
    "conf_m = confusion_matrix(y_test, y_pred)\n",
    "report = classification_report(y_test, y_pred)"
   ]
  },
  {
   "cell_type": "code",
   "execution_count": 80,
   "id": "fcb734f4",
   "metadata": {},
   "outputs": [
    {
     "name": "stdout",
     "output_type": "stream",
     "text": [
      "B_0: [-9.12740989]\n",
      "B_x: [[0.10637062]]\n",
      "model score:  0.975\n",
      "confusion matrix : \n",
      "[[16  0]\n",
      " [ 1 23]]\n",
      "              precision    recall  f1-score   support\n",
      "\n",
      "           0       0.94      1.00      0.97        16\n",
      "           1       1.00      0.96      0.98        24\n",
      "\n",
      "    accuracy                           0.97        40\n",
      "   macro avg       0.97      0.98      0.97        40\n",
      "weighted avg       0.98      0.97      0.98        40\n",
      "\n"
     ]
    }
   ],
   "source": [
    "print(\"B_0:\", model.intercept_)\n",
    "print(\"B_x:\" , model.coef_)\n",
    "print(\"model score: \", score_)\n",
    "print(\"confusion matrix : \")\n",
    "print(conf_m)\n",
    "print(report)"
   ]
  },
  {
   "cell_type": "code",
   "execution_count": 81,
   "id": "502f7bc6",
   "metadata": {},
   "outputs": [
    {
     "data": {
      "text/plain": [
       "0.975"
      ]
     },
     "execution_count": 81,
     "metadata": {},
     "output_type": "execute_result"
    }
   ],
   "source": [
    "score_"
   ]
  },
  {
   "cell_type": "code",
   "execution_count": 12,
   "id": "0a44c979",
   "metadata": {},
   "outputs": [
    {
     "name": "stdout",
     "output_type": "stream",
     "text": [
      "accuracy    :  0.975\n",
      "Precision 0 :  0.9411764705882353\n",
      "Precision 1 :  1.0\n",
      "Recall    0 :  1.0\n",
      "Recall    1 :  0.9583333333333334\n"
     ]
    }
   ],
   "source": [
    "print(\"accuracy    : \", (16+23)/(16+23+1+0))\n",
    "print(\"Precision 0 : \", 16/(16+1))\n",
    "print(\"Precision 1 : \", 23/(23+0))\n",
    "print(\"Recall    0 : \", 16/(16+0))\n",
    "print(\"Recall    1 : \", 23/(23+1))\n"
   ]
  },
  {
   "cell_type": "code",
   "execution_count": 70,
   "id": "6b0d369c",
   "metadata": {},
   "outputs": [
    {
     "data": {
      "text/plain": [
       "array([[15,  2],\n",
       "       [ 2, 21]])"
      ]
     },
     "execution_count": 70,
     "metadata": {},
     "output_type": "execute_result"
    }
   ],
   "source": [
    "conf_m \n",
    "print(\"Precision 0 : \", 16/(16+23))\n",
    "print(\"Precision 1 : \", 23/(23+0))"
   ]
  },
  {
   "cell_type": "code",
   "execution_count": 71,
   "id": "e27efe77",
   "metadata": {},
   "outputs": [
    {
     "ename": "ValueError",
     "evalue": "Found input variables with inconsistent numbers of samples: [200, 40]",
     "output_type": "error",
     "traceback": [
      "\u001b[0;31m---------------------------------------------------------------------------\u001b[0m",
      "\u001b[0;31mValueError\u001b[0m                                Traceback (most recent call last)",
      "\u001b[0;32m<ipython-input-71-ea5ab015b60c>\u001b[0m in \u001b[0;36m<module>\u001b[0;34m\u001b[0m\n\u001b[0;32m----> 1\u001b[0;31m \u001b[0mreport\u001b[0m \u001b[0;34m=\u001b[0m \u001b[0mclassification_report\u001b[0m\u001b[0;34m(\u001b[0m\u001b[0my\u001b[0m\u001b[0;34m,\u001b[0m \u001b[0my_pred\u001b[0m\u001b[0;34m)\u001b[0m\u001b[0;34m\u001b[0m\u001b[0;34m\u001b[0m\u001b[0m\n\u001b[0m",
      "\u001b[0;32m/usr/local/lib/python3.6/dist-packages/sklearn/utils/validation.py\u001b[0m in \u001b[0;36minner_f\u001b[0;34m(*args, **kwargs)\u001b[0m\n\u001b[1;32m     61\u001b[0m             \u001b[0mextra_args\u001b[0m \u001b[0;34m=\u001b[0m \u001b[0mlen\u001b[0m\u001b[0;34m(\u001b[0m\u001b[0margs\u001b[0m\u001b[0;34m)\u001b[0m \u001b[0;34m-\u001b[0m \u001b[0mlen\u001b[0m\u001b[0;34m(\u001b[0m\u001b[0mall_args\u001b[0m\u001b[0;34m)\u001b[0m\u001b[0;34m\u001b[0m\u001b[0;34m\u001b[0m\u001b[0m\n\u001b[1;32m     62\u001b[0m             \u001b[0;32mif\u001b[0m \u001b[0mextra_args\u001b[0m \u001b[0;34m<=\u001b[0m \u001b[0;36m0\u001b[0m\u001b[0;34m:\u001b[0m\u001b[0;34m\u001b[0m\u001b[0;34m\u001b[0m\u001b[0m\n\u001b[0;32m---> 63\u001b[0;31m                 \u001b[0;32mreturn\u001b[0m \u001b[0mf\u001b[0m\u001b[0;34m(\u001b[0m\u001b[0;34m*\u001b[0m\u001b[0margs\u001b[0m\u001b[0;34m,\u001b[0m \u001b[0;34m**\u001b[0m\u001b[0mkwargs\u001b[0m\u001b[0;34m)\u001b[0m\u001b[0;34m\u001b[0m\u001b[0;34m\u001b[0m\u001b[0m\n\u001b[0m\u001b[1;32m     64\u001b[0m \u001b[0;34m\u001b[0m\u001b[0m\n\u001b[1;32m     65\u001b[0m             \u001b[0;31m# extra_args > 0\u001b[0m\u001b[0;34m\u001b[0m\u001b[0;34m\u001b[0m\u001b[0;34m\u001b[0m\u001b[0m\n",
      "\u001b[0;32m/usr/local/lib/python3.6/dist-packages/sklearn/metrics/_classification.py\u001b[0m in \u001b[0;36mclassification_report\u001b[0;34m(y_true, y_pred, labels, target_names, sample_weight, digits, output_dict, zero_division)\u001b[0m\n\u001b[1;32m   1968\u001b[0m     \"\"\"\n\u001b[1;32m   1969\u001b[0m \u001b[0;34m\u001b[0m\u001b[0m\n\u001b[0;32m-> 1970\u001b[0;31m     \u001b[0my_type\u001b[0m\u001b[0;34m,\u001b[0m \u001b[0my_true\u001b[0m\u001b[0;34m,\u001b[0m \u001b[0my_pred\u001b[0m \u001b[0;34m=\u001b[0m \u001b[0m_check_targets\u001b[0m\u001b[0;34m(\u001b[0m\u001b[0my_true\u001b[0m\u001b[0;34m,\u001b[0m \u001b[0my_pred\u001b[0m\u001b[0;34m)\u001b[0m\u001b[0;34m\u001b[0m\u001b[0;34m\u001b[0m\u001b[0m\n\u001b[0m\u001b[1;32m   1971\u001b[0m \u001b[0;34m\u001b[0m\u001b[0m\n\u001b[1;32m   1972\u001b[0m     \u001b[0;32mif\u001b[0m \u001b[0mlabels\u001b[0m \u001b[0;32mis\u001b[0m \u001b[0;32mNone\u001b[0m\u001b[0;34m:\u001b[0m\u001b[0;34m\u001b[0m\u001b[0;34m\u001b[0m\u001b[0m\n",
      "\u001b[0;32m/usr/local/lib/python3.6/dist-packages/sklearn/metrics/_classification.py\u001b[0m in \u001b[0;36m_check_targets\u001b[0;34m(y_true, y_pred)\u001b[0m\n\u001b[1;32m     81\u001b[0m     \u001b[0my_pred\u001b[0m \u001b[0;34m:\u001b[0m \u001b[0marray\u001b[0m \u001b[0;32mor\u001b[0m \u001b[0mindicator\u001b[0m \u001b[0mmatrix\u001b[0m\u001b[0;34m\u001b[0m\u001b[0;34m\u001b[0m\u001b[0m\n\u001b[1;32m     82\u001b[0m     \"\"\"\n\u001b[0;32m---> 83\u001b[0;31m     \u001b[0mcheck_consistent_length\u001b[0m\u001b[0;34m(\u001b[0m\u001b[0my_true\u001b[0m\u001b[0;34m,\u001b[0m \u001b[0my_pred\u001b[0m\u001b[0;34m)\u001b[0m\u001b[0;34m\u001b[0m\u001b[0;34m\u001b[0m\u001b[0m\n\u001b[0m\u001b[1;32m     84\u001b[0m     \u001b[0mtype_true\u001b[0m \u001b[0;34m=\u001b[0m \u001b[0mtype_of_target\u001b[0m\u001b[0;34m(\u001b[0m\u001b[0my_true\u001b[0m\u001b[0;34m)\u001b[0m\u001b[0;34m\u001b[0m\u001b[0;34m\u001b[0m\u001b[0m\n\u001b[1;32m     85\u001b[0m     \u001b[0mtype_pred\u001b[0m \u001b[0;34m=\u001b[0m \u001b[0mtype_of_target\u001b[0m\u001b[0;34m(\u001b[0m\u001b[0my_pred\u001b[0m\u001b[0;34m)\u001b[0m\u001b[0;34m\u001b[0m\u001b[0;34m\u001b[0m\u001b[0m\n",
      "\u001b[0;32m/usr/local/lib/python3.6/dist-packages/sklearn/utils/validation.py\u001b[0m in \u001b[0;36mcheck_consistent_length\u001b[0;34m(*arrays)\u001b[0m\n\u001b[1;32m    318\u001b[0m     \u001b[0;32mif\u001b[0m \u001b[0mlen\u001b[0m\u001b[0;34m(\u001b[0m\u001b[0muniques\u001b[0m\u001b[0;34m)\u001b[0m \u001b[0;34m>\u001b[0m \u001b[0;36m1\u001b[0m\u001b[0;34m:\u001b[0m\u001b[0;34m\u001b[0m\u001b[0;34m\u001b[0m\u001b[0m\n\u001b[1;32m    319\u001b[0m         raise ValueError(\"Found input variables with inconsistent numbers of\"\n\u001b[0;32m--> 320\u001b[0;31m                          \" samples: %r\" % [int(l) for l in lengths])\n\u001b[0m\u001b[1;32m    321\u001b[0m \u001b[0;34m\u001b[0m\u001b[0m\n\u001b[1;32m    322\u001b[0m \u001b[0;34m\u001b[0m\u001b[0m\n",
      "\u001b[0;31mValueError\u001b[0m: Found input variables with inconsistent numbers of samples: [200, 40]"
     ]
    }
   ],
   "source": [
    "report = classification_report(y, y_pred)"
   ]
  },
  {
   "cell_type": "code",
   "execution_count": null,
   "id": "d2ca42d9",
   "metadata": {},
   "outputs": [],
   "source": []
  },
  {
   "cell_type": "code",
   "execution_count": 72,
   "id": "97024682",
   "metadata": {},
   "outputs": [
    {
     "data": {
      "text/plain": [
       "<matplotlib.collections.PathCollection at 0x7fb2e2ae5588>"
      ]
     },
     "execution_count": 72,
     "metadata": {},
     "output_type": "execute_result"
    },
    {
     "data": {
      "image/png": "[encoded data removed]",
      "text/plain": [
       "<Figure size 432x288 with 1 Axes>"
      ]
     },
     "metadata": {
      "needs_background": "light"
     },
     "output_type": "display_data"
    }
   ],
   "source": [
    "plt.scatter(X_test, y_test, s=100)\n",
    "plt.scatter(X_test, y_pred, marker=\"+\")\n"
   ]
  },
  {
   "cell_type": "code",
   "execution_count": 73,
   "id": "047a2afb",
   "metadata": {},
   "outputs": [
    {
     "data": {
      "text/plain": [
       "160"
      ]
     },
     "execution_count": 73,
     "metadata": {},
     "output_type": "execute_result"
    }
   ],
   "source": [
    "len(X_train)"
   ]
  },
  {
   "cell_type": "code",
   "execution_count": 74,
   "id": "96fb2c03",
   "metadata": {},
   "outputs": [],
   "source": [
    "Ys = X_train * model.intercept_ +  model.coef_\n"
   ]
  },
  {
   "cell_type": "code",
   "execution_count": 75,
   "id": "c62db088",
   "metadata": {},
   "outputs": [
    {
     "ename": "NameError",
     "evalue": "name 'sigmoid' is not defined",
     "output_type": "error",
     "traceback": [
      "\u001b[0;31m---------------------------------------------------------------------------\u001b[0m",
      "\u001b[0;31mNameError\u001b[0m                                 Traceback (most recent call last)",
      "\u001b[0;32m<ipython-input-75-deb1bf4631f6>\u001b[0m in \u001b[0;36m<module>\u001b[0;34m\u001b[0m\n\u001b[0;32m----> 1\u001b[0;31m \u001b[0mplt\u001b[0m\u001b[0;34m.\u001b[0m\u001b[0mscatter\u001b[0m\u001b[0;34m(\u001b[0m\u001b[0mX_train\u001b[0m\u001b[0;34m,\u001b[0m\u001b[0msigmoid\u001b[0m\u001b[0;34m.\u001b[0m\u001b[0mravel\u001b[0m\u001b[0;34m(\u001b[0m\u001b[0;34m)\u001b[0m\u001b[0;34m)\u001b[0m\u001b[0;34m\u001b[0m\u001b[0;34m\u001b[0m\u001b[0m\n\u001b[0m",
      "\u001b[0;31mNameError\u001b[0m: name 'sigmoid' is not defined"
     ]
    }
   ],
   "source": [
    "plt.scatter(X_train,sigmoid.ravel())"
   ]
  },
  {
   "cell_type": "code",
   "execution_count": 76,
   "id": "57751790",
   "metadata": {},
   "outputs": [
    {
     "data": {
      "text/plain": [
       "<matplotlib.collections.PathCollection at 0x7fb2e1853ac8>"
      ]
     },
     "execution_count": 76,
     "metadata": {},
     "output_type": "execute_result"
    },
    {
     "data": {
      "image/png": "[encoded data removed]",
      "text/plain": [
       "<Figure size 432x288 with 1 Axes>"
      ]
     },
     "metadata": {
      "needs_background": "light"
     },
     "output_type": "display_data"
    }
   ],
   "source": [
    "sigmoid = [1/(1+np.exp(-(model.coef_ * i+ model.intercept_))) for i in x]\n",
    "plt.scatter(x,sigmoid, s = 10)\n",
    "plt.scatter(x,y, s= 10)"
   ]
  },
  {
   "cell_type": "code",
   "execution_count": 1,
   "id": "692ef090",
   "metadata": {},
   "outputs": [
    {
     "name": "stdout",
     "output_type": "stream",
     "text": [
      "mean :  50.12083511501119\n",
      "standard deviation :  9.81751640262613\n"
     ]
    }
   ],
   "source": [
    "import numpy as np\n",
    "import math\n",
    "import matplotlib.pyplot as plt\n",
    "\n",
    "\n",
    "\n",
    "data =  np.random.normal(50, 10, 300)\n",
    "mean = np.mean(data)\n",
    "std  = np.std(data)\n",
    "\n",
    "print(\"mean : \", mean )\n",
    "print(\"standard deviation : \" , std)\n",
    "\n",
    "\n"
   ]
  },
  {
   "cell_type": "code",
   "execution_count": 78,
   "id": "714963f4",
   "metadata": {},
   "outputs": [],
   "source": [
    "test = [(1/(2 * std *math.pi)) * math.exp(-(pow(x - mean,2))/(2 * std))for x in data]\n"
   ]
  },
  {
   "cell_type": "code",
   "execution_count": 79,
   "id": "0536d7a0",
   "metadata": {},
   "outputs": [
    {
     "data": {
      "image/png": "[encoded data removed]",
      "text/plain": [
       "<Figure size 432x288 with 1 Axes>"
      ]
     },
     "metadata": {
      "needs_background": "light"
     },
     "output_type": "display_data"
    }
   ],
   "source": [
    "\n",
    "plt.hist(data, bins=40)\n",
    "\n",
    "plt.show() "
   ]
  },
  {
   "cell_type": "code",
   "execution_count": 80,
   "id": "966ba381",
   "metadata": {},
   "outputs": [
    {
     "data": {
      "text/plain": [
       "<matplotlib.collections.PathCollection at 0x7fb2e18463c8>"
      ]
     },
     "execution_count": 80,
     "metadata": {},
     "output_type": "execute_result"
    },
    {
     "data": {
      "image/png": "[encoded data removed]",
      "text/plain": [
       "<Figure size 432x288 with 1 Axes>"
      ]
     },
     "metadata": {
      "needs_background": "light"
     },
     "output_type": "display_data"
    }
   ],
   "source": [
    "plt.scatter(data, test)"
   ]
  },
  {
   "cell_type": "code",
   "execution_count": 81,
   "id": "31882f61",
   "metadata": {},
   "outputs": [
    {
     "ename": "NameError",
     "evalue": "name 'norm' is not defined",
     "output_type": "error",
     "traceback": [
      "\u001b[0;31m---------------------------------------------------------------------------\u001b[0m",
      "\u001b[0;31mNameError\u001b[0m                                 Traceback (most recent call last)",
      "\u001b[0;32m<ipython-input-81-7f1905a7076d>\u001b[0m in \u001b[0;36m<module>\u001b[0;34m\u001b[0m\n\u001b[0;32m----> 1\u001b[0;31m \u001b[0;34m(\u001b[0m\u001b[0mmu\u001b[0m\u001b[0;34m,\u001b[0m \u001b[0msigma\u001b[0m\u001b[0;34m)\u001b[0m \u001b[0;34m=\u001b[0m \u001b[0mnorm\u001b[0m\u001b[0;34m.\u001b[0m\u001b[0mfit\u001b[0m\u001b[0;34m(\u001b[0m\u001b[0mdata\u001b[0m\u001b[0;34m)\u001b[0m\u001b[0;34m\u001b[0m\u001b[0;34m\u001b[0m\u001b[0m\n\u001b[0m\u001b[1;32m      2\u001b[0m \u001b[0mx\u001b[0m \u001b[0;34m=\u001b[0m \u001b[0mnp\u001b[0m\u001b[0;34m.\u001b[0m\u001b[0mlinspace\u001b[0m\u001b[0;34m(\u001b[0m\u001b[0mmin\u001b[0m\u001b[0;34m(\u001b[0m\u001b[0mdata\u001b[0m\u001b[0;34m)\u001b[0m\u001b[0;34m,\u001b[0m \u001b[0mmax\u001b[0m\u001b[0;34m(\u001b[0m\u001b[0mdata\u001b[0m\u001b[0;34m)\u001b[0m\u001b[0;34m,\u001b[0m \u001b[0;36m100\u001b[0m\u001b[0;34m)\u001b[0m\u001b[0;34m\u001b[0m\u001b[0;34m\u001b[0m\u001b[0m\n\u001b[1;32m      3\u001b[0m \u001b[0;34m\u001b[0m\u001b[0m\n\u001b[1;32m      4\u001b[0m \u001b[0mplt\u001b[0m\u001b[0;34m.\u001b[0m\u001b[0mhist\u001b[0m\u001b[0;34m(\u001b[0m\u001b[0mdata\u001b[0m\u001b[0;34m,\u001b[0m \u001b[0mbins\u001b[0m\u001b[0;34m=\u001b[0m\u001b[0;36m40\u001b[0m\u001b[0;34m,\u001b[0m \u001b[0mnormed\u001b[0m\u001b[0;34m=\u001b[0m\u001b[0;32mTrue\u001b[0m\u001b[0;34m)\u001b[0m\u001b[0;34m\u001b[0m\u001b[0;34m\u001b[0m\u001b[0m\n\u001b[1;32m      5\u001b[0m \u001b[0mplt\u001b[0m\u001b[0;34m.\u001b[0m\u001b[0mplot\u001b[0m\u001b[0;34m(\u001b[0m\u001b[0mx\u001b[0m\u001b[0;34m,\u001b[0m \u001b[0mmlab\u001b[0m\u001b[0;34m.\u001b[0m\u001b[0mnormpdf\u001b[0m\u001b[0;34m(\u001b[0m\u001b[0mx\u001b[0m\u001b[0;34m,\u001b[0m \u001b[0mmu\u001b[0m\u001b[0;34m,\u001b[0m \u001b[0msigma\u001b[0m\u001b[0;34m)\u001b[0m\u001b[0;34m)\u001b[0m\u001b[0;34m\u001b[0m\u001b[0;34m\u001b[0m\u001b[0m\n",
      "\u001b[0;31mNameError\u001b[0m: name 'norm' is not defined"
     ]
    }
   ],
   "source": [
    "(mu, sigma) = norm.fit(data)\n",
    "x = np.linspace(min(data), max(data), 100)\n",
    "\n",
    "plt.hist(data, bins=40, normed=True)\n",
    "plt.plot(x, mlab.normpdf(x, mu, sigma))\n",
    "\n",
    "plt.show()"
   ]
  },
  {
   "cell_type": "code",
   "execution_count": 82,
   "id": "17c92c21",
   "metadata": {},
   "outputs": [
    {
     "name": "stdout",
     "output_type": "stream",
     "text": [
      "mean :  50.996801660349895\n",
      "standard deviation :  9.810666723870368\n"
     ]
    }
   ],
   "source": [
    "import numpy as np\n",
    "import math\n",
    "import matplotlib.pyplot as plt\n",
    "data_1 =  np.random.normal(50, 10, 300)\n",
    "mean_1 = np.mean(data_1)\n",
    "std_1  = np.std(data_1)\n",
    "\n",
    "print(\"mean : \", mean_1 )\n",
    "print(\"standard deviation : \" , std_1)\n",
    "\n",
    "\n",
    "dist_1 = [(1/2 *math.pi) * math.exp(-(pow(x - mean_1,2))/(2 * std_1))for x in data_1]"
   ]
  },
  {
   "cell_type": "code",
   "execution_count": 83,
   "id": "b79c1f79",
   "metadata": {},
   "outputs": [
    {
     "name": "stdout",
     "output_type": "stream",
     "text": [
      "mean :  41.18305192904137\n",
      "standard deviation :  19.58329438458768\n"
     ]
    }
   ],
   "source": [
    "data_2 =  np.random.normal(40, 20, 300)\n",
    "mean_2 = np.mean(data_2)\n",
    "std_2  = np.std(data_2)\n",
    "\n",
    "print(\"mean : \", mean_2 )\n",
    "print(\"standard deviation : \" , std_2)\n",
    "\n",
    "\n",
    "dist_2 = [(1/2 *math.pi) * math.exp(-(pow(x - mean_2,2))/(2 * std_2))for x in data_2]"
   ]
  },
  {
   "cell_type": "code",
   "execution_count": 84,
   "id": "05fbb37c",
   "metadata": {},
   "outputs": [
    {
     "data": {
      "text/plain": [
       "<matplotlib.collections.PathCollection at 0x7fb2e16ad470>"
      ]
     },
     "execution_count": 84,
     "metadata": {},
     "output_type": "execute_result"
    },
    {
     "data": {
      "image/png": "[encoded data removed]",
      "text/plain": [
       "<Figure size 432x288 with 1 Axes>"
      ]
     },
     "metadata": {
      "needs_background": "light"
     },
     "output_type": "display_data"
    }
   ],
   "source": [
    "plt.scatter(data_2, dist_2, color = \"blue\")\n",
    "plt.scatter(data_1, dist_1, color = \"red\")"
   ]
  },
  {
   "cell_type": "code",
   "execution_count": 85,
   "id": "a1ac5407",
   "metadata": {},
   "outputs": [
    {
     "data": {
      "image/png": "[encoded data removed]",
      "text/plain": [
       "<Figure size 432x288 with 1 Axes>"
      ]
     },
     "metadata": {
      "needs_background": "light"
     },
     "output_type": "display_data"
    }
   ],
   "source": [
    "import matplotlib.pyplot as plt\n",
    "fig = plt.figure()\n",
    "X = np.arange(4)\n",
    "ax = fig.add_axes([0,0,1,1])\n",
    "labels = ['model 1', 'model 2']"
   ]
  },
  {
   "cell_type": "code",
   "execution_count": 92,
   "id": "589bf055",
   "metadata": {},
   "outputs": [
    {
     "name": "stdout",
     "output_type": "stream",
     "text": [
      "compute product of log_2 of q(x) * p(x):\n",
      "log probabilities :  [-0.7369655941662062, -0.0, -0.0, -0.5145731728297583, -0.0, -0.3219280948873623, -0.0]\n",
      "compute sum of log probabilities:\n",
      "sum of log probabilities :  -1.5734668618833267\n",
      "cross entropy : 1.5734668618833267\n"
     ]
    }
   ],
   "source": [
    "\n",
    "import math\n",
    "ground_truth = [1,0,0,1,0,1,0,1]\n",
    "prob = [0.6, 0.9, 0.2, 0.7,0.1,0.8, 0.4, 0.4]\n",
    "print(\"compute product of log_2 of q(x) * p(x):\")\n",
    "log_prob = [ground_truth[i] * math.log(prob[i],2) for i in range(0,len(prob)-1)]\n",
    "print(\"log probabilities : \" ,log_prob)\n",
    "print(\"compute sum of log probabilities:\")\n",
    "sum_log_prob = np.sum(log_prob)\n",
    "print(\"sum of log probabilities : \", sum_log_prob)\n",
    "cross_entropy = -1 * sum_log_prob\n",
    "print(\"cross entropy :\", cross_entropy)\n"
   ]
  },
  {
   "cell_type": "code",
   "execution_count": 90,
   "id": "bcffce9f",
   "metadata": {},
   "outputs": [
    {
     "name": "stdout",
     "output_type": "stream",
     "text": [
      "log probabilities :  [-1.7369655941662063, -0.0, -0.0, -1.7369655941662063, -0.0, -2.321928094887362, -0.0]\n",
      "sum of log probabilities :  -5.795859283219775\n",
      "product of sum of log probability and -1\n",
      "cross entropy : 5.795859283219775\n"
     ]
    }
   ],
   "source": [
    "import math\n",
    "ground_truth = [1,0,0,1,0,1,0,1]\n",
    "prob = [0.3, 0.4, 0.2, 0.3,0.1,0.2, 0.4, 0.4]\n",
    "ground_truth[1]\n",
    "log_prob = [ground_truth[i] * math.log(prob[i],2) for i in range(0,len(prob)-1)]\n",
    "print(\"log probabilities : \" ,log_prob)\n",
    "sum_log_prob = np.sum(log_prob)\n",
    "print(\"sum of log probabilities : \", sum_log_prob)\n",
    "print(\"product of sum of log probability and -1\")\n",
    "cross_entropy = -1 * sum_log_prob\n",
    "print(\"cross entropy :\", cross_entropy)"
   ]
  },
  {
   "cell_type": "code",
   "execution_count": null,
   "id": "73379f6c",
   "metadata": {},
   "outputs": [],
   "source": [
    "import math\n",
    "ground_truth = [1,0,0,1,0,1,0,1]\n",
    "prob = [0.3, 0.4, 0.2, 0.3,0.1,0.2, 0.4, 0.4]\n",
    "ground_truth[1]\n",
    "log_prob = [ground_truth[i] * math.log(prob[i],2) for i in range(0,len(prob)-1)]\n",
    "print(\"log probabilities : \" ,log_prob)\n",
    "sum_log_prob = np.sum(log_prob)\n",
    "print(\"sum of log probabilities : \", sum_log_prob)\n",
    "cross_entropy = -1 * sum_log_prob\n",
    "print(\"cross entropy :\", cross_entropy)"
   ]
  },
  {
   "cell_type": "code",
   "execution_count": null,
   "id": "0672364c",
   "metadata": {},
   "outputs": [],
   "source": []
  },
  {
   "cell_type": "code",
   "execution_count": null,
   "id": "e0b28ebd",
   "metadata": {},
   "outputs": [],
   "source": []
  },
  {
   "cell_type": "code",
   "execution_count": null,
   "id": "63853bb3",
   "metadata": {},
   "outputs": [],
   "source": []
  },
  {
   "cell_type": "code",
   "execution_count": null,
   "id": "bfa4af66",
   "metadata": {},
   "outputs": [],
   "source": []
  },
  {
   "cell_type": "code",
   "execution_count": null,
   "id": "f9b372e7",
   "metadata": {},
   "outputs": [],
   "source": []
  },
  {
   "cell_type": "code",
   "execution_count": null,
   "id": "8ae4cb0f",
   "metadata": {},
   "outputs": [],
   "source": []
  },
  {
   "cell_type": "code",
   "execution_count": null,
   "id": "b844768b",
   "metadata": {},
   "outputs": [],
   "source": []
  },
  {
   "cell_type": "code",
   "execution_count": null,
   "id": "43c979a4",
   "metadata": {},
   "outputs": [],
   "source": []
  },
  {
   "cell_type": "code",
   "execution_count": null,
   "id": "c1a051a0",
   "metadata": {},
   "outputs": [],
   "source": []
  },
  {
   "cell_type": "code",
   "execution_count": null,
   "id": "1950ccb5",
   "metadata": {},
   "outputs": [],
   "source": []
  },
  {
   "cell_type": "code",
   "execution_count": null,
   "id": "a7fa8632",
   "metadata": {},
   "outputs": [],
   "source": []
  },
  {
   "cell_type": "code",
   "execution_count": null,
   "id": "51f7860d",
   "metadata": {},
   "outputs": [],
   "source": []
  },
  {
   "cell_type": "code",
   "execution_count": null,
   "id": "952415d5",
   "metadata": {},
   "outputs": [],
   "source": []
  },
  {
   "cell_type": "code",
   "execution_count": null,
   "id": "46c44d38",
   "metadata": {},
   "outputs": [],
   "source": []
  },
  {
   "cell_type": "code",
   "execution_count": null,
   "id": "298eacb4",
   "metadata": {},
   "outputs": [],
   "source": []
  }
 ],
 "metadata": {
  "kernelspec": {
   "display_name": "Python 3",
   "language": "python",
   "name": "python3"
  },
  "language_info": {
   "codemirror_mode": {
    "name": "ipython",
    "version": 3
   },
   "file_extension": ".py",
   "mimetype": "text/x-python",
   "name": "python",
   "nbconvert_exporter": "python",
   "pygments_lexer": "ipython3",
   "version": "3.6.9"
  }
 },
 "nbformat": 4,
 "nbformat_minor": 5
}
