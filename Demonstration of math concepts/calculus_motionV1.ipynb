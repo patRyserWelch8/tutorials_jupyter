{
 "cells": [
  {
   "cell_type": "markdown",
   "metadata": {},
   "source": [
    "# Differential calculus - displacement, velocity, and acceleration"
   ]
  },
  {
   "cell_type": "code",
<<<<<<< HEAD
   "execution_count": 117,
=======
   "execution_count": 237,
>>>>>>> main
   "metadata": {},
   "outputs": [],
   "source": [
    "import numpy as np\n",
    "import matplotlib.pyplot as plt"
   ]
  },
  {
   "cell_type": "markdown",
   "metadata": {},
   "source": [
    "These links should introduce these ideas:\n",
    "\n",
    " - http://spiff.rit.edu/classes/phys211_spr1999/lectures/disvel/disvel_all.html\n",
    " - https://www.grc.nasa.gov/www/k-12/airplane/disvelac.html\n",
    " - https://www.khanacademy.org/science/physics/one-dimensional-motion/displacement-velocity-time/v/displacement-from-time-and-velocity-example\n"
   ]
  },
  {
   "cell_type": "markdown",
   "metadata": {},
   "source": [
    "# Displacement"
   ]
  },
  {
   "cell_type": "markdown",
   "metadata": {},
   "source": [
    "[Displacement](https://www.khanacademy.org/science/physics/one-dimensional-motion/displacement-velocity-time/a/what-is-displacement) can be positive or negative. \n",
    "\n",
    "__Displacement :__ $\\Delta x = x_f - x_0$, where $x_f$ is the final position, and $x_0$ the original one.\n",
    "\n",
    "### Example no 1 : Walking at the front of a train.__\n",
    "\n",
    "All position are measured in SI units, i.e., metres (m)"
   ]
  },
  {
   "cell_type": "code",
<<<<<<< HEAD
   "execution_count": 118,
=======
   "execution_count": 238,
>>>>>>> main
   "metadata": {},
   "outputs": [
    {
     "name": "stdout",
     "output_type": "stream",
     "text": [
      "Displacement in m :  60\n"
     ]
    }
   ],
   "source": [
    "x_f = 100\n",
    "x_0 = 40\n",
    "delta_x =  x_f - x_0\n",
    "print(\"Displacement in m : \", delta_x)"
   ]
  },
  {
   "cell_type": "markdown",
   "metadata": {},
   "source": [
    "### Example no 2 : Walking at the back of a train\n",
    "\n",
    "All position are measured in SI units, i.e., metres (m)"
   ]
  },
  {
   "cell_type": "code",
<<<<<<< HEAD
   "execution_count": 119,
=======
   "execution_count": 239,
>>>>>>> main
   "metadata": {},
   "outputs": [
    {
     "name": "stdout",
     "output_type": "stream",
     "text": [
      "Displacement in m :  -20\n"
     ]
    }
   ],
   "source": [
    "x_f = 40\n",
    "x_0 = 60\n",
    "delta_x =  x_f - x_0\n",
    "print(\"Displacement in m : \", delta_x)"
   ]
  },
  {
   "cell_type": "markdown",
   "metadata": {},
   "source": [
    "__So we calculated some differences between two known points.__"
   ]
  },
  {
   "cell_type": "markdown",
   "metadata": {},
   "source": [
    "# Velocity\n",
    "\n",
    "[velocity explained](https://en.wikipedia.org/wiki/Velocity)\n",
    "\n",
    "__Average velocity:__ $\\overline{v} = \\frac{\\Delta x}{\\Delta t}$, where $\\Delta x$ is the displacement and $\\Delta t$ is the time. \n",
    "\n",
    "All the examples below relies on SI units. We will be using _metres(m)_ for displacement and the time in _seconds(s)_.\n",
    "\n",
    "\n",
    "\n"
   ]
  },
  {
   "cell_type": "markdown",
   "metadata": {},
   "source": [
    "### Example no 1 : starfish\n",
    "\n",
    "https://safarisafricana.com/slowest-animals/\n",
    "\n",
<<<<<<< HEAD
    "- A displacement has been estimated to 0.0025 m; i.e., 2.5 mm. We are moving forward.\n",
    "- time is in seconds for an hour; i.e, 0 to 3600 seconds\n",
=======
    "- displacements has been estimated to 0.0025 m; i.e., 2.5 mm. We are moving forward.\n",
    "- time is in seconds for an hour; i.e, 0 to 3659 seconds\n",
>>>>>>> main
    "\n"
   ]
  },
  {
   "cell_type": "code",
<<<<<<< HEAD
   "execution_count": 120,
=======
   "execution_count": 240,
>>>>>>> main
   "metadata": {},
   "outputs": [
    {
     "data": {
      "text/plain": [
       "Text(0.5, 0, 'time (s)')"
      ]
     },
<<<<<<< HEAD
     "execution_count": 120,
=======
     "execution_count": 240,
>>>>>>> main
     "metadata": {},
     "output_type": "execute_result"
    },
    {
     "data": {
      "image/png": "iVBORw0KGgoAAAANSUhEUgAABIoAAAF4CAYAAAA7cxJAAAAAOXRFWHRTb2Z0d2FyZQBNYXRwbG90bGliIHZlcnNpb24zLjQuMiwgaHR0cHM6Ly9tYXRwbG90bGliLm9yZy8rg+JYAAAACXBIWXMAAAsTAAALEwEAmpwYAABLQklEQVR4nO3deXjd513n/fet3ZIsa/3ZjvdNOk3SJmmc1Yntc5LSpiydsrWFLlBKKbS0hQKlDHMBM8MMs8HDPAzwdKAUGGbmGobC8Dx0GFokO02aZmuTNmmP5CVOvCQ+R5ZlW7L2cz9/nBPVdW1XSiQdLe/XdenSOb+zfRPf+UX6+P59vyHGiCRJkiRJklRR7gIkSZIkSZK0OBgUSZIkSZIkCTAokiRJkiRJUolBkSRJkiRJkgCDIkmSJEmSJJUYFEmSJEmSJAmAqnIX8J20t7fHrVu3lrsMSZIkSZKkZePJJ5/sjzF2XH580QdFW7du5Yknnih3GZIkSZIkSctGCOH5Kx330jNJkiRJkiQBBkWSJEmSJEkqMSiSJEmSJEkSYFAkSZIkSZKkEoMiSZIkSZIkAQZFkiRJkiRJKjEokiRJkiRJEmBQJEmSJEmSpBKDIkmSJEmSJAEGRZIkSZIkSSoxKJIkSZIkSRJgUCRJkiRJknRNU4XIl184yzdePF/uUuZdVbkLkCRJkiRJWmzOXZzg4KE8PdkcB/vyDAyP89ZbNvA7b7u53KXNK4MiSZIkSZK04sUY6Ts9RHc2R082x5MvnGWqEGmur2Z/ZwfpVMLeXR3lLnPeGRRJkiRJkqQVaWR8ii8e6ac7m+NAb56TgyMAXL++iQ/s204mlXDzphYqK0KZK104BkWSJEmSJGnFOD5wkZ7eHN3ZHI8cOcPYZIH6mkr27GznQ5mdpLsS1q2pK3eZZWNQJEmSJEmSlq2JqQJPHDs7HQ4dzg0BsLWtnh+5YzOZVMLt21qpraosc6WLg0GRJEmSJElaVvIXxjjQW7yc7MFDeS6MTlJdGbh9Wytvv20TmVTC9o7Gcpe5KBkUSZIkSZKkJa1QiDxz6tx0I+qnT5wDIFldy5tvXE86lXDPrnYaa41BvhP/DUmSJEmSpCXn/OgEDx36ZiPq/qExQoCbNzXzsTd0kk4l3HBdEyGsnEbUc8GgSJIkSZIkLXoxRo7kh+jJ5unO5nj82ACThUhTXRV7OzvIpBL2dXbQ1lhb7lKXNIMiSZIkSZK0KI1OTPGlo2foyebo7s1xfKA4vr5r7Wred29xfP3rNzdTVVlR5kqXD4MiSZIkSZK0aJwaHJnuNfTwkX5GJwrUVVdw94523r93B+muDja21Je7zGXLoEiSJEmSJJXN5FSBL78wSE9vMRzKvnQBgI0tq/jh3ZtIpxLu2t5GXbXj6xeCQZEkSZIkSVpQA8PjHOzL0Z3N82BfnnMjE1RVBHZvbeETD6TIpBJ2Jo02oi4DgyJJkiRJkjSvYow8e+o8PdkcPb05vnJ8kBihvbGG+1+zlkwq4d7Odprqqstd6opnUCRJkiRJkubc0NgkDx/unw6HTp8fA+B1G9fw4cwuMqmE125YQ0WFu4YWE4MiSZIkSZI0J57rH55uRP3YcwOMTxVYXVvFvZ3t7O9K2N/VQbK6rtxl6hoMiiRJkiRJ0isyNjnFY88N0J3NcaA3z3P9wwDs6GjgPXdvIZ1K2L2llZoqx9cvFQZFkiRJkiRpxk6fH6Unm6M7m+Phw/0Mj09RU1XBXdvb+LG7t5LuStjc5vj6pcqgSJIkSZIkXdVUIfLU8cHpcOjrL54HYP2aOt5yywYyXQl372yjvsaIYTnwT1GSJEmSJH2LcxcnOHgoT082x8G+PAPD41QEuHVLC7/0pi4yqYSutasdX78MGRRJkiRJkrTCxRjpPX1huhH1k8+fpRChpb6a/V0J6VTC3l3tNNfXlLtUzTODIkmSJEmSVqCR8ani+PreYjh06twoANevb+Jn9u8knUq4eVMzlY6vX1EMiiRJkiRJWiGOD1yku9Rr6JGjZxifLFBfU8k9O9v58H272N+VsG6N4+tXMoMiSZIkSZKWqYmpAo8fG5huRH0kXxxfv629gXfesYV0qoPbt7VSW1VZ5kq1WBgUSZIkSZK0jOQvjHGgN0dPb44v9PVzYWyS6srAHdva+JE7tpBJJWxrbyh3mVqkDIokSZIkSVrCCoXI106eKzai7s3x1RPnAFjbVMt3v2496VTCnp3tNNYaAeg7c5VIkiRJkrTEnB+d4At9/XRncxzsy9E/NE4IcPOmZj72hk7SqYQbrmtyfL1mzaBIkiRJkqRFLsbI4dwQPb3FXkNPHDvLZCHSVFfFvq6ETKqDfZ0JrQ2Or9erY1AkSZIkSdIiNDoxxSNHz0w3oj5xdgSA1LrVvO/e7WRSCa/f3ExVZUWZK9VyYlAkSZIkSdIicXJwhO5sjgPZHA8f6Wd0okBddQV7drTzgX07SKcSNjSvKneZWsYWPCgKIfwc8D4gAl8DfjzGOLrQdUiSJEmSVG6TUwW+/MJgsRF1Nkfv6QsAbGpdxdt2byKdSrhzext11Y6v18JY0KAohLAB+DBwfYxxJITwP4C3A59eyDokSZIkSSqXM0NjHOzL053N8WBfnvOjk1RVBG7b2sqvvDlFJpWwo6PRRtQqi3JcelYFrAohTAD1wKky1CBJkiRJ0oKIMfLsqfPT4+ufOj5IjNDeWMN33bCOTCrhnl3tNNVVl7tUaWGDohjjyRDCvwdeAEaAf4gx/sPlzwshvB94P8DmzZsXskRJkiRJkl61obFJHjrUT08pHMpdGAPgpo1r+Mh9u0h3Jbx2wxoqKtw1pMVloS89awHeAmwDBoG/DCG8M8b4Xy59Xozxk8AnAXbv3h0XskZJkiRJkl6Jo/mh6V1Djz03wMRUZHVtFfd2tpPuStjfldCxurbcZUrXtNCXnt0PPBdjzAOEED4D3A38l2u+SpIkSZKkRWZscorHnhuYbkR97MxFAHYmjfz4nm2kuxJ2b22h2vH1WkIWOih6AbgzhFBP8dKz+4AnFrgGSZIkSZJekZfOjdLTm6M7m+Phw/1cHJ+ipqqCu3e08d57iuHQptb6cpcpvWIL3aPo0RDC/wS+DEwCX6F0iZkkSZIkSYvNVCHy1PGz9GSLU8q+/uJ5AK5bU8dbb9lAJpVw9452VtU4vl7Lw4JPPYsx/hrwawv9uZIkSZIkzcTgxXEO9uXpyeY42Jfn7MUJKisCt25u4eNvKo6v71zr+HotTwseFEmSJEmStJjEGMm+dGG619CXXzhLIUJrQ02xCXUqYd+uDtbUO75ey59BkSRJkiRpxbk4PskXD5+huzfHgWyOU+dGAbjhuiY+mN5JOpVw08ZmKh1frxXGoEiSJEmStCK8cOYi3dnTdPfm+dLRM4xPFmioqeSeXe185P5d7O9KWNtUV+4ypbIyKJIkSZIkLUvjkwWeOFYaX9+b40h+GIBt7Q28844tZFIJt21robbKRtTSywyKJEmSJEnLRu7CKAd6i42ov3Con6GxSWoqK7hjeys/escW0qmEbe0N5S5TWrQMiiRJkiRJS1ahEPnqyXPTjai/dvIcAGubavme160nnUq4Z2c7DbX++ivNhP+lSJIkSZKWlHMjE3zhUJ6ebJ6DfTn6h8YJAW7Z1MwvfFcn6VTC9eubHF8vvQIGRZIkSZKkRS3GyOHcEN3ZHN3ZHE88f5apQmTNqmr2dXaQSSXs7eygtaGm3KVKS55BkSRJkiRp0RmdmOKRI2emG1GfODsCQGrdat6/dzuZVMItm5qpqqwoc6XS8mJQJEmSJElaFE6cvUhPNkdPb54vHulndKLAqupK9uxs46f37yDdlXBd86pylyktawZFkiRJkqSymJwq8OTzZ+nuLTai7js9BMDm1nrefttm9nd1cOf2NuqqHV8vLRSDIkmSJEnSgjkzNMaB3jzdvTke7MtzYXSSqorAbVtb+adv3kQ6lbCjo8FG1FKZGBRJkiRJkuZNjJFnT52fbkT99IlBYoT2xlredMM6MqmEe3a1s7quutylSsKgSJIkSZI0x4bGJnnoUJ7ubI4DvXlyF8YIAV63sZmP3tdJOtXBjdetoaLCXUPSYmNQJEmSJEl6VWKMHO0fLjWizvHYcwNMTEVW11axt7ODdCphf1cH7Y215S5V0ndgUCRJkiRJmrWxySkePTowPb7++TMXAdiVNPLePdtIpxJu3dJCtePrpSXFoEiSJEmSNCMvnhuhJ1u8pOyLR/q5OD5FbVUFd+9o4yfu2Ua6K2FTa325y5T0KhgUSZIkSZKuaKoQeer42VIj6jzfePE8ABuaV/H9r99AJpVw1/Z2VtU4vl5aLgyKJEmSJEnTBi+Oc7CvuGvoYF+ewYsTVFYEbt3Swi8/kCLdldC5ttHx9dIyZVAkSZIkSStYjJFvvHiBnt4cPdkcX37hLIUIrQ01ZLoS0qmEvbs6WFPv+HppJTAokiRJkqQV5uL4JA8fPlMaX5/jxXOjANy4oYkPpXeSTiW8bmMzlY6vl1YcgyJJkiRJWgGePzNc6jWU49GjA4xPFWioqeTeXR189P4O9nclrG2qK3eZksrMoEiSJEmSlqHxyQKPHxugJ5ujuzfH0fwwANvbG3jXXVvIpBJu29pKTZXj6yV9k0GRJEmSJC0TufOjHOgtNqJ+6HA/Q2OT1FRWcMf2Vt515xbSXQlb2xvKXaakRcygSJIkSZKWqEIh8vSJweldQ8+cLI6vX9dUx/fetJ50V8Kene001Pqrn6SZ8WwhSZIkSUvIuZEJHuzL09Ob42BvnjPD41QEuGVzC7/4xi7SXQmvWb/a8fWSXhGDIkmSJElaxGKMHMoNTTeifvL5s0wVIs311ezr7CDdlbCvs4OWhppylyppGTAokiRJkqRFZmR8ikeO9tOdzdGTzXNycASA1LrV/NTe7WRSCTdvaqaq0kbUkuaWQZEkSZIkLQInzl4s9hrK5vjikTOMTRZYVV3Jnp3tfDC9k3Sqg/VrVpW7TEnLnEGRJEmSJJXBxFSBJ58/S082R09vjr7TQwBsaavnHbdvJp1KuGNbK3XVlWWuVNJKYlAkSZIkSQukf2iMg715untzPNiX58LoJFUVgdu3tfLDuzeRTiVsb2+wEbWksjEokiRJkqR5UihEnj11vtiIujfHV08MEiN0rK7lgRvXkUkVx9evrqsud6mSBBgUSZIkSdKcujA6wUOHio2oD/TlyV8YIwS4aWMzH72vk0wq4YbrmqiocNeQpMXHoEiSJEmSXoUYI0f7h6cbUT9+bICJqcjquir2dnaQ6UrY19VBe2NtuUuVpO/IoEiSJEmSZml0YopHnxuYDodeGLgIQOfaRt57zzYyXQmv39JCtePrJS0xBkWSJEmSNAMvnhuhO5ujJ5vn4cP9jExMUVtVwd072vjJe7exvythU2t9ucuUpFfFoEiSJEmSrmByqsBTxweLjaizObIvXQBgQ/MqfvDWjWRSCXdub2NVjePrJS0fBkWSJEmSVHJ2eJyDfXm6szkePJRn8OIElRWB3Vta+OUHUmRSCbuSRsfXS1q2DIokSZIkrVgxRr7+4nkO9BbDoa+8cJZChLaGGjKphEwq4d5dHaxZ5fh6SSuDQZEkSZKkFWV4bJKHD/fT01vsN/TS+VEAXrthDR/K7CLd1cFNG5sdXy9pRTIokiRJkrTsHesfLjai7s3x6NEBxqcKNNZWcc/OdjKphP1dHSRNdeUuU5LKzqBIkiRJ0rIzPlngsecGSruGchztHwZge0cD775rC5lUwu6trdRUOb5eki5lUCRJkiRpWcidH6Wntzih7KFD/QyPT1FTWcGdO9p4911bSKcStrQ1lLtMSVrUDIokSZIkLUlThcjTJwbpKV1S9szJ8wCsX1PH9928gUwqYc/ONupr/LVHkmbKM6YkSZKkJePcyAQP9uXpyeY40JdnYHicigCv39zCL76xi0wqIbVutePrJekVMiiSJEmStGjFGOk7PTTdiPrJ588yVYg011ezv7ODdCph764OWhpqyl2qJC0LMw6KQghrgN3AOqAOGAD6YozPzlNtkiRJklagkfEpHjnaXwyHsnlODo4A8Jr1TXxg33YyqYSbN7VQ6fh6SZpz1wyKQghNwLuAdwO3ApePBIghhHPAXwN/FGN8ZF6qlCRJkrSsHR+4ON2I+pEjZxibLFBfU8mene18KLOT/V0drF+zqtxlStKyd9WgKITwq8DPA2eAvwJ+E3ga6AfGgGZgK8VdRm8CukMIjwAfjjE+M69VS5IkSVrSJqYKPHHs7PT4+kO5IQC2tNXzjts3k0kl3LG9ldqqyjJXKkkry7V2FN0JfF+M8aGrPN5f+noC+MPSpWkfAPYABkWSJEmSvkX/0BgHeouNqB88lOfC6CTVlYHbt7Xytts2kUklbO9oLHeZkrSiXTUoijF+z2zeKMZ4Dvg3r7oiSZIkSctCoRB55tS5Uq+hHF89eY4YIVldy5tvXE86lXDPrnYaa52xI0mLhWdkSZIkSXPmwugEXzjUT082R09vnv6hMUKAmzY283P3d5JJJVy/vokKG1FL0qI0m6ln1wHfC2ygOPXsUjHG+PG5LEySJEnS4hdj5Eh+mJ5ssRH148cGmCxEmuqq2NvZQSaVsK+zg7bG2nKXKkmagRkFRSGEtwN/CgQgD4xf9pQIGBRJkiRJK8DoxBRfOnpmetfQCwMXAehau5qfuHcbma6EW7e0UFV5+dBkSdJiN9MdRb9JcfLZB2KM5+exHkmSJEmL0KnBkekJZQ8fPsPIxBR11RXcvaOdn9y7nXRXBxtb6stdpiTpVZppUNQG/LEhkSRJkrQyTE4V+MrxwelG1NmXLgCwsWUVP7R7I+muhLt2tFFX7fh6SVpOZhoUfQbYD/zj/JUiSZIkqZwGhsc52JejO5vnwb4850YmqKwI7N7SwiceSJFJJexMGgnBRtSStFzNNCj6EPDHIYQ/ArqBwcufEGP87EzeKITQDPwRcCPF3kbvjTE+MsM6JEmSJM2RGCPPnjrPgd5iI+qvHB8kRmhvrOH+16wlUxpfv2ZVdblLlSQtkJkGRZ3A7cA24L1XeDwCM91z+rvA38cYfzCEUAN4IbMkSZK0QIbHJnno8Mvj63OcPj8GwOs2ruHDmV2kUwmv27DG8fWStELNNCj6E+A88N3AYb596tmMhBCagL3AjwHEGMdf6XtJkiRJmpnn+ofpzuY40Jvj0aMDjE8VaKyt4t5d7aRTCfu7OkhW15W7TEnSIjCbHUXfH2P8P6/y87YDeeBPQgg3AU8CH4kxDl/6pBDC+4H3A2zevPlVfqQkSZK0soxPFnjsuYFiI+reHM/1F3/c3tHRwHvu3kI6lbB7Sys1VY6vlyR9q5kGRY8Bc5HYVAGvB342xvhoCOF3gV8G/tmlT4oxfhL4JMDu3bvjHHyuJEmStKydPj86fTnZQ4f6GR6foqaqgru2t/Geu7aQSa1lc5tdHyRJ1zbToOjngU+HEEa4ejPrizN4nxPAiRjjo6X7/5NiUCRJkiRpFqYKkadPDNKTLTaifvbUeQDWr6njLbdsINOVcPfONuprZvojvyRJMw+Knix9/9NrPOc7NrOOMb4UQjgeQuiKMfYC9wFfn2ENkiRJ0op27uIEBw/l6cnmONiXZ2B4nIoAt25p4Zfe1EUmldC1drXj6yVJr9hMg6L3UpxsNhd+FviL0sSzo8CPz9H7SpIkSctKjJHe0xeKjaizeZ584SxThUhLfTX7OjtIpxL2dXbQXF9T7lIlScvEjIKiGOOn5+oDY4xPAbvn6v0kSZKk5WRkfIovHukvTSnLc3JwBIDr1zfx0/t2kE4l3LypmUrH10uS5sFVg6IQQogxznoX0St9nSRJkrRSHR+4SHep19AjR88wPlmgvqaSe3a287OZnezvSli3xvH1kqT5d60dRX0hhH8D/LfLx9dfSQjhVuAjwDeAfz1H9UmSJEnLzsRUgcePDXCgN093Nsfh3BAAW9vq+dE7NpNJJdy+rZXaqu/YBlSSpDl1raDol4FfB343hPAPwBeBZ4B+YAxoBrYBtwJvAjYBfwR8av7KlSRJkpam/IUxDvQWx9d/oa+fC2OTVFcG7tjWxjtu30y6q4PtHY3lLlOStMJdNSiKMf5VCOEzwP3Au4GPAuv5ZlPrAIxTnIj2/wB/HmPMzWu1kiRJ0hJRKES+dvIc3dliOPTVE+cASFbX8ubXriedSrhnVzuNtY6vlyQtHtf8v1Kp19DnSl+EENYD64A6YAB4LsY4Pt9FSpIkSUvB+dEJHjr0zUbU/UNjhAA3b2rmY2/oJJ1KuOG6JsfXS5IWrVn99UWM8UXgxXmqRZIkSVpSYowcyQ9NN6J+4thZJguRproq9nUlpLs62NfZQVtjbblLlSRpRtznKkmSJM3C6MQUjxw9Q0/pkrLjA8Xx9V1rV/O+e7eTSSW8fnMzVZUVZa5UkqTZMyiSJEmSvoOTgyPFYCib4+Ej/YxOFKirrmDPjnZ+au8O0qmEDc2ryl2mJEmvmkGRJEmSdJnJqQJffmGw2Ig6m6P39AUANrWu4m27N7E/lXDX9jbqqh1fL0laXgyKJEmSJGBgeLw0vj7Pg315zo1MUFUR2L21hV95c4pMKmFHR6ONqCVJy9qMgqIQwruBv4sxnrnCY63A98QY/2yui5MkSZLmS4yRZ0+dpyebo7s3x1PHB4kR2htreMP1a8mUxtc31VWXu1RJkhbMTHcU/QlwF/BtQRGwrfS4QZEkSZIWtaGxSR461F/aOZTj9PkxAG7auIYPZ3aRSSW8dsMaKircNSRJWplmGhRd6/+UbcD5OahFkiRJmnPP9Q9P9xp69LkzTExFVtdWcW9nO+muhP1dCR2rHV8vSRJcIygKIbwFeMslh/5ZCCF/2dPqgHuBx+ehNkmSJGnWxianeOy5gelw6NiZiwDsTBr58T3bSHcl7N7aQrXj6yVJ+jbX2lGUAK+95P4OYN1lzxkH/gH4l3NclyRJkjRjL50bpae3GAw9dLifi+NT1FRVcNf2Nn58zzYyqYRNrfXlLlOSpEXvqkFRjPE/A/8ZIITQA/x0jDG7UIVJkiRJVzNViDx1fLDYiDqb4+svFjshXLemjrfesoFMKuHuHe2sqnF8vSRJszGjHkUxxvR8FyJJkiRdy+DFcQ725enJ5jjYl+fsxQkqKwK3bm7h429KkU510LV2tePrJUl6FWbazJoQwnXA9wAbKfYmulSMMX58LguTJEnSyhZjJPvShelLyp58/iyFCC311ezvSkinEvbt6mBNvePrJUmaKzMKikIIbwX+G1AJ5Cj2JrpUBAyKJEmS9KpcHJ/ki4fP0N2b40A2x6lzowDccF0TH0zvZH9Xws2bmql0fL0kSfNipjuK/hXFptU/FmMcmMd6JEmStMK8cOYi3dnTdPfm+dLRM4xPFqivqeSene18+L5dpFMJa5su39AuSZLmw0yDok3AzxoSSZIk6dUanyzwxPMD042oj+SHAdjW3sA779hCJpVw27YWaqtsRC1J0kKbaVD0RaAL+Pw81iJJkqRlKndhlAO9xUbUXzjUz9DYJDWVFdyxvZUfKYVD29obyl2mJEkr3kyDop8H/iKEMAR8Dhi8/AkxxotzWJckSZKWsEIh8tWT5+jO5jjQm+OrJ84BsLaplu953XrSqYR7drbTUDvj2SqSJGkBzPT/zF8tff8Tio2rr8S9wZIkSSvYuZEJHjrUT3c2x8G+HP1D44QAt2xq5he+q5N0KuH69U2Or5ckaRGbaVD0Xq4eEEmSJGkFijFyODdEd6nX0JPPn2WyEFmzqpp9nR2kUx3s60xobagpd6mSJGmGZhQUxRg/Pc91SJIkaQkYnZjikSNn6OkthkMnzo4AkFq3mp/cu51MKuGWTc1UVVaUuVJJkvRKzOqi8BDC9cCtFKegfSrG+FIIYSdwOsZ4YT4KlCRJUnmdHByhO5ujJ5vji0f6GZ0osKq6kj072/jp/TvY35WwoXlVucuUJElzYEZBUQihEfgU8IPAROl1fw+8BPwr4AXgF+apRkmSJC2gyakCTz5/lu7eHAeyeXpPF/8+cFPrKt62exPpVMKd29uoq7ZFpSRJy81MdxT9NnA3cB/wMDB6yWOfpRgSGRRJkiQtUWeGxjjYl6c7m+PBvjznRyepqgjctrWVf/rm15BOJezoaLARtSRJy9xMg6LvBz4SY+wJIVz+V0fPA1vmtixJkiTNpxgjz546P92I+ukTg8QI7Y21vPGGdWRSCXt2tdNUV13uUiVJ0gKaaVC0CjhzlcdWA1NzU44kSZLmy9DYJA8dytOTzdPTmyN3YQyAmzau4SP37SKTSrjxujVUVLhrSJKklWqmQdHjwLsp9iW63A8CX5yziiRJkjRnjuaL4+t7enM89twAE1OR1bVV7O3sIJ1K2NfZQcfq2nKXKUmSFomZBkW/Cnw+hPB54C+BCLw5hPBzFIOivfNUnyRJkmZhbHKKR48O0J3NcaA3x7EzFwHYlTTy3j3b2N+VsHtrC9WOr5ckSVcwo6AoxvhQCOE+4LeA3wMC8BvAl4D7Y4yPz1+JkiRJupaXzo3S01vsNfTw4X4ujk9RW1XBXTvaeO8920h3JWxqrS93mZIkaQmY6Y4iYowPA/eGEFYBLcBgjPHivFUmSZKkK5oqRJ46frbUiDrPN148D8CG5lV8/+s3kO5KuHtHO6tqHF8vSZJmZ8ZB0ctijCPAyDzUIkmSpKsYvDg+Pb7+YF+ewYsTVFYEbt3cwsfflCKTSuhc2+j4ekmS9KrMOCgKIdwOvBXYANRd9nCMMb5tLguTJElayWKMZF+6UGxEnc3x5RfOUojQ2lBDpishnUrYu6uDNfWOr5ckSXNnRkFRqWn1fwBOA0eB8fksSpIkaSW6OD7Jw4fPTDeifvHcKAA3bmjig+mdpFMJN21sptLx9ZIkaZ7MdEfRx4DfBX4+xhjnsR5JkqQV5fkzw6Xx9Xm+dPQM45MFGmoquWdXOx+9fxf7uxLWNl2+mVuSJGl+zDQoqgX+zpBIkiTp1RmfLPDEseL4+u7eHEfzwwBsb2/gXXduIZMqjq+vrbIRtSRJWngzDYo+DXw/8Pn5K0WSJGl5yl0Y5UC22Ij6ocP9DI1NUlNZwR3bW3nnHcVwaGt7Q7nLlCRJmnFQ9HHg90IInwe6gcHLHo8xxj+Yy8IkSZKWqkIh8vSJQXp68/Rkc3zt5DkA1jXV8b03rSfdlbBnZzsNtbMeQCtJkjSvZvrTSQb4UWB16fblImBQJEmSVqxzIxN84VBpfH1vnjPD41QEuGVzC7/4xi72d3Vw/fomx9dLkqRFbaZB0e8DjwIfAQ7HGCfmryRJkqTFL8bIodzQ9Pj6J54/y1QhsmZVNfs6O8ikEvZ1dtDSUFPuUiVJkmZspkHRdcDPxBi/MZ/FSJIkLWajE1M8cqQ4vr47m+Pk4AgAqXWr+am928mkEm7e1ExVZUWZK5UkSXplZhoUfR64CZtZS5KkFebE2Yv0lIKhLx45w9hkgVXVlezZ2c4H0zvZ39XBdc2ryl2mJEnSnJhpUPQfgT8MIaziys2siTF+fQ7rkiRJKouJqQJPPn+Wnt7iJWV9p4cA2Nxazztu30w6lXDHtlbqqh1fL0mSlp/Z7CgC+OfAb1z2WKDYzNqfliRJ0pJ0ZmiMA715untzPNiX58LoJFUVgdu3tfLDuzeRTiVsb2+wEbUkSVr2ZhoUpee1CkmSpAVUKESePXW+2GuoN8dXTwwSI3SsruWBG9eR7kq4Z1c7q+uqy12qJEnSgppRUBRjPDjfhUiSJM2nC6MTPHy4vzilrDdP/sIYIcDrNjbz0fs6yaQSbriuiYoKdw1JkqSVa6Y7igAIITwA7AY2Af8yxvhCCGEvcDjGeGo+CpQkSXolYowc7R+ebkT9+LEBJqYiq+uq2NvZQborYX9XB+2NteUuVZIkadGYUVAUQlgL/C1wK3AM2Ab8IfAC8OPAKPDT81OiJEnSzIxOTPHocwP0ZHP09OZ4/sxFAHYljbx3zzbSqYRbt7RQ7fh6SZKkK5rpjqL/G2gEUhSDovFLHvs88GtzW5YkSdLMvHhuhJ5snu5sjocP9zMyMUVtVQV372jjffdsY39XwqbW+nKXKUmStCTMNCh6E/CeGOPhEMLl081OABvmtixJkqQrmypEvvLC2WIj6myO7EsXANjQvIofuHUDmVTCXdvbWVXjQFZJkqTZmk2PoqmrHG8HRuagFkmSpCs6OzzOwb48Pb05DvblGbw4QWVF4NYtLfzyAykyqYRdSaPj6yVJkl6lmQZFXwB+NoTwd5cci6Xv7wW657QqSZK0osUY+caLF+jpLe4a+soLZylEaGuoIZNKyKQS7t3ZwZp6x9dLkiTNpZkGRR8HHgKeAf6aYkj0kyGEG4EbgTvnpzxJkrRSDI9N8vDhfnp6c/Rk87x0fhSA125Yw4fSO0mnEm7a2Oz4ekmSpHk0o6AoxvhMCGE3xabVP0bxMrTvB/4R+IkY46HZfGipz9ETwMkY4/fMqmJJkrRsHOsfnt419OjRAcanCjTWVnHPznYyqeL4+qSprtxlSpIkrRgz7lEUYzwMvGuOPvcjwDeApjl6P0mStASMTxZ4/NgA3dkcPdkcR/uHAdje0cC779pCOpVw29ZWaqocXy9JklQOMwqKQgibgI4Y45ev8NjrgXyM8fgM32sj8N3AbwI/P4taJUnSEpQ7Pzq9a+ihQ/0Mj09RU1nBHdtbedddW8ikEra0NZS7TEmSJDHzHUV/APQB3xYUAT8CdAHfO8P3+r+AXwJWX+0JIYT3A+8H2Lx58wzfVpIkLQaFQuTpE4P0ZHN09+Z45uR5ANY11fF9NxfH1+/Z2UZ9zWyGr0qSJGkhzPQntDuBP7zKYz3Ae2byJiGE7wFyMcYnQwj7r/a8GOMngU8C7N69O17teZIkaXE4NzLBg315erLF8fVnhsepCPD6zS384hu7SHclvGb9asfXS5IkLXIzDYrqKU46u5qZ7hffA3xfCOHNQB3QFEL4LzHGd87w9ZIkaRGIMdJ3emj6krInnz/LVCHSXF/Nvs4OMqmEvbs6aGmoKXepkiRJmoWZBkVfA94B/N0VHnsH8OxM3iTG+AngEwClHUW/YEgkSdLSMDI+xSNH+0uNqPOcHBwB4DXrm/jAvu1kUgk3b2qh0vH1kiRJS9ZMg6LfAv4qhFALfBp4EVhP8ZKzHyh9SZKkZeb4wMXpXUOPHDnD2GSB+ppK9uxs54PpnaRTHaxfs6rcZUqSJGmOzCgoijH+dQjhPcC/phgKRSAAJ4F3xhj/ZrYfHGM8AByY7eskSdL8mZgq8OTzZ4uNqLM5DuWGANjSVs87bt9MJpVwx/ZWaqsqy1ypJEmS5sOMx43EGP88hPBfKE44awPOAL0xRptNS5K0hPUPjXGgt9iI+sFDeS6MTlJdGbh9Wytvu20T6VTC9vYGG1FLkiStALOaS1sKhbLzVIskSVoAhULkmVPnir2GevN89cQgMULH6loeuHFdaXx9O6vrqstdqiRJkhbYjIOiEMJq4C1AJ8WJZd8ixvhLc1iXJEmaQxdGJ3joULER9YG+PPkLY4QAN21s5ufu7ySTSrh+fRMVNqKWJEla0WYUFIUQdgAPA/VAA5AHWkuvPwucAwyKJElaJGKMHMkPT/caevzYAJOFyOq6KvZ2dpDpStjX1UF7Y225S5UkSdIiMtMdRb8DPAH8EDAMvBl4GngbxQbXb5uX6iRJ0oyNTkzxpaNnONCbpzub44WBiwB0rm3kJ+7dRqYr4dYtLVRVVpS5UkmSJC1WMw2KbgfeB4yV7tfEGKeA/xpCaAd+F7h7HuqTJEnXcGpwhJ7eHD3ZHA8fPsPIxBS1VRXs2dnOT+7dTrqrg40t9eUuU5IkSUvETIOiOuB8jLEQQhgArrvksWeAm+a8MkmS9G0mpwp85fhgsRF1Nkf2pQsAbGhexQ/eupFMKuGuHW3UVTu+XpIkSbM306CoD9hSuv0V4AMhhM8CU8BPAKfmoTZJkgQMDI/zYF/xcrKDfXnOjUxQWRHYvaWFTzyQIpNK2Jk0Or5ekiRJr9pMg6L/DtwM/Dnwz4D/A5wHCqX3+LF5qE2SpBUpxsjXXzw/3Yj6qeODFCK0NdRw/2vWkk51cO+uDtascny9JEmS5taMgqIY429fcvtLIYQbgQcoXpLWHWN8Zp7qkyRpRRgem+Shw/30ZHP09OY4fb7YFvC1G9bwocwuMqmE121Y4/h6SZIkzauZ7ij6FjHG48An57gWSZJWlGP9w8VeQ705Hj06wPhUgcbaKu7d1U46lbC/q4NkdV25y5QkSdIKctWgKIRw/WzeKMb49VdfjiRJy9f4ZIHHnhugO5vjQG+Oo/3DAOzoaOA9d28h3ZWwe2srNVWOr5ckSVJ5XGtH0TNAnMF7hNLzHK8iSdJlTp8f5UBvsdfQQ4f6GR6foqaqgju3t/Huu7aQSa1lc5vj6yVJkrQ4XCsoSi9YFZIkLRNThcjTJwanG1E/e+o8AOvX1PGWWzaQ6Uq4e2cb9TWv6OpvSZIkaV5d9afUGOPBhSxEkqSl6tzFCQ4eytNTGl8/MDxORYBbt7Twi2/sIpNKSK1b7fh6SZIkLXqz+uvMEEIXcBuwHngReCLGmJ2PwiRJWqxijPSdHio2os7mePKFs0wVIs311ezv7CCdStjX2UFzfU25S5UkSZJmZUZBUQihCfjPwA8AFcAQ0AgUQgifAd4XYzw/b1VKklRmI+NTfPFIf6kRdZ6TgyMAXL++iQ/s204mlXDzphYqHV8vSZKkJWymO4p+H/gu4N3AZ2KMoyGEOorB0e+VHn/n/JQoSVJ5HB+4OD2+/pEjZxibLFBfU8mene18KLOTdFfCujWOr5ckSdLyMdOg6C3Az8UY/+vLB2KMo8BfhBDqgd+ej+IkSVpIE1MFnjh2lp7SlLLDuSEAtrbV8yN3bCaTSrh9Wyu1VQ76lCRJ0vI006BoiGJPois5BQzPTTmSJC2s/IUxDvQWdw19oa+fC2OTVFcGbt/Wyttv20QmlbC9o7HcZUqSJEkLYqZB0X8CfiGE0B1jHHn5YGk30S9QvPRMkqRFr1CIfO3kOXp6i42onz5xDoBkdS1vfu160qmEe3a101jr+HpJkiStPDP9KXgNsAs4HkL4HJADEuANwAjwRAjh35aeG2OMH5/zSiVJeoXOj07w0KFvNqLuHxojBLh5UzMfe0Mn6VTCDdc1Ob5ekiRJK95Mg6IfBCZKX3decvzCJY+/LAIGRZKksokxciRfHF/fnc3xxLGzTBYiTXVV7O3sIFMaX9/WWFvuUiVJkqRFZUZBUYxx23wXIknSqzE6McUjR89wIJujuzfH8YHildJda1fzvnuL4+tfv7mZqsqKMlcqSZIkLV42YJAkLVknB0foyRZ7DT18pJ/RiQJ11RXs2dHO+/fuIN3VwcaW+nKXKUmSJC0ZMwqKQgg/ADTHGP+4dH8b8BfA9cA/Aj8RYxycryIlSQKYnCrw5RcGS72GcmRfKl4BvbFlFT+8exPpVMJd29uoq3Z8vSRJkvRKzHRH0a8Cf3bJ/f8baAd+C/gp4DeBD85taZIkwcDwOAf7cnRn8zzYl+fcyARVFYHdW1v4lTenyKQSdnQ02ohakiRJmgMzDYq2A18DCCGsAb4LeGuM8e9CCC9QDIwMiiRJr1qMkWdPnS9eUtab4yvHB4kR2htreMP1a0l3Jdzb2U5TXXW5S5UkSZKWndn0KIql7/uAKeDzpfsngI65LEqStLIMjU3y8OH+6XDo9PkxAF63cQ0fzuwik0p47YY1VFS4a0iSJEmaTzMNip4GfjSE8CXgfUBPjHGs9NhmIDcfxUmSlq/n+ofpLjWifuy5AcanCqyureLeznbSXQn7ujpIVteVu0xJkiRpRZlpUPQrwP8LvAcYonjp2cv+CfDo3JYlSVpuxianeOy5gVIj6jzP9Q8DsDNp5D13byGdSrhtayvVjq+XJEmSymZGQVGM8aEQwmagEzhy2YSzTwGH56E2SdISd/r8KD3ZHN3ZHA8f7md4fIqaqgru2t7Gj929lXRXwuY2x9dLkiRJi8WMexTFGC8AT17h+GfntCJJ0pI1VYg8dXxwOhz6+ovnAVi/po633LKBTFfC3TvbqK+ZTYs8SZIkSQvlqj+phxB+BvjLGGO+dPtaYozxD+a2NEnSUjB4cZyDfXkO9OY52JdnYHicigC3bmnhl97URSaV0LV2tePrJUmSpCXgWn+l+3vAE0C+dPtaImBQJEkrQIyR3tMXphtRP/n8WQoRWuqr2d+VkE4l7N3VTnN9TblLlSRJkjRLVw2KYowVV7otSVp5Lo5P8sXDZ+juzXEgm+PUuVEArl/fxM/s30k6lXDzpmYqHV8vSZIkLWk2iZAkXdELZy7S01vsNfTI0TOMTxaor6nknp3tfPi+XezvSli3xvH1kiRJ0nJyrR5Fe2fzRjHGB199OZKkcpmYKvD4sYHpRtRH8sXx9dvaG3jnHVtIpzq4fVsrtVWVZa5UkiRJ0ny51o6iAxR7D718HUG85LFw2X0Af3OQpCUmd2GUA715erI5HjrUz4WxSaorA3dsa+NH7thCJpWwrb2h3GVKkiRJWiDXCopee8nt9cCngL8HPgPkgAT4AeCNwHvnq0BJ0twpFCJfPXmOnmyOnt4cXz1xDoC1TbV89+vWk04l7NnZTmOtVyZLkiRJK9G1mlk/+/LtEMK/Av4sxvirlz3t70MI/xL4KPD5ealQkvSqnB+d4At9/XRncxzsy9E/NE4IcMumZj72hk7SqYQbrmtyfL0kSZKkGTezvg/4vas8dpBiUCRJWgRijBzODRXH1/fmeOLYWSYLkaa6KvZ1JWRSHezrTGhtcHy9JEmSpG8106BoAHgL8LkrPPbW0uOSpDIZnZjikaNnphtRnzg7AkBq3Wp+cu92MqmEWzY1U1VZUeZKJUmSJC1mMw2Kfgv4vRDCVuBv+WaPorcADwAfmpfqJElXdXJwhO5sjgPZHA8f6Wd0okBddQX37GznA/t2kE4lbGheVe4yJUmSJC0hMwqKYoy/H0I4CfwKxUvQqoBJ4Cng+2OMfzNfBUqSiianCnz5hcHiJWXZHL2nLwCwqXUVb9u9iXQq4c7tbdRVO4RSkiRJ0isz47E2Mcb/BfyvEEIF0AHkY4yFeatMksSZoTEO9uXpzuZ4sC/P+dFJqioCt21t5Z+++TWkUx3s6Gi0EbUkSZKkOTHr+celcOj0PNQiSStejJFnT52fbkT91PFBYoT2xlq+64Z1ZFIJ9+xqp6muutylSpIkSVqGZh0USZLm1tDYJA8d6qenFA7lLowBcNPGNXzkvl1kUgk3XreGigp3DUmSJEmaXwZFklQGR/PfHF//2HMDTExFVtdWcW9nO+muhP1dCR2ra8tdpiRJkqQVxqBIkhbA2OQUjx4doKe32Ij62JmLAOxMGvnxPdtIdyXs3tpCtePrJUmSJJWRQZEkzZOXzo3S05ujO5vj4cP9XByfoqaqgrt3tPHee4rh0KbW+nKXKUmSJEnTDIokaY5MFSJPHT9LdzZHdzbPN148D8B1a+p46y0byKQS7t7Rzqoax9dLkiRJWpwMiiTpVRi8OM7Bvjw92RwH+/KcvThBZUXg1s0tfPxNKTKphM61jq+XJEmStDQYFEnSLMQYyb50odiIOpvjyy+cpRChtaGm2IQ6lbBvVwdr6h1fL0mSJGnpMSiSpO/g4vgkDx8+Q3c2x4HeHC+eGwXghuua+GB6J+lUwk0bm6l0fL0kSZKkJc6gSJKu4Pkzw/Rkc3T35vnS0TOMTxZoqKnknl3tfPT+XezvSljbVFfuMiVJkiRpThkUSRIwPlngiWMDxUbUvTmO5ocB2N7ewDvv2EImlXDbthZqq2xELUmSJGn5WtCgKISwCfgzYB1QAD4ZY/zdhaxBkl6WuzDKgd5iI+ovHOpnaGySmsoK7tjeOh0ObW1vKHeZkiRJkrRgFnpH0STwsRjjl0MIq4EnQwifizF+fYHrkLQCFQqRr548N92I+msnzwGwtqmW771pPemuhD0722modbOlJEmSpJVpQX8bijG+CLxYun0hhPANYANgUCRpXpwbmeALh/L0ZPMc7MvRPzRORYBbNrfwC9/VSTqVcP36JsfXS5IkSRJl7FEUQtgK3AI8eoXH3g+8H2Dz5s0LW5ikJS3GyOHcULHXUDbHE8+fZaoQWbOqmn2dHWRSCXs7O2htqCl3qZIkSZK06JQlKAohNAJ/BXw0xnj+8sdjjJ8EPgmwe/fuuMDlSVpiRiemeORIcXx9T2+OE2dHAEitW81P7d1OOpVwy6ZmqiorylypJEmSJC1uCx4UhRCqKYZEfxFj/MxCf76k5eHE2Yv0ZHP09Ob54pF+RicKrKquZM/ONn56/w7SXQnXNa8qd5mSJEmStKQs9NSzAPwx8I0Y428v5GdLWtompwo8+fxZunuLjaj7Tg8BsLm1nrfftpl0KuGOba3UVTu+XpIkSZJeqYXeUbQHeBfwtRDCU6VjvxJj/OwC1yFpCTgzNMaB3jzdvTke7MtzYXSSqorAbVtb+adv3kQ6lbCjo8FG1JIkSZI0RxZ66tlDgL/RSbqiQiHy7Knz9PQWG1E/fWKQGKG9sZY33bCOTCrhnl3trK6rLnepkiRJkrQslW3qmSQBDI1N8tChfKkRdZ78hTFCgNdtbOaj93WSTnVw43VrqKgwY5YkSZKk+WZQJGlBxRg52j9MT2l8/ePHBpiYiqyurWJvZwfpVML+rg7aG2vLXaokSZIkrTgGRZLm3ejEFI89NzA9vv75MxcB2JU08t4920inEm7d0kK14+slSZIkqawMiiTNixfPjdCTLV5S9vDhfkYmpqitquDuHW38xD3bSHclbGqtL3eZkiRJkqRLGBRJmhNThchXXjg73WvoGy+eB2BD8yp+4NYNZFIJd21vZ1WN4+slSZIkabEyKJL0ip0dHufBUiPqg315Bi9OUFkRuHVLC7/8QIpMKmFX0uj4ekmSJElaIgyKJM1YjJFvvHhhenz9V144SyFCa0MNma6EdCph764O1tQ7vl6SJEmSliKDIknXdHF8kocPn6E7m+NAb44Xz40CcOOGJj6U3kk6lfC6jc1UOr5ekiRJkpY8gyJJ3+b5M8N0l8bXP3p0gPGpAg01ldy7q4Ofu784vj5pqit3mZIkSZKkOWZQJInxyQKPHxugJ5ujuzfH0fwwANs7GnjXXVvIpBJu29pKTZXj6yVJkiRpOTMoklao3PlRDvQWG1E/dLifobFJaioruGN7K++6cwvproSt7Q3lLlOSJEmStIAMiqQVolCIPH1icHrX0DMni+Pr1zXV8b03XUe6q4M9O9tpqPW0IEmSJEkrlb8RSsvYuZEJHuzL09Ob42BvnjPD41QEuGVzC7/4xi7SXQmvWb/a8fWSJEmSJMCgSFpWYowcyg1NN6J+8vmzTBUizfXV7OvsIFMaX9/SUFPuUiVJkiRJi5BBkbTEjYxP8cjRfrqzOXqyeU4OjgCQWrean9q7nUwq4ZbNLY6vlyRJkiR9RwZF0hJ0fOAiB3qLu4a+eOQMY5MFVlVXsmdnOx9M7ySd6mD9mlXlLlOSJEmStMQYFElLwMRUgSefP1tsRJ3NcSg3BMCWtnrecftm0qmEO7a1UlddWeZKJUmSJElLmUGRtEj1D41xoDdPTzbHg4fyXBidpKoicPu2Vt522ybSqYTt7Q02opYkSZIkzRmDImmRKBQiz546X2xE3ZvjqycGiRE6VtfywI3ryKQS9uxsZ3VddblLlSRJkiQtUwZFUhldGJ3goUPFRtQH+vLkL4wRAty0sZmP3tdJJpVww3VNVNiIWpIkSZK0AAyKpAUUY+RIfpiebI6e3hyPHxtgYiqyuq6KvZ0dZLoS9nV10N5YW+5SJUmSJEkrkEGRNM9GJ6Z49LmB6UbULwxcBKBzbSPvvWcbma6E129pobqyosyVSpIkSZJWOoMiaR6cGhyhpzdHTzbHw4fPMDIxRW1VBXfvaOMn793G/q6ETa315S5TkiRJkqRvYVAkzYHJqQJPHR8sNqLO5si+dAGADc2r+MFbN5JJJdy1o83x9ZIkSZKkRc2gSHqFzg6Pc7AvT3dpfP3gxQkqKwK7t7TwiQdSpFMJu5JGx9dLkiRJkpYMgyJphmKMfP3F8xzoLYZDX3nhLIUIbQ01ZFIJmVTCvbs6WLPK8fWSJEmSpKXJoEi6huGxSR4+3F/qN5TnpfOjALx2wxo+lNlFJpXwug1rHF8vSZIkSVoWDIqkyxzrH6a7NL7+0aMDjE8VaKyt4t5d7aS7EvZ3dZA01ZW7TEmSJEmS5pxBkVa88ckCjz03MD2l7Gj/MADbOxp4911byKQSdm9tpabK8fWSJEmSpOXNoEgrUu78KD29xQllDx3qZ3h8ipqqCu7c3sa779pCOpWwpa2h3GVKkiRJkrSgDIq0IkwVIk+fGKSndEnZMyfPA7B+TR3fd/MGMqmEPTvbqK/xPwlJkiRJ0srlb8Vats5dnODBQ3l6sjkO9OUZGB6nIsDrN7fwi2/sIpNKSK1b7fh6SZIkSZJKDIq0bMQY6Ts9VGxEnc3x5AtnmSpEmuur2d/ZQTqVsHdXBy0NNeUuVZIkSZKkRcmgSEvayPgUXzzST3c2x4HePCcHRwB4zfomPrBvO5lUws2bWqh0fL0kSZIkSd+RQZGWnOMDF6cbUT9y5AxjkwXqayrZs7OdD2V2sr+rg/VrVpW7TEmSJEmSlhyDIi16E1MFnjh2djocOpwbAmBLWz3vuH0zmVTCHdtbqa2qLHOlkiRJkiQtbQZFWpTyF8Y40Fu8nOzBQ3kujE5SXRm4fVsrb79tE5lUwvaOxnKXKUmSJEnSsmJQpEWhUIg8c+rcdCPqp0+cAyBZXcubb1xPOpVwz652GmtdspIkSZIkzRd/61bZnB+d4KFD32xE3T80Rghw08Zmfv4NnWRSCdevb6LCRtSSJEmSJC0IgyItmBgjR/JD9GTzdGdzPH5sgMlCpKmuir2dHWRSCfs6O2hrrC13qZIkSZIkrUgGRZpXoxNTfOnoGXqyObp7cxwfKI6v71q7mvfdu510Vwe3bmmhqrKizJVKkiRJkiSDIs25U4Mj9PQWew09fPgMIxNT1FVXcPeOdt6/dwfprg42ttSXu0xJkiRJknQZgyK9apNTBb5yfHC6EXX2pQsAbGxZxQ/t3kg6lXDX9jbqqh1fL0mSJEnSYmZQpFdkYHicg305urN5HuzLc25kgqqKwO6tLXzigRSZVMLOpJEQbEQtSZIkSdJSYVCkGYkx8uyp8xzozdGdzfGV44PECO2NNdz/mrVkUgn3drbTVFdd7lIlSZIkSdIrZFCkqxoem+Shw/30ZHP09OY4fX4MgNdtXMOHM7vIpBJeu2GN4+slSZIkSVomDIr0LZ7rH6Y7m+NAb45Hjw4wPlWgsbaKe3e1k04l7O/qIFldV+4yJUmSJEnSPDAoWuHGJqd4/LmzxUbUvTme6x8GYEdHA++5ewvpVMLuLa3UVDm+XpIkSZKk5c6gaAU6fX6Unmyx19DDh/sZHp+ipqqCu7a38Z67tpBJrWVzm+PrJUmSJElaaQyKVoCpQuSp44PTvYaePXUegPVr6njLLRvIdCXcvbON+hqXgyRJkiRJK5nJwDJ17uIEBw/l6cnmONiXZ2B4nIoAt25p4Zfe1EUmldC1drXj6yVJkiRJ0jSDomUixkjv6QvFXkPZHE8+f5ZChJb6avZ1dpBOJezr7KC5vqbcpUqSJEmSpEXKoGgJGxmf4uHD/fT0FsOhU+dGAbh+fRM/s38n6VTCzZuaqXR8vSRJkiRJmgGDoiXm+MBFukuNqB85eobxyQL1NZXcs7OdD9+3i/1dCevWOL5ekiRJkiTNnkHRIjcxVeDxYwPTU8qO5Ivj67e21fOjd2wmk0q4fVsrtVWVZa5UkiRJkiQtdQZFi1D+whgHeosTyr7Q18+FsUmqKwN3bGvjR+7YQiaVsK29odxlSpIkSZKkZcagaBEoFCJfO3mu2Ii6N8dXT5wDYG1TLd/9uvXs70q4Z1c7jbX+cUmSJEmSpPmz4MlDCOFNwO8ClcAfxRh/a6FrWAzOj07w0KF+urM5DvTm6R8aIwS4eVMzH3tDJ+lUwg3XNTm+XpIkSZIkLZgFDYpCCJXAfwLeAJwAHg8h/G2M8esLWUc5xBg5kh+abkT9xLGzTBYiTXVV7OtKyKQ62NeZ0Nrg+HpJkiRJklQeC72j6HbgcIzxKEAI4b8DbwGWdVD0N185yX/4XC/HB0YASK1bzfvu3U4mlfD6zc1UVVaUuUJJkiRJkqSFD4o2AMcvuX8CuOPyJ4UQ3g+8H2Dz5s0LU9k8aqitojNZzU/t3UE6lbCheVW5S5IkSZIkSfo2Cx0UXanhTvy2AzF+EvgkwO7du7/t8aXmDdev5Q3Xry13GZIkSZIkSde00Nc8nQA2XXJ/I3BqgWuQJEmSJEnSFSx0UPQ4sCuEsC2EUAO8HfjbBa5BkiRJkiRJV7Cgl57FGCdDCB8C/g9QCXwqxvjsQtYgSZIkSZKkK1voHkXEGD8LfHahP1eSJEmSJEnX5lx2SZIkSZIkAQZFkiRJkiRJKjEokiRJkiRJEmBQJEmSJEmSpBKDIkmSJEmSJAEGRZIkSZIkSSoxKJIkSZIkSRJgUCRJkiRJkqQSgyJJkiRJkiQBEGKM5a7hmkIIeeD5ctcxB9qB/nIXoSXFNaPZcs1otlwzmi3XjGbLNaPZcs1otlwzr9yWGGPH5QcXfVC0XIQQnogx7i53HVo6XDOaLdeMZss1o9lyzWi2XDOaLdeMZss1M/e89EySJEmSJEmAQZEkSZIkSZJKDIoWzifLXYCWHNeMZss1o9lyzWi2XDOaLdeMZss1o9lyzcwxexRJkiRJkiQJcEeRJEmSJEmSSgyKFkAI4U0hhN4QwuEQwi+Xux4tDiGEYyGEr4UQngohPFE61hpC+FwI4VDpe8slz/9EaQ31hhDeWL7KtVBCCJ8KIeRCCM9ccmzWaySEcGtprR0OIfzHEEJY6H8WLYyrrJlfDyGcLJ1rngohvPmSx1wzK1wIYVMIoSeE8I0QwrMhhI+Ujnuu0RVdY814rtEVhRDqQgiPhRCeLq2Z3ygd9zyjK7rGmvE8s0AMiuZZCKES+E/AA8D1wDtCCNeXtyotIukY482XjHP8ZeAfY4y7gH8s3ae0Zt4O3AC8Cfj90trS8vZpin/el3ola+QPgPcDu0pfl7+nlo9Pc+U/398pnWtujjF+FlwzmjYJfCzG+BrgTuCDpbXhuUZXc7U1A55rdGVjQCbGeBNwM/CmEMKdeJ7R1V1tzYDnmQVhUDT/bgcOxxiPxhjHgf8OvKXMNWnxegvwp6Xbfwr8k0uO//cY41iM8TngMMW1pWUsxvggMHDZ4VmtkRDCeqApxvhILDal+7NLXqNl5ipr5mpcMyLG+GKM8cul2xeAbwAb8Fyjq7jGmrka18wKF4uGSnerS18RzzO6imusmatxzcwxg6L5twE4fsn9E1z7f6ZaOSLwDyGEJ0MI7y8dWxtjfBGKP4gBSem460gvm+0a2VC6fflxrSwfCiF8NRQvTXt5a79rRt8ihLAVuAV4FM81moHL1gx4rtFVhBAqQwhPATngczFGzzO6pqusGfA8syAMiubfla6BdNScAPbEGF9P8bLED4YQ9l7jua4jfSdXWyOuHf0BsIPi1u0Xgf9QOu6a0bQQQiPwV8BHY4znr/XUKxxz3axAV1gznmt0VTHGqRjjzcBGijs9brzG010zutqa8TyzQAyK5t8JYNMl9zcCp8pUixaRGOOp0vcc8NcULyU7XdoiSel7rvR015FeNts1cqJ0+/LjWiFijKdLP2wVgP/MNy9bdc0IgBBCNcVf+P8ixviZ0mHPNbqqK60ZzzWaiRjjIHCAYp8YzzP6ji5dM55nFo5B0fx7HNgVQtgWQqih2GTrb8tck8oshNAQQlj98m3gu4BnKK6N95Se9h7gf5Vu/y3w9hBCbQhhG8VGbI8tbNVaJGa1RkpbuS+EEO4sTXl49yWv0Qrw8g/hJW+leK4B14yA0p/xHwPfiDH+9iUPea7RFV1tzXiu0dWEEDpCCM2l26uA+4Esnmd0FVdbM55nFk5VuQtY7mKMkyGEDwH/B6gEPhVjfLbMZan81gJ/XZrOWAX81xjj34cQHgf+RwjhJ4AXgB8CiDE+G0L4H8DXKU4b+WCMcao8pWuhhBD+G7AfaA8hnAB+DfgtZr9GfpriNKxVwP8ufWkZusqa2R9CuJniVutjwE+Ba0bT9gDvAr5W6gUB8Ct4rtHVXW3NvMNzja5iPfCnpSlUFcD/iDH+fyGER/A8oyu72pr5c88zCyMUm39LkiRJkiRppfPSM0mSJEmSJAEGRZIkSZIkSSoxKJIkSZIkSRJgUCRJkiRJkqQSgyJJkiRJkiQBBkWSJEmSJEkqMSiSJEnLUgjhh0MIP3aF4wdCCP+zDCVdXseGEMJQCGH7DJ+/O4RwJoSwZr5rkyRJK1eIMZa7BkmSpDlXCoPaY4z7Lzt+PTARYzxUlsK+WccfAM0xxnfM4jX/CHwhxvjr81aYJEla0dxRJEmSVpQY49cXQUjUBLwH+NQsX/onwAdCCFVzX5UkSZJBkSRJWoZCCJ8GfgDYF0KIpa9fLz32LZeehRB+PYTQH0K4I4TwRAhhJITwUAhhWwghCSH8TekSsW+EEDJX+Kz3hRCeDSGMhRCeDyH80gxK/GFgBOi+7L0+EUI4HEIYDSGcDiH8fQhh3SVP+VugFXjjbP+dSJIkzYR/GyVJkpajfwFsBpqBnykdO3GN59cDnwT+LTAM/Efgz4Ex4H8Dvw/8EvCXIYRNMcaLACGEXwT+Vel1B4BbgX8RQrgYY/y9a3zefcBjMcaplw+EEN4N/ArwceBZoA3IAA0vPyfGeD6E8CxwP/B33+lfgiRJ0mwZFEmSpGUnxngkhDAAVMQYvzSDl6wCPhxjPAgQQrgO+E/Ar8UY/33p2AmKAc4+4H+XLh/7NeBfxhh/o/Q+nwsh1AO/GkL4g0uDoMvcCvyvy47dDvxDjPH3Lzn2mSu89unScyVJkuacl55JkiTBOPCFS+4fLn3vvsKxDaXvd1Hc7fOXIYSql79Kr1kLbLzG560D+i879hTw5hDCb4QQbg8hVF7ltf2l10uSJM05gyJJkiS4EGMsXHJ/vPR98OUDMcaXj9WVvreXvj8LTFzy1VM6vukan1dH8bK2S32K4qVnPww8CpwOIfyLKwRGY5fUIEmSNKe89EySJOmVGSh9/x7g9BUe7/0Or22+9EApqPod4HdCCJuAHwV+EzgJ/OElT22+5LMlSZLmlEGRJElarsaZ3503j1CcXHZdjHG2jaV7gW1XezDGeBz4rRDCjwPXX/bwVqBvlp8nSZI0IwZFkiRpucoCbwkh/BOKE89OxRhPzdWbxxgHQwi/DvxuCGEL8CDFy/o7gXSM8a3XePnDwPddeiCE8P9Q3Cn0JeAckAZ2UZyCdqndwL+Zi38GSZKky9mjSJIkLVe/D/wDxd4/jwPvn+sPiDH+29L7PkBxitl/o3jJ2Beu9TqK08yuDyFsvuTYI8Be4E+AzwJvBX4yxvg3Lz8hhHAL0MGVp6FJkiS9aiHGWO4aJEmSVpwQwlPAX8QY/90sXvOvgdtijPfPW2GSJGlFMyiSJEkqgxDCDwH/DtgZY5ycwfMbgOeBH4wxHpjn8iRJ0gpljyJJkqTy+J/AdmADxQDoO9kM/HNDIkmSNJ/cUSRJkiRJkiTAZtaSJEmSJEkqMSiSJEmSJEkSYFAkSZIkSZKkEoMiSZIkSZIkAQZFkiRJkiRJKvn/AQ6likf+5Ta9AAAAAElFTkSuQmCC\n",
      "text/plain": [
       "<Figure size 1440x432 with 1 Axes>"
      ]
     },
     "metadata": {
      "needs_background": "light"
     },
     "output_type": "display_data"
    }
   ],
   "source": [
    "displacements = [x * 0.0025 for x in range(0, 3601, 1)]\n",
    "time = range(0,3601,1)\n",
    "plt.figure(figsize=(20,6))\n",
    "plt.plot(time, displacements)\n",
    "plt.ylabel(\"displacement (m)\", fontsize = 15)\n",
    "plt.xlabel(\"time (s)\", fontsize = 15)\n"
   ]
  },
  {
   "cell_type": "markdown",
   "metadata": {},
   "source": [
<<<<<<< HEAD
    "Let's calculate some velocities in $m/s$."
=======
    "Let's calculate some velocities in $ms^-1$."
>>>>>>> main
   ]
  },
  {
   "cell_type": "code",
<<<<<<< HEAD
   "execution_count": 121,
=======
   "execution_count": 241,
>>>>>>> main
   "metadata": {
    "scrolled": true
   },
   "outputs": [
    {
     "name": "stdout",
     "output_type": "stream",
     "text": [
      "displacement between  0.01  m  and  0.025  m.\n"
     ]
    }
   ],
   "source": [
    "print(\"displacement between \", displacements[4], \" m  and \", displacements[10], \" m.\")"
   ]
  },
  {
   "cell_type": "code",
<<<<<<< HEAD
   "execution_count": 122,
=======
   "execution_count": 242,
>>>>>>> main
   "metadata": {},
   "outputs": [
    {
     "name": "stdout",
     "output_type": "stream",
     "text": [
<<<<<<< HEAD
      "delta x (displacement)  0.015000000000000001 m \n"
=======
      "delta x - displacement  0.015000000000000001 m \n"
>>>>>>> main
     ]
    }
   ],
   "source": [
    "delta_x = displacements[10] - displacements[4]\n",
<<<<<<< HEAD
    "print(\"delta x (displacement) \", delta_x , \"m \")"
=======
    "print(\"delta x - displacement \", delta_x , \"m \")"
>>>>>>> main
   ]
  },
  {
   "cell_type": "code",
<<<<<<< HEAD
   "execution_count": 123,
=======
   "execution_count": 243,
>>>>>>> main
   "metadata": {},
   "outputs": [
    {
     "name": "stdout",
     "output_type": "stream",
     "text": [
<<<<<<< HEAD
      " delta t (time)  6 s \n"
=======
      " delta t - time  6 s \n"
>>>>>>> main
     ]
    }
   ],
   "source": [
    "delta_t = time[10] - time[4]\n",
<<<<<<< HEAD
    "print(\" delta t (time) \", delta_t , \"s \")"
=======
    "print(\" delta t - time \", delta_t , \"s \")"
>>>>>>> main
   ]
  },
  {
   "cell_type": "code",
<<<<<<< HEAD
   "execution_count": 124,
=======
   "execution_count": 244,
>>>>>>> main
   "metadata": {},
   "outputs": [
    {
     "name": "stdout",
     "output_type": "stream",
     "text": [
      " velocity  0.0025 m/s \n"
     ]
    }
   ],
   "source": [
    "velocity = delta_x / delta_t\n",
    "print(\" velocity \", velocity , \"m/s \")"
   ]
  },
  {
   "cell_type": "markdown",
   "metadata": {},
   "source": [
    "The velocity of the whole distance"
   ]
  },
  {
   "cell_type": "code",
<<<<<<< HEAD
   "execution_count": 125,
=======
   "execution_count": 245,
>>>>>>> main
   "metadata": {
    "scrolled": true
   },
   "outputs": [
    {
     "name": "stdout",
     "output_type": "stream",
     "text": [
      "displacement between  0.0  m  and  9.0  m.\n"
     ]
    }
   ],
   "source": [
    "print(\"displacement between \", displacements[0], \" m  and \", displacements[3600], \" m.\")"
   ]
  },
  {
   "cell_type": "code",
<<<<<<< HEAD
   "execution_count": 126,
=======
   "execution_count": 246,
>>>>>>> main
   "metadata": {},
   "outputs": [
    {
     "name": "stdout",
     "output_type": "stream",
     "text": [
<<<<<<< HEAD
      "delta x (displacement)  9.0 m \n"
=======
      "delta x - displacement  9.0 m \n"
>>>>>>> main
     ]
    }
   ],
   "source": [
    "delta_x = displacements[3600] - displacements[0]\n",
<<<<<<< HEAD
    "print(\"delta x (displacement) \", delta_x , \"m \")"
=======
    "print(\"delta x - displacement \", delta_x , \"m \")"
>>>>>>> main
   ]
  },
  {
   "cell_type": "code",
<<<<<<< HEAD
   "execution_count": 127,
=======
   "execution_count": 247,
>>>>>>> main
   "metadata": {},
   "outputs": [
    {
     "name": "stdout",
     "output_type": "stream",
     "text": [
      " delta t - time  3600 s \n"
     ]
    }
   ],
   "source": [
    "delta_t = time[3600] - time[0]\n",
    "print(\" delta t - time \", delta_t , \"s \")"
   ]
  },
  {
   "cell_type": "code",
<<<<<<< HEAD
   "execution_count": 128,
=======
   "execution_count": 248,
>>>>>>> main
   "metadata": {},
   "outputs": [
    {
     "name": "stdout",
     "output_type": "stream",
     "text": [
      " velocity  0.0025 m/s \n"
     ]
    }
   ],
   "source": [
    "velocity = delta_x / delta_t\n",
    "print(\" velocity \", velocity , \"m/s \")"
   ]
  },
  {
   "cell_type": "markdown",
   "metadata": {},
   "source": [
    "### Example no 2 : perigrine falcon\n",
    "\n",
    "https://en.wikipedia.org/wiki/Fastest_animals\n",
    "\n",
    "- displacements has been estimated to 88 m. We are moving forward.\n",
    "- time is in seconds for an hour; i.e, 0 to 3659 seconds\n",
    "\n"
   ]
  },
  {
   "cell_type": "code",
<<<<<<< HEAD
   "execution_count": 129,
=======
   "execution_count": 249,
>>>>>>> main
   "metadata": {},
   "outputs": [
    {
     "data": {
      "text/plain": [
       "Text(0.5, 0, 'time (s)')"
      ]
     },
<<<<<<< HEAD
     "execution_count": 129,
=======
     "execution_count": 249,
>>>>>>> main
     "metadata": {},
     "output_type": "execute_result"
    },
    {
     "data": {
      "image/png": "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\n",
      "text/plain": [
       "<Figure size 1440x432 with 1 Axes>"
      ]
     },
     "metadata": {
      "needs_background": "light"
     },
     "output_type": "display_data"
    }
   ],
   "source": [
    "displacements = [x * 88 for x in range(0, 3601, 1)]\n",
    "time = range(0,3601,1)\n",
    "plt.figure(figsize=(20,6))\n",
    "plt.plot(time, displacements)\n",
    "plt.ylabel(\"displacement (m)\", fontsize = 15)\n",
    "plt.xlabel(\"time (s)\", fontsize = 15)\n"
   ]
  },
  {
   "cell_type": "markdown",
   "metadata": {},
   "source": [
<<<<<<< HEAD
    "Let's calculate some velocities in $m/s$."
=======
    "Let's calculate some velocities in $ms^-1$."
>>>>>>> main
   ]
  },
  {
   "cell_type": "code",
<<<<<<< HEAD
   "execution_count": 130,
=======
   "execution_count": 250,
>>>>>>> main
   "metadata": {
    "scrolled": true
   },
   "outputs": [
    {
     "name": "stdout",
     "output_type": "stream",
     "text": [
      "displacement between  352  m  and  880  m.\n"
     ]
    }
   ],
   "source": [
    "print(\"displacement between \", displacements[4], \" m  and \", displacements[10], \" m.\")"
   ]
  },
  {
   "cell_type": "code",
<<<<<<< HEAD
   "execution_count": 131,
=======
   "execution_count": 251,
>>>>>>> main
   "metadata": {},
   "outputs": [
    {
     "name": "stdout",
     "output_type": "stream",
     "text": [
<<<<<<< HEAD
      "delta x (displacement)  528 m \n"
=======
      "delta x - displacement  528 m \n"
>>>>>>> main
     ]
    }
   ],
   "source": [
    "delta_x = displacements[10] - displacements[4]\n",
<<<<<<< HEAD
    "print(\"delta x (displacement) \", delta_x , \"m \")"
=======
    "print(\"delta x - displacement \", delta_x , \"m \")"
>>>>>>> main
   ]
  },
  {
   "cell_type": "code",
<<<<<<< HEAD
   "execution_count": 132,
=======
   "execution_count": 252,
>>>>>>> main
   "metadata": {},
   "outputs": [
    {
     "name": "stdout",
     "output_type": "stream",
     "text": [
<<<<<<< HEAD
      " delta t (time)  6 s \n"
=======
      " delta t - time  6 s \n"
>>>>>>> main
     ]
    }
   ],
   "source": [
    "delta_t = time[10] - time[4]\n",
<<<<<<< HEAD
    "print(\" delta t (time) \", delta_t , \"s \")"
=======
    "print(\" delta t - time \", delta_t , \"s \")"
>>>>>>> main
   ]
  },
  {
   "cell_type": "code",
<<<<<<< HEAD
   "execution_count": 133,
=======
   "execution_count": 253,
>>>>>>> main
   "metadata": {},
   "outputs": [
    {
     "name": "stdout",
     "output_type": "stream",
     "text": [
      " velocity  88.0 m/s \n"
     ]
    }
   ],
   "source": [
    "velocity = delta_x / delta_t\n",
    "print(\" velocity \", velocity , \"m/s \")"
   ]
  },
  {
   "cell_type": "markdown",
   "metadata": {},
   "source": [
    "The velocity of the whole distance"
   ]
  },
  {
   "cell_type": "code",
<<<<<<< HEAD
   "execution_count": 134,
=======
   "execution_count": 254,
>>>>>>> main
   "metadata": {
    "scrolled": true
   },
   "outputs": [
    {
     "name": "stdout",
     "output_type": "stream",
     "text": [
      "displacement between  0  m  and  316800  m.\n"
     ]
    }
   ],
   "source": [
    "print(\"displacement between \", displacements[0], \" m  and \", displacements[3600], \" m.\")"
   ]
  },
  {
   "cell_type": "code",
<<<<<<< HEAD
   "execution_count": 135,
=======
   "execution_count": 255,
>>>>>>> main
   "metadata": {},
   "outputs": [
    {
     "name": "stdout",
     "output_type": "stream",
     "text": [
<<<<<<< HEAD
      "delta x (displacement)  316800 m \n"
=======
      "delta x - displacement  316800 m \n"
>>>>>>> main
     ]
    }
   ],
   "source": [
    "delta_x = displacements[3600] - displacements[0]\n",
<<<<<<< HEAD
    "print(\"delta x (displacement) \", delta_x , \"m \")"
=======
    "print(\"delta x - displacement \", delta_x , \"m \")"
>>>>>>> main
   ]
  },
  {
   "cell_type": "code",
<<<<<<< HEAD
   "execution_count": 136,
=======
   "execution_count": 256,
>>>>>>> main
   "metadata": {},
   "outputs": [
    {
     "name": "stdout",
     "output_type": "stream",
     "text": [
<<<<<<< HEAD
      " delta t (time)  3600 s \n"
=======
      " delta t - time  3600 s \n"
>>>>>>> main
     ]
    }
   ],
   "source": [
    "delta_t = time[3600] - time[0]\n",
<<<<<<< HEAD
    "print(\" delta t (time) \", delta_t , \"s \")"
=======
    "print(\" delta t - time \", delta_t , \"s \")"
>>>>>>> main
   ]
  },
  {
   "cell_type": "code",
<<<<<<< HEAD
   "execution_count": 137,
=======
   "execution_count": 257,
>>>>>>> main
   "metadata": {},
   "outputs": [
    {
     "name": "stdout",
     "output_type": "stream",
     "text": [
      " velocity  88.0 m/s \n"
     ]
    }
   ],
   "source": [
    "velocity = delta_x / delta_t\n",
    "print(\" velocity \", velocity , \"m/s \")"
   ]
  },
  {
   "cell_type": "markdown",
   "metadata": {},
   "source": [
    "## Math summary\n",
    "\n",
    "In both examples, we have found the same average velocity, whether we use the whole displacement or a smaller displacement.   \n",
    "\n",
    "__Average velocity:__\n",
    "\n",
<<<<<<< HEAD
    "$\\overline{v} = \\frac{\\Delta x}{\\Delta t}$, where $\\Delta x$ is the displacement and $\\Delta t$ is the time.\n",
=======
    "$\\overline{v} = \\frac{\\Delta x}{\\Delta t}$, where $\\Delta x$ is the displacement and $\\Delta t$\n",
>>>>>>> main
    "\n",
    "__Gradient of straight line:__\n",
    "\n",
    "$gradient  = \\frac{\\Delta x}{\\Delta y}$, where $\\Delta x $ is referred to the run and $\\Delta y$ is the rise.\n",
    "\n",
    "The gradient is $m$ in $mx + c$. \n",
    "\n",
    "For more information go to:\n",
    "\n",
    "https://www.mathsisfun.com/gradient.html"
   ]
  },
  {
   "cell_type": "markdown",
   "metadata": {},
   "source": [
    "# Acceleration"
   ]
  },
  {
   "cell_type": "markdown",
   "metadata": {},
   "source": [
<<<<<<< HEAD
    "We are assuming that the acceleration is a _rate of change_ in the velocity.\n",
=======
    "We are assuming that the acceleration is a rate of change in the acceleration\n",
>>>>>>> main
    "\n",
    "https://en.wikipedia.org/wiki/Acceleration\n",
    "\n",
    "__Acceleration:__\n",
    "\n",
<<<<<<< HEAD
    "$\\overline{a} = \\frac{\\Delta v}{\\Delta t}$, where $\\Delta v$ is the velocity and $\\Delta t$ is the time.\n",
=======
    "$\\overline{a} = \\frac{\\Delta v}{\\Delta t}$, where $\\Delta x$ is the displacement and $\\Delta t$\n",
>>>>>>> main
    "\n"
   ]
  },
  {
   "cell_type": "markdown",
   "metadata": {},
   "source": [
    "### Example no 1 : starfish\n",
    "\n",
    "https://safarisafricana.com/slowest-animals/\n",
    "\n",
    "- velocity has been computed to 0.0025 $ms^-1$ - see above section\n",
    "- time is in seconds for an hour; i.e, 0 to 3659 seconds\n",
    "\n"
   ]
  },
  {
   "cell_type": "code",
<<<<<<< HEAD
   "execution_count": 138,
=======
   "execution_count": 258,
>>>>>>> main
   "metadata": {},
   "outputs": [
    {
     "data": {
      "text/plain": [
       "Text(0.5, 0, 'time (s)')"
      ]
     },
<<<<<<< HEAD
     "execution_count": 138,
=======
     "execution_count": 258,
>>>>>>> main
     "metadata": {},
     "output_type": "execute_result"
    },
    {
     "data": {
      "image/png": "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\n",
      "text/plain": [
       "<Figure size 1440x432 with 1 Axes>"
      ]
     },
     "metadata": {
      "needs_background": "light"
     },
     "output_type": "display_data"
    }
   ],
   "source": [
    "velocity = [0.0025] * 3601\n",
    "time = [*range(0,3601,1)]\n",
    "plt.figure(figsize=(20,6))\n",
    "plt.plot(time, velocity)\n",
    "plt.ylabel(\"velocity (m/s)\")\n",
    "plt.xlabel(\"time (s)\")\n"
   ]
  },
  {
   "cell_type": "markdown",
   "metadata": {},
   "source": [
<<<<<<< HEAD
    "Let's calculate some accelerations in $ms^{-2}$."
=======
    "Let's calculate some accelerations in $ms^-2$."
>>>>>>> main
   ]
  },
  {
   "cell_type": "code",
<<<<<<< HEAD
   "execution_count": 139,
=======
   "execution_count": 259,
>>>>>>> main
   "metadata": {
    "scrolled": true
   },
   "outputs": [
    {
     "name": "stdout",
     "output_type": "stream",
     "text": [
<<<<<<< HEAD
      "velocity change between  0.0025  m/s  and  0.0025  m/s\n"
=======
      "velocity change between  0.0025  m  and  0.0025  m.\n"
>>>>>>> main
     ]
    }
   ],
   "source": [
<<<<<<< HEAD
    "print(\"velocity change between \", velocity[4], \" m/s  and \", \n",
    "      velocity[10], \" m/s\")"
=======
    "print(\"velocity change between \", velocity[4], \" m  and \", velocity[10], \" m.\")"
>>>>>>> main
   ]
  },
  {
   "cell_type": "code",
<<<<<<< HEAD
   "execution_count": 140,
=======
   "execution_count": 260,
>>>>>>> main
   "metadata": {},
   "outputs": [
    {
     "name": "stdout",
     "output_type": "stream",
     "text": [
<<<<<<< HEAD
      "delta v - velocity  0.0 m/s \n"
=======
      "delta x - displacement  0.0 m \n"
>>>>>>> main
     ]
    }
   ],
   "source": [
    "delta_x = velocity[10] - velocity[4]\n",
<<<<<<< HEAD
    "print(\"delta v - velocity \", delta_x , \"m/s \")"
=======
    "print(\"delta x - displacement \", delta_x , \"m \")"
>>>>>>> main
   ]
  },
  {
   "cell_type": "code",
<<<<<<< HEAD
   "execution_count": 141,
=======
   "execution_count": 261,
>>>>>>> main
   "metadata": {},
   "outputs": [
    {
     "name": "stdout",
     "output_type": "stream",
     "text": [
      " delta t - time  6 s \n"
     ]
    }
   ],
   "source": [
    "delta_t = time[10] - time[4]\n",
    "print(\" delta t - time \", delta_t , \"s \")"
   ]
  },
  {
   "cell_type": "code",
<<<<<<< HEAD
   "execution_count": 142,
=======
   "execution_count": 262,
>>>>>>> main
   "metadata": {},
   "outputs": [
    {
     "name": "stdout",
     "output_type": "stream",
     "text": [
<<<<<<< HEAD
      " acceleration  0.0 m/(s^2) \n"
=======
      " acceleration  0.0 m/s \n"
>>>>>>> main
     ]
    }
   ],
   "source": [
    "acceleration = delta_x / delta_t\n",
<<<<<<< HEAD
    "print(\" acceleration \", acceleration , \"m/(s^2) \")"
=======
    "print(\" acceleration \", acceleration , \"m/s \")"
>>>>>>> main
   ]
  },
  {
   "cell_type": "markdown",
   "metadata": {},
   "source": [
    "The acceleration of the whole distance"
   ]
  },
  {
   "cell_type": "code",
<<<<<<< HEAD
   "execution_count": 143,
=======
   "execution_count": 263,
>>>>>>> main
   "metadata": {
    "scrolled": true
   },
   "outputs": [
    {
     "name": "stdout",
     "output_type": "stream",
     "text": [
<<<<<<< HEAD
      "velocity change between  0.0025  m/s  and  0.0025  m/s.\n"
=======
      "velocity change between  0.0025  m  and  0.0025  m.\n"
>>>>>>> main
     ]
    }
   ],
   "source": [
<<<<<<< HEAD
    "print(\"velocity change between \", velocity[0], \" m/s  and \", \n",
    "      velocity[3600], \" m/s.\")"
=======
    "print(\"velocity change between \", velocity[0], \" m  and \", velocity[3600], \" m.\")"
>>>>>>> main
   ]
  },
  {
   "cell_type": "code",
<<<<<<< HEAD
   "execution_count": 144,
=======
   "execution_count": 264,
>>>>>>> main
   "metadata": {},
   "outputs": [
    {
     "name": "stdout",
     "output_type": "stream",
     "text": [
      "delta x - displacement  0.0 m \n"
     ]
    }
   ],
   "source": [
    "delta_x = velocity[3600] - velocity[0]\n",
    "print(\"delta x - displacement \", delta_x , \"m \")"
   ]
  },
  {
   "cell_type": "code",
<<<<<<< HEAD
   "execution_count": 145,
=======
   "execution_count": 265,
>>>>>>> main
   "metadata": {},
   "outputs": [
    {
     "name": "stdout",
     "output_type": "stream",
     "text": [
      " delta t - time  3600 s \n"
     ]
    }
   ],
   "source": [
    "delta_t = time[3600] - time[0]\n",
    "print(\" delta t - time \", delta_t , \"s \")"
   ]
  },
  {
   "cell_type": "code",
<<<<<<< HEAD
   "execution_count": 146,
=======
   "execution_count": 266,
>>>>>>> main
   "metadata": {},
   "outputs": [
    {
     "name": "stdout",
     "output_type": "stream",
     "text": [
<<<<<<< HEAD
      " acceleration  0.0 m/(s^2) \n"
=======
      " acceleration  0.0 m/s \n"
>>>>>>> main
     ]
    }
   ],
   "source": [
    "acceleration = delta_x / delta_t\n",
<<<<<<< HEAD
    "print(\" acceleration \", acceleration , \"m/(s^2) \")"
=======
    "print(\" acceleration \", acceleration , \"m/s \")"
>>>>>>> main
   ]
  },
  {
   "cell_type": "markdown",
   "metadata": {},
   "source": [
    "### Example no 2 : perigrine falcon\n",
    "\n",
    "https://en.wikipedia.org/wiki/Fastest_animals\n",
    "\n",
    "- velocity to 88 $ms^1$. \n",
    "- time is in seconds for an hour; i.e, 0 to 3659 seconds\n",
    "\n"
   ]
  },
  {
   "cell_type": "code",
<<<<<<< HEAD
   "execution_count": 147,
=======
   "execution_count": 267,
>>>>>>> main
   "metadata": {},
   "outputs": [
    {
     "data": {
      "text/plain": [
       "Text(0.5, 0, 'time (s)')"
      ]
     },
<<<<<<< HEAD
     "execution_count": 147,
=======
     "execution_count": 267,
>>>>>>> main
     "metadata": {},
     "output_type": "execute_result"
    },
    {
     "data": {
      "image/png": "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\n",
      "text/plain": [
       "<Figure size 1440x432 with 1 Axes>"
      ]
     },
     "metadata": {
      "needs_background": "light"
     },
     "output_type": "display_data"
    }
   ],
   "source": [
    "velocity = [88] * 3601\n",
    "time = [*range(0,3601,1)]\n",
    "plt.figure(figsize=(20,6))\n",
    "plt.plot(time, velocity)\n",
    "plt.ylabel(\"velocity (m/s)\")\n",
    "plt.xlabel(\"time (s)\")\n"
   ]
  },
  {
   "cell_type": "markdown",
   "metadata": {},
   "source": [
<<<<<<< HEAD
    "Let's calculate some accelerations in $ms^{-2}$."
=======
    "Let's calculate some accelerations in $ms^-2$."
>>>>>>> main
   ]
  },
  {
   "cell_type": "code",
<<<<<<< HEAD
   "execution_count": 148,
=======
   "execution_count": 268,
>>>>>>> main
   "metadata": {
    "scrolled": true
   },
   "outputs": [
    {
     "name": "stdout",
     "output_type": "stream",
     "text": [
<<<<<<< HEAD
      "velocity change between  88  m/s  and  88  m/s.\n"
=======
      "velocity change between  88  m  and  88  m.\n"
>>>>>>> main
     ]
    }
   ],
   "source": [
<<<<<<< HEAD
    "print(\"velocity change between \", velocity[4], \" m/s  and \", \n",
    "      velocity[10], \" m/s.\")"
=======
    "print(\"velocity change between \", velocity[4], \" m  and \", velocity[10], \" m.\")"
>>>>>>> main
   ]
  },
  {
   "cell_type": "code",
<<<<<<< HEAD
   "execution_count": 149,
=======
   "execution_count": 269,
>>>>>>> main
   "metadata": {},
   "outputs": [
    {
     "name": "stdout",
     "output_type": "stream",
     "text": [
<<<<<<< HEAD
      "delta x - velocity  0 m/s \n"
=======
      "delta x - displacement  0 m \n"
>>>>>>> main
     ]
    }
   ],
   "source": [
    "delta_x = velocity[10] - velocity[4]\n",
<<<<<<< HEAD
    "print(\"delta x - velocity \", delta_x , \"m/s \")"
=======
    "print(\"delta x - displacement \", delta_x , \"m \")"
>>>>>>> main
   ]
  },
  {
   "cell_type": "code",
<<<<<<< HEAD
   "execution_count": 150,
=======
   "execution_count": 270,
>>>>>>> main
   "metadata": {},
   "outputs": [
    {
     "name": "stdout",
     "output_type": "stream",
     "text": [
      " delta t - time  6 s \n"
     ]
    }
   ],
   "source": [
    "delta_t = time[10] - time[4]\n",
    "print(\" delta t - time \", delta_t , \"s \")"
   ]
  },
  {
   "cell_type": "code",
<<<<<<< HEAD
   "execution_count": 151,
=======
   "execution_count": 271,
>>>>>>> main
   "metadata": {},
   "outputs": [
    {
     "name": "stdout",
     "output_type": "stream",
     "text": [
<<<<<<< HEAD
      " acceleration  0.0 m/(s^2) \n"
=======
      " acceleration  0.0 m/s \n"
>>>>>>> main
     ]
    }
   ],
   "source": [
    "acceleration = delta_x / delta_t\n",
<<<<<<< HEAD
    "print(\" acceleration \", acceleration , \"m/(s^2) \")"
=======
    "print(\" acceleration \", acceleration , \"m/s \")"
>>>>>>> main
   ]
  },
  {
   "cell_type": "markdown",
   "metadata": {},
   "source": [
    "The acceleration of the whole distance"
   ]
  },
  {
   "cell_type": "code",
<<<<<<< HEAD
   "execution_count": 152,
=======
   "execution_count": 272,
>>>>>>> main
   "metadata": {
    "scrolled": true
   },
   "outputs": [
    {
     "name": "stdout",
     "output_type": "stream",
     "text": [
<<<<<<< HEAD
      "velocity change between  88  m/s  and  88  m/s.\n"
=======
      "velocity change between  88  m  and  88  m.\n"
>>>>>>> main
     ]
    }
   ],
   "source": [
<<<<<<< HEAD
    "print(\"velocity change between \", velocity[0], \" m/s  and \", \n",
    "      velocity[3600], \" m/s.\")"
=======
    "print(\"velocity change between \", velocity[0], \" m  and \", velocity[3600], \" m.\")"
>>>>>>> main
   ]
  },
  {
   "cell_type": "code",
<<<<<<< HEAD
   "execution_count": 153,
=======
   "execution_count": 273,
>>>>>>> main
   "metadata": {},
   "outputs": [
    {
     "name": "stdout",
     "output_type": "stream",
     "text": [
<<<<<<< HEAD
      "delta x - velocity  0 m/s \n"
=======
      "delta x - displacement  0 m \n"
>>>>>>> main
     ]
    }
   ],
   "source": [
    "delta_x = velocity[3600] - velocity[0]\n",
<<<<<<< HEAD
    "print(\"delta x - velocity \", delta_x , \"m/s \")"
=======
    "print(\"delta x - displacement \", delta_x , \"m \")"
>>>>>>> main
   ]
  },
  {
   "cell_type": "code",
<<<<<<< HEAD
   "execution_count": 154,
=======
   "execution_count": 274,
>>>>>>> main
   "metadata": {},
   "outputs": [
    {
     "name": "stdout",
     "output_type": "stream",
     "text": [
      " delta t - time  3600 s \n"
     ]
    }
   ],
   "source": [
    "delta_t = time[3600] - time[0]\n",
    "print(\" delta t - time \", delta_t , \"s \")"
   ]
  },
  {
   "cell_type": "code",
<<<<<<< HEAD
   "execution_count": 155,
=======
   "execution_count": 275,
>>>>>>> main
   "metadata": {},
   "outputs": [
    {
     "name": "stdout",
     "output_type": "stream",
     "text": [
<<<<<<< HEAD
      " acceleration  0.0 m/(s^2) \n"
=======
      " acceleration  0.0 m/s \n"
>>>>>>> main
     ]
    }
   ],
   "source": [
    "acceleration = delta_x / delta_t\n",
<<<<<<< HEAD
    "print(\" acceleration \", acceleration , \"m/(s^2) \")"
=======
    "print(\" acceleration \", acceleration , \"m/s \")"
>>>>>>> main
   ]
  },
  {
   "cell_type": "markdown",
   "metadata": {},
   "source": [
    "## Constant acceleration:\n",
    "\n",
    "The acceleration for both animal is 0 $m/s^2$. It indicates __there is no change of velocity__.  Both graphs show the velocity is the same.   Then, we can use the [SUVAT equations](https://www.ncl.ac.uk/webtemplate/ask-assets/external/maths-resources/mechanics/kinematics/equations-of-motion.html)."
   ]
  },
  {
   "cell_type": "markdown",
   "metadata": {},
   "source": [
    "## example no 3 : Simulated varying acceleration\n",
    "\n",
    "A runner is taking part to a charity run. At some points in the race their time were recorded. The distances are in metres (m) and the time recorded in seconds (s).\n",
    "\n"
   ]
  },
  {
   "cell_type": "code",
<<<<<<< HEAD
   "execution_count": 156,
=======
   "execution_count": 276,
>>>>>>> main
   "metadata": {},
   "outputs": [
    {
     "name": "stdout",
     "output_type": "stream",
     "text": [
      "14\n"
     ]
    },
    {
     "data": {
      "text/plain": [
       "Text(0.5, 0, 'time recorded (s)')"
      ]
     },
<<<<<<< HEAD
     "execution_count": 156,
=======
     "execution_count": 276,
>>>>>>> main
     "metadata": {},
     "output_type": "execute_result"
    },
    {
     "data": {
      "image/png": "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\n",
      "text/plain": [
       "<Figure size 1440x432 with 1 Axes>"
      ]
     },
     "metadata": {
      "needs_background": "light"
     },
     "output_type": "display_data"
    }
   ],
   "source": [
    "\n",
<<<<<<< HEAD
    "distances     = [0, 500, 1000, 1500, 2000, 2000, 2200, \n",
    "                 2300,2500,3000,3500,4000,4500,5000]\n",
    "time_rec      = [0, 180, 530, 819, 1050, 1300, 1500,\n",
    "                 2200,3200,3423,3761,3958,4212, 4300]\n",
=======
    "distances     = [0, 500, 1000, 1500, 2000, 2000, 2200, 2300,2500,3000,3500,4000,4500,5000]\n",
    "time_rec      = [0, 180, 530, 819, 1050, 1300, 1500,2200,3200,3423,3761,3958,4212, 4300]\n",
>>>>>>> main
    "print(len(distances))\n",
    "plt.figure(figsize=(20,6))\n",
    "plt.plot(time_rec, distances)\n",
    "plt.ylabel(\"distances (m)\")\n",
    "plt.xlabel(\"time recorded (s)\")\n",
    "\n"
   ]
  },
  {
   "cell_type": "markdown",
   "metadata": {},
   "source": [
    "### Velocity \n",
    "\n",
    "The velocity varies for each section. It appears to decrease sharply before rising again."
   ]
  },
  {
   "cell_type": "code",
<<<<<<< HEAD
   "execution_count": 157,
=======
   "execution_count": 277,
>>>>>>> main
   "metadata": {},
   "outputs": [
    {
     "name": "stdout",
     "output_type": "stream",
     "text": [
      "Displacements in m:  [500, 500, 500, 500, 0, 200, 100, 200, 500, 500, 500, 500, 500]\n"
     ]
    }
   ],
   "source": [
    "displacements = [distances[i+1] - distances[i] for i in range(0,len(distances)-1,1)]\n",
    "print(\"Displacements in m: \", displacements)"
   ]
  },
  {
   "cell_type": "code",
<<<<<<< HEAD
   "execution_count": 158,
=======
   "execution_count": 278,
>>>>>>> main
   "metadata": {},
   "outputs": [
    {
     "name": "stdout",
     "output_type": "stream",
     "text": [
      "time in s:  [180, 350, 289, 231, 250, 200, 700, 1000, 223, 338, 197, 254, 88]\n"
     ]
    }
   ],
   "source": [
    "time  = [time_rec[i+1] - time_rec[i] for i in range(0,len(time_rec)-1,1)]\n",
    "print(\"time in s: \", time)"
   ]
  },
  {
   "cell_type": "code",
<<<<<<< HEAD
   "execution_count": 159,
=======
   "execution_count": 279,
>>>>>>> main
   "metadata": {},
   "outputs": [
    {
     "name": "stdout",
     "output_type": "stream",
     "text": [
<<<<<<< HEAD
      "velocity in m/s:  [2.7777777777777777, 1.4285714285714286, 1.7301038062283738, 2.1645021645021645, 0.0, 1.0, 0.14285714285714285, 0.2, 2.242152466367713, 1.4792899408284024, 2.5380710659898478, 1.968503937007874, 5.681818181818182]\n"
=======
      "velocity in s:  [2.7777777777777777, 1.4285714285714286, 1.7301038062283738, 2.1645021645021645, 0.0, 1.0, 0.14285714285714285, 0.2, 2.242152466367713, 1.4792899408284024, 2.5380710659898478, 1.968503937007874, 5.681818181818182]\n"
>>>>>>> main
     ]
    }
   ],
   "source": [
    "items = [*range(0, len(displacements),1)]\n",
    "velocity  = [displacements[i] / time[i] for i in items]\n",
<<<<<<< HEAD
    "print(\"velocity in m/s: \", velocity)\n",
=======
    "print(\"velocity in s: \", velocity)\n",
>>>>>>> main
    "\n"
   ]
  },
  {
   "cell_type": "code",
<<<<<<< HEAD
   "execution_count": 160,
=======
   "execution_count": 280,
>>>>>>> main
   "metadata": {},
   "outputs": [],
   "source": [
    "# Ignore this cell\n",
    "\n",
    "section_1_x  = [x for x in range(time_rec[0], time_rec[1],1)]\n",
    "section_1_y  = [x * velocity[0] for x in range(time_rec[0], time_rec[1],1)]\n",
    "\n",
    "section_2_x  = [x for x in range(time_rec[1], time_rec[2],1)]\n",
    "section_2_y  = [(x-time_rec[2]) * velocity[1] for x in range(time_rec[1], time_rec[2],1)]\n",
    "\n",
    "section_3_x  = [x for x in range(time_rec[2], time_rec[3],1)]\n",
    "section_3_y  = [(x-time_rec[3]) * velocity[2] for x in range(time_rec[2], time_rec[3],1)]\n",
    "\n",
    "section_4_x  = [x for x in range(time_rec[3], time_rec[4],1)]\n",
    "section_4_y  = [(x-time_rec[4]) * velocity[3] for x in range(time_rec[3], time_rec[4],1)]\n",
    "\n",
    "section_5_x  = [x for x in range(time_rec[4], time_rec[5],1)]\n",
    "section_5_y  = [(x-time_rec[5]) * velocity[4] for x in range(time_rec[4], time_rec[5],1)]\n",
    "\n",
    "section_6_x  = [x for x in range(time_rec[5], time_rec[6],1)]\n",
    "section_6_y  = [(x-time_rec[6]) * velocity[5] for x in range(time_rec[5], time_rec[6],1)]\n",
    "\n",
    "section_7_x  = [x for x in range(time_rec[6], time_rec[7],1)]\n",
    "section_7_y  = [(x-time_rec[7]) * velocity[6] for x in range(time_rec[6], time_rec[7],1)]\n",
    "\n",
    "section_8_x  = [x for x in range(time_rec[7], time_rec[8],1)]\n",
    "section_8_y  = [(x-time_rec[8]) * velocity[7] for x in range(time_rec[7], time_rec[8],1)]\n",
    "\n",
    "section_9_x  = [x for x in range(time_rec[8], time_rec[9],1)]\n",
    "section_9_y  = [(x-time_rec[9]) * velocity[8] for x in range(time_rec[8], time_rec[9],1)]\n",
    "\n",
    "section_10_x  = [x for x in range(time_rec[9], time_rec[10],1)]\n",
    "section_10_y  = [(x-time_rec[10]) * velocity[9] for x in range(time_rec[9], time_rec[10],1)]\n",
    "\n",
    "section_11_x  = [x for x in range(time_rec[10], time_rec[11],1)]\n",
    "section_11_y  = [(x-time_rec[11]) * velocity[10] for x in range(time_rec[10], time_rec[11],1)]\n",
    "\n",
    "section_12_x  = [x for x in range(time_rec[11], time_rec[12],1)]\n",
    "section_12_y  = [(x-time_rec[12]) * velocity[11] for x in range(time_rec[11], time_rec[12],1)]\n",
    "\n",
    "section_13_x  = [x for x in range(time_rec[12], time_rec[13],1)]\n",
    "section_13_y  = [(x-time_rec[13]) * velocity[12] for x in range(time_rec[12], time_rec[13],1)]\n",
    "\n",
    "\n",
    "\n",
    "x = section_1_x + section_2_x + section_3_x + section_4_x + section_5_x + section_6_x \n",
    "x = x +  section_7_x + section_8_x + section_9_x + section_10_x +  section_11_x \n",
    "x = x + section_12_x + section_13_x \n",
    "y = section_1_y + section_2_y + section_3_y + section_4_y + section_5_y + section_6_y \n",
    "y = y + section_7_y + section_8_y + section_9_y + section_10_y\n",
    "y = y +  section_11_y +  section_12_y +  section_13_y \n",
    "\n"
   ]
  },
  {
<<<<<<< HEAD
   "cell_type": "markdown",
   "metadata": {},
   "source": [
    "This graph shows the displacement changes through time.... So when the staigth line increase the rate of change of displacement through time is increased......."
   ]
  },
  {
   "cell_type": "code",
   "execution_count": 161,
=======
   "cell_type": "code",
   "execution_count": 281,
>>>>>>> main
   "metadata": {},
   "outputs": [
    {
     "name": "stdout",
     "output_type": "stream",
     "text": [
      "14\n"
     ]
    },
    {
     "data": {
      "text/plain": [
       "Text(0.5, 0, 'time (s)')"
      ]
     },
<<<<<<< HEAD
     "execution_count": 161,
=======
     "execution_count": 281,
>>>>>>> main
     "metadata": {},
     "output_type": "execute_result"
    },
    {
     "data": {
<<<<<<< HEAD
      "image/png": "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\n",
=======
      "image/png": "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\n",
>>>>>>> main
      "text/plain": [
       "<Figure size 1440x432 with 1 Axes>"
      ]
     },
     "metadata": {
      "needs_background": "light"
     },
     "output_type": "display_data"
    }
   ],
   "source": [
    "print(len(time_rec))\n",
    "plt.figure(figsize=(20,6))\n",
    "plt.plot(x, y)\n",
<<<<<<< HEAD
    "plt.ylabel(\"Displacement (m)\")\n",
=======
    "plt.ylabel(\"velocity (m/s)\")\n",
>>>>>>> main
    "plt.xlabel(\"time (s)\")\n"
   ]
  },
  {
   "cell_type": "markdown",
   "metadata": {},
   "source": [
    "### Acceleration\n"
   ]
  },
  {
   "cell_type": "code",
<<<<<<< HEAD
   "execution_count": 162,
=======
   "execution_count": 282,
>>>>>>> main
   "metadata": {},
   "outputs": [
    {
     "name": "stdout",
     "output_type": "stream",
     "text": [
<<<<<<< HEAD
      "acceleration in m/(s^2):  [0.015432098765432098, 0.004081632653061225, 0.005986518360651813, 0.00937013924026911, 0.0, 0.005, 0.0002040816326530612, 0.0002, 0.010054495364877635, 0.004376597458072197, 0.012883609472029683, 0.007750015500031, 0.06456611570247933]\n"
=======
      "acceleration in m/s^2:  [0.015432098765432098, 0.004081632653061225, 0.005986518360651813, 0.00937013924026911, 0.0, 0.005, 0.0002040816326530612, 0.0002, 0.010054495364877635, 0.004376597458072197, 0.012883609472029683, 0.007750015500031, 0.06456611570247933]\n"
>>>>>>> main
     ]
    }
   ],
   "source": [
    "items = [*range(0, len(velocity),1)]\n",
    "acceleration  = [velocity[i] / time[i] for i in items]\n",
<<<<<<< HEAD
    "print(\"acceleration in m/(s^2): \", acceleration)\n",
=======
    "print(\"acceleration in m/s^2: \", acceleration)\n",
>>>>>>> main
    "\n"
   ]
  },
  {
   "cell_type": "code",
<<<<<<< HEAD
   "execution_count": 163,
=======
   "execution_count": 283,
>>>>>>> main
   "metadata": {},
   "outputs": [],
   "source": [
    "# Ignore this cell\n",
    "\n",
    "section_1_x  = [x for x in range(time_rec[0], time_rec[1],1)]\n",
    "section_1_y  = [x * acceleration[0] for x in range(time_rec[0], time_rec[1],1)]\n",
    "\n",
    "section_2_x  = [x for x in range(time_rec[1], time_rec[2],1)]\n",
    "section_2_y  = [(x-time_rec[2]) * acceleration[1] for x in range(time_rec[1], time_rec[2],1)]\n",
    "\n",
    "section_3_x  = [x for x in range(time_rec[2], time_rec[3],1)]\n",
    "section_3_y  = [(x-time_rec[3]) * acceleration[2] for x in range(time_rec[2], time_rec[3],1)]\n",
    "\n",
    "section_4_x  = [x for x in range(time_rec[3], time_rec[4],1)]\n",
    "section_4_y  = [(x-time_rec[4]) * acceleration[3] for x in range(time_rec[3], time_rec[4],1)]\n",
    "\n",
    "section_5_x  = [x for x in range(time_rec[4], time_rec[5],1)]\n",
    "section_5_y  = [(x-time_rec[5]) * acceleration[4] for x in range(time_rec[4], time_rec[5],1)]\n",
    "\n",
    "section_6_x  = [x for x in range(time_rec[5], time_rec[6],1)]\n",
    "section_6_y  = [(x-time_rec[6]) * acceleration[5] for x in range(time_rec[5], time_rec[6],1)]\n",
    "\n",
    "section_7_x  = [x for x in range(time_rec[6], time_rec[7],1)]\n",
    "section_7_y  = [(x-time_rec[7]) * acceleration[6] for x in range(time_rec[6], time_rec[7],1)]\n",
    "\n",
    "section_8_x  = [x for x in range(time_rec[7], time_rec[8],1)]\n",
    "section_8_y  = [(x-time_rec[8]) * acceleration[7] for x in range(time_rec[7], time_rec[8],1)]\n",
    "\n",
    "section_9_x  = [x for x in range(time_rec[8], time_rec[9],1)]\n",
    "section_9_y  = [(x-time_rec[9]) * acceleration[8] for x in range(time_rec[8], time_rec[9],1)]\n",
    "\n",
    "section_10_x  = [x for x in range(time_rec[9], time_rec[10],1)]\n",
    "section_10_y  = [(x-time_rec[10]) * acceleration[9] for x in range(time_rec[9], time_rec[10],1)]\n",
    "\n",
    "section_11_x  = [x for x in range(time_rec[10], time_rec[11],1)]\n",
    "section_11_y  = [(x-time_rec[11]) * acceleration[10] for x in range(time_rec[10], time_rec[11],1)]\n",
    "\n",
    "section_12_x  = [x for x in range(time_rec[11], time_rec[12],1)]\n",
    "section_12_y  = [(x-time_rec[12]) * acceleration[11] for x in range(time_rec[11], time_rec[12],1)]\n",
    "\n",
    "section_13_x  = [x for x in range(time_rec[12], time_rec[13],1)]\n",
    "section_13_y  = [(x-time_rec[13]) * acceleration[12] for x in range(time_rec[12], time_rec[13],1)]\n",
    "\n",
    "\n",
    "\n",
    "x = section_1_x + section_2_x + section_3_x + section_4_x + section_5_x + section_6_x \n",
    "x = x +  section_7_x + section_8_x + section_9_x + section_10_x +  section_11_x \n",
    "x = x + section_12_x + section_13_x \n",
    "y = section_1_y + section_2_y + section_3_y + section_4_y + section_5_y + section_6_y \n",
    "y = y + section_7_y + section_8_y + section_9_y + section_10_y\n",
    "y = y +  section_11_y +  section_12_y +  section_13_y \n",
    "\n"
   ]
  },
  {
   "cell_type": "code",
<<<<<<< HEAD
   "execution_count": 164,
=======
   "execution_count": 284,
>>>>>>> main
   "metadata": {},
   "outputs": [
    {
     "name": "stdout",
     "output_type": "stream",
     "text": [
      "14\n"
     ]
    },
    {
     "data": {
      "text/plain": [
       "Text(0.5, 0, 'time (s)')"
      ]
     },
<<<<<<< HEAD
     "execution_count": 164,
=======
     "execution_count": 284,
>>>>>>> main
     "metadata": {},
     "output_type": "execute_result"
    },
    {
     "data": {
<<<<<<< HEAD
      "image/png": "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\n",
=======
      "image/png": "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\n",
>>>>>>> main
      "text/plain": [
       "<Figure size 1440x432 with 1 Axes>"
      ]
     },
     "metadata": {
      "needs_background": "light"
     },
     "output_type": "display_data"
    }
   ],
   "source": [
    "print(len(time_rec))\n",
    "plt.figure(figsize=(20,6))\n",
    "plt.plot(x, y)\n",
<<<<<<< HEAD
    "plt.ylabel(\"acceleration (m/(s^2)\")\n",
=======
    "plt.ylabel(\"acceleration (m/s)\")\n",
>>>>>>> main
    "plt.xlabel(\"time (s)\")\n"
   ]
  },
  {
   "cell_type": "markdown",
   "metadata": {},
   "source": [
    "### Varying acceleration\n",
    "\n",
    "So our runner appears to accelerate rapidly at the start of the race, before decelerating sharply. The same pattern of acceleration and decelerations  occurs serveral times, before the change in the velocity remaining more or less constant in the middle of the race. The deceleration and acceleration occurs several times at the end of the race. "
   ]
  },
  {
   "cell_type": "markdown",
   "metadata": {},
   "source": [
    "# Calculus\n",
    "\n",
    "https://www.mathsisfun.com/calculus/"
   ]
  },
  {
   "cell_type": "markdown",
   "metadata": {},
   "source": [
    "## Differentiation"
   ]
  },
  {
   "cell_type": "markdown",
   "metadata": {},
   "source": [
    "So we have the gradient:\n",
    "    \n",
    "$gradient  = \\frac{\\Delta x}{\\Delta y}$, where $\\Delta x $ is referred to the run and $\\Delta y$ is the rise.\n",
    "    \n",
    "    \n",
    "With linear equation $ y = mx + c$, the gradient is constant and therefore it is $m$. But with some other equations it is not the case. \n",
    "    "
   ]
  },
  {
   "cell_type": "code",
<<<<<<< HEAD
   "execution_count": 165,
=======
   "execution_count": 285,
>>>>>>> main
   "metadata": {},
   "outputs": [
    {
     "data": {
      "image/png": "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\n",
      "text/plain": [
       "<Figure size 432x288 with 1 Axes>"
      ]
     },
     "metadata": {
      "needs_background": "light"
     },
     "output_type": "display_data"
    }
   ],
   "source": [
    "gradient = 5\n",
    "intercept = 4\n",
    "x = np.arange(0, 20)\n",
    "y = [ gradient * x[p] + intercept  for p in range(0,20)]\n",
    "x = x.reshape(-1,1) \n",
    "plt.plot(x, y)\n",
    "plt.show()\n",
    "\n"
   ]
  },
  {
   "cell_type": "code",
<<<<<<< HEAD
   "execution_count": 166,
=======
   "execution_count": 286,
>>>>>>> main
   "metadata": {},
   "outputs": [
    {
     "name": "stdout",
     "output_type": "stream",
     "text": [
      "[5.]\n"
     ]
    }
   ],
   "source": [
    "run = x[len(x)-1] - x[0]\n",
    "rise = y[len(y)-1] - y[0]\n",
    "gradient = rise/run\n",
    "print(gradient)\n"
   ]
  },
  {
   "cell_type": "code",
<<<<<<< HEAD
   "execution_count": 167,
=======
   "execution_count": 287,
>>>>>>> main
   "metadata": {},
   "outputs": [
    {
     "name": "stdout",
     "output_type": "stream",
     "text": [
      "gradient between  0  and  1  is  [5.]\n",
      "gradient between  1  and  2  is  [5.]\n",
      "gradient between  2  and  3  is  [5.]\n",
      "gradient between  3  and  4  is  [5.]\n",
      "gradient between  4  and  5  is  [5.]\n",
      "gradient between  5  and  6  is  [5.]\n",
      "gradient between  6  and  7  is  [5.]\n",
      "gradient between  7  and  8  is  [5.]\n",
      "gradient between  8  and  9  is  [5.]\n",
      "gradient between  9  and  10  is  [5.]\n",
      "gradient between  10  and  11  is  [5.]\n",
      "gradient between  11  and  12  is  [5.]\n",
      "gradient between  12  and  13  is  [5.]\n",
      "gradient between  13  and  14  is  [5.]\n",
      "gradient between  14  and  15  is  [5.]\n",
      "gradient between  15  and  16  is  [5.]\n",
      "gradient between  16  and  17  is  [5.]\n",
      "gradient between  17  and  18  is  [5.]\n",
      "gradient between  18  and  19  is  [5.]\n"
     ]
    }
   ],
   "source": [
    "for i in range(0,19):\n",
    "     run  = x[i+1] - x[i]\n",
    "     rise = y[i+1] - y[i]\n",
    "     gradient = rise/run\n",
    "     print(\"gradient between \", i, \" and \", i+1, \" is \" , gradient)\n"
   ]
  },
  {
   "cell_type": "markdown",
   "metadata": {},
   "source": [
    "### Derivative: Gradient of a curve- variable rate of change\n",
    "A line, that is not straight, has a rate of change that varies at each point of a function. Many mathematical functions create some curves with variable rates of change; for example, x2. The graph below shows a line that just touches the line of the curve when x = 1. This line is referred as a tangent line; the gradient of the tangent line represents the rate of change a certain point of a curve.  \n",
    "\n"
   ]
  },
  {
   "cell_type": "markdown",
   "metadata": {},
   "source": [
    "__The run__ is renamed $\\Delta x$ (i.e., delta x). $\\lim_{\\Delta x \\to 0}$  indicates delta x is very small. \n",
    "\n",
    "__The rise__ of y is f(x+∆x)- f(x).  \\lim{\\Delta x \\to 0}\n",
    "\n",
    "\n",
    "$f'(x) = \\frac{f(x + \\Delta x) - f(\\Delta x)}{\\Delta x}$, where $\\lim{\\Delta x \\to 0}$\n",
    "\n",
    "\n",
    "|Rate of change|\tBehaviour|\n",
    "|---|:---|\n",
    "|f’(x) > 0 |\tIncreasing rate of change  - A tangent line is steep – some quantity is increasing over when another increase (see graph below). |\n",
    "|f’(x) = 0 |\tNo change in rate of change.  The tangent line is flat. |\n",
    "|f’(x)  < 0 |\tDecreasing  the rate of change  - A tangent becomes gentler – some quantity is decreasing when another increase (see graph below).|\n",
    "\n",
    "\n"
   ]
  },
  {
   "cell_type": "markdown",
   "metadata": {},
   "source": [
    "## investigating quadratic expression\n",
    "\n",
    "$y = x^2$, where $x \\in [-10, 10]$\n",
    "\n",
    "We explore the accuracy is quite "
   ]
  },
  {
   "cell_type": "code",
<<<<<<< HEAD
   "execution_count": 168,
=======
   "execution_count": 288,
>>>>>>> main
   "metadata": {},
   "outputs": [
    {
     "data": {
      "text/plain": [
<<<<<<< HEAD
       "[<matplotlib.lines.Line2D at 0x7f62663bf2b0>]"
      ]
     },
     "execution_count": 168,
=======
       "[<matplotlib.lines.Line2D at 0x7f775920ecd0>]"
      ]
     },
     "execution_count": 288,
>>>>>>> main
     "metadata": {},
     "output_type": "execute_result"
    },
    {
     "data": {
      "image/png": "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\n",
      "text/plain": [
       "<Figure size 432x288 with 1 Axes>"
      ]
     },
     "metadata": {
      "needs_background": "light"
     },
     "output_type": "display_data"
    }
   ],
   "source": [
    "x  = np.arange(-10,11)\n",
    "y  = [pow(i,2) for i in x]\n",
    "plt.plot(x,y)\n",
    "\n"
   ]
  },
  {
   "cell_type": "code",
<<<<<<< HEAD
   "execution_count": 169,
=======
   "execution_count": 289,
>>>>>>> main
   "metadata": {},
   "outputs": [
    {
     "name": "stdout",
     "output_type": "stream",
     "text": [
      "Rate of change between  -10  and  -9  is  -19.0\n",
      "Rate of change between  -9  and  -8  is  -17.0\n",
      "Rate of change between  -8  and  -7  is  -15.0\n",
      "Rate of change between  -7  and  -6  is  -13.0\n",
      "Rate of change between  -6  and  -5  is  -11.0\n",
      "Rate of change between  -5  and  -4  is  -9.0\n",
      "Rate of change between  -4  and  -3  is  -7.0\n",
      "Rate of change between  -3  and  -2  is  -5.0\n",
      "Rate of change between  -2  and  -1  is  -3.0\n",
      "Rate of change between  -1  and  0  is  -1.0\n",
      "Rate of change between  0  and  1  is  1.0\n",
      "Rate of change between  1  and  2  is  3.0\n",
      "Rate of change between  2  and  3  is  5.0\n",
      "Rate of change between  3  and  4  is  7.0\n",
      "Rate of change between  4  and  5  is  9.0\n",
      "Rate of change between  5  and  6  is  11.0\n",
      "Rate of change between  6  and  7  is  13.0\n",
      "Rate of change between  7  and  8  is  15.0\n",
      "Rate of change between  8  and  9  is  17.0\n"
     ]
    }
   ],
   "source": [
    "for i in range(0,19):\n",
    "    run  = x[i+1] - x[i]\n",
    "    rise = y[i+1] - y[i]\n",
    "    gradient = rise/run\n",
    "    print(\"Rate of change between \", x[i], \" and \", x[i+1], \" is \" , gradient)\n"
   ]
  },
  {
   "cell_type": "code",
<<<<<<< HEAD
   "execution_count": 170,
=======
   "execution_count": 290,
>>>>>>> main
   "metadata": {},
   "outputs": [
    {
     "data": {
      "text/plain": [
<<<<<<< HEAD
       "[<matplotlib.lines.Line2D at 0x7f62664459a0>]"
      ]
     },
     "execution_count": 170,
=======
       "[<matplotlib.lines.Line2D at 0x7f7759188550>]"
      ]
     },
     "execution_count": 290,
>>>>>>> main
     "metadata": {},
     "output_type": "execute_result"
    },
    {
     "data": {
      "image/png": "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\n",
      "text/plain": [
       "<Figure size 432x288 with 1 Axes>"
      ]
     },
     "metadata": {
      "needs_background": "light"
     },
     "output_type": "display_data"
    }
   ],
   "source": [
    "y_d  = [2*x_value for x_value in x]\n",
    "plt.plot(y_d)\n"
   ]
  },
  {
   "cell_type": "markdown",
   "metadata": {},
   "source": [
    "This exploration demonstrates the effect of shrinking Δx towards zero.  We chose f(x)=x^2 and three points; i.e., -8, 0, and 8. It is worth noting Python bring a limit of decimal to 10-15, i.e, 15 decimal places. Python also may round values that are outside of our control. However, it should demonstrates suitable how we approach a gradient – we approximate a gradient. \n",
    "\n",
    "Using the derivative rule f'(x)=2x, we find f’(-8) = -16, f’(0) = 0,  and f’(8) = 16. "
   ]
  },
  {
   "cell_type": "code",
<<<<<<< HEAD
   "execution_count": 171,
=======
   "execution_count": 293,
>>>>>>> main
   "metadata": {},
   "outputs": [
    {
     "name": "stdout",
     "output_type": "stream",
     "text": [
      "===== The gradient when x is  8  =====\n",
      "rate of change between  8  and  9.0  is  17.0\n",
      "rate of change between  8  and  8.1  is  16.099999999999994\n",
      "rate of change between  8  and  8.01  is  16.00999999999999\n",
      "rate of change between  8  and  8.001  is  16.000999999988608\n",
      "rate of change between  8  and  8.0001  is  16.00009999989993\n",
      "rate of change between  8  and  8.00001  is  16.00000999957274\n",
      "rate of change between  8  and  8.000001  is  16.000000982785423\n",
      "rate of change between  8  and  8.0000001  is  16.00000004486901\n",
      "rate of change between  8  and  8.00000001  is  16.000001323845936\n",
      "rate of change between  8  and  8.000000001  is  16.000001323845936\n",
      "rate of change between  8  and  8.0000000001  is  16.000001323845936\n",
      "rate of change between  8  and  8.00000000001  is  15.998580238374418\n",
      "rate of change between  8  and  8.000000000001  is  16.001422409317456\n",
      "rate of change between  8  and  8.0000000000001  is  15.916157281026244\n",
      "===== The gradient when x is  0  =====\n",
      "rate of change between  0  and  1.0  is  1.0\n",
      "rate of change between  0  and  0.1  is  0.10000000000000002\n",
      "rate of change between  0  and  0.01  is  0.01\n",
      "rate of change between  0  and  0.001  is  0.001\n",
      "rate of change between  0  and  0.0001  is  9.999999999999999e-05\n",
      "rate of change between  0  and  1e-05  is  1e-05\n",
      "rate of change between  0  and  1e-06  is  1e-06\n",
      "rate of change between  0  and  1e-07  is  9.999999999999998e-08\n",
      "rate of change between  0  and  1e-08  is  1e-08\n",
      "rate of change between  0  and  1e-09  is  1e-09\n",
      "rate of change between  0  and  1e-10  is  1e-10\n",
      "rate of change between  0  and  1e-11  is  1e-11\n",
      "rate of change between  0  and  1e-12  is  1e-12\n",
      "rate of change between  0  and  1e-13  is  1e-13\n",
      "===== The gradient when x is  -8  =====\n",
      "rate of change between  -8  and  -7.0  is  -15.0\n",
      "rate of change between  -8  and  -7.9  is  -15.899999999999963\n",
      "rate of change between  -8  and  -7.99  is  -15.989999999999327\n",
      "rate of change between  -8  and  -7.999  is  -15.999000000007868\n",
      "rate of change between  -8  and  -7.9999  is  -15.999899999954437\n",
      "rate of change between  -8  and  -7.99999  is  -15.999989999215812\n",
      "rate of change between  -8  and  -7.999999  is  -15.99999900037119\n",
      "rate of change between  -8  and  -7.9999999  is  -15.999999973814738\n",
      "rate of change between  -8  and  -7.99999999  is  -15.999999902760464\n",
      "rate of change between  -8  and  -7.999999999  is  -16.000001323845936\n",
      "rate of change between  -8  and  -7.9999999999  is  -16.000001323845936\n",
      "rate of change between  -8  and  -7.99999999999  is  -16.000001323845936\n",
      "rate of change between  -8  and  -7.999999999999  is  -16.001422409317456\n",
      "rate of change between  -8  and  -7.9999999999999  is  -16.058265828178264\n"
     ]
    }
   ],
   "source": [
    "values = [8,0, -8]\n",
    "for value in values:\n",
    "    print(\"===== The gradient when x is \", value, \" =====\") \n",
    "    for power in range(0,14):\n",
    "        increase = 1/pow(10,power)\n",
    "        run = increase\n",
    "        rise = pow(value + increase, 2) - pow(value, 2)\n",
    "        gradient = rise/run\n",
    "        print(\"rate of change between \", value, \" and \", value + increase, \" is \" , gradient) \n",
    "\n"
   ]
  },
  {
   "cell_type": "code",
   "execution_count": null,
   "metadata": {},
   "outputs": [],
   "source": []
<<<<<<< HEAD
  },
  {
   "cell_type": "code",
   "execution_count": null,
   "metadata": {},
   "outputs": [],
   "source": []
  },
  {
   "cell_type": "code",
   "execution_count": null,
   "metadata": {},
   "outputs": [],
   "source": []
=======
>>>>>>> main
  }
 ],
 "metadata": {
  "kernelspec": {
   "display_name": "Python 3",
   "language": "python",
   "name": "python3"
  },
  "language_info": {
   "codemirror_mode": {
    "name": "ipython",
    "version": 3
   },
   "file_extension": ".py",
   "mimetype": "text/x-python",
   "name": "python",
   "nbconvert_exporter": "python",
   "pygments_lexer": "ipython3",
   "version": "3.8.6"
  }
 },
 "nbformat": 4,
 "nbformat_minor": 4
}
